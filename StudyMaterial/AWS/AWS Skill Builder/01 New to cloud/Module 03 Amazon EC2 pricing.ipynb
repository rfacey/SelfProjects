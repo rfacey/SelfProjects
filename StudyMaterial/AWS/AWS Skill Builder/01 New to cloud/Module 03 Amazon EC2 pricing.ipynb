{
 "cells": [
  {
   "cell_type": "markdown",
   "id": "30cb90b2",
   "metadata": {},
   "source": [
    "Source: https://explore.skillbuilder.aws/learn/course/134/play/62437/aws-cloud-practitioner-essentials"
   ]
  },
  {
   "cell_type": "markdown",
   "id": "92febfbe",
   "metadata": {},
   "source": [
    "# Amazon EC2 pricing\n",
    "\n",
    "With Amazon EC2, you pay only for the compute time that you use. Amazon EC2 offers a variety of pricing options for different use cases. For example, if your use can can withstand interruptions, you can save with Spot Instances. You can also save by committing early and locking in a minimum level of use with Reserved Instances.\n",
    "\n",
    "## On-Demand\n",
    "\n",
    "**On-Demand Instances** are ideal for short-term, irregular workloads that cannot be interrupted. No upfront costs or minimum contracts apply. The instances run continuously until you stop them, and you pay for only the compute time you use.\n",
    "\n",
    "Sample use cases for On-Demand Instances include developing and testing applications and running applications taht have unpredictable usage patterns. On-Demand Instances are not recommended for workloads that last a year or longer because these workloads can experience greater cost savings using Reserved Instances.\n",
    "\n",
    "## Amazon EC2 Savings Plans\n",
    "\n",
    "AWS offers Savings Plans for several compute services, including Amazon EC2. **Amazon EC2 Savings Plans** enable you to reduce your compute costs by committing to a consistence amount of compute usage for a 1-year or 3-year term. This term commitment results in savings of up to 72% over On-Demand costs.\n",
    "\n",
    "Any usage up to the commitment is charged at the discounted Savings Plan rate (for example, $10 an hour). Any usage beyond the commitment is charged at regular On-Demand rates.\n",
    "\n",
    "Later in this course, you will review AWS Cost Explorer, a tool that enables you to visualize, understand, and manage your AWS costs and usage over time. If you are considering your options for Savings Plans, AWS Cost Explorer can analyze your Amazon EC2 usage over the past 7, 30, or 60 days. AWS Cost Explorer also provides customized recommendations for Savings Plans. These recommendations estimate how much you could save on your monthly Amazon EC2 costs, based on previous Amazon EC2 usage and the hourly commitment amount in a 1-year or 3-year Savings Plan."
   ]
  },
  {
   "cell_type": "markdown",
   "id": "96226f18",
   "metadata": {},
   "source": [
    "## Reserved Instances\n",
    "\n",
    "**Reserved Instances** are a billing discount applied to the use on On-Demand Instances in your account. You can purchase Standard Reserved and Convertible Reserved Instances for a 1-year or 3-year term, and Scheduled Reserved Instances for a 1-year term. You realize greater cost savings with the 3-year option.\n",
    "\n",
    "At the end of a Reserved Instance term, you can continue using the Amazon EC2 instance without interruption. However, you are charged On-Demand rates until you do one of the following:\n",
    "\n",
    "- Terminate the instance.\n",
    "- Purchase a new Reserved Instance that matches the instance attributes (instance type, Region, tenancy, and platform).\n",
    "\n",
    "## Spot Instances\n",
    "\n",
    "**Spot Instances** are ideal for workloads with flexible start and end times, or that can withstand interruptions. Spot Instances are unused Amazon EC2 computing capacity and offer you cost savings at up to 90% iff if On-Demand prices.\n",
    "\n",
    "Suppose that you have a background processing job that can start and stop as needed (such as the data processing job for a customer survey). You want to start and stop the processing job without affecting the overall operations of your business. If you make a Spot request and Amazon EC2 capacity is available, your Spot Instance launches. However, if you make a Spot request and Amazon EC2 capacity is unavailable, the request is not successful until capacity becomes available. The unavailable capacity might delay the launch of your background processing job.\n",
    "\n",
    "After you have launched a Spot Instance, if capacity is no longer available or demand for Spot Instances increases, your instance may be interrupted. This might not pose any issues for your background processing job. However, in the earlier example of developing and testing applications, you would most likely want to avoid unexpected interruptions. Therefore, choose a different EC2 instance type that is ideal for those tasks.\n",
    "\n",
    "## Dedicated Hosts\n",
    "\n",
    "**Dedicated Hosts** are physical servers with Amazon EC@ instance capacity that is fully dedicated to your use.\n",
    "\n",
    "You can use your existing per-socket, per-core, or per-VM software licenses to help maintain license compliance. You can purchase On-Demand Dedicated Hosts and Dedicated Hosts Reservations. Of all the Amazon EC2 options that were covered, Dedicated Hosts are the most expensive."
   ]
  }
 ],
 "metadata": {
  "kernelspec": {
   "display_name": "Python 3 (ipykernel)",
   "language": "python",
   "name": "python3"
  },
  "language_info": {
   "codemirror_mode": {
    "name": "ipython",
    "version": 3
   },
   "file_extension": ".py",
   "mimetype": "text/x-python",
   "name": "python",
   "nbconvert_exporter": "python",
   "pygments_lexer": "ipython3",
   "version": "3.9.13"
  }
 },
 "nbformat": 4,
 "nbformat_minor": 5
}
