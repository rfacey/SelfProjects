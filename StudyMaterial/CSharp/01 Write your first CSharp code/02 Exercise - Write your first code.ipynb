{
 "cells": [
  {
   "cell_type": "markdown",
   "id": "4cad63ae",
   "metadata": {},
   "source": [
    "Source: https://learn.microsoft.com/en-us/training/modules/csharp-write-first/2-exercise-hello-world"
   ]
  },
  {
   "cell_type": "markdown",
   "id": "984daba3",
   "metadata": {},
   "source": [
    "# Exercise - Write your first code\n",
    "\n",
    "In this first hands-on exercise, you'll use C# to print a hallowed programmer's phrase to the standard output of a console.\n",
    "\n",
    "## Write your first line of code\n",
    "\n",
    "There's a long-standing tradition among software developers to print the phrase \"Hello World!\" to the console output window. As you'll experience, you can learn a lot about programming and the C# programming language from this simple exercise.\n",
    "\n",
    "## Enter code into the .NET Editor\n",
    "\n",
    "The .NET Editor and output console provide a great in-browser experience that's perfect for this tutorial approach. The .NET Editor is located on the right-hand side of this web page. The output console is below it.\n",
    "\n",
    "1. Enter this code exactly as it appears into the .NET Editor on the right:"
   ]
  },
  {
   "cell_type": "code",
   "execution_count": 1,
   "id": "ffb46b06",
   "metadata": {},
   "outputs": [
    {
     "data": {
      "text/html": [
       "\r\n",
       "<div>\r\n",
       "    <div id='dotnet-interactive-this-cell-9844.Microsoft.DotNet.Interactive.Http.HttpPort' style='display: none'>\r\n",
       "        The below script needs to be able to find the current output cell; this is an easy method to get it.\r\n",
       "    </div>\r\n",
       "    <script type='text/javascript'>\r\n",
       "async function probeAddresses(probingAddresses) {\r\n",
       "    function timeout(ms, promise) {\r\n",
       "        return new Promise(function (resolve, reject) {\r\n",
       "            setTimeout(function () {\r\n",
       "                reject(new Error('timeout'))\r\n",
       "            }, ms)\r\n",
       "            promise.then(resolve, reject)\r\n",
       "        })\r\n",
       "    }\r\n",
       "\r\n",
       "    if (Array.isArray(probingAddresses)) {\r\n",
       "        for (let i = 0; i < probingAddresses.length; i++) {\r\n",
       "\r\n",
       "            let rootUrl = probingAddresses[i];\r\n",
       "\r\n",
       "            if (!rootUrl.endsWith('/')) {\r\n",
       "                rootUrl = `${rootUrl}/`;\r\n",
       "            }\r\n",
       "\r\n",
       "            try {\r\n",
       "                let response = await timeout(1000, fetch(`${rootUrl}discovery`, {\r\n",
       "                    method: 'POST',\r\n",
       "                    cache: 'no-cache',\r\n",
       "                    mode: 'cors',\r\n",
       "                    timeout: 1000,\r\n",
       "                    headers: {\r\n",
       "                        'Content-Type': 'text/plain'\r\n",
       "                    },\r\n",
       "                    body: probingAddresses[i]\r\n",
       "                }));\r\n",
       "\r\n",
       "                if (response.status == 200) {\r\n",
       "                    return rootUrl;\r\n",
       "                }\r\n",
       "            }\r\n",
       "            catch (e) { }\r\n",
       "        }\r\n",
       "    }\r\n",
       "}\r\n",
       "\r\n",
       "function loadDotnetInteractiveApi() {\r\n",
       "    probeAddresses([\"http://192.168.0.25:1001/\", \"http://127.0.0.1:1001/\"])\r\n",
       "        .then((root) => {\r\n",
       "        // use probing to find host url and api resources\r\n",
       "        // load interactive helpers and language services\r\n",
       "        let dotnetInteractiveRequire = require.config({\r\n",
       "        context: '9844.Microsoft.DotNet.Interactive.Http.HttpPort',\r\n",
       "                paths:\r\n",
       "            {\r\n",
       "                'dotnet-interactive': `${root}resources`\r\n",
       "                }\r\n",
       "        }) || require;\r\n",
       "\r\n",
       "            window.dotnetInteractiveRequire = dotnetInteractiveRequire;\r\n",
       "\r\n",
       "            window.configureRequireFromExtension = function(extensionName, extensionCacheBuster) {\r\n",
       "                let paths = {};\r\n",
       "                paths[extensionName] = `${root}extensions/${extensionName}/resources/`;\r\n",
       "                \r\n",
       "                let internalRequire = require.config({\r\n",
       "                    context: extensionCacheBuster,\r\n",
       "                    paths: paths,\r\n",
       "                    urlArgs: `cacheBuster=${extensionCacheBuster}`\r\n",
       "                    }) || require;\r\n",
       "\r\n",
       "                return internalRequire\r\n",
       "            };\r\n",
       "        \r\n",
       "            dotnetInteractiveRequire([\r\n",
       "                    'dotnet-interactive/dotnet-interactive'\r\n",
       "                ],\r\n",
       "                function (dotnet) {\r\n",
       "                    dotnet.init(window);\r\n",
       "                },\r\n",
       "                function (error) {\r\n",
       "                    console.log(error);\r\n",
       "                }\r\n",
       "            );\r\n",
       "        })\r\n",
       "        .catch(error => {console.log(error);});\r\n",
       "    }\r\n",
       "\r\n",
       "// ensure `require` is available globally\r\n",
       "if ((typeof(require) !==  typeof(Function)) || (typeof(require.config) !== typeof(Function))) {\r\n",
       "    let require_script = document.createElement('script');\r\n",
       "    require_script.setAttribute('src', 'https://cdnjs.cloudflare.com/ajax/libs/require.js/2.3.6/require.min.js');\r\n",
       "    require_script.setAttribute('type', 'text/javascript');\r\n",
       "    \r\n",
       "    \r\n",
       "    require_script.onload = function() {\r\n",
       "        loadDotnetInteractiveApi();\r\n",
       "    };\r\n",
       "\r\n",
       "    document.getElementsByTagName('head')[0].appendChild(require_script);\r\n",
       "}\r\n",
       "else {\r\n",
       "    loadDotnetInteractiveApi();\r\n",
       "}\r\n",
       "\r\n",
       "    </script>\r\n",
       "</div>"
      ]
     },
     "metadata": {},
     "output_type": "display_data"
    },
    {
     "name": "stdout",
     "output_type": "stream",
     "text": [
      "Hello World!\r\n"
     ]
    }
   ],
   "source": [
    "Console.WriteLine(\"Hello World!\");"
   ]
  },
  {
   "cell_type": "markdown",
   "id": "a8ab723b",
   "metadata": {},
   "source": [
    "You'll see an explanation of how and why it works soon. But first, you should experience it running, and ensure you entered it correctly. To do that, you'll run your code.\n",
    "\n",
    "## What to do if you get an error message\n",
    "\n",
    "Writing C# code is an *exercise in precision*. If you type just one character incorrectly, ou'll get an eror message in the output area when you run the code.\n",
    "\n",
    "For example if you were to incorrectly enter a lower-case 'c' in the word 'console' like so, you'd get the following error message:"
   ]
  },
  {
   "cell_type": "code",
   "execution_count": 2,
   "id": "a4c43916",
   "metadata": {},
   "outputs": [
    {
     "name": "stderr",
     "output_type": "stream",
     "text": [
      "\r\n",
      "(1,1): error CS0103: The name 'console' does not exist in the current context\r\n",
      "\r\n"
     ]
    },
    {
     "ename": "Cell not executed",
     "evalue": "compilation error",
     "output_type": "error",
     "traceback": []
    }
   ],
   "source": [
    "console.WriteLine(\"Hello World!\");"
   ]
  },
  {
   "cell_type": "markdown",
   "id": "c2880764",
   "metadata": {},
   "source": [
    "The first part (1,1) indicates the line and column where the error occurred. But what does this error message mean?\n",
    "\n",
    "C# is a case-sensitive language, meaning that the C# compiler considers the words 'console' and 'Console' as different as the words 'cat' and 'dog'. Sometimes, the error message can be a bit misleading. You'll need to understand the true reason why the error exists, and that comes through learning more about C# syntax.\n",
    "\n",
    "Similarly, if you used single-quotation marks (') to surround the literal string 'Hello world!' like so, you would get the following error message:"
   ]
  },
  {
   "cell_type": "code",
   "execution_count": 3,
   "id": "4172b5ed",
   "metadata": {},
   "outputs": [
    {
     "name": "stderr",
     "output_type": "stream",
     "text": [
      "\r\n",
      "(1,19): error CS1012: Too many characters in character literal\r\n",
      "\r\n"
     ]
    },
    {
     "ename": "Cell not executed",
     "evalue": "compilation error",
     "output_type": "error",
     "traceback": []
    }
   ],
   "source": [
    "Console.WriteLine('Hello World!');"
   ]
  },
  {
   "cell_type": "markdown",
   "id": "54c42db9",
   "metadata": {},
   "source": [
    "Again, in line 1, character 19 points to the culprint. You can use the message as a clue as you investigate the problem. But what does the error message mean? What exactly is a \"character literal?\" Later, you'll learn more about literals of various data types (including character literals). For now, be careful when you're entering code.\n",
    "\n",
    "Fortunately, errors are never permanent. You merely spot the error, fix it, and rerun your code.\n",
    "\n",
    "If you got an error when you ran your code, take a moment to look at it closely. Examine each character and make sure you entered this line of code exactly.\n",
    "\n",
    "Common mistakes new programmers make:\n",
    "\n",
    "- Entering lower-case letters instead of capitalizing 'C' in 'Console', or the letters 'W' or 'L' in 'WriteLine'.\n",
    "- Entering a comma instead of a perioud between 'Console' and 'WriteLine'.\n",
    "- Forgetting to use double-quotation marks, or using single-quotation marks to surround the phrase 'Hello World!'.\n",
    "- Forgetting a semi-colon at the end of the command.\n",
    "\n",
    "Each of these mistakes prevents your code from compiling successfully.\n",
    "\n",
    "The code editor highlights pre-compilation errors to help you easily identify and correct mistakes as you develop your code. You can think of it like a spell-checker that helps you fix grammar or spelling errors in a document.\n",
    "\n",
    "Assuming you were successful in the previous steps, let's continue.\n",
    "\n",
    "## Display a new message\n",
    "\n",
    "In this task, you'll comment out the previous line of code, then add new lines of code in the .NET Editor to print a new message.\n",
    "\n",
    "1. Modify the code you wrote so that it's prefixed by a code comment using two forward slashes '//':"
   ]
  },
  {
   "cell_type": "code",
   "execution_count": 4,
   "id": "1d96b6d3",
   "metadata": {},
   "outputs": [],
   "source": [
    "// Console.WriteLine(\"Hello World!\");"
   ]
  },
  {
   "cell_type": "markdown",
   "id": "f2dd5459",
   "metadata": {},
   "source": [
    "You can create a code comment by prefixing a line of code with two forward slashes '//'. This prefix instructs the compiler to ignore all the instructions on that line.\n",
    "\n",
    "Code comments are helpful when you're not ready to delete the code yet, but you want to ignore it for now. You can also use code comments to add messages to yourself or others who may later read the code, reminding you of what the code is doing.\n",
    "\n",
    "2. Add new lines of code to match the following code snippet:"
   ]
  },
  {
   "cell_type": "code",
   "execution_count": 5,
   "id": "23f10958",
   "metadata": {},
   "outputs": [
    {
     "name": "stdout",
     "output_type": "stream",
     "text": [
      "Congratulations! You wrote your first lines of code."
     ]
    }
   ],
   "source": [
    "Console.Write(\"Congratulations!\");\n",
    "Console.Write(\" \");\n",
    "Console.Write(\"You wrote your first lines of code.\");"
   ]
  },
  {
   "cell_type": "markdown",
   "id": "23055224",
   "metadata": {},
   "source": [
    "## The difference between Console.Write and Console.WriteLine\n",
    "\n",
    "The three new lines of code you added demonstrated the different between the 'Console.WriteLine()' and 'Console.Write()' methods.\n",
    "\n",
    "To print an entire message to the output console, you used the first technique, 'Console.WriteLine()'. At the end of the line, it added a line feed similar to how to create a new line of text by Enter or Return.\n",
    "\n",
    "To print to the output console, but wihtout adding a line feed at the end, you used the second technique, 'Console.Write()'. So, the next call to 'Console.Write()' prints another message to the same line.\n",
    "\n",
    "Congratulations on writing your first lines of code!"
   ]
  }
 ],
 "metadata": {
  "kernelspec": {
   "display_name": ".NET (C#)",
   "language": "C#",
   "name": ".net-csharp"
  },
  "language_info": {
   "file_extension": ".cs",
   "mimetype": "text/x-csharp",
   "name": "C#",
   "pygments_lexer": "csharp",
   "version": "8.0"
  }
 },
 "nbformat": 4,
 "nbformat_minor": 5
}
