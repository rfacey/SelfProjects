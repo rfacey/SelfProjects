{
 "cells": [
  {
   "cell_type": "markdown",
   "id": "27e3f09c",
   "metadata": {},
   "source": [
    "Source: https://learn.microsoft.com/en-us/training/modules/csharp-evaluate-boolean-expressions/1-introduction?ns-enrollment-type=learningpath&ns-enrollment-id=learn.wwl.get-started-c-sharp-part-3"
   ]
  },
  {
   "cell_type": "markdown",
   "id": "a4833603",
   "metadata": {},
   "source": [
    "# Introduction\n",
    "\n",
    "Decision logic is based on expressions, known as Boolean expressions, that evaluates to \"true\" or \"false\". Developers use various types of operators to create Boolean expressions that meet their coding requirements. When the expressions are evaluated, the code execution branches based on the result.  The C# language supports a wide range of operators (such as equality, comparison, and Boolean operators), each of which serves a specific purpose when implementing decision logic.\n",
    "\n",
    "Suppose you've been selected to work on a series of C# console applications that are used to process customer data and user supplied inputs. Each application requires you to implement decision logic that achieves data processing requirements and associate business rules. The data processing requirements and business rules vary for each application. For example, applications that process customer orders may need to evaluate the status of the customer before taking any action. To prepare for this upcoming assignment, you'll complete some practice activies that implement Bolean expressions and C# operators.\n",
    "\n",
    "In this module, you learn about Boolean expressions, and you use different types of operators to evaluate expressions for equality, inequality, and comparison. You also learn to use a special inline version of an \"if\" statement (a conditional operator) that produces an \"either / or\" result.\n",
    "\n",
    "By the end of this module, you are able to write code using any combination of C# operators to implement decision logic in your applications.\n",
    "\n",
    "## Learning objectives\n",
    "\n",
    "In this module, you will:\n",
    "\n",
    "- Use operators to create Boolean expressions that test for comparison and equality.\n",
    "- Use built-in methods of the string class to perform better evaluations on strings.\n",
    "- Use the negation operator to test for the opposite of a given condition.\n",
    "- Use the conditional operator to perform an inline evaluation.\n",
    "\n",
    "## Prerequisites:\n",
    "\n",
    "- Experience with basic coding tasks such as instantiating variables, using various data types, and sending output to a console window.\n",
    "- Experience using the if-elseif-else construct.\n",
    "- Experience using the Random class to generate a random number.\n",
    "- Experience using Visual Studio Code to create an run simple console applications."
   ]
  }
 ],
 "metadata": {
  "kernelspec": {
   "display_name": ".NET (C#)",
   "language": "C#",
   "name": ".net-csharp"
  },
  "language_info": {
   "file_extension": ".cs",
   "mimetype": "text/x-csharp",
   "name": "C#",
   "pygments_lexer": "csharp",
   "version": "8.0"
  }
 },
 "nbformat": 4,
 "nbformat_minor": 5
}
