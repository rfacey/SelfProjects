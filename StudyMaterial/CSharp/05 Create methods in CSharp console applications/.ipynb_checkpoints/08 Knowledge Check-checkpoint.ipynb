{
 "cells": [
  {
   "cell_type": "markdown",
   "id": "d0be4f1d",
   "metadata": {},
   "source": [
    "# Knowledge Check\n",
    "\n",
    "## Check your knowledge\n",
    "\n",
    "1. Which of the following correctly declares a method?\n",
    "    - void DisplayNumbers() { }\n",
    "2. Which of the following correctly calls a method?\n",
    "    - GenerateID();\n",
    "3. Which of the following is true about the 'return' keyword?\n",
    "    - It terminates the execution of a method."
   ]
  }
 ],
 "metadata": {
  "kernelspec": {
   "display_name": ".NET (C#)",
   "language": "C#",
   "name": ".net-csharp"
  },
  "language_info": {
   "file_extension": ".cs",
   "mimetype": "text/x-csharp",
   "name": "C#",
   "pygments_lexer": "csharp",
   "version": "8.0"
  }
 },
 "nbformat": 4,
 "nbformat_minor": 5
}
