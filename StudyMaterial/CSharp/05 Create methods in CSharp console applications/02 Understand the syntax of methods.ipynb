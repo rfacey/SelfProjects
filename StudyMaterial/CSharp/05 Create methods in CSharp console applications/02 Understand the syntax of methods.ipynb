{
 "cells": [
  {
   "cell_type": "markdown",
   "id": "65a8e9b4",
   "metadata": {},
   "source": [
    "Source: https://learn.microsoft.com/en-us/training/modules/write-first-c-sharp-method/2-understand-syntax-of-methods"
   ]
  },
  {
   "cell_type": "markdown",
   "id": "b35f1905",
   "metadata": {},
   "source": [
    "# Understand the syntax of methods\n",
    "\n",
    "You may already be familiar with some methods, such as Console.WriteLine() or random.Next(). You might have appreciated how these methods simplify tasks and allow you to build your code more easily. In this unit, you'll learn how to create your own methods.\n",
    "\n",
    "## How methods work\n",
    "\n",
    "The process of developing a method begins with creating a method signature. The method signature declare the method's return type, name, and input parameters. For example, consider the following method signature:"
   ]
  },
  {
   "cell_type": "raw",
   "id": "ce01b8da",
   "metadata": {},
   "source": [
    "void SayHello();"
   ]
  },
  {
   "cell_type": "markdown",
   "id": "f3b95f4d",
   "metadata": {},
   "source": [
    "The method name is SayHello. Its return type is void, meaning the method returns no data. However, methods can return a value of any data type, such as bool, int, double, and arrays as well. Method parameters, if any, should be included in the parenthesis (). Methods can accept multiple parameters of any data type. In this example, the method has no parameters.\n",
    "\n",
    "Before you can run a method, you need to add a definition. The method uses brackets {} to contain the code that executes when the method is called. For example:"
   ]
  },
  {
   "cell_type": "code",
   "execution_count": 1,
   "id": "44319dc9",
   "metadata": {},
   "outputs": [
    {
     "data": {
      "text/html": [
       "\r\n",
       "<div>\r\n",
       "    <div id='dotnet-interactive-this-cell-1676.Microsoft.DotNet.Interactive.Http.HttpPort' style='display: none'>\r\n",
       "        The below script needs to be able to find the current output cell; this is an easy method to get it.\r\n",
       "    </div>\r\n",
       "    <script type='text/javascript'>\r\n",
       "async function probeAddresses(probingAddresses) {\r\n",
       "    function timeout(ms, promise) {\r\n",
       "        return new Promise(function (resolve, reject) {\r\n",
       "            setTimeout(function () {\r\n",
       "                reject(new Error('timeout'))\r\n",
       "            }, ms)\r\n",
       "            promise.then(resolve, reject)\r\n",
       "        })\r\n",
       "    }\r\n",
       "\r\n",
       "    if (Array.isArray(probingAddresses)) {\r\n",
       "        for (let i = 0; i < probingAddresses.length; i++) {\r\n",
       "\r\n",
       "            let rootUrl = probingAddresses[i];\r\n",
       "\r\n",
       "            if (!rootUrl.endsWith('/')) {\r\n",
       "                rootUrl = `${rootUrl}/`;\r\n",
       "            }\r\n",
       "\r\n",
       "            try {\r\n",
       "                let response = await timeout(1000, fetch(`${rootUrl}discovery`, {\r\n",
       "                    method: 'POST',\r\n",
       "                    cache: 'no-cache',\r\n",
       "                    mode: 'cors',\r\n",
       "                    timeout: 1000,\r\n",
       "                    headers: {\r\n",
       "                        'Content-Type': 'text/plain'\r\n",
       "                    },\r\n",
       "                    body: probingAddresses[i]\r\n",
       "                }));\r\n",
       "\r\n",
       "                if (response.status == 200) {\r\n",
       "                    return rootUrl;\r\n",
       "                }\r\n",
       "            }\r\n",
       "            catch (e) { }\r\n",
       "        }\r\n",
       "    }\r\n",
       "}\r\n",
       "\r\n",
       "function loadDotnetInteractiveApi() {\r\n",
       "    probeAddresses([\"http://192.168.0.25:1000/\", \"http://127.0.0.1:1000/\"])\r\n",
       "        .then((root) => {\r\n",
       "        // use probing to find host url and api resources\r\n",
       "        // load interactive helpers and language services\r\n",
       "        let dotnetInteractiveRequire = require.config({\r\n",
       "        context: '1676.Microsoft.DotNet.Interactive.Http.HttpPort',\r\n",
       "                paths:\r\n",
       "            {\r\n",
       "                'dotnet-interactive': `${root}resources`\r\n",
       "                }\r\n",
       "        }) || require;\r\n",
       "\r\n",
       "            window.dotnetInteractiveRequire = dotnetInteractiveRequire;\r\n",
       "\r\n",
       "            window.configureRequireFromExtension = function(extensionName, extensionCacheBuster) {\r\n",
       "                let paths = {};\r\n",
       "                paths[extensionName] = `${root}extensions/${extensionName}/resources/`;\r\n",
       "                \r\n",
       "                let internalRequire = require.config({\r\n",
       "                    context: extensionCacheBuster,\r\n",
       "                    paths: paths,\r\n",
       "                    urlArgs: `cacheBuster=${extensionCacheBuster}`\r\n",
       "                    }) || require;\r\n",
       "\r\n",
       "                return internalRequire\r\n",
       "            };\r\n",
       "        \r\n",
       "            dotnetInteractiveRequire([\r\n",
       "                    'dotnet-interactive/dotnet-interactive'\r\n",
       "                ],\r\n",
       "                function (dotnet) {\r\n",
       "                    dotnet.init(window);\r\n",
       "                },\r\n",
       "                function (error) {\r\n",
       "                    console.log(error);\r\n",
       "                }\r\n",
       "            );\r\n",
       "        })\r\n",
       "        .catch(error => {console.log(error);});\r\n",
       "    }\r\n",
       "\r\n",
       "// ensure `require` is available globally\r\n",
       "if ((typeof(require) !==  typeof(Function)) || (typeof(require.config) !== typeof(Function))) {\r\n",
       "    let require_script = document.createElement('script');\r\n",
       "    require_script.setAttribute('src', 'https://cdnjs.cloudflare.com/ajax/libs/require.js/2.3.6/require.min.js');\r\n",
       "    require_script.setAttribute('type', 'text/javascript');\r\n",
       "    \r\n",
       "    \r\n",
       "    require_script.onload = function() {\r\n",
       "        loadDotnetInteractiveApi();\r\n",
       "    };\r\n",
       "\r\n",
       "    document.getElementsByTagName('head')[0].appendChild(require_script);\r\n",
       "}\r\n",
       "else {\r\n",
       "    loadDotnetInteractiveApi();\r\n",
       "}\r\n",
       "\r\n",
       "    </script>\r\n",
       "</div>"
      ]
     },
     "metadata": {},
     "output_type": "display_data"
    }
   ],
   "source": [
    "void SayHello()\n",
    "{\n",
    "    Console.WriteLine(\"Hello World!\");\n",
    "}"
   ]
  },
  {
   "cell_type": "markdown",
   "id": "de8c2af5",
   "metadata": {},
   "source": [
    "Now the method will print \"Hello World!\" whenever it's called.\n",
    "\n",
    "## Calling a method\n",
    "\n",
    "A method is called by using its name and including any required arguments. Consider the following:"
   ]
  },
  {
   "cell_type": "code",
   "execution_count": 2,
   "id": "7a477db1",
   "metadata": {},
   "outputs": [
    {
     "name": "stdout",
     "output_type": "stream",
     "text": [
      "Input!"
     ]
    }
   ],
   "source": [
    "Console.Write(\"Input!\");"
   ]
  },
  {
   "cell_type": "markdown",
   "id": "f9443944",
   "metadata": {},
   "source": [
    "The string \"Input!\" is the argument provided to the Write method.\n",
    "\n",
    "A method can be called before or after its definition. For example, the SayHello method can be defined and called using the following syntax:"
   ]
  },
  {
   "cell_type": "code",
   "execution_count": 4,
   "id": "11fe33a3",
   "metadata": {},
   "outputs": [
    {
     "name": "stdout",
     "output_type": "stream",
     "text": [
      "Hello World!\r\n"
     ]
    }
   ],
   "source": [
    "SayHello();\n",
    "\n",
    "void SayHello()\n",
    "{\n",
    "    Console.WriteLine(\"Hello World!\");\n",
    "}"
   ]
  },
  {
   "cell_type": "markdown",
   "id": "92eedf24",
   "metadata": {},
   "source": [
    "Notice that it isn't necessary to have the method defined before you call it. This flexibility allows you to organize your code as you see fit. It's common to define all methods at the end of a program. For example:"
   ]
  },
  {
   "cell_type": "code",
   "execution_count": 5,
   "id": "9957dc30",
   "metadata": {},
   "outputs": [
    {
     "name": "stdout",
     "output_type": "stream",
     "text": [
      "Contents of Array:\n",
      "1 2 3 4 5 "
     ]
    }
   ],
   "source": [
    "int[] a = {1,2,3,4,5};\n",
    "\n",
    "Console.WriteLine(\"Contents of Array:\");\n",
    "PrintArray();\n",
    "\n",
    "void PrintArray()\n",
    "{\n",
    "    foreach (int x in a)\n",
    "    {\n",
    "        Console.Write($\"{x} \");\n",
    "    }\n",
    "}"
   ]
  },
  {
   "cell_type": "markdown",
   "id": "d8e260d7",
   "metadata": {},
   "source": [
    "## Method execution\n",
    "\n",
    "When you call a method, te code in the method body will be executed. This means execution control is passed from the method caller to the method. Control is returned to the caller after the method completes its execution. For example, consider the following code:"
   ]
  },
  {
   "cell_type": "code",
   "execution_count": 6,
   "id": "0da6f3f4",
   "metadata": {},
   "outputs": [
    {
     "name": "stdout",
     "output_type": "stream",
     "text": [
      "Before calling a method\n",
      "Hello World!\n",
      "After calling a method\n"
     ]
    }
   ],
   "source": [
    "Console.WriteLine(\"Before calling a method\");\n",
    "SayHello();\n",
    "Console.WriteLine(\"After calling a method\");\n",
    "\n",
    "void SayHello()\n",
    "{\n",
    "    Console.WriteLine(\"Hello World!\");\n",
    "}"
   ]
  },
  {
   "cell_type": "markdown",
   "id": "ec1f6d1c",
   "metadata": {},
   "source": [
    "Once a method is defined, it can be called any time, as many times as you need to use it. You can use methods inside of if-else statements, for-loops, 'switch' statements, even to initialize variables, and so much more!\n",
    "\n",
    "## Best practices\n",
    "\n",
    "When choosing a method name, it's important to keep the name concise and make it clear what task the method performs. Mthod names should be Pascal case and generally shouldn't start with digits. Names for parameters should describe what kind of information the parameter represents. Consider the following method signatures:"
   ]
  },
  {
   "cell_type": "raw",
   "id": "75212389",
   "metadata": {},
   "source": [
    "void ShowData(string a, int b, int c);\n",
    "void DisplayDate(string month, int day, int year);"
   ]
  },
  {
   "cell_type": "markdown",
   "id": "4c565400",
   "metadata": {},
   "source": [
    "The second method describes what kind of data is displayed and provides names for parameters.\n",
    "\n",
    "Now that you have the basics down, you're ready to begin writing your own methods!"
   ]
  }
 ],
 "metadata": {
  "kernelspec": {
   "display_name": ".NET (C#)",
   "language": "C#",
   "name": ".net-csharp"
  },
  "language_info": {
   "file_extension": ".cs",
   "mimetype": "text/x-csharp",
   "name": "C#",
   "pygments_lexer": "csharp",
   "version": "8.0"
  }
 },
 "nbformat": 4,
 "nbformat_minor": 5
}
