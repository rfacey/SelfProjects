{
 "cells": [
  {
   "cell_type": "markdown",
   "id": "6b40872d",
   "metadata": {},
   "source": [
    "Source: https://learn.microsoft.com/en-us/training/modules/csharp-evaluate-boolean-expressions/8-knowledge-check"
   ]
  },
  {
   "cell_type": "markdown",
   "id": "51876771",
   "metadata": {},
   "source": [
    "# Knowledge Check\n",
    "\n",
    "1. Which line of code uses logical negation?\n",
    "    - Console.WriteLine(!value)\n",
    "2. Which of the following lines of code is a valud use of the conditional operator?\n",
    "    - int value = amount >= 10? 10: 20;"
   ]
  }
 ],
 "metadata": {
  "kernelspec": {
   "display_name": ".NET (C#)",
   "language": "C#",
   "name": ".net-csharp"
  },
  "language_info": {
   "file_extension": ".cs",
   "mimetype": "text/x-csharp",
   "name": "C#",
   "pygments_lexer": "csharp",
   "version": "8.0"
  }
 },
 "nbformat": 4,
 "nbformat_minor": 5
}
