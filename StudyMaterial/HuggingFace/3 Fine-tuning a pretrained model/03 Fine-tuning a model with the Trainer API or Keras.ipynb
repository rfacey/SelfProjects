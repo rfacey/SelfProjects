{
 "cells": [
  {
   "cell_type": "markdown",
   "id": "fb39ade2-dd19-4472-9868-fa75624f4622",
   "metadata": {},
   "source": [
    "Source: https://huggingface.co/learn/nlp-course/chapter3/3?fw=pt"
   ]
  },
  {
   "cell_type": "markdown",
   "id": "eb2b7c0b-a27c-41e5-9281-7952af7dfdb2",
   "metadata": {},
   "source": [
    "# Fine-tuning a model with the Trainer API\n",
    "\n",
    "https://youtu.be/nvBXf7s7vTI\n",
    "\n",
    "🤗 Transformers provides a Trainer class to help you fine-tune any of the pretrained models it provides on your dataset. Once you've done all the data preprocessing work onin the last section, you have just a few steps left to define the Trainer. The hardest part is likely to be preparing the environment to run Trainer.train(), as it will run very slowly on a CPU. If you don't a GPU set up, you can get access to free GPUs or TPUs on Google Colab.\n",
    "\n",
    "The code exmaples below assume you have already executed the exmaples in the previous section. Here is a short summary recapping what you need:"
   ]
  },
  {
   "cell_type": "raw",
   "id": "7d98bd27-6fbc-459d-8291-5f65cde1cc3f",
   "metadata": {},
   "source": [
    "from datasets import load_dataset\n",
    "from transformers import AutoTokenizer, DataCollatorWithPadding\n",
    "\n",
    "raw_datasets = load_dataset(\"glue\", \"mrpc\")\n",
    "checkpoint = \"bert-base-uncased\"\n",
    "tokenizer = AutoTokenizer.from_pretrained(checkpoint)\n",
    "\n",
    "\n",
    "def tokenize_function(example):\n",
    "    return tokenizer(example[\"sentence1\"], example[\"sentence2\"], truncation=True)\n",
    "\n",
    "\n",
    "tokenized_datasets = raw_datasets.map(tokenize_function, batched=True)\n",
    "data_collator = DataCollatorWithPadding(tokenizer=tokenizer)"
   ]
  },
  {
   "cell_type": "markdown",
   "id": "244eeb57-77e8-4db3-8c6e-364dfe5ae5d3",
   "metadata": {},
   "source": [
    "## Training\n",
    "\n",
    "The first step before we can define our Trainer is to define a TrainingArgument class that will contain all the hyperparameters the Trainer will use for training and evaluation. The only argument you have to provide is a directtory where the trained model will be saved, as well as the checkpoints along the way. For all the rest, you can leave the defaults, which should work pretty well for a basic fine-tuning."
   ]
  },
  {
   "cell_type": "raw",
   "id": "505e68ec-a6bf-4570-ae4c-611fb152c69c",
   "metadata": {},
   "source": [
    "from transformers import TrainingArguments\n",
    "\n",
    "training_args = TrainingArguments(\"test-trainer\")"
   ]
  },
  {
   "cell_type": "markdown",
   "id": "bea5d345-799b-4f82-8c3f-497ae009c7cd",
   "metadata": {},
   "source": [
    "The second step is to define our model. As in the previous chapter, we will use the AutoModelForSequenceClassification class, with two labels:"
   ]
  },
  {
   "cell_type": "raw",
   "id": "a9a5e4c2-a3f7-4424-bba5-0382e379ef33",
   "metadata": {},
   "source": [
    "from transformers import AutoModelForSequenceClassification\n",
    "\n",
    "model = AutoModelForSequenceClassification.from_pretrained(checkpoint, num_labels=2)"
   ]
  },
  {
   "cell_type": "markdown",
   "id": "fbaad8d6-f918-45fc-a860-4858bf716fde",
   "metadata": {},
   "source": [
    "You will notice that unlike in Chapter 2, you get a warning after instantiating this pretrained model. This is because BERT has not been pretrained on classifying pairs of sentences, so the head of the pretrained model has been discarded and a new head suitable for sequence classification has been added instead. The warnings indicate that some weights were not used (the ones corresponding to the dropped pretraining head) and that some others were randomly initialized (the ones for the new head). It concludes by encouraging you to train the model, which is exactly what we are going to do now.\n",
    "\n",
    "Once we ahve our model, we can define a Treainer by passing it all the objects constructed up to now - the model the training_args, the training and validation datasets, our data_collector, and our tokenizer:"
   ]
  },
  {
   "cell_type": "raw",
   "id": "a36280ec-ae95-453f-adba-8485618e2054",
   "metadata": {},
   "source": [
    "from transformers import Trainer\n",
    "\n",
    "trainer = Trainer(\n",
    "    model,\n",
    "    training_args,\n",
    "    train_dataset=tokenized_datasets[\"train\"],\n",
    "    eval_dataset=tokenized_datasets[\"validation\"],\n",
    "    data_collator=data_collator,\n",
    "    tokenizer=tokenizer,\n",
    ")"
   ]
  },
  {
   "cell_type": "markdown",
   "id": "891a64af-5bbb-4260-8cfa-8937a2ce9dd3",
   "metadata": {},
   "source": [
    "Note that you pass the tokenizer as we did here, the default data_collator used by the Trainer will be a DataCollatorWithPadding as defined previously, so you can skip the line data_collator=data_collator in this call. It was still important to show you this part of the processing in section 2!\n",
    "\n",
    "To fine-tune the model on our dataset, we just have to call the train() method of our Trainer:"
   ]
  },
  {
   "cell_type": "raw",
   "id": "6ccf29c0-4577-404b-b1f4-4199519d83d3",
   "metadata": {},
   "source": [
    "trainer.train()"
   ]
  },
  {
   "cell_type": "markdown",
   "id": "d41de63d-dac8-4dd5-92ac-b85fafa16876",
   "metadata": {},
   "source": []
  }
 ],
 "metadata": {
  "kernelspec": {
   "display_name": "Python 3 (ipykernel)",
   "language": "python",
   "name": "python3"
  },
  "language_info": {
   "codemirror_mode": {
    "name": "ipython",
    "version": 3
   },
   "file_extension": ".py",
   "mimetype": "text/x-python",
   "name": "python",
   "nbconvert_exporter": "python",
   "pygments_lexer": "ipython3",
   "version": "3.9.13"
  }
 },
 "nbformat": 4,
 "nbformat_minor": 5
}
