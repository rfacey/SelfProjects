{
 "cells": [
  {
   "cell_type": "markdown",
   "id": "e04b5d6c",
   "metadata": {},
   "source": [
    "Source: https://learn.microsoft.com/en-us/training/modules/csharp-choose-data-type/4-exercise-floating-point-types"
   ]
  },
  {
   "cell_type": "markdown",
   "id": "ac63607a",
   "metadata": {},
   "source": [
    "# Exercise - Discover floating-point types\n",
    "\n",
    "In this exercise, you'll work with floating-point data types to learn about the nuanced differences between each data type.\n",
    "\n",
    "A floating point is a simple value type that represents numbers to the right of the decimal place. Unlike integral numbers, there are other considerations beyond the maximum and minimum values you can store in a given floating-point type.\n",
    "\n",
    "## Evaluate floating-types\n",
    "\n",
    "First, you must consider the digits of precision each type allows. Precision is the number of value places stored after the decimal point.\n",
    "\n",
    "Second, you must consider the manner in which the values are stored and the impact on the accuracy of tha value. For example, float and double values are stored internally in a binary (base 2) format, while decimal is stored in a decimal (base 10) format. Why does this matter?\n",
    "\n",
    "Performing math on binary floating-point values can produce results that may surprise you if you're used to decimal (base 10) math. Often, binary floating-point math is an approximation of the real value."
   ]
  },
  {
   "cell_type": "code",
   "execution_count": null,
   "id": "0726e75a",
   "metadata": {},
   "outputs": [],
   "source": []
  }
 ],
 "metadata": {
  "kernelspec": {
   "display_name": ".NET (C#)",
   "language": "C#",
   "name": ".net-csharp"
  },
  "language_info": {
   "file_extension": ".cs",
   "mimetype": "text/x-csharp",
   "name": "C#",
   "pygments_lexer": "csharp",
   "version": "8.0"
  }
 },
 "nbformat": 4,
 "nbformat_minor": 5
}
