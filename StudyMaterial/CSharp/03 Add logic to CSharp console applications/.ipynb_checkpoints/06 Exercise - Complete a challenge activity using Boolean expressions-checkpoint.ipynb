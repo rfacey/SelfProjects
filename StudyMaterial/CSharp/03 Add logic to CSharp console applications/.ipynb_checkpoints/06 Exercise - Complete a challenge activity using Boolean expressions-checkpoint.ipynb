{
 "cells": [
  {
   "cell_type": "markdown",
   "id": "123f9087",
   "metadata": {},
   "source": [
    "Source: https://learn.microsoft.com/en-us/training/modules/csharp-evaluate-boolean-expressions/6-challenge-2"
   ]
  },
  {
   "cell_type": "markdown",
   "id": "003a15a0",
   "metadata": {},
   "source": [
    "# Exercise - Complete a challenge activity using Boolean expressions\n",
    "\n",
    "Code challenges will reinforce what you've learned and help you gain some confidence before continuing on.\n",
    "\n",
    "## Decision logic challenge\n",
    "\n",
    "In this challenge, you'll implement decision logic based on a series of business rules. The business rules specify the access that will be graned to users based on their role-based permissions and their career level. Code branches will display a different message to the user depending on their permissions and level.\n",
    "\n",
    "## Initialize permission and level values\n",
    "\n",
    "1. Ensure that you have an empty Program.cs open in Visual Studio Code.\n",
    "2. Type the following code into the Visual Studio Code Editor:"
   ]
  },
  {
   "cell_type": "code",
   "execution_count": 9,
   "id": "090b4822",
   "metadata": {},
   "outputs": [],
   "source": [
    "string permission = \"Admin|Manager\";\n",
    "int level = 55;"
   ]
  },
  {
   "cell_type": "markdown",
   "id": "9fb8f334",
   "metadata": {},
   "source": [
    "3. Review the initial code lines.\n",
    "\n",
    "Your application will be using a combination of permission and level to apply/evaluate the business rules in this challenge scenario. The full list of conditions for business rules is specified in the next step. Your completed solution must use permission and level.\n",
    "\n",
    "## Implement business rules\n",
    "\n",
    "You will need to use Contains() helper method to determine whether the value assigned to the permission string contains one of the permission values specified by the \"business rules\". For example the expression permission.Contains(\"Admin\") will return true when using the initial data values specified in the code above.\n",
    "\n",
    "Here are the Business Rules that your solution must satify:\n",
    "\n",
    "- If the user is an Admin with a level greater than 55, output the message:"
   ]
  },
  {
   "cell_type": "raw",
   "id": "8de557f2",
   "metadata": {},
   "source": [
    "Welcome, Super Admin user."
   ]
  },
  {
   "cell_type": "markdown",
   "id": "c7a61ba6",
   "metadata": {},
   "source": [
    "- If the user is an Admin with a level less than or equal to 55, output the message:"
   ]
  },
  {
   "cell_type": "raw",
   "id": "a0b73b0d",
   "metadata": {},
   "source": [
    "Welcome, Admin user."
   ]
  },
  {
   "cell_type": "markdown",
   "id": "067ce4e1",
   "metadata": {},
   "source": [
    "- If the user is a Manager with a level 20 or greater, output the message:"
   ]
  },
  {
   "cell_type": "raw",
   "id": "187aef12",
   "metadata": {},
   "source": [
    "Contact an Admin for access."
   ]
  },
  {
   "cell_type": "markdown",
   "id": "ddcef3a5",
   "metadata": {},
   "source": [
    "- If the user is a Manager with a level less than  20, output the message:"
   ]
  },
  {
   "cell_type": "raw",
   "id": "45904926",
   "metadata": {},
   "source": [
    "You do not have sufficent privileges."
   ]
  },
  {
   "cell_type": "markdown",
   "id": "2035b097",
   "metadata": {},
   "source": [
    "- If the user is no Admin or a Manager, output the message:"
   ]
  },
  {
   "cell_type": "raw",
   "id": "233c3892",
   "metadata": {},
   "source": [
    "You do not have sufficient privileges."
   ]
  },
  {
   "cell_type": "markdown",
   "id": "7097597c",
   "metadata": {},
   "source": [
    "1. Update your Program.cs code to accommodate each of the business rules.\n",
    "2. Save your code.\n",
    "\n",
    "## Test your solution using the initial data values suggested\n",
    "\n",
    "1. Build and run your code.\n",
    "2. Evaludate the output. When you run your code, including the initial configuration data, you should see the following out:"
   ]
  },
  {
   "cell_type": "code",
   "execution_count": 10,
   "id": "8b2f1462",
   "metadata": {},
   "outputs": [
    {
     "name": "stdout",
     "output_type": "stream",
     "text": [
      "Welcome, Super Admin user.\r\n"
     ]
    }
   ],
   "source": [
    "Console.WriteLine(permission.Contains(\"Admin\") ? \n",
    "    ( level >= 55 ? \n",
    "        \"Welcome, Super Admin user.\" \n",
    "        : \"Welcome, Admin user.\") \n",
    "    : (permission.Contains(\"Manager\") & level >= 20 ?\n",
    "        \"Contact an Admin for access.\" \n",
    "        : \"You do not have sufficient privileges.\")\n",
    "    );"
   ]
  },
  {
   "cell_type": "markdown",
   "id": "21a8799b",
   "metadata": {},
   "source": [
    "## Test for the other business rules\n",
    "\n",
    "1. Update the values assigned to permission and level.\n",
    "2. Save and run your code.\n",
    "3. Evaluate the output to verify that the other business rules are satisfied.\n",
    "\n",
    "Whether you get stuck and need to peek at the solution or you finish successfully, continue on to view a solution to this challenge."
   ]
  }
 ],
 "metadata": {
  "kernelspec": {
   "display_name": ".NET (C#)",
   "language": "C#",
   "name": ".net-csharp"
  },
  "language_info": {
   "file_extension": ".cs",
   "mimetype": "text/x-csharp",
   "name": "C#",
   "pygments_lexer": "csharp",
   "version": "8.0"
  }
 },
 "nbformat": 4,
 "nbformat_minor": 5
}
