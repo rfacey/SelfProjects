{
 "cells": [
  {
   "cell_type": "markdown",
   "id": "267b14cf",
   "metadata": {},
   "source": [
    "Source: https://learn.microsoft.com/en-us/training/modules/write-first-c-sharp-method/4-exercise-create-reusable-methods"
   ]
  },
  {
   "cell_type": "markdown",
   "id": "96240926",
   "metadata": {},
   "source": [
    "# Exercise - Create reusable methods\n",
    "\n",
    "As you develop applications, you may find yourself writing code to do the same thing over and over again. Instead of writing duplicate code, using a method to perform the same task shortens your code and helps you develop applications faster. In this exercise, you'll identify repeated code and replace it with a reusable method. Let's get started!\n",
    "\n",
    "## Identify duplicated code\n",
    "\n",
    "In this task, you'll task a look at an application that tracks medication times across different time zones. The user enters their current time zone and their destination time zone. Their medication schedule is displayed and then adjusted for the new time zone.\n",
    "\n",
    "1. In the Visual Studio Code Editor, delete any existing code from the previous exercise.\n",
    "2. Copy and paste the following code into the Visual Studio Code Editor:"
   ]
  },
  {
   "cell_type": "code",
   "execution_count": null,
   "id": "15465612",
   "metadata": {},
   "outputs": [],
   "source": []
  }
 ],
 "metadata": {
  "kernelspec": {
   "display_name": ".NET (C#)",
   "language": "C#",
   "name": ".net-csharp"
  },
  "language_info": {
   "file_extension": ".cs",
   "mimetype": "text/x-csharp",
   "name": "C#",
   "pygments_lexer": "csharp",
   "version": "8.0"
  }
 },
 "nbformat": 4,
 "nbformat_minor": 5
}
