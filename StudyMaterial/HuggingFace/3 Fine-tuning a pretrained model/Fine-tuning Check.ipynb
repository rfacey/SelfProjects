{
 "cells": [
  {
   "cell_type": "markdown",
   "id": "4499120f-d3d8-4769-9ec4-99bee38733ca",
   "metadata": {},
   "source": [
    "Source: https://huggingface.co/learn/nlp-course/chapter3/5?fw=pt"
   ]
  },
  {
   "cell_type": "markdown",
   "id": "b2d9580f-f5f5-47fa-87f0-664655975b83",
   "metadata": {},
   "source": [
    "# Fine-tuning, Check!\n",
    "\n",
    "That was fun! In the first two chapter you learned about models and tokenizers, and now you know how to fine-tune them for your own data. To recap, in this chapter you:\n",
    "\n",
    "- Learned about datasets in the Hub (https://huggingface.co/datasets)\n",
    "- Learned how to load and preprocess dataset, including using dynamic padding and collators\n",
    "- Implemented your own fine-tuning and evaluation of a model\n",
    "- Implemented a lower-level training loop\n",
    "- Use 🤗 Accelerate to easily adapt your training loop so it works for multiple GPUs or TPUs"
   ]
  }
 ],
 "metadata": {
  "kernelspec": {
   "display_name": "Python 3 (ipykernel)",
   "language": "python",
   "name": "python3"
  },
  "language_info": {
   "codemirror_mode": {
    "name": "ipython",
    "version": 3
   },
   "file_extension": ".py",
   "mimetype": "text/x-python",
   "name": "python",
   "nbconvert_exporter": "python",
   "pygments_lexer": "ipython3",
   "version": "3.9.13"
  }
 },
 "nbformat": 4,
 "nbformat_minor": 5
}
