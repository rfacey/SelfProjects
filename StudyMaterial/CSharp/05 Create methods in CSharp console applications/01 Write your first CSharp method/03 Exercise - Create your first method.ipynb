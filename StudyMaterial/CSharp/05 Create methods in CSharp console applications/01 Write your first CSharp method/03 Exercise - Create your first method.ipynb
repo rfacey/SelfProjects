{
 "cells": [
  {
   "cell_type": "markdown",
   "id": "98c85723",
   "metadata": {},
   "source": [
    "Source: https://learn.microsoft.com/en-us/training/modules/write-first-c-sharp-method/3-exercise-create-your-first-method"
   ]
  },
  {
   "cell_type": "markdown",
   "id": "1bacfd9e",
   "metadata": {},
   "source": [
    "# Exercise - Create your first method\n",
    "\n",
    "Typically, a method is created to perform a specific task. In this exercise, you'll create a method that generates and displays five random numbers. Let's get started!\n",
    "\n",
    "## Prepare your coding environment\n",
    "\n",
    "This module includes hands-on activities that guide you through the process of building and running demonstration code. You're encouraged to complete these activities using Visual Studio Code as your development environment. Using Visual Studio Code for these activities will help you become more comfortable writing and running code in a developer environment that's used by professional worldwide.\n",
    "\n",
    "## Create a method to display random numbers\n",
    "\n",
    "To create a method, first create a method signature and then add the method body. To create the method signature, you declare the return type, method name, and parameters. Create the method body by using brackets {} that contain the code.\n",
    "\n",
    "1. Enter the following code into the Visual Studio Code editor:"
   ]
  },
  {
   "cell_type": "raw",
   "id": "6078e5e3",
   "metadata": {},
   "source": [
    "void DisplayRandomNumbers();"
   ]
  },
  {
   "cell_type": "markdown",
   "id": "e2cee944",
   "metadata": {},
   "source": [
    "In this case, the method just needs to generate and display information, so the return type is 'void'. For now, you don't need to include any parameters.\n",
    "\n",
    "2. To create the method body, remove the semicolon ';' and update your code to the following:"
   ]
  },
  {
   "cell_type": "code",
   "execution_count": 3,
   "id": "6bfea1ec",
   "metadata": {},
   "outputs": [],
   "source": [
    "void DisplayRandomNumbers()\n",
    "{\n",
    "    Random random = new Random();\n",
    "}"
   ]
  },
  {
   "cell_type": "markdown",
   "id": "5255e6e5",
   "metadata": {},
   "source": [
    "Here, you create a Random object that is used to generate the numbers.\n",
    "\n",
    "3. To display five random integers, add a 'for' loop to your method:"
   ]
  },
  {
   "cell_type": "code",
   "execution_count": 5,
   "id": "cc782f3d",
   "metadata": {},
   "outputs": [],
   "source": [
    "void DisplayRandomNumbers()\n",
    "{\n",
    "    Random random = new Random();\n",
    "    \n",
    "    for (int i = 0; i < 5; i++)\n",
    "    {\n",
    "        Console.Write($\"{random.Next(1,100)} \");\n",
    "    }\n",
    "}"
   ]
  },
  {
   "cell_type": "markdown",
   "id": "0184bafc",
   "metadata": {},
   "source": [
    "In this code, you generate a number between 1 and 999 (inclusively). You also add a space after the number is printed. Next, you'll display a new line before the method terminates.\n",
    "\n",
    "4. Update your method with the following code:"
   ]
  },
  {
   "cell_type": "code",
   "execution_count": 6,
   "id": "8a85318d",
   "metadata": {},
   "outputs": [],
   "source": [
    "void DisplayRandomNumbers()\n",
    "{\n",
    "    Random random = new Random();\n",
    "    \n",
    "    for (int i = 0; i < 5; i++)\n",
    "    {\n",
    "        Console.Write($\"{random.Next(1,100)} \");\n",
    "    }\n",
    "    \n",
    "    Console.WriteLine();\n",
    "}"
   ]
  },
  {
   "cell_type": "markdown",
   "id": "bf1a636e",
   "metadata": {},
   "source": [
    "Now your method will add a new line after displaying the numbers.\n",
    "\n",
    "## Call your method\n",
    "\n",
    "1. Enter a new blank code line above the DisplayRandomNumbers method.\n",
    "2. Enter the following coode on the new blank code line:"
   ]
  },
  {
   "cell_type": "code",
   "execution_count": 7,
   "id": "10a777d5",
   "metadata": {},
   "outputs": [
    {
     "name": "stdout",
     "output_type": "stream",
     "text": [
      "Generating random numbers:\n",
      "96 90 94 33 18 \n"
     ]
    }
   ],
   "source": [
    "Console.WriteLine(\"Generating random numbers:\");\n",
    "DisplayRandomNumbers();"
   ]
  },
  {
   "cell_type": "markdown",
   "id": "0539dbf0",
   "metadata": {},
   "source": [
    "Notice how using a method makes the code easy to understand. Rather than spending time trying to decipher the 'for' loop on its own, you can quickly read the method name to learn that this code displays random numbers.\n",
    "\n",
    "## Recap\n",
    "\n",
    "Here's what you've learned about methods so far:\n",
    "\n",
    "- Create a method by delcaring the return type, name, input parameters, and method body.\n",
    "- Method names should clearly reflect the task the method performs.\n",
    "- Use a method by calling its name and including parentheses ()."
   ]
  }
 ],
 "metadata": {
  "kernelspec": {
   "display_name": ".NET (C#)",
   "language": "C#",
   "name": ".net-csharp"
  },
  "language_info": {
   "file_extension": ".cs",
   "mimetype": "text/x-csharp",
   "name": "C#",
   "pygments_lexer": "csharp",
   "version": "8.0"
  }
 },
 "nbformat": 4,
 "nbformat_minor": 5
}
