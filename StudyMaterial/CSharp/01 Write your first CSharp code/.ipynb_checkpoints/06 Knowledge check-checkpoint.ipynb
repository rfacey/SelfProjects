{
 "cells": [
  {
   "cell_type": "markdown",
   "id": "4667844e",
   "metadata": {},
   "source": [
    "Source: https://learn.microsoft.com/en-us/training/modules/csharp-write-first/6-knowledge-check"
   ]
  },
  {
   "cell_type": "markdown",
   "id": "00800a50",
   "metadata": {},
   "source": [
    "# Check your knowledge\n",
    "\n",
    "1. What is the primary job of the compiler?\n",
    "    - The compiler primarily converts your code into an executable format that the computer can understand.\n",
    "2. Which of the following statements is **true** about C#?\n",
    "    - You use double quotation marks to create a literal string.\n",
    "3. What is **wrong** with the line of code? Console.WriteLine(\"What is wrong with me?\")\n",
    "    - It's missing a semi-colon at the end."
   ]
  }
 ],
 "metadata": {
  "kernelspec": {
   "display_name": ".NET (C#)",
   "language": "C#",
   "name": ".net-csharp"
  },
  "language_info": {
   "file_extension": ".cs",
   "mimetype": "text/x-csharp",
   "name": "C#",
   "pygments_lexer": "csharp",
   "version": "8.0"
  }
 },
 "nbformat": 4,
 "nbformat_minor": 5
}
