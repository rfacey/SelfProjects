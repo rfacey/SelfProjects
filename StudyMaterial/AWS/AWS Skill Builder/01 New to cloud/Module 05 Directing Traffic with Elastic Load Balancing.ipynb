{
 "cells": [
  {
   "cell_type": "markdown",
   "id": "edd5513a",
   "metadata": {},
   "source": [
    "Source: https://explore.skillbuilder.aws/learn/course/134/play/85854/aws-cloud-practitioner-essentials"
   ]
  },
  {
   "cell_type": "markdown",
   "id": "a637f879",
   "metadata": {},
   "source": [
    "# Directing Traffic with Elastic Load Balancing\n",
    "\n"
   ]
  }
 ],
 "metadata": {
  "kernelspec": {
   "display_name": "Python 3 (ipykernel)",
   "language": "python",
   "name": "python3"
  },
  "language_info": {
   "codemirror_mode": {
    "name": "ipython",
    "version": 3
   },
   "file_extension": ".py",
   "mimetype": "text/x-python",
   "name": "python",
   "nbconvert_exporter": "python",
   "pygments_lexer": "ipython3",
   "version": "3.9.13"
  }
 },
 "nbformat": 4,
 "nbformat_minor": 5
}
