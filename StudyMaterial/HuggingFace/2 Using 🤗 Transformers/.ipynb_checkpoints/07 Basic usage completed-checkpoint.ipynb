{
 "cells": [
  {
   "cell_type": "markdown",
   "id": "5202fda4-a512-4394-a1db-5af75e2d0c79",
   "metadata": {},
   "source": [
    "Source: https://huggingface.co/learn/nlp-course/chapter2/7?fw=pt"
   ]
  },
  {
   "cell_type": "markdown",
   "id": "e877447c-6fca-4e3e-80e1-a4b3e2c4ea45",
   "metadata": {},
   "source": [
    "# Basic usage completed!\n",
    "\n",
    "Great job following the course up to here! To recap, in this chapter you:\n",
    "\n",
    "- Learned the basic building blocks of a Transformer model.\n",
    "- Learned what makes up a tokenization pipeline.\n",
    "- Saw how to use a Transformer model in practice.\n",
    "- Learned how to leverage a tokenizer to convert text to tensors that are understandable by the model.\n",
    "- Set up a tokenizer and a model together to get fromt ext to predictions.\n",
    "- Learned the limitations of input IDs, and learned about attention masks.\n",
    "- Played around with versatile and configurable tokenizer methods.\n",
    "\n",
    "From now on, you should be able to freely navigate the 🤗 Transformers docs: the vocabulary will sound familiar, and you've already seen the methods that you'll use the majority of the time."
   ]
  }
 ],
 "metadata": {
  "kernelspec": {
   "display_name": "Python 3 (ipykernel)",
   "language": "python",
   "name": "python3"
  },
  "language_info": {
   "codemirror_mode": {
    "name": "ipython",
    "version": 3
   },
   "file_extension": ".py",
   "mimetype": "text/x-python",
   "name": "python",
   "nbconvert_exporter": "python",
   "pygments_lexer": "ipython3",
   "version": "3.9.13"
  }
 },
 "nbformat": 4,
 "nbformat_minor": 5
}
