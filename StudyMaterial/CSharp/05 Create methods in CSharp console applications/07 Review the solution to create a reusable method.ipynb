{
 "cells": [
  {
   "cell_type": "markdown",
   "id": "07937c7e",
   "metadata": {},
   "source": [
    "Source: https://learn.microsoft.com/en-us/training/modules/write-first-c-sharp-method/7-review-solution-restructure-code-to-use-methods"
   ]
  },
  {
   "cell_type": "markdown",
   "id": "dd82a1ad",
   "metadata": {},
   "source": [
    "# Review the solution to create a reusable method\n",
    "\n",
    "The following code is one possible solution for the challenge from the previous unit."
   ]
  },
  {
   "cell_type": "code",
   "execution_count": 1,
   "id": "cea79132",
   "metadata": {},
   "outputs": [
    {
     "data": {
      "text/html": [
       "\r\n",
       "<div>\r\n",
       "    <div id='dotnet-interactive-this-cell-14260.Microsoft.DotNet.Interactive.Http.HttpPort' style='display: none'>\r\n",
       "        The below script needs to be able to find the current output cell; this is an easy method to get it.\r\n",
       "    </div>\r\n",
       "    <script type='text/javascript'>\r\n",
       "async function probeAddresses(probingAddresses) {\r\n",
       "    function timeout(ms, promise) {\r\n",
       "        return new Promise(function (resolve, reject) {\r\n",
       "            setTimeout(function () {\r\n",
       "                reject(new Error('timeout'))\r\n",
       "            }, ms)\r\n",
       "            promise.then(resolve, reject)\r\n",
       "        })\r\n",
       "    }\r\n",
       "\r\n",
       "    if (Array.isArray(probingAddresses)) {\r\n",
       "        for (let i = 0; i < probingAddresses.length; i++) {\r\n",
       "\r\n",
       "            let rootUrl = probingAddresses[i];\r\n",
       "\r\n",
       "            if (!rootUrl.endsWith('/')) {\r\n",
       "                rootUrl = `${rootUrl}/`;\r\n",
       "            }\r\n",
       "\r\n",
       "            try {\r\n",
       "                let response = await timeout(1000, fetch(`${rootUrl}discovery`, {\r\n",
       "                    method: 'POST',\r\n",
       "                    cache: 'no-cache',\r\n",
       "                    mode: 'cors',\r\n",
       "                    timeout: 1000,\r\n",
       "                    headers: {\r\n",
       "                        'Content-Type': 'text/plain'\r\n",
       "                    },\r\n",
       "                    body: probingAddresses[i]\r\n",
       "                }));\r\n",
       "\r\n",
       "                if (response.status == 200) {\r\n",
       "                    return rootUrl;\r\n",
       "                }\r\n",
       "            }\r\n",
       "            catch (e) { }\r\n",
       "        }\r\n",
       "    }\r\n",
       "}\r\n",
       "\r\n",
       "function loadDotnetInteractiveApi() {\r\n",
       "    probeAddresses([\"http://192.168.0.25:1002/\", \"http://127.0.0.1:1002/\"])\r\n",
       "        .then((root) => {\r\n",
       "        // use probing to find host url and api resources\r\n",
       "        // load interactive helpers and language services\r\n",
       "        let dotnetInteractiveRequire = require.config({\r\n",
       "        context: '14260.Microsoft.DotNet.Interactive.Http.HttpPort',\r\n",
       "                paths:\r\n",
       "            {\r\n",
       "                'dotnet-interactive': `${root}resources`\r\n",
       "                }\r\n",
       "        }) || require;\r\n",
       "\r\n",
       "            window.dotnetInteractiveRequire = dotnetInteractiveRequire;\r\n",
       "\r\n",
       "            window.configureRequireFromExtension = function(extensionName, extensionCacheBuster) {\r\n",
       "                let paths = {};\r\n",
       "                paths[extensionName] = `${root}extensions/${extensionName}/resources/`;\r\n",
       "                \r\n",
       "                let internalRequire = require.config({\r\n",
       "                    context: extensionCacheBuster,\r\n",
       "                    paths: paths,\r\n",
       "                    urlArgs: `cacheBuster=${extensionCacheBuster}`\r\n",
       "                    }) || require;\r\n",
       "\r\n",
       "                return internalRequire\r\n",
       "            };\r\n",
       "        \r\n",
       "            dotnetInteractiveRequire([\r\n",
       "                    'dotnet-interactive/dotnet-interactive'\r\n",
       "                ],\r\n",
       "                function (dotnet) {\r\n",
       "                    dotnet.init(window);\r\n",
       "                },\r\n",
       "                function (error) {\r\n",
       "                    console.log(error);\r\n",
       "                }\r\n",
       "            );\r\n",
       "        })\r\n",
       "        .catch(error => {console.log(error);});\r\n",
       "    }\r\n",
       "\r\n",
       "// ensure `require` is available globally\r\n",
       "if ((typeof(require) !==  typeof(Function)) || (typeof(require.config) !== typeof(Function))) {\r\n",
       "    let require_script = document.createElement('script');\r\n",
       "    require_script.setAttribute('src', 'https://cdnjs.cloudflare.com/ajax/libs/require.js/2.3.6/require.min.js');\r\n",
       "    require_script.setAttribute('type', 'text/javascript');\r\n",
       "    \r\n",
       "    \r\n",
       "    require_script.onload = function() {\r\n",
       "        loadDotnetInteractiveApi();\r\n",
       "    };\r\n",
       "\r\n",
       "    document.getElementsByTagName('head')[0].appendChild(require_script);\r\n",
       "}\r\n",
       "else {\r\n",
       "    loadDotnetInteractiveApi();\r\n",
       "}\r\n",
       "\r\n",
       "    </script>\r\n",
       "</div>"
      ]
     },
     "metadata": {},
     "output_type": "display_data"
    },
    {
     "name": "stdout",
     "output_type": "stream",
     "text": [
      "A fortune teller whispers the following words:\n",
      "You have much to look forward to. Today is a day to try new things! Whatever work you do is likely to succeed. This is an ideal time to accomplish your dreams! A fortune teller whispers the following words:\n",
      "You have much to appreciate. Today is a day to enjoy time with friends. Whatever work you do should align with your values. This is an ideal time to get in tune with nature. "
     ]
    }
   ],
   "source": [
    "Random random = new Random();\n",
    "int luck = random.Next(100);\n",
    "\n",
    "string[] text = {\"You have much to\", \"Today is a day to\", \"Whatever work you do\", \"This is an ideal time to\"};\n",
    "string[] good = {\"look forward to.\", \"try new things!\", \"is likely to succeed.\", \"accomplish your dreams!\"};\n",
    "string[] bad = {\"fear.\", \"avoid major decisions.\", \"may have unexpected outcomes.\", \"re-evaluate your life.\"};\n",
    "string[] neutral = {\"appreciate.\", \"enjoy time with friends.\", \"should align with your values.\", \"get in tune with nature.\"};\n",
    "\n",
    "TellFortune();\n",
    "luck = random.Next(100);\n",
    "TellFortune();\n",
    "\n",
    "void TellFortune() \n",
    "{\n",
    "    Console.WriteLine(\"A fortune teller whispers the following words:\");\n",
    "    string[] fortune = (luck > 75 ? good : (luck < 25 ? bad : neutral));\n",
    "    for (int i = 0; i < 4; i++) \n",
    "    {\n",
    "        Console.Write($\"{text[i]} {fortune[i]} \");\n",
    "    }\n",
    "}"
   ]
  },
  {
   "cell_type": "markdown",
   "id": "3fb13df2",
   "metadata": {},
   "source": [
    "This code is just *one possible solution* because you may have added line feeds in different spots or you may have formatted the code differently.\n",
    "\n",
    "Regardless of minor code differences, when you run the code, you should see two of the following outputput messages:"
   ]
  },
  {
   "cell_type": "raw",
   "id": "b6ff6c33",
   "metadata": {},
   "source": [
    "```Output A\n",
    "A fortune teller whispers the following words:\n",
    "You have much to look forward to. Today is a day to try new things! Whatever work you do is likely to succeed. This is an ideal time to accomplish your dreams! \n",
    "```\n",
    "\n",
    "```Output B\n",
    "A fortune teller whispers the following words:\n",
    "You have much to appreciate. Today is a day to enjoy time with friends. Whatever work you do should align with your values. This is an ideal time to get in tune with nature. \n",
    "```\n",
    "\n",
    "```Output C\n",
    "A fortune teller whispers the following words:\n",
    "You have much to fear. Today is a day to avoid major decisions. Whatever work you do may have unexpected outcomes. This is an ideal time to re-evaluate your life.\n",
    "```"
   ]
  },
  {
   "cell_type": "markdown",
   "id": "51df29e0",
   "metadata": {},
   "source": [
    "If you completed the challenege, congratulations! Continue on to the knowledge check in the next unit."
   ]
  }
 ],
 "metadata": {
  "kernelspec": {
   "display_name": ".NET (C#)",
   "language": "C#",
   "name": ".net-csharp"
  },
  "language_info": {
   "file_extension": ".cs",
   "mimetype": "text/x-csharp",
   "name": "C#",
   "pygments_lexer": "csharp",
   "version": "8.0"
  }
 },
 "nbformat": 4,
 "nbformat_minor": 5
}
