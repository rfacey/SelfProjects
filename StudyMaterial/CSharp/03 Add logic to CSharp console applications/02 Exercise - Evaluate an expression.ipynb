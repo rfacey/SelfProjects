{
 "cells": [
  {
   "cell_type": "markdown",
   "id": "4a772ac2",
   "metadata": {},
   "source": [
    "Source: https://learn.microsoft.com/en-us/training/modules/csharp-evaluate-boolean-expressions/2-exercise-boolean-expressions"
   ]
  },
  {
   "cell_type": "markdown",
   "id": "e4112979",
   "metadata": {},
   "source": [
    "# Exercise - Evaluate an expression\n",
    "\n",
    "Decision logic is used to establish alternative pathways through your code, where the decision about which part to follow is based on the evaludation of an expression. For example, you may write some code that executes one of two paths based on a user's input. If the user enters the letter \"a\", your code will execute one code block. If they enter the letter \"b\", your code will execute a different code block. In this example, you're controlling the execution path based on the value assigned to a string. Your code selects an execution path based on an expression, how that expression is evaluated, and the underlying logic used to define the paths.\n",
    "\n",
    "Examining how to construct and evaluate an expression is a good place to start.\n",
    "\n",
    "## What is an expression?\n",
    "\n",
    "An expression is any combination of values (literal or variable), operators, and methods that return a single value. A statement is a complete instruction in C#, and statements are comprised of one or more expressions. For example, the following if statement contains a single expression that returns a single value:"
   ]
  },
  {
   "cell_type": "raw",
   "id": "4add02d7",
   "metadata": {},
   "source": [
    "if (myName == \"Luiz\")"
   ]
  },
  {
   "cell_type": "markdown",
   "id": "1668dcd3",
   "metadata": {},
   "source": [
    "You may have been thinking that the value returned by an expression would be a number of maybe a string. It's true that application developers use different types of expressions for different purposed. In this case, when you're developing an if selection statement, you'll be using an expression that returns either true or false. Developers refer to this type of expression as a Boolean expression. When your code includes a Boolean expression, return value is always a single true or false value.\n",
    "\n",
    "Boolean expressions are important because your code can use these expressions to decide which block of code to execute.\n",
    "\n",
    "There are many different types of operators that you can use within a Boolean expression. For example, the if statement above uses the equality operator == to check whether a single variable is assigned a particular value. The operator that you choose will depend on the available code paths, the conditions associated with the paths, and the underlying application logic.\n",
    "\n",
    "## Evaluating equality and inequality\n",
    "\n",
    "One of the most common code evaluations is"
   ]
  },
  {
   "cell_type": "code",
   "execution_count": null,
   "id": "266195a3",
   "metadata": {},
   "outputs": [],
   "source": []
  }
 ],
 "metadata": {
  "kernelspec": {
   "display_name": ".NET (C#)",
   "language": "C#",
   "name": ".net-csharp"
  },
  "language_info": {
   "file_extension": ".cs",
   "mimetype": "text/x-csharp",
   "name": "C#",
   "pygments_lexer": "csharp",
   "version": "8.0"
  }
 },
 "nbformat": 4,
 "nbformat_minor": 5
}
