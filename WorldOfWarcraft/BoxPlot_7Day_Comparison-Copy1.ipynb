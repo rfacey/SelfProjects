{
 "cells": [
  {
   "cell_type": "code",
   "execution_count": 1,
   "metadata": {},
   "outputs": [],
   "source": [
    "import numpy as np\n",
    "import pandas as pd\n",
    "import matplotlib.pyplot as plt\n",
    "from datetime import datetime, date, time, timedelta\n",
    "plt.style.use('fivethirtyeight')"
   ]
  },
  {
   "cell_type": "code",
   "execution_count": 2,
   "metadata": {},
   "outputs": [],
   "source": [
    "imported_dataEaster = []\n",
    "auctionTableEaster = []\n",
    "expandedAuctionEaster = []\n",
    "uniqueTimeEaster = []\n",
    "uniqueTimeDayEaster = []\n",
    "uniqueTimeDateEaster = []\n",
    "\n",
    "feastCostEaster = [[],[],[],[],[],[],[]]\n",
    "#ribsCost = [[],[],[],[],[],[],[]]\n",
    "#haunchCost = [[],[],[],[],[],[],[]]\n",
    "#pikeCost = [[],[],[],[],[],[],[]]\n",
    "#piranhaCost = [[],[],[],[],[],[],[]]\n",
    "#thadeCost = [[],[],[],[],[],[],[]]\n",
    "\n",
    "allFeastsEaster = []\n",
    "statsDailyEaster = [[],[],[],[],[],[],[]]\n",
    "\n",
    "with open(\"WarcraftAuctionData.txt\", \"r\") as data_file:\n",
    "    for row in data_file:\n",
    "        tempRow = row.strip()\n",
    "        tempRow = tempRow.split(\",\")\n",
    "        imported_dataEaster.append(list(tempRow))\n",
    "\n",
    "# Adding a weekend flag since most feasts are used in raids and people raid on weekends\n",
    "        \n",
    "weekendList = ['Friday','Saturday','Sunday']\n",
    "\n",
    "# Narrow the data to one week, from yesterday to a week ago from yesterday\n",
    "weekBeginEaster = datetime.strptime('03/29/2021', '%m/%d/%Y').date()\n",
    "weekEndEaster = datetime.strptime('04/04/2021', '%m/%d/%Y').date()\n",
    "\n",
    "# Formatting the ints back to int and concatenating the date and time back to datetime\n",
    "\n",
    "for row in range(0, len(imported_dataEaster)):\n",
    "    imported_dataEaster[row][4] = int(imported_dataEaster[row][4])\n",
    "    imported_dataEaster[row][5] = int(imported_dataEaster[row][5])\n",
    "    imported_dataEaster[row][7] = datetime.combine(datetime.strptime(imported_dataEaster[row][6], '%x').date(),datetime.strptime(imported_dataEaster[row][7], '%X').time())\n",
    "    if imported_dataEaster[row][8] in weekendList:\n",
    "        imported_dataEaster[row][9] = 1\n",
    "    else:\n",
    "        imported_dataEaster[row][9] = 0\n",
    "    del imported_dataEaster[row][6]\n",
    "    del imported_dataEaster[row][3]\n",
    "    del imported_dataEaster[row][1]\n",
    "\n",
    "# Get distinct day and datetime lists. Used for time series\n",
    "\n",
    "for row in range(0, len(imported_dataEaster)):\n",
    "    if imported_dataEaster[row][4] not in uniqueTimeEaster and imported_dataEaster[row][4].date() >= weekBeginEaster and imported_dataEaster[row][4].date() <= weekEndEaster:\n",
    "        uniqueTimeEaster.append(imported_dataEaster[row][4])\n",
    "    if imported_dataEaster[row][5] not in uniqueTimeDayEaster and imported_dataEaster[row][4].date() >= weekBeginEaster and imported_dataEaster[row][4].date() <= weekEndEaster:\n",
    "        uniqueTimeDayEaster.append(imported_dataEaster[row][5])\n",
    "    if imported_dataEaster[row][4].date() not in uniqueTimeDateEaster and imported_dataEaster[row][4].date() >= weekBeginEaster and imported_dataEaster[row][4].date() <= weekEndEaster:\n",
    "        uniqueTimeDateEaster.append(imported_dataEaster[row][4].date())\n",
    "\n",
    "# Change the format of the auctions to be one auction per row. Each item has its own list\n",
    "    \n",
    "for row in range(0, len(imported_dataEaster)):\n",
    "    iterations = imported_dataEaster[row][2]\n",
    "    if imported_dataEaster[row][4].date() >= weekBeginEaster and imported_dataEaster[row][4].date() <= weekEndEaster:\n",
    "        for numbers in range(0, iterations):\n",
    "            if imported_dataEaster[row][1] == 'Feast of Gluttonous Hedonism':\n",
    "                feastCostEaster[uniqueTimeDateEaster.index(imported_dataEaster[row][4].date())].append(imported_dataEaster[row][3]/10000)\n",
    "#            if imported_data[row][1] == 'Tenebrous Ribs':\n",
    "#                ribsCost[uniqueTimeDate.index(imported_data[row][4].date())].append(imported_data[row][3])\n",
    "#            if imported_data[row][1] == 'Phantasmal Haunch':\n",
    "#                haunchCost[uniqueTimeDate.index(imported_data[row][4].date())].append(imported_data[row][3])\n",
    "#            if imported_data[row][1] == 'Silvergill Pike':\n",
    "#                pikeCost[uniqueTimeDate.index(imported_data[row][4].date())].append(imported_data[row][3])\n",
    "#            if imported_data[row][1] == 'Spinefin Piranha':\n",
    "#                piranhaCost[uniqueTimeDate.index(imported_data[row][4].date())].append(imported_data[row][3])\n",
    "#            if imported_data[row][1] == 'Elysian Thade':\n",
    "#                thadeCost[uniqueTimeDate.index(imported_data[row][4].date())].append(imported_data[row][3])\n",
    "                allFeasts.append(imported_data[row][3]/10000)\n",
    "for day in range(0, len(feastCost)):\n",
    "    statsDaily[day].append(np.percentile(feastCost[day],25))\n",
    "    statsDaily[day].append(np.percentile(feastCost[day],50))\n",
    "    statsDaily[day].append(np.percentile(feastCost[day],75))"
   ]
  },
  {
   "cell_type": "code",
   "execution_count": 3,
   "metadata": {},
   "outputs": [],
   "source": [
    "imported_dataOld = []\n",
    "auctionTableOld = []\n",
    "expandedAuctionOld = []\n",
    "uniqueTimeOld = []\n",
    "uniqueTimeDayOld = []\n",
    "uniqueTimeDateOld = []\n",
    "\n",
    "feastCostOld = [[],[],[],[],[],[],[]]\n",
    "#ribsCost = [[],[],[],[],[],[],[]]\n",
    "#haunchCost = [[],[],[],[],[],[],[]]\n",
    "#pikeCost = [[],[],[],[],[],[],[]]\n",
    "#piranhaCost = [[],[],[],[],[],[],[]]\n",
    "#thadeCost = [[],[],[],[],[],[],[]]\n",
    "\n",
    "allFeastsOld = []\n",
    "statsDailyOld = [[],[],[],[],[],[],[]]\n",
    "\n",
    "with open(\"data_old.txt\", \"r\") as data_file:\n",
    "    for row in data_file:\n",
    "        tempRow = row.strip()\n",
    "        tempRow = tempRow.split(\",\")\n",
    "        imported_dataOld.append(list(tempRow))\n",
    "\n",
    "\n",
    "# Narrow the data to one week, from yesterday to a week ago from yesterday\n",
    "weekBeginOld = datetime.strptime('03/01/2021', '%m/%d/%Y').date()\n",
    "weekEndOld = datetime.strptime('03/07/2021', '%m/%d/%Y').date()\n",
    "\n",
    "# Formatting the ints back to int and concatenating the date and time back to datetime\n",
    "\n",
    "for row in range(0, len(imported_dataOld)):\n",
    "    imported_dataOld[row][4] = int(imported_dataOld[row][4])\n",
    "    imported_dataOld[row][5] = int(imported_dataOld[row][5])\n",
    "    imported_dataOld[row][7] = datetime.combine(datetime.strptime(imported_dataOld[row][6], '%x').date(),datetime.strptime(imported_dataOld[row][7], '%X').time())\n",
    "    if imported_dataOld[row][8] in weekendList:\n",
    "        imported_dataOld[row][9] = 1\n",
    "    else:\n",
    "        imported_dataOld[row][9] = 0\n",
    "    del imported_dataOld[row][6]\n",
    "    del imported_dataOld[row][3]\n",
    "    del imported_dataOld[row][1]\n",
    "\n",
    "# Get distinct day and datetime lists. Used for time series\n",
    "\n",
    "for row in range(0, len(imported_dataOld)):\n",
    "    if imported_dataOld[row][4] not in uniqueTimeOld and imported_dataOld[row][4].date() >= weekBeginOld and imported_dataOld[row][4].date() <= weekEndOld:\n",
    "        uniqueTimeOld.append(imported_dataOld[row][4])\n",
    "    if imported_dataOld[row][5] not in uniqueTimeDayOld and imported_dataOld[row][4].date() >= weekBeginOld and imported_dataOld[row][4].date() <= weekEndOld:\n",
    "        uniqueTimeDayOld.append(imported_dataOld[row][5])\n",
    "    if imported_dataOld[row][4].date() not in uniqueTimeDateOld and imported_dataOld[row][4].date() >= weekBeginOld and imported_dataOld[row][4].date() <= weekEndOld:\n",
    "        uniqueTimeDateOld.append(imported_dataOld[row][4].date())\n",
    "\n",
    "# Change the format of the auctions to be one auction per row. Each item has its own list\n",
    "    \n",
    "for row in range(0, len(imported_dataOld)):\n",
    "    iterations = imported_dataOld[row][2]\n",
    "    if imported_dataOld[row][4].date() >= weekBeginOld and imported_dataOld[row][4].date() <= weekEndOld:\n",
    "        for numbers in range(0, iterations):\n",
    "            if imported_dataOld[row][1] == 'Feast of Gluttonous Hedonism':\n",
    "                feastCostOld[uniqueTimeDateOld.index(imported_dataOld[row][4].date())].append(imported_dataOld[row][3]/10000)\n",
    "#            if imported_data[row][1] == 'Tenebrous Ribs':\n",
    "#                ribsCost[uniqueTimeDate.index(imported_data[row][4].date())].append(imported_data[row][3])\n",
    "#            if imported_data[row][1] == 'Phantasmal Haunch':\n",
    "#                haunchCost[uniqueTimeDate.index(imported_data[row][4].date())].append(imported_data[row][3])\n",
    "#            if imported_data[row][1] == 'Silvergill Pike':\n",
    "#                pikeCost[uniqueTimeDate.index(imported_data[row][4].date())].append(imported_data[row][3])\n",
    "#            if imported_data[row][1] == 'Spinefin Piranha':\n",
    "#                piranhaCost[uniqueTimeDate.index(imported_data[row][4].date())].append(imported_data[row][3])\n",
    "#            if imported_data[row][1] == 'Elysian Thade':\n",
    "#                thadeCost[uniqueTimeDate.index(imported_data[row][4].date())].append(imported_data[row][3])\n",
    "                allFeastsOld.append(imported_dataOld[row][3]/10000)\n",
    "for day in range(0, len(feastCostOld)):\n",
    "    statsDailyOld[day].append(np.percentile(feastCostOld[day],25))\n",
    "    statsDailyOld[day].append(np.percentile(feastCostOld[day],50))\n",
    "    statsDailyOld[day].append(np.percentile(feastCostOld[day],75))"
   ]
  },
  {
   "cell_type": "code",
   "execution_count": 4,
   "metadata": {
    "scrolled": true
   },
   "outputs": [
    {
     "data": {
      "text/plain": [
       "[datetime.date(2021, 3, 1),\n",
       " datetime.date(2021, 3, 2),\n",
       " datetime.date(2021, 3, 3),\n",
       " datetime.date(2021, 3, 4),\n",
       " datetime.date(2021, 3, 5),\n",
       " datetime.date(2021, 3, 6),\n",
       " datetime.date(2021, 3, 7)]"
      ]
     },
     "execution_count": 4,
     "metadata": {},
     "output_type": "execute_result"
    }
   ],
   "source": [
    "uniqueTimeDateOld"
   ]
  },
  {
   "cell_type": "code",
   "execution_count": 5,
   "metadata": {},
   "outputs": [
    {
     "data": {
      "text/plain": [
       "[[1550.66, 1580.67, 1580.68],\n",
       " [1535.15, 1535.15, 1535.15],\n",
       " [1500.12, 1500.12, 1500.12],\n",
       " [1800.0, 1800.0, 1800.0],\n",
       " [2480.0, 2480.0, 2700.0],\n",
       " [2000.0, 2399.0, 2480.0],\n",
       " [1990.0, 2500.0, 2500.0]]"
      ]
     },
     "execution_count": 5,
     "metadata": {},
     "output_type": "execute_result"
    }
   ],
   "source": [
    "statsDailyOld"
   ]
  },
  {
   "cell_type": "code",
   "execution_count": 141,
   "metadata": {},
   "outputs": [
    {
     "data": {
      "text/plain": [
       "2700.0"
      ]
     },
     "execution_count": 141,
     "metadata": {},
     "output_type": "execute_result"
    }
   ],
   "source": [
    "np.max(np.max(statsDailyOld))"
   ]
  },
  {
   "cell_type": "code",
   "execution_count": 142,
   "metadata": {},
   "outputs": [
    {
     "data": {
      "text/plain": [
       "1920.0"
      ]
     },
     "execution_count": 142,
     "metadata": {},
     "output_type": "execute_result"
    }
   ],
   "source": [
    "np.min(np.max(feastCostOld))"
   ]
  },
  {
   "cell_type": "code",
   "execution_count": 143,
   "metadata": {},
   "outputs": [],
   "source": [
    "df = pd.DataFrame(statsDailyOld)"
   ]
  },
  {
   "cell_type": "code",
   "execution_count": 144,
   "metadata": {},
   "outputs": [
    {
     "data": {
      "text/plain": [
       "1500.12"
      ]
     },
     "execution_count": 144,
     "metadata": {},
     "output_type": "execute_result"
    }
   ],
   "source": [
    "#Lowest median\n",
    "df[1].min()"
   ]
  },
  {
   "cell_type": "code",
   "execution_count": 145,
   "metadata": {},
   "outputs": [
    {
     "data": {
      "text/plain": [
       "2500.0"
      ]
     },
     "execution_count": 145,
     "metadata": {},
     "output_type": "execute_result"
    }
   ],
   "source": [
    "#Highest median\n",
    "df[1].max()"
   ]
  },
  {
   "cell_type": "code",
   "execution_count": 7,
   "metadata": {},
   "outputs": [
    {
     "data": {
      "image/png": "[encoded data removed]",
      "text/plain": [
       "<Figure size 1440x720 with 2 Axes>"
      ]
     },
     "metadata": {},
     "output_type": "display_data"
    }
   ],
   "source": [
    "#https://matplotlib.org/stable/gallery/statistics/boxplot_color.html\n",
    "#https://matplotlib.org/2.0.0/examples/pylab_examples/boxplot_demo2.html\n",
    "\n",
    "fig, (ax1, ax2) = plt.subplots(nrows=1, ncols=2, figsize=(20, 10))\n",
    "fig.canvas.set_window_title('A Boxplot Example')\n",
    "fig.subplots_adjust(left=0.075, right=0.95, top=0.9, bottom=0.25)\n",
    "fig.set_facecolor('white')\n",
    "\n",
    "bp1 = ax1.boxplot(feastCostOld, \n",
    "                 notch=False, \n",
    "                 sym='+', \n",
    "                 vert=1, \n",
    "                 whis=1.5, \n",
    "                 patch_artist=True,\n",
    "                 boxprops=dict(facecolor = 'lightblue', edgecolor='black'),\n",
    "                 labels = uniqueTimeDayOld)\n",
    "\n",
    "\n",
    "# Add a horizontal grid to the plot, but make it very light in color\n",
    "# so we can use it for reading data values but not be distracting\n",
    "ax1.yaxis.grid(True, linestyle='-', which='major', color='lightgrey', alpha=0.5)\n",
    "\n",
    "# Hide these grid behind plot objects\n",
    "ax1.set_axisbelow(True)\n",
    "ax1.set_title('Normal Weekend Cost ('+ str(weekBeginOld)[-5:-3] + '/' + str(weekBeginOld)[-2:] + ' - ' + str(weekEndOld)[-5:-3] + '/' + str(weekEndOld)[-2:] + ')')\n",
    "ax1.set_xlabel('Day of the Week')\n",
    "ax1.set_ylabel('Price (GP)')\n",
    "ax1.set_facecolor('white')\n",
    "ax1.set(ylim=(1250, 3250))\n",
    "\n",
    "bp2 = ax2.boxplot(feastCost, \n",
    "                 notch=False, \n",
    "                 sym='+', \n",
    "                 vert=1, \n",
    "                 whis=1.5, \n",
    "                 patch_artist=True,\n",
    "                 boxprops=dict(facecolor = 'lightblue', edgecolor='black'),\n",
    "                 labels = uniqueTimeDay)\n",
    "\n",
    "\n",
    "# Add a horizontal grid to the plot, but make it very light in color\n",
    "# so we can use it for reading data values but not be distracting\n",
    "ax2.yaxis.grid(True, linestyle='-', which='major', color='lightgrey', alpha=0.5)\n",
    "\n",
    "# Hide these grid behind plot objects\n",
    "ax2.set_axisbelow(True)\n",
    "ax2.set_title('Easter Weekend Cost ('+ str(weekBegin)[-5:-3] + '/' + str(weekBegin)[-2:] + ' - ' + str(weekEnd)[-5:-3] + '/' + str(weekEnd)[-2:] + ')')\n",
    "ax2.set_xlabel('Day of the Week')\n",
    "ax2.set_ylabel('Price (GP)')\n",
    "ax2.set_facecolor('white')\n",
    "ax2.set(ylim=(1250,3250))\n",
    "\n",
    "plt.show()"
   ]
  },
  {
   "cell_type": "code",
   "execution_count": 147,
   "metadata": {},
   "outputs": [
    {
     "data": {
      "text/plain": [
       "81822"
      ]
     },
     "execution_count": 147,
     "metadata": {},
     "output_type": "execute_result"
    }
   ],
   "source": [
    "len(allFeastsOld)"
   ]
  },
  {
   "cell_type": "code",
   "execution_count": 148,
   "metadata": {},
   "outputs": [
    {
     "data": {
      "text/plain": [
       "140659"
      ]
     },
     "execution_count": 148,
     "metadata": {},
     "output_type": "execute_result"
    }
   ],
   "source": [
    "len(allFeasts)"
   ]
  },
  {
   "cell_type": "code",
   "execution_count": null,
   "metadata": {},
   "outputs": [],
   "source": []
  }
 ],
 "metadata": {
  "kernelspec": {
   "display_name": "Python 3",
   "language": "python",
   "name": "python3"
  },
  "language_info": {
   "codemirror_mode": {
    "name": "ipython",
    "version": 3
   },
   "file_extension": ".py",
   "mimetype": "text/x-python",
   "name": "python",
   "nbconvert_exporter": "python",
   "pygments_lexer": "ipython3",
   "version": "3.8.3"
  }
 },
 "nbformat": 4,
 "nbformat_minor": 2
}
