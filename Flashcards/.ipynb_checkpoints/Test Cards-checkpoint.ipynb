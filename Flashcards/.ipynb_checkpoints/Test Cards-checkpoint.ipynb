{
 "cells": [
  {
   "cell_type": "markdown",
   "id": "b9fd4adf",
   "metadata": {},
   "source": [
    "Source: https://realpython.com/python-gui-tkinter/"
   ]
  },
  {
   "cell_type": "code",
   "execution_count": 9,
   "id": "c68a2e02",
   "metadata": {},
   "outputs": [],
   "source": [
    "#import tkinter module\n",
    "import tkinter as tk\n",
    "\n",
    "#create window\n",
    "window = tk.Tk()\n",
    "\n",
    "#provide size to window\n",
    "window.geometry(\"300x300\")\n",
    "\n",
    "#add text label\n",
    "mainWindow = tk.Label(text=\"Hello from Educative !!!\")\n",
    "\n",
    "#\"pack()\" adds the Label widget to the window\n",
    "mainWindow.pack()\n",
    "\n",
    "# tell Python to run the Tkinter event loop\n",
    "window.mainloop()"
   ]
  },
  {
   "cell_type": "code",
   "execution_count": 10,
   "id": "6f5938c4",
   "metadata": {},
   "outputs": [],
   "source": [
    "#import tkinter module\n",
    "import tkinter as tk\n",
    "\n",
    "#create window\n",
    "window = tk.Tk()\n",
    "\n",
    "#provide size to window\n",
    "window.geometry(\"300x300\")\n",
    "\n",
    "#add text label\n",
    "Label = tk.Label(\n",
    "    text=\"Hello, Tkinter\",\n",
    "    foreground=\"white\",  # Set the text color to white\n",
    "    background=\"black\"  # Set the background color to black\n",
    ")\n",
    "\n",
    "#\"pack()\" adds the Label widget to the window\n",
    "Label.pack()\n",
    "\n",
    "# tell Python to run the Tkinter event loop\n",
    "window.mainloop()"
   ]
  },
  {
   "cell_type": "code",
   "execution_count": 11,
   "id": "0aa23012",
   "metadata": {},
   "outputs": [],
   "source": [
    "#import tkinter module\n",
    "import tkinter as tk\n",
    "\n",
    "#create window\n",
    "window = tk.Tk()\n",
    "\n",
    "#provide size to window\n",
    "window.geometry(\"300x300\")\n",
    "\n",
    "#add text label; specify a color using hexadecimal RGB values:\n",
    "Label = tk.Label(text=\"Hello, Tkinter\", background=\"#34A2FE\")\n",
    "\n",
    "#\"pack()\" adds the Label widget to the window\n",
    "Label.pack()\n",
    "\n",
    "# tell Python to run the Tkinter event loop\n",
    "window.mainloop()"
   ]
  },
  {
   "cell_type": "code",
   "execution_count": 12,
   "id": "9e9584d0",
   "metadata": {},
   "outputs": [],
   "source": [
    "#import tkinter module\n",
    "import tkinter as tk\n",
    "\n",
    "#create window\n",
    "window = tk.Tk()\n",
    "\n",
    "#provide size to window\n",
    "window.geometry(\"300x300\")\n",
    "\n",
    "#add text label; specify a color using hexadecimal RGB values:\n",
    "Label = tk.Label(\n",
    "    text=\"Hello, Tkinter\",\n",
    "    fg=\"white\",\n",
    "    bg=\"black\",\n",
    "    width=10,\n",
    "    height=10\n",
    ")\n",
    "\n",
    "#\"pack()\" adds the Label widget to the window\n",
    "Label.pack()\n",
    "\n",
    "# tell Python to run the Tkinter event loop\n",
    "window.mainloop()"
   ]
  },
  {
   "cell_type": "code",
   "execution_count": 14,
   "id": "f8867130",
   "metadata": {},
   "outputs": [],
   "source": [
    "#import tkinter module\n",
    "import tkinter as tk\n",
    "\n",
    "#create window\n",
    "window = tk.Tk()\n",
    "\n",
    "#button widgets are used to display clickable buttons\n",
    "button = tk.Button(\n",
    "    text=\"Click me!\",\n",
    "    width=25,\n",
    "    height=5,\n",
    "    bg=\"blue\",\n",
    "    fg=\"yellow\",\n",
    ")\n",
    "\n",
    "#\"pack()\" adds the Label widget to the window\n",
    "button.pack()\n",
    "\n",
    "# tell Python to run the Tkinter event loop\n",
    "window.mainloop()"
   ]
  },
  {
   "cell_type": "code",
   "execution_count": 15,
   "id": "65771807",
   "metadata": {},
   "outputs": [],
   "source": [
    "import tkinter as tk\n",
    "window = tk.Tk()\n",
    "\n",
    "label = tk.Label(text=\"Name\")\n",
    "entry = tk.Entry()\n",
    "\n",
    "label.pack()\n",
    "entry.pack()\n",
    "\n",
    "# tell Python to run the Tkinter event loop\n",
    "window.mainloop()"
   ]
  },
  {
   "cell_type": "code",
   "execution_count": null,
   "id": "b1c69c6d",
   "metadata": {},
   "outputs": [],
   "source": []
  }
 ],
 "metadata": {
  "kernelspec": {
   "display_name": "Python 3 (ipykernel)",
   "language": "python",
   "name": "python3"
  },
  "language_info": {
   "codemirror_mode": {
    "name": "ipython",
    "version": 3
   },
   "file_extension": ".py",
   "mimetype": "text/x-python",
   "name": "python",
   "nbconvert_exporter": "python",
   "pygments_lexer": "ipython3",
   "version": "3.9.13"
  }
 },
 "nbformat": 4,
 "nbformat_minor": 5
}
