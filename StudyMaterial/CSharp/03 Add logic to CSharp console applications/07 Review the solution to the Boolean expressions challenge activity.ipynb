{
 "cells": [
  {
   "cell_type": "markdown",
   "id": "88a3d337",
   "metadata": {},
   "source": [
    "Source: https://learn.microsoft.com/en-us/training/modules/csharp-evaluate-boolean-expressions/7-solution-2"
   ]
  },
  {
   "cell_type": "markdown",
   "id": "a9922dbf",
   "metadata": {},
   "source": [
    "The following code is one possible solution for the challenge from the previous unit."
   ]
  },
  {
   "cell_type": "code",
   "execution_count": 2,
   "id": "06e94000",
   "metadata": {},
   "outputs": [
    {
     "name": "stdout",
     "output_type": "stream",
     "text": [
      "Welcome, Admin user.\r\n"
     ]
    }
   ],
   "source": [
    "string permission = \"Admin|Manager\";\n",
    "int level = 53;\n",
    "\n",
    "if (permission.Contains(\"Admin\"))\n",
    "{\n",
    "    if (level > 55)\n",
    "    {\n",
    "        Console.WriteLine(\"Welcome, Super Admin user.\");\n",
    "    }\n",
    "    else\n",
    "    {\n",
    "        Console.WriteLine(\"Welcome, Admin user.\");\n",
    "    }\n",
    "}\n",
    "else if (permission.Contains(\"Manager\"))\n",
    "{\n",
    "    if (level >= 20)\n",
    "    {\n",
    "        Console.WriteLine(\"Contact an Admin for access.\");\n",
    "    }\n",
    "    else\n",
    "    {\n",
    "        Console.WriteLine(\"You do not have sufficient privileges.\");\n",
    "    }\n",
    "}\n",
    "else\n",
    "{\n",
    "    Console.WriteLine(\"You do not have sufficient privileges.\");\n",
    "}"
   ]
  },
  {
   "cell_type": "markdown",
   "id": "dd313512",
   "metadata": {},
   "source": [
    "This code is merely \"*one possible solution*\" because in some cases it's possible to use different Boolean expressions to get the same result.\n",
    "\n",
    "If you were successful, congratulations! Continue on to the knowledge check in the next unit."
   ]
  }
 ],
 "metadata": {
  "kernelspec": {
   "display_name": ".NET (C#)",
   "language": "C#",
   "name": ".net-csharp"
  },
  "language_info": {
   "file_extension": ".cs",
   "mimetype": "text/x-csharp",
   "name": "C#",
   "pygments_lexer": "csharp",
   "version": "8.0"
  }
 },
 "nbformat": 4,
 "nbformat_minor": 5
}
