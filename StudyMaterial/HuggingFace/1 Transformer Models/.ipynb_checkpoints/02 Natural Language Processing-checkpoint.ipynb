{
 "cells": [
  {
   "cell_type": "markdown",
   "id": "78ee9a81-6bad-4245-9efb-41849f873b95",
   "metadata": {},
   "source": [
    "Source: https://huggingface.co/course/chapter1/2?fw=pt"
   ]
  },
  {
   "cell_type": "markdown",
   "id": "36b0c928-031c-4e0a-8491-0bd2107b9876",
   "metadata": {},
   "source": [
    "# Natural Language Processing\n",
    "\n",
    "Before jumping into Transformer models, let's do a quick overview of what natural language processing is and why we care about it.\n",
    "\n",
    "## What is NLP?\n",
    "\n",
    "NLP is a field of linguistics and machine learning focused on understanding everything related to human language. The aim of NLP tasks is not only to understand single words individually, but to be able to understand the context of those words.\n",
    "\n",
    "The following is a list of common NLP tasks, with some example of each:\n",
    "\n",
    "- **Classifying whole sentences**: Getting the sentiment of a review, detecting if an email is spam, determining if a sentence is grammatically correct or whether two sentences are logically related or not\n",
    "- **Classifying each word in a sentence**: Identifying the grammatical components of a sentence (noun, verb, adjective), or the named entities (person, location, organization)\n",
    "- **Generating text content**: Completing a prompt with auto-generated text, filling in the blanks in a text with masked words\n",
    "- **Extracting an answer from a text**: Given a question and a context, extracting the answer to the question based on the information provided in the context\n",
    "- **Generating a new sentence from an input text**: Translating a text into another language, summarizing a text\n",
    "\n",
    "NLP isn't limited to written text though. It also tackles complex challenges in speech recognition and computer vision, such as generating a transcript of an audio sample or a description of an image.\n",
    "\n",
    "## Why is it challenging?\n",
    "\n",
    "Computers don't process information in the same way as humans. For example, when we read the sentence \"I am hungry,\" we can easily understand its meaning. Similarly, given two sentences such as \"I am hungry\" and \"I am sad,\" we're able to easily determine how similar they are. For machine learning (ML) models, such tasks are more difficult. The text needs to be processed in a way that enables the model to learn from it. And because language is complex, we need to think carefully about how this processing must be done. There has been a lot of research done on how to represent text, and we will look at some methods in the next chapter."
   ]
  }
 ],
 "metadata": {
  "kernelspec": {
   "display_name": "Python 3 (ipykernel)",
   "language": "python",
   "name": "python3"
  },
  "language_info": {
   "codemirror_mode": {
    "name": "ipython",
    "version": 3
   },
   "file_extension": ".py",
   "mimetype": "text/x-python",
   "name": "python",
   "nbconvert_exporter": "python",
   "pygments_lexer": "ipython3",
   "version": "3.9.13"
  }
 },
 "nbformat": 4,
 "nbformat_minor": 5
}
