{
 "cells": [
  {
   "cell_type": "markdown",
   "id": "65a8e9b4",
   "metadata": {},
   "source": [
    "Source: https://learn.microsoft.com/en-us/training/modules/write-first-c-sharp-method/2-understand-syntax-of-methods"
   ]
  },
  {
   "cell_type": "markdown",
   "id": "b35f1905",
   "metadata": {},
   "source": [
    "# Understand the syntax of methods\n",
    "\n",
    "You may already be familiar with some methods, such as Console.WriteLine() or random.Next(). You might have appreciated how these methods simplify tasks and allow you to build your code more easily. In this unit, you'll learn how to create your own methods.\n",
    "\n",
    "## How methods work\n",
    "\n",
    "The process of developing a method begins with creating a method signature. The method signature declare the method's return type, name, and input parameters. For example, consider the following method signature:"
   ]
  },
  {
   "cell_type": "raw",
   "id": "ce01b8da",
   "metadata": {},
   "source": [
    "void SayHello();"
   ]
  },
  {
   "cell_type": "code",
   "execution_count": null,
   "id": "33b75b41",
   "metadata": {},
   "outputs": [],
   "source": []
  }
 ],
 "metadata": {
  "kernelspec": {
   "display_name": ".NET (C#)",
   "language": "C#",
   "name": ".net-csharp"
  },
  "language_info": {
   "file_extension": ".cs",
   "mimetype": "text/x-csharp",
   "name": "C#",
   "pygments_lexer": "csharp",
   "version": "8.0"
  }
 },
 "nbformat": 4,
 "nbformat_minor": 5
}
