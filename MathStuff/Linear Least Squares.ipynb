{
 "cells": [
  {
   "cell_type": "markdown",
   "metadata": {},
   "source": [
    "## 1. Create a new function to generate the data"
   ]
  },
  {
   "cell_type": "code",
   "execution_count": 12,
   "metadata": {},
   "outputs": [],
   "source": [
    "import numpy as np\n",
    "import matplotlib.pyplot as plt\n",
    "from numpy import linalg as LA\n",
    "\n",
    "n = 100\n",
    "rsize = 0.25\n",
    "xmin = 0\n",
    "xmax = 100\n",
    "x =np.sort(np.random.randint(low=xmin, high=xmax, size=(n,)))\n",
    "rnd = np.random.rand(n)* rsize \n",
    "\n",
    "coeff = np.random.rand(3)* [10,3,1]\n",
    "\n",
    "y = coeff[0] + coeff[1]*x + coeff[2]*x**2 + rnd"
   ]
  },
  {
   "cell_type": "code",
   "execution_count": 13,
   "metadata": {},
   "outputs": [
    {
     "data": {
      "text/plain": [
       "array([7.52476262, 2.32790498, 0.97266389])"
      ]
     },
     "execution_count": 13,
     "metadata": {},
     "output_type": "execute_result"
    }
   ],
   "source": [
    "coeff"
   ]
  },
  {
   "cell_type": "code",
   "execution_count": 14,
   "metadata": {},
   "outputs": [
    {
     "data": {
      "text/plain": [
       "array([ 0,  0,  2,  3,  3,  3,  5,  5,  5,  7,  7,  8, 10, 10, 10, 13, 13,\n",
       "       14, 15, 15, 17, 17, 17, 18, 18, 19, 19, 20, 21, 24, 24, 24, 26, 26,\n",
       "       26, 27, 29, 29, 29, 32, 32, 34, 34, 34, 35, 36, 37, 39, 39, 40, 40,\n",
       "       41, 43, 44, 44, 45, 45, 47, 47, 50, 51, 51, 53, 55, 57, 57, 59, 60,\n",
       "       61, 62, 62, 66, 66, 66, 67, 67, 70, 71, 73, 74, 78, 80, 81, 82, 83,\n",
       "       83, 85, 86, 86, 88, 89, 91, 92, 93, 93, 97, 98, 98, 98, 99])"
      ]
     },
     "execution_count": 14,
     "metadata": {},
     "output_type": "execute_result"
    }
   ],
   "source": [
    "x"
   ]
  },
  {
   "cell_type": "code",
   "execution_count": 15,
   "metadata": {},
   "outputs": [
    {
     "data": {
      "text/plain": [
       "array([7.76415460e+00, 7.67663711e+00, 1.62662411e+01, 2.33973620e+01,\n",
       "       2.34889777e+01, 2.33775867e+01, 4.35379064e+01, 4.36050179e+01,\n",
       "       4.36139082e+01, 7.15630799e+01, 7.16516068e+01, 8.85087696e+01,\n",
       "       1.28112044e+02, 1.28291903e+02, 1.28267971e+02, 2.02225787e+02,\n",
       "       2.02305470e+02, 2.31001744e+02, 2.61397681e+02, 2.61424400e+02,\n",
       "       3.28438419e+02, 3.28303185e+02, 3.28307356e+02, 3.64707874e+02,\n",
       "       3.64810873e+02, 4.02971283e+02, 4.02955083e+02, 4.43258225e+02,\n",
       "       4.85382781e+02, 6.23799322e+02, 6.23668741e+02, 6.23751679e+02,\n",
       "       7.25751010e+02, 7.25603797e+02, 7.25715500e+02, 7.79562123e+02,\n",
       "       8.93133503e+02, 8.93107144e+02, 8.93059629e+02, 1.07817456e+03,\n",
       "       1.07805206e+03, 1.21110491e+03, 1.21112691e+03, 1.21126299e+03,\n",
       "       1.28071741e+03, 1.35194949e+03, 1.42540980e+03, 1.57778114e+03,\n",
       "       1.57795950e+03, 1.65708194e+03, 1.65706471e+03, 1.73820954e+03,\n",
       "       1.90631357e+03, 1.99319886e+03, 1.99321877e+03, 2.08198133e+03,\n",
       "       2.08213231e+03, 2.26563930e+03, 2.26570246e+03, 2.55581498e+03,\n",
       "       2.65616844e+03, 2.65622405e+03, 2.86321591e+03, 3.07805148e+03,\n",
       "       3.30048926e+03, 3.30044454e+03, 3.53085326e+03, 3.64897123e+03,\n",
       "       3.76895691e+03, 3.89095021e+03, 3.89089698e+03, 4.39833237e+03,\n",
       "       4.39828197e+03, 4.39823751e+03, 4.53001775e+03, 4.52996316e+03,\n",
       "       4.93668792e+03, 5.07622074e+03, 5.36096844e+03, 5.50626839e+03,\n",
       "       6.10685051e+03, 6.41883415e+03, 6.57786519e+03, 6.73862698e+03,\n",
       "       6.90145916e+03, 6.90147197e+03, 7.23306307e+03, 7.40173112e+03,\n",
       "       7.40178074e+03, 7.74487136e+03, 7.91934059e+03, 8.27417866e+03,\n",
       "       8.45442071e+03, 8.63681253e+03, 8.63664440e+03, 9.38523037e+03,\n",
       "       9.57726427e+03, 9.57734127e+03, 9.57713116e+03, 9.77118957e+03])"
      ]
     },
     "execution_count": 15,
     "metadata": {},
     "output_type": "execute_result"
    }
   ],
   "source": [
    "y"
   ]
  },
  {
   "cell_type": "code",
   "execution_count": 16,
   "metadata": {},
   "outputs": [
    {
     "data": {
      "text/plain": [
       "100"
      ]
     },
     "execution_count": 16,
     "metadata": {},
     "output_type": "execute_result"
    }
   ],
   "source": [
    "len(x)"
   ]
  },
  {
   "cell_type": "markdown",
   "metadata": {},
   "source": [
    "## 2. Put data into linear algebra form"
   ]
  },
  {
   "cell_type": "code",
   "execution_count": 17,
   "metadata": {},
   "outputs": [],
   "source": [
    "A = np.zeros((n,3),dtype=np.float32)  #3 makes it a quadradic fit\n",
    "            \n",
    "for i in range(n):    \n",
    "    A[i,0] = 1\n",
    "    A[i,1]= x[i]\n",
    "    A[i,2] = x[i] * x[i]"
   ]
  },
  {
   "cell_type": "markdown",
   "metadata": {},
   "source": [
    "## 3. Use QR factorization to solve the linear system"
   ]
  },
  {
   "cell_type": "code",
   "execution_count": 18,
   "metadata": {},
   "outputs": [],
   "source": [
    "def column_convertor(x):\n",
    "    x.shape = (1, x.shape[0])\n",
    "    return x\n",
    "\n",
    "def householder_transformation(v):\n",
    "    size_of_v = v.shape[1]\n",
    "    e1 = np.zeros_like(v)             #Makes an array the same dim as v with zeros\n",
    "    e1[0, 0] = 1                      #Changes the first value to 1\n",
    "    vector = LA.norm(v) * e1\n",
    "    if v[0, 0] < 0:\n",
    "        vector = - vector\n",
    "    u = (v + vector).astype(np.float32)\n",
    "    H = np.identity(size_of_v) - ((2 * np.matmul(np.transpose(u), u)) / np.matmul(u, np.transpose(u)))\n",
    "    return H\n",
    "\n",
    "def qr_factorization(q, r, iter, n):  #Math stuff. Self note: DO NOT CHANGE!!!\n",
    "    v = column_convertor(r[iter:, iter])\n",
    "    Hbar = householder_transformation(v)\n",
    "    H = np.identity(n)\n",
    "    H[iter:, iter:] = Hbar\n",
    "    r = np.matmul(H, r)\n",
    "    q = np.matmul(q, H)\n",
    "    return q, r\n",
    "\n",
    "def myMatrix(A):\n",
    "    n = len(A)\n",
    "    m = len(A[0])\n",
    "    \n",
    "    true_min = min(n, m)                #Determine the number of iterations needed and used for trimming\n",
    "    true_max = max(n, m)                #Used later for trimming\n",
    "    \n",
    "    Q = np.identity(n)\n",
    "    R = A.astype(np.float32)\n",
    "    \n",
    "    for i in range(true_min):\n",
    "        Q, R = qr_factorization(Q, R, i, n)\n",
    "    \n",
    "    if n == m:                          #Trim the matrices if they are too long\n",
    "        R = R[:true_min, :true_min]\n",
    "    elif n > m:\n",
    "        Q = Q[:true_max, :true_min]\n",
    "        R = R[:true_min, :true_min]\n",
    "    else:\n",
    "        R = R[:true_min, :true_max]\n",
    "    \n",
    "    R = np.round(R, decimals=6)         #Clean up R for decimals\n",
    "    \n",
    "    Q = np.round(Q, decimals=6)         #Clean up Q for decimals\n",
    "    \n",
    "    return Q, R"
   ]
  },
  {
   "cell_type": "code",
   "execution_count": 19,
   "metadata": {},
   "outputs": [],
   "source": [
    "Q, R = myMatrix(A)"
   ]
  },
  {
   "cell_type": "code",
   "execution_count": 20,
   "metadata": {},
   "outputs": [],
   "source": [
    "Qy = np.matmul(np.matrix.transpose(Q) ,y)"
   ]
  },
  {
   "cell_type": "code",
   "execution_count": 21,
   "metadata": {},
   "outputs": [],
   "source": [
    "coeffScratch = np.linalg.solve(R,Qy)"
   ]
  },
  {
   "cell_type": "markdown",
   "metadata": {},
   "source": [
    "## Compare your results"
   ]
  },
  {
   "cell_type": "code",
   "execution_count": 22,
   "metadata": {},
   "outputs": [],
   "source": [
    "q,r =np.linalg.qr(A)"
   ]
  },
  {
   "cell_type": "code",
   "execution_count": 23,
   "metadata": {},
   "outputs": [
    {
     "data": {
      "text/plain": [
       "array([[1.000e+00, 0.000e+00, 0.000e+00],\n",
       "       [1.000e+00, 0.000e+00, 0.000e+00],\n",
       "       [1.000e+00, 2.000e+00, 4.000e+00],\n",
       "       [1.000e+00, 3.000e+00, 9.000e+00],\n",
       "       [1.000e+00, 3.000e+00, 9.000e+00],\n",
       "       [1.000e+00, 3.000e+00, 9.000e+00],\n",
       "       [1.000e+00, 5.000e+00, 2.500e+01],\n",
       "       [1.000e+00, 5.000e+00, 2.500e+01],\n",
       "       [1.000e+00, 5.000e+00, 2.500e+01],\n",
       "       [1.000e+00, 7.000e+00, 4.900e+01],\n",
       "       [1.000e+00, 7.000e+00, 4.900e+01],\n",
       "       [1.000e+00, 8.000e+00, 6.400e+01],\n",
       "       [1.000e+00, 1.000e+01, 1.000e+02],\n",
       "       [1.000e+00, 1.000e+01, 1.000e+02],\n",
       "       [1.000e+00, 1.000e+01, 1.000e+02],\n",
       "       [1.000e+00, 1.300e+01, 1.690e+02],\n",
       "       [1.000e+00, 1.300e+01, 1.690e+02],\n",
       "       [1.000e+00, 1.400e+01, 1.960e+02],\n",
       "       [1.000e+00, 1.500e+01, 2.250e+02],\n",
       "       [1.000e+00, 1.500e+01, 2.250e+02],\n",
       "       [1.000e+00, 1.700e+01, 2.890e+02],\n",
       "       [1.000e+00, 1.700e+01, 2.890e+02],\n",
       "       [1.000e+00, 1.700e+01, 2.890e+02],\n",
       "       [1.000e+00, 1.800e+01, 3.240e+02],\n",
       "       [1.000e+00, 1.800e+01, 3.240e+02],\n",
       "       [1.000e+00, 1.900e+01, 3.610e+02],\n",
       "       [1.000e+00, 1.900e+01, 3.610e+02],\n",
       "       [1.000e+00, 2.000e+01, 4.000e+02],\n",
       "       [1.000e+00, 2.100e+01, 4.410e+02],\n",
       "       [1.000e+00, 2.400e+01, 5.760e+02],\n",
       "       [1.000e+00, 2.400e+01, 5.760e+02],\n",
       "       [1.000e+00, 2.400e+01, 5.760e+02],\n",
       "       [1.000e+00, 2.600e+01, 6.760e+02],\n",
       "       [1.000e+00, 2.600e+01, 6.760e+02],\n",
       "       [1.000e+00, 2.600e+01, 6.760e+02],\n",
       "       [1.000e+00, 2.700e+01, 7.290e+02],\n",
       "       [1.000e+00, 2.900e+01, 8.410e+02],\n",
       "       [1.000e+00, 2.900e+01, 8.410e+02],\n",
       "       [1.000e+00, 2.900e+01, 8.410e+02],\n",
       "       [1.000e+00, 3.200e+01, 1.024e+03],\n",
       "       [1.000e+00, 3.200e+01, 1.024e+03],\n",
       "       [1.000e+00, 3.400e+01, 1.156e+03],\n",
       "       [1.000e+00, 3.400e+01, 1.156e+03],\n",
       "       [1.000e+00, 3.400e+01, 1.156e+03],\n",
       "       [1.000e+00, 3.500e+01, 1.225e+03],\n",
       "       [1.000e+00, 3.600e+01, 1.296e+03],\n",
       "       [1.000e+00, 3.700e+01, 1.369e+03],\n",
       "       [1.000e+00, 3.900e+01, 1.521e+03],\n",
       "       [1.000e+00, 3.900e+01, 1.521e+03],\n",
       "       [1.000e+00, 4.000e+01, 1.600e+03],\n",
       "       [1.000e+00, 4.000e+01, 1.600e+03],\n",
       "       [1.000e+00, 4.100e+01, 1.681e+03],\n",
       "       [1.000e+00, 4.300e+01, 1.849e+03],\n",
       "       [1.000e+00, 4.400e+01, 1.936e+03],\n",
       "       [1.000e+00, 4.400e+01, 1.936e+03],\n",
       "       [1.000e+00, 4.500e+01, 2.025e+03],\n",
       "       [1.000e+00, 4.500e+01, 2.025e+03],\n",
       "       [1.000e+00, 4.700e+01, 2.209e+03],\n",
       "       [1.000e+00, 4.700e+01, 2.209e+03],\n",
       "       [1.000e+00, 5.000e+01, 2.500e+03],\n",
       "       [1.000e+00, 5.100e+01, 2.601e+03],\n",
       "       [1.000e+00, 5.100e+01, 2.601e+03],\n",
       "       [1.000e+00, 5.300e+01, 2.809e+03],\n",
       "       [1.000e+00, 5.500e+01, 3.025e+03],\n",
       "       [1.000e+00, 5.700e+01, 3.249e+03],\n",
       "       [1.000e+00, 5.700e+01, 3.249e+03],\n",
       "       [1.000e+00, 5.900e+01, 3.481e+03],\n",
       "       [1.000e+00, 6.000e+01, 3.600e+03],\n",
       "       [1.000e+00, 6.100e+01, 3.721e+03],\n",
       "       [1.000e+00, 6.200e+01, 3.844e+03],\n",
       "       [1.000e+00, 6.200e+01, 3.844e+03],\n",
       "       [1.000e+00, 6.600e+01, 4.356e+03],\n",
       "       [1.000e+00, 6.600e+01, 4.356e+03],\n",
       "       [1.000e+00, 6.600e+01, 4.356e+03],\n",
       "       [1.000e+00, 6.700e+01, 4.489e+03],\n",
       "       [1.000e+00, 6.700e+01, 4.489e+03],\n",
       "       [1.000e+00, 7.000e+01, 4.900e+03],\n",
       "       [1.000e+00, 7.100e+01, 5.041e+03],\n",
       "       [1.000e+00, 7.300e+01, 5.329e+03],\n",
       "       [1.000e+00, 7.400e+01, 5.476e+03],\n",
       "       [1.000e+00, 7.800e+01, 6.084e+03],\n",
       "       [1.000e+00, 8.000e+01, 6.400e+03],\n",
       "       [1.000e+00, 8.100e+01, 6.561e+03],\n",
       "       [1.000e+00, 8.200e+01, 6.724e+03],\n",
       "       [1.000e+00, 8.300e+01, 6.889e+03],\n",
       "       [1.000e+00, 8.300e+01, 6.889e+03],\n",
       "       [1.000e+00, 8.500e+01, 7.225e+03],\n",
       "       [1.000e+00, 8.600e+01, 7.396e+03],\n",
       "       [1.000e+00, 8.600e+01, 7.396e+03],\n",
       "       [1.000e+00, 8.800e+01, 7.744e+03],\n",
       "       [1.000e+00, 8.900e+01, 7.921e+03],\n",
       "       [1.000e+00, 9.100e+01, 8.281e+03],\n",
       "       [1.000e+00, 9.200e+01, 8.464e+03],\n",
       "       [1.000e+00, 9.300e+01, 8.649e+03],\n",
       "       [1.000e+00, 9.300e+01, 8.649e+03],\n",
       "       [1.000e+00, 9.700e+01, 9.409e+03],\n",
       "       [1.000e+00, 9.800e+01, 9.604e+03],\n",
       "       [1.000e+00, 9.800e+01, 9.604e+03],\n",
       "       [1.000e+00, 9.800e+01, 9.604e+03],\n",
       "       [1.000e+00, 9.900e+01, 9.801e+03]], dtype=float32)"
      ]
     },
     "execution_count": 23,
     "metadata": {},
     "output_type": "execute_result"
    }
   ],
   "source": [
    "A"
   ]
  },
  {
   "cell_type": "code",
   "execution_count": 24,
   "metadata": {},
   "outputs": [
    {
     "data": {
      "text/plain": [
       "array([[-0.1       , -0.15129775, -0.1953886 ],\n",
       "       [-0.1       , -0.15129775, -0.1953886 ],\n",
       "       [-0.1       , -0.14448868, -0.17050122],\n",
       "       [-0.1       , -0.14108413, -0.15844782],\n",
       "       [-0.1       , -0.14108413, -0.15844782],\n",
       "       [-0.1       , -0.14108413, -0.15844782],\n",
       "       [-0.1       , -0.13427505, -0.13512161],\n",
       "       [-0.1       , -0.13427505, -0.13512161],\n",
       "       [-0.1       , -0.13427505, -0.13512161],\n",
       "       [-0.1       , -0.12746598, -0.11283619],\n",
       "       [-0.1       , -0.12746598, -0.11283619],\n",
       "       [-0.1       , -0.12406144, -0.10208376],\n",
       "       [-0.1       , -0.11725235, -0.08135951],\n",
       "       [-0.1       , -0.11725235, -0.08135951],\n",
       "       [-0.1       , -0.11725235, -0.08135951],\n",
       "       [-0.1       , -0.10703874, -0.05222457],\n",
       "       [-0.1       , -0.10703874, -0.05222457],\n",
       "       [-0.1       , -0.10363419, -0.04303332],\n",
       "       [-0.1       , -0.10022965, -0.03410225],\n",
       "       [-0.1       , -0.10022965, -0.03410225],\n",
       "       [-0.1       , -0.09342057, -0.01702072],\n",
       "       [-0.1       , -0.09342057, -0.01702072],\n",
       "       [-0.1       , -0.09342057, -0.01702072],\n",
       "       [-0.1       , -0.09001604, -0.00887024],\n",
       "       [-0.1       , -0.09001604, -0.00887024],\n",
       "       [-0.1       , -0.08661149, -0.00097996],\n",
       "       [-0.1       , -0.08661149, -0.00097996],\n",
       "       [-0.1       , -0.08320695,  0.00665013],\n",
       "       [-0.1       , -0.07980242,  0.01402002],\n",
       "       [-0.1       , -0.0695888 ,  0.03456853],\n",
       "       [-0.1       , -0.0695888 ,  0.03456853],\n",
       "       [-0.1       , -0.0695888 ,  0.03456853],\n",
       "       [-0.1       , -0.06277972,  0.04696656],\n",
       "       [-0.1       , -0.06277972,  0.04696656],\n",
       "       [-0.1       , -0.06277972,  0.04696656],\n",
       "       [-0.1       , -0.05937517,  0.05277529],\n",
       "       [-0.1       , -0.0525661 ,  0.06361216],\n",
       "       [-0.1       , -0.0525661 ,  0.06361216],\n",
       "       [-0.1       , -0.0525661 ,  0.06361216],\n",
       "       [-0.1       , -0.04235248,  0.07791599],\n",
       "       [-0.1       , -0.04235248,  0.07791599],\n",
       "       [-0.1       , -0.0355434 ,  0.08615091],\n",
       "       [-0.1       , -0.0355434 ,  0.08615091],\n",
       "       [-0.1       , -0.0355434 ,  0.08615091],\n",
       "       [-0.1       , -0.03213886,  0.08987808],\n",
       "       [-0.1       , -0.02873432,  0.09334505],\n",
       "       [-0.1       , -0.02532978,  0.09655183],\n",
       "       [-0.1       , -0.0185207 ,  0.1021848 ],\n",
       "       [-0.1       , -0.0185207 ,  0.1021848 ],\n",
       "       [-0.1       , -0.01511616,  0.104611  ],\n",
       "       [-0.1       , -0.01511616,  0.104611  ],\n",
       "       [-0.1       , -0.01171162,  0.106777  ],\n",
       "       [-0.1       , -0.00490254,  0.11032841],\n",
       "       [-0.1       , -0.001498  ,  0.11171383],\n",
       "       [-0.1       , -0.001498  ,  0.11171383],\n",
       "       [-0.1       ,  0.00190654,  0.11283905],\n",
       "       [-0.1       ,  0.00190654,  0.11283905],\n",
       "       [-0.1       ,  0.00871562,  0.11430892],\n",
       "       [-0.1       ,  0.00871562,  0.11430892],\n",
       "       [-0.1       ,  0.01892924,  0.11456224],\n",
       "       [-0.1       ,  0.02233378,  0.11412629],\n",
       "       [-0.1       ,  0.02233378,  0.11412629],\n",
       "       [-0.1       ,  0.02914286,  0.11247382],\n",
       "       [-0.1       ,  0.03595194,  0.10978056],\n",
       "       [-0.1       ,  0.04276102,  0.10604654],\n",
       "       [-0.1       ,  0.04276102,  0.10604654],\n",
       "       [-0.1       ,  0.0495701 ,  0.10127172],\n",
       "       [-0.1       ,  0.05297464,  0.09849402],\n",
       "       [-0.1       ,  0.05637918,  0.09545613],\n",
       "       [-0.1       ,  0.05978372,  0.09215804],\n",
       "       [-0.1       ,  0.05978372,  0.09215804],\n",
       "       [-0.1       ,  0.07340188,  0.07636375],\n",
       "       [-0.1       ,  0.07340188,  0.07636375],\n",
       "       [-0.1       ,  0.07340188,  0.07636375],\n",
       "       [-0.1       ,  0.07680642,  0.07176469],\n",
       "       [-0.1       ,  0.07680642,  0.07176469],\n",
       "       [-0.1       ,  0.08702004,  0.05640635],\n",
       "       [-0.1       ,  0.09042457,  0.05076651],\n",
       "       [-0.1       ,  0.09723366,  0.03870624],\n",
       "       [-0.1       ,  0.1006382 ,  0.03228582],\n",
       "       [-0.1       ,  0.11425636,  0.00400219],\n",
       "       [-0.1       ,  0.12106544, -0.0117008 ],\n",
       "       [-0.1       ,  0.12446998, -0.01994258],\n",
       "       [-0.1       ,  0.12787452, -0.02844456],\n",
       "       [-0.1       ,  0.13127905, -0.03720674],\n",
       "       [-0.1       ,  0.13127905, -0.03720674],\n",
       "       [-0.1       ,  0.13808814, -0.05551167],\n",
       "       [-0.1       ,  0.14149268, -0.06505442],\n",
       "       [-0.1       ,  0.14149268, -0.06505442],\n",
       "       [-0.1       ,  0.14830175, -0.08492053],\n",
       "       [-0.1       ,  0.1517063 , -0.09524387],\n",
       "       [-0.1       ,  0.15851538, -0.11667114],\n",
       "       [-0.1       ,  0.16191992, -0.12777506],\n",
       "       [-0.1       ,  0.16532445, -0.13913918],\n",
       "       [-0.1       ,  0.16532445, -0.13913918],\n",
       "       [-0.1       ,  0.17894262, -0.18719761],\n",
       "       [-0.1       ,  0.18234715, -0.1998627 ],\n",
       "       [-0.1       ,  0.18234715, -0.1998627 ],\n",
       "       [-0.1       ,  0.18234715, -0.1998627 ],\n",
       "       [-0.1       ,  0.18575169, -0.21278799]], dtype=float32)"
      ]
     },
     "execution_count": 24,
     "metadata": {},
     "output_type": "execute_result"
    }
   ],
   "source": [
    "q"
   ]
  },
  {
   "cell_type": "code",
   "execution_count": 8,
   "metadata": {},
   "outputs": [],
   "source": [
    "qy = np.matmul(np.matrix.transpose(q) ,y)"
   ]
  },
  {
   "cell_type": "code",
   "execution_count": 9,
   "metadata": {},
   "outputs": [],
   "source": [
    "coeffActual = np.linalg.solve(r,qy)"
   ]
  },
  {
   "cell_type": "code",
   "execution_count": 10,
   "metadata": {},
   "outputs": [
    {
     "data": {
      "image/png": "[encoded data removed]",
      "text/plain": [
       "<matplotlib.figure.Figure at 0x259a2ea60f0>"
      ]
     },
     "metadata": {},
     "output_type": "display_data"
    }
   ],
   "source": [
    "yActual = coeffActual[0] + coeffActual[1]*x + coeffActual[2]*x*x\n",
    "yScratch = coeffScratch[0] + coeffScratch[1]*x + coeffScratch[2]*x*x\n",
    "plt.plot(x,y,'*',label='Points')\n",
    "plt.plot(x,yActual,color='b',linestyle='-',label='Actual Function')\n",
    "plt.plot(x,yScratch,color='k',linestyle='-',label='From Scratch Function')\n",
    "plt.legend(loc='best')\n",
    "plt.title('Results')\n",
    "plt.xlabel('X')\n",
    "plt.ylabel('Y')\n",
    "plt.show()"
   ]
  },
  {
   "cell_type": "code",
   "execution_count": 11,
   "metadata": {},
   "outputs": [],
   "source": [
    "varianceScratch = 0\n",
    "varianceActual = 0\n",
    "\n",
    "for i in range(0, len(A)):\n",
    "    varianceScratch = abs(yScratch[i] - y[i])\n",
    "    varianceActual = abs(yActual[i] - y[i])"
   ]
  },
  {
   "cell_type": "code",
   "execution_count": 12,
   "metadata": {},
   "outputs": [
    {
     "data": {
      "text/plain": [
       "0.07549952070792187"
      ]
     },
     "execution_count": 12,
     "metadata": {},
     "output_type": "execute_result"
    }
   ],
   "source": [
    "varianceScratch"
   ]
  },
  {
   "cell_type": "code",
   "execution_count": 13,
   "metadata": {},
   "outputs": [
    {
     "data": {
      "text/plain": [
       "0.07484947412319798"
      ]
     },
     "execution_count": 13,
     "metadata": {},
     "output_type": "execute_result"
    }
   ],
   "source": [
    "varianceActual"
   ]
  },
  {
   "cell_type": "markdown",
   "metadata": {},
   "source": [
    "The variance my my function was higher than the function from Numpy. The coefficients were also higher on my function. "
   ]
  }
 ],
 "metadata": {
  "kernelspec": {
   "display_name": "Python 3",
   "language": "python",
   "name": "python3"
  },
  "language_info": {
   "codemirror_mode": {
    "name": "ipython",
    "version": 3
   },
   "file_extension": ".py",
   "mimetype": "text/x-python",
   "name": "python",
   "nbconvert_exporter": "python",
   "pygments_lexer": "ipython3",
   "version": "3.6.4"
  }
 },
 "nbformat": 4,
 "nbformat_minor": 2
}
