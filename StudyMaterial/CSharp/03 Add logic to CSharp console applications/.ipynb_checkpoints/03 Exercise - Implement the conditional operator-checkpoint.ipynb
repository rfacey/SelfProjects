{
 "cells": [
  {
   "cell_type": "markdown",
   "id": "88d995e4",
   "metadata": {},
   "source": [
    "Source: https://learn.microsoft.com/en-us/training/modules/csharp-evaluate-boolean-expressions/3-exercise-conditional-operator"
   ]
  },
  {
   "cell_type": "markdown",
   "id": "0c95a723",
   "metadata": {},
   "source": [
    "## Exercise - Implement the conditional operator\n",
    "\n",
    "Suppose you need to quickly determine whether a customer's purchase is eligible for a promotional discount. The details for the promotion indicate that when a purchase value is greater than $1000, the purchase is eligible for a $100 discount. If the purchase amount is $1000 or less, the purchase is eligible for a $50 discount.\n",
    "\n",
    "While you could certainly use the \"if ... elseif .. else\" branching construct to express this business rule, using the *conditional operator* to evaluate eligibility for the promotional discount may be a better choice. The conditional operator uses a compact format that saves a few lines of code and possibly makes the intent of the code clearer.\n",
    "\n",
    "## What is the conditional operator?\n",
    "\n",
    "The *conditional operator ?: evaluates a Boolean expression and returns one of two results depending on whether the Boolean expression evaluates to true or false. The *conditional operator* is commonly referred to as the ternary conditional operator.\n",
    "\n",
    "Here's the basic form:"
   ]
  },
  {
   "cell_type": "raw",
   "id": "be613e9a",
   "metadata": {},
   "source": [
    "<evaluate this condition> ? <if condition is true, return this value> : <if condition is false, return this value>"
   ]
  },
  {
   "cell_type": "markdown",
   "id": "32a808ba",
   "metadata": {},
   "source": [
    "Take a minute to consider how you'd apply the conditional operator to the promotional discount scenario. Your goal is to display a message to the customer that shows their discount percentage. The amount of their discount will be based on whether they've spent more than $1,000 on their purchase."
   ]
  },
  {
   "cell_type": "markdown",
   "id": "8ecfd317",
   "metadata": {},
   "source": [
    "## Add code that uses a conditional operator\n",
    "\n",
    "1. Ensure that you have an empty Program.cs file open in Visual Studio Code. If nexessary, open Visual Studio Code, and then complete the following steps to preapre a Program.cs file in the Editor:\n",
    "    - On the File menu, select Open Folder.\n",
    "    - Use the Open Folder dialog to navigate to, and then open, the CsharpProjects folder.\n",
    "    - In the Visual Studio Code EXPLORER panel, select Program.cs.\n",
    "    - On the Visual Studio Code Selection menu, select Select All, and then press the Delete key.\n",
    "2. Type the following code into the Visual Studio Code Editor."
   ]
  },
  {
   "cell_type": "code",
   "execution_count": 1,
   "id": "08522633",
   "metadata": {},
   "outputs": [
    {
     "data": {
      "text/html": [
       "\r\n",
       "<div>\r\n",
       "    <div id='dotnet-interactive-this-cell-16044.Microsoft.DotNet.Interactive.Http.HttpPort' style='display: none'>\r\n",
       "        The below script needs to be able to find the current output cell; this is an easy method to get it.\r\n",
       "    </div>\r\n",
       "    <script type='text/javascript'>\r\n",
       "async function probeAddresses(probingAddresses) {\r\n",
       "    function timeout(ms, promise) {\r\n",
       "        return new Promise(function (resolve, reject) {\r\n",
       "            setTimeout(function () {\r\n",
       "                reject(new Error('timeout'))\r\n",
       "            }, ms)\r\n",
       "            promise.then(resolve, reject)\r\n",
       "        })\r\n",
       "    }\r\n",
       "\r\n",
       "    if (Array.isArray(probingAddresses)) {\r\n",
       "        for (let i = 0; i < probingAddresses.length; i++) {\r\n",
       "\r\n",
       "            let rootUrl = probingAddresses[i];\r\n",
       "\r\n",
       "            if (!rootUrl.endsWith('/')) {\r\n",
       "                rootUrl = `${rootUrl}/`;\r\n",
       "            }\r\n",
       "\r\n",
       "            try {\r\n",
       "                let response = await timeout(1000, fetch(`${rootUrl}discovery`, {\r\n",
       "                    method: 'POST',\r\n",
       "                    cache: 'no-cache',\r\n",
       "                    mode: 'cors',\r\n",
       "                    timeout: 1000,\r\n",
       "                    headers: {\r\n",
       "                        'Content-Type': 'text/plain'\r\n",
       "                    },\r\n",
       "                    body: probingAddresses[i]\r\n",
       "                }));\r\n",
       "\r\n",
       "                if (response.status == 200) {\r\n",
       "                    return rootUrl;\r\n",
       "                }\r\n",
       "            }\r\n",
       "            catch (e) { }\r\n",
       "        }\r\n",
       "    }\r\n",
       "}\r\n",
       "\r\n",
       "function loadDotnetInteractiveApi() {\r\n",
       "    probeAddresses([\"http://192.168.0.25:1001/\", \"http://127.0.0.1:1001/\"])\r\n",
       "        .then((root) => {\r\n",
       "        // use probing to find host url and api resources\r\n",
       "        // load interactive helpers and language services\r\n",
       "        let dotnetInteractiveRequire = require.config({\r\n",
       "        context: '16044.Microsoft.DotNet.Interactive.Http.HttpPort',\r\n",
       "                paths:\r\n",
       "            {\r\n",
       "                'dotnet-interactive': `${root}resources`\r\n",
       "                }\r\n",
       "        }) || require;\r\n",
       "\r\n",
       "            window.dotnetInteractiveRequire = dotnetInteractiveRequire;\r\n",
       "\r\n",
       "            window.configureRequireFromExtension = function(extensionName, extensionCacheBuster) {\r\n",
       "                let paths = {};\r\n",
       "                paths[extensionName] = `${root}extensions/${extensionName}/resources/`;\r\n",
       "                \r\n",
       "                let internalRequire = require.config({\r\n",
       "                    context: extensionCacheBuster,\r\n",
       "                    paths: paths,\r\n",
       "                    urlArgs: `cacheBuster=${extensionCacheBuster}`\r\n",
       "                    }) || require;\r\n",
       "\r\n",
       "                return internalRequire\r\n",
       "            };\r\n",
       "        \r\n",
       "            dotnetInteractiveRequire([\r\n",
       "                    'dotnet-interactive/dotnet-interactive'\r\n",
       "                ],\r\n",
       "                function (dotnet) {\r\n",
       "                    dotnet.init(window);\r\n",
       "                },\r\n",
       "                function (error) {\r\n",
       "                    console.log(error);\r\n",
       "                }\r\n",
       "            );\r\n",
       "        })\r\n",
       "        .catch(error => {console.log(error);});\r\n",
       "    }\r\n",
       "\r\n",
       "// ensure `require` is available globally\r\n",
       "if ((typeof(require) !==  typeof(Function)) || (typeof(require.config) !== typeof(Function))) {\r\n",
       "    let require_script = document.createElement('script');\r\n",
       "    require_script.setAttribute('src', 'https://cdnjs.cloudflare.com/ajax/libs/require.js/2.3.6/require.min.js');\r\n",
       "    require_script.setAttribute('type', 'text/javascript');\r\n",
       "    \r\n",
       "    \r\n",
       "    require_script.onload = function() {\r\n",
       "        loadDotnetInteractiveApi();\r\n",
       "    };\r\n",
       "\r\n",
       "    document.getElementsByTagName('head')[0].appendChild(require_script);\r\n",
       "}\r\n",
       "else {\r\n",
       "    loadDotnetInteractiveApi();\r\n",
       "}\r\n",
       "\r\n",
       "    </script>\r\n",
       "</div>"
      ]
     },
     "metadata": {},
     "output_type": "display_data"
    },
    {
     "name": "stdout",
     "output_type": "stream",
     "text": [
      "Discount: 100\r\n"
     ]
    }
   ],
   "source": [
    "int saleAmount = 1001;\n",
    "int discount = saleAmount > 1000 ? 100 : 50;\n",
    "Console.WriteLine($\"Discount: {discount}\");"
   ]
  },
  {
   "cell_type": "markdown",
   "id": "f4427593",
   "metadata": {},
   "source": [
    "3. On the Visual Studio Code File menu, select Save. The Program.cs file must be saved before building or running the code.\n",
    "4. In the EXPLORER panel, to open a Terminal at your TestProject folder location, right-click TestProject, and then select Open in Integrated Terminal. A Terminal panel that displays a command prompt should now be open. The command prompt should display the folder path for your TestProject folder location.\n",
    "5. At the Terminal command prompt, to run your code, type \"dotnet run\" and then press Enter. When you run the code, you should see the output above.\n",
    "\n",
    "## Use the conditional operator inline\n",
    "\n",
    "You can compact this code even more by eliminating the temporary viable discount.\n",
    "\n",
    "1. Update your code in the Visual Studio Code Editor as follows:"
   ]
  },
  {
   "cell_type": "code",
   "execution_count": 2,
   "id": "16ad412c",
   "metadata": {},
   "outputs": [
    {
     "name": "stdout",
     "output_type": "stream",
     "text": [
      "Discount: 100\r\n"
     ]
    }
   ],
   "source": [
    "int saleAmount = 1001;\n",
    "// int discount = saleAmount > 1000 ? 100 : 50;\n",
    "\n",
    "Console.WriteLine($\"Discount: {(saleAmount > 1000 ? 100 : 50)}\");"
   ]
  },
  {
   "cell_type": "markdown",
   "id": "79741e73",
   "metadata": {},
   "source": [
    "2. On the Visual Studio Code File menu, select Save.\n",
    "3. At the Terminal command prompt, to run your code, type \"dotnet run\" and then press Enter.\n",
    "4. Notice that the output is the same.\n",
    "5. Take a minute to examine the updated Console.WriteLine() statement.\n",
    "\n",
    "Notice that it's necessary to wrap the entire conditional operator statement in parentheses. The parentheses ensure that the runtime understands your intent, which is to display the conditional result rather than the result of evaluating the condition (saleAmount > 1000).\n",
    "\n",
    "## Recap\n",
    "\n",
    "You should remember the following facts about the conditional operator:\n",
    "\n",
    "- You can use the conditional operator to reduce the size of your code, but you should ensure that the resulting code is easily readable.\n",
    "- You can use the conditional operator when you need to return a value that's based on a binary condition. Your code will return the first option when the condition evaluates to true, and it will return the second option when the condition evaluates to false."
   ]
  }
 ],
 "metadata": {
  "kernelspec": {
   "display_name": ".NET (C#)",
   "language": "C#",
   "name": ".net-csharp"
  },
  "language_info": {
   "file_extension": ".cs",
   "mimetype": "text/x-csharp",
   "name": "C#",
   "pygments_lexer": "csharp",
   "version": "8.0"
  }
 },
 "nbformat": 4,
 "nbformat_minor": 5
}
