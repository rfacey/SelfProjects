{
 "cells": [
  {
   "cell_type": "markdown",
   "id": "887a520b-1bf2-4fc4-8ebd-f064396d1bd5",
   "metadata": {},
   "source": [
    "Source: https://huggingface.co/learn/nlp-course/chapter1/7?fw=pt"
   ]
  },
  {
   "cell_type": "markdown",
   "id": "2435ad26-1089-4310-91d6-c3d9df0f3fa9",
   "metadata": {},
   "source": [
    "# Sequence-to-sequence models [seequence-to-sequence-models]\n",
    "\n",
    "https://youtu.be/0_4KEb08xrE\n",
    "\n",
    "Encoder-decoder models (also called *sequence-to-sequence models*) use both part of the Transformer architecture. At each stage, the attention layers of the encoder can access all the words in the initial sentence, whereas the attention layers of the decoder can only access the words positioned before a given word in the input.\n",
    "\n",
    "The pretrained of these models can be done using the objectives of encoder or decoder models, but usually involves something a bit more complex. For instance, T5 (https://huggingface.co/t5-base) is pretrained by replacing random spans of text (that can contain several words) with a single mask special word, and the objective is then to predict the text that this mask word replaces.\n",
    "\n",
    "Sequence-to-sequence models are best suited for tasks revolving around generating new sentences depending on a given input, such as summarization, translation, or generative question answering.\n",
    "\n",
    "Representatives of this family of models include:\n",
    "\n",
    "- **BART** (https://huggingface.co/transformers/model_doc/bart.html)\n",
    "- **mBART** (https://huggingface.co/transformers/model_doc/mbart.html)\n",
    "- **Marian** (https://huggingface.co/transformers/model_doc/marian.html)\n",
    "- **T5** (https://huggingface.co/transformers/model_doc/t5.html)"
   ]
  }
 ],
 "metadata": {
  "kernelspec": {
   "display_name": "Python 3 (ipykernel)",
   "language": "python",
   "name": "python3"
  },
  "language_info": {
   "codemirror_mode": {
    "name": "ipython",
    "version": 3
   },
   "file_extension": ".py",
   "mimetype": "text/x-python",
   "name": "python",
   "nbconvert_exporter": "python",
   "pygments_lexer": "ipython3",
   "version": "3.9.13"
  }
 },
 "nbformat": 4,
 "nbformat_minor": 5
}
