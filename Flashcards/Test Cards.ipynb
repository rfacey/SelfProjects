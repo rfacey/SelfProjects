{
 "cells": [
  {
   "cell_type": "markdown",
   "id": "2a5d99fb",
   "metadata": {},
   "source": [
    "Source: https://realpython.com/python-gui-tkinter/"
   ]
  },
  {
   "cell_type": "code",
   "execution_count": 9,
   "id": "c68a2e02",
   "metadata": {},
   "outputs": [],
   "source": [
    "#import tkinter module\n",
    "import tkinter as tk\n",
    "\n",
    "#create window\n",
    "window = tk.Tk()\n",
    "\n",
    "#provide size to window\n",
    "window.geometry(\"300x300\")\n",
    "\n",
    "#add text label\n",
    "mainWindow = tk.Label(text=\"Hello from Educative !!!\")\n",
    "\n",
    "#\"pack()\" adds the Label widget to the window\n",
    "mainWindow.pack()\n",
    "\n",
    "# tell Python to run the Tkinter event loop\n",
    "window.mainloop()"
   ]
  },
  {
   "cell_type": "code",
   "execution_count": 10,
   "id": "6f5938c4",
   "metadata": {},
   "outputs": [],
   "source": [
    "#import tkinter module\n",
    "import tkinter as tk\n",
    "\n",
    "#create window\n",
    "window = tk.Tk()\n",
    "\n",
    "#provide size to window\n",
    "window.geometry(\"300x300\")\n",
    "\n",
    "#add text label\n",
    "Label = tk.Label(\n",
    "    text=\"Hello, Tkinter\",\n",
    "    foreground=\"white\",  # Set the text color to white\n",
    "    background=\"black\"  # Set the background color to black\n",
    ")\n",
    "\n",
    "#\"pack()\" adds the Label widget to the window\n",
    "Label.pack()\n",
    "\n",
    "# tell Python to run the Tkinter event loop\n",
    "window.mainloop()"
   ]
  },
  {
   "cell_type": "code",
   "execution_count": 11,
   "id": "25c93a33",
   "metadata": {},
   "outputs": [],
   "source": [
    "#import tkinter module\n",
    "import tkinter as tk\n",
    "\n",
    "#create window\n",
    "window = tk.Tk()\n",
    "\n",
    "#provide size to window\n",
    "window.geometry(\"300x300\")\n",
    "\n",
    "#add text label; specify a color using hexadecimal RGB values:\n",
    "Label = tk.Label(text=\"Hello, Tkinter\", background=\"#34A2FE\")\n",
    "\n",
    "#\"pack()\" adds the Label widget to the window\n",
    "Label.pack()\n",
    "\n",
    "# tell Python to run the Tkinter event loop\n",
    "window.mainloop()"
   ]
  },
  {
   "cell_type": "code",
   "execution_count": 12,
   "id": "5fcabf2b",
   "metadata": {},
   "outputs": [],
   "source": [
    "#import tkinter module\n",
    "import tkinter as tk\n",
    "\n",
    "#create window\n",
    "window = tk.Tk()\n",
    "\n",
    "#provide size to window\n",
    "window.geometry(\"300x300\")\n",
    "\n",
    "#add text label; specify a color using hexadecimal RGB values:\n",
    "Label = tk.Label(\n",
    "    text=\"Hello, Tkinter\",\n",
    "    fg=\"white\",\n",
    "    bg=\"black\",\n",
    "    width=10,\n",
    "    height=10\n",
    ")\n",
    "\n",
    "#\"pack()\" adds the Label widget to the window\n",
    "Label.pack()\n",
    "\n",
    "# tell Python to run the Tkinter event loop\n",
    "window.mainloop()"
   ]
  },
  {
   "cell_type": "code",
   "execution_count": 14,
   "id": "e321cf2c",
   "metadata": {},
   "outputs": [],
   "source": [
    "#import tkinter module\n",
    "import tkinter as tk\n",
    "\n",
    "#create window\n",
    "window = tk.Tk()\n",
    "\n",
    "#button widgets are used to display clickable buttons\n",
    "button = tk.Button(\n",
    "    text=\"Click me!\",\n",
    "    width=25,\n",
    "    height=5,\n",
    "    bg=\"blue\",\n",
    "    fg=\"yellow\",\n",
    ")\n",
    "\n",
    "#\"pack()\" adds the Label widget to the window\n",
    "button.pack()\n",
    "\n",
    "# tell Python to run the Tkinter event loop\n",
    "window.mainloop()"
   ]
  },
  {
   "cell_type": "code",
   "execution_count": 18,
   "id": "a8311003",
   "metadata": {},
   "outputs": [
    {
     "ename": "TclError",
     "evalue": "invalid command name \".!entry\"",
     "output_type": "error",
     "traceback": [
      "\u001b[1;31m---------------------------------------------------------------------------\u001b[0m",
      "\u001b[1;31mTclError\u001b[0m                                  Traceback (most recent call last)",
      "\u001b[1;32m~\\AppData\\Local\\Temp\\ipykernel_12952\\2747795586.py\u001b[0m in \u001b[0;36m<module>\u001b[1;34m\u001b[0m\n\u001b[0;32m     11\u001b[0m \u001b[0mwindow\u001b[0m\u001b[1;33m.\u001b[0m\u001b[0mmainloop\u001b[0m\u001b[1;33m(\u001b[0m\u001b[1;33m)\u001b[0m\u001b[1;33m\u001b[0m\u001b[1;33m\u001b[0m\u001b[0m\n\u001b[0;32m     12\u001b[0m \u001b[1;33m\u001b[0m\u001b[0m\n\u001b[1;32m---> 13\u001b[1;33m \u001b[0mname\u001b[0m \u001b[1;33m=\u001b[0m \u001b[0mentry\u001b[0m\u001b[1;33m.\u001b[0m\u001b[0mget\u001b[0m\u001b[1;33m(\u001b[0m\u001b[1;33m)\u001b[0m\u001b[1;33m\u001b[0m\u001b[1;33m\u001b[0m\u001b[0m\n\u001b[0m\u001b[0;32m     14\u001b[0m \u001b[0mname\u001b[0m\u001b[1;33m\u001b[0m\u001b[1;33m\u001b[0m\u001b[0m\n",
      "\u001b[1;32m~\\anaconda3\\lib\\tkinter\\__init__.py\u001b[0m in \u001b[0;36mget\u001b[1;34m(self)\u001b[0m\n\u001b[0;32m   3041\u001b[0m     \u001b[1;32mdef\u001b[0m \u001b[0mget\u001b[0m\u001b[1;33m(\u001b[0m\u001b[0mself\u001b[0m\u001b[1;33m)\u001b[0m\u001b[1;33m:\u001b[0m\u001b[1;33m\u001b[0m\u001b[1;33m\u001b[0m\u001b[0m\n\u001b[0;32m   3042\u001b[0m         \u001b[1;34m\"\"\"Return the text.\"\"\"\u001b[0m\u001b[1;33m\u001b[0m\u001b[1;33m\u001b[0m\u001b[0m\n\u001b[1;32m-> 3043\u001b[1;33m         \u001b[1;32mreturn\u001b[0m \u001b[0mself\u001b[0m\u001b[1;33m.\u001b[0m\u001b[0mtk\u001b[0m\u001b[1;33m.\u001b[0m\u001b[0mcall\u001b[0m\u001b[1;33m(\u001b[0m\u001b[0mself\u001b[0m\u001b[1;33m.\u001b[0m\u001b[0m_w\u001b[0m\u001b[1;33m,\u001b[0m \u001b[1;34m'get'\u001b[0m\u001b[1;33m)\u001b[0m\u001b[1;33m\u001b[0m\u001b[1;33m\u001b[0m\u001b[0m\n\u001b[0m\u001b[0;32m   3044\u001b[0m \u001b[1;33m\u001b[0m\u001b[0m\n\u001b[0;32m   3045\u001b[0m     \u001b[1;32mdef\u001b[0m \u001b[0micursor\u001b[0m\u001b[1;33m(\u001b[0m\u001b[0mself\u001b[0m\u001b[1;33m,\u001b[0m \u001b[0mindex\u001b[0m\u001b[1;33m)\u001b[0m\u001b[1;33m:\u001b[0m\u001b[1;33m\u001b[0m\u001b[1;33m\u001b[0m\u001b[0m\n",
      "\u001b[1;31mTclError\u001b[0m: invalid command name \".!entry\""
     ]
    }
   ],
   "source": [
    "import tkinter as tk\n",
    "from tkinter import ttk\n",
    "\n",
    "window = tk.Tk()\n",
    "\n",
    "def get_content():\n",
    "    #Get the content of Entry Widget\n",
    "    print(entry.get())\n",
    "\n",
    "label = tk.Label(text=\"Name\")\n",
    "entry = tk.Entry()\n",
    "button = ttk.\n",
    "\n",
    "label.pack()\n",
    "entry.pack()\n",
    "\n",
    "# tell Python to run the Tkinter event loop\n",
    "window.mainloop()"
   ]
  },
  {
   "cell_type": "code",
   "execution_count": null,
   "id": "e1031bb3",
   "metadata": {},
   "outputs": [],
   "source": []
  }
 ],
 "metadata": {
  "kernelspec": {
   "display_name": "Python 3 (ipykernel)",
   "language": "python",
   "name": "python3"
  },
  "language_info": {
   "codemirror_mode": {
    "name": "ipython",
    "version": 3
   },
   "file_extension": ".py",
   "mimetype": "text/x-python",
   "name": "python",
   "nbconvert_exporter": "python",
   "pygments_lexer": "ipython3",
   "version": "3.9.13"
  }
 },
 "nbformat": 4,
 "nbformat_minor": 5
}
