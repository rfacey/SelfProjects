{
 "cells": [
  {
   "cell_type": "code",
   "execution_count": 1,
   "metadata": {},
   "outputs": [],
   "source": [
    "import numpy as np\n",
    "import pandas as pd\n",
    "import matplotlib.pyplot as plt\n",
    "from datetime import datetime, date, time, timedelta\n",
    "plt.style.use('fivethirtyeight')"
   ]
  },
  {
   "cell_type": "code",
   "execution_count": 3,
   "metadata": {},
   "outputs": [
    {
     "data": {
      "text/plain": [
       "datetime.date(2021, 4, 5)"
      ]
     },
     "execution_count": 3,
     "metadata": {},
     "output_type": "execute_result"
    }
   ],
   "source": [
    "datetime.now().date() - timedelta(1)"
   ]
  },
  {
   "cell_type": "code",
   "execution_count": 12,
   "metadata": {},
   "outputs": [],
   "source": [
    "imported_data = []\n",
    "auctionTable = []\n",
    "expandedAuction = []\n",
    "uniqueTime = []\n",
    "uniqueTimeDay = []\n",
    "uniqueTimeDate = []\n",
    "\n",
    "feastCost = [[],[],[],[],[],[],[]]\n",
    "#ribsCost = [[],[],[],[],[],[],[]]\n",
    "#haunchCost = [[],[],[],[],[],[],[]]\n",
    "#pikeCost = [[],[],[],[],[],[],[]]\n",
    "#piranhaCost = [[],[],[],[],[],[],[]]\n",
    "#thadeCost = [[],[],[],[],[],[],[]]\n",
    "\n",
    "allFeasts = []\n",
    "statsDaily = [[],[],[],[],[],[],[]]\n",
    "\n",
    "with open(\"WarcraftAuctionData.txt\", \"r\") as data_file:\n",
    "    for row in data_file:\n",
    "        tempRow = row.strip()\n",
    "        tempRow = tempRow.split(\",\")\n",
    "        imported_data.append(list(tempRow))\n",
    "\n",
    "# Adding a weekend flag since most feasts are used in raids and people raid on weekends\n",
    "        \n",
    "weekendList = ['Friday','Saturday','Sunday']\n",
    "\n",
    "# Narrow the data to one week, from yesterday to a week ago from yesterday\n",
    "weekBegin = datetime.now().date() - timedelta(8)\n",
    "weekEnd = datetime.now().date() - timedelta(2)\n",
    "\n",
    "# Formatting the ints back to int and concatenating the date and time back to datetime\n",
    "\n",
    "for row in range(0, len(imported_data)):\n",
    "    imported_data[row][4] = int(imported_data[row][4])\n",
    "    imported_data[row][5] = int(imported_data[row][5])\n",
    "    imported_data[row][7] = datetime.combine(datetime.strptime(imported_data[row][6], '%x').date(),datetime.strptime(imported_data[row][7], '%X').time())\n",
    "    if imported_data[row][8] in weekendList:\n",
    "        imported_data[row][9] = 1\n",
    "    else:\n",
    "        imported_data[row][9] = 0\n",
    "    del imported_data[row][6]\n",
    "    del imported_data[row][3]\n",
    "    del imported_data[row][1]\n",
    "\n",
    "# Get distinct day and datetime lists. Used for time series\n",
    "\n",
    "for row in range(0, len(imported_data)):\n",
    "    if imported_data[row][4] not in uniqueTime and imported_data[row][4].date() >= weekBegin and imported_data[row][4].date() <= weekEnd:\n",
    "        uniqueTime.append(imported_data[row][4])\n",
    "    if imported_data[row][5] not in uniqueTimeDay and imported_data[row][4].date() >= weekBegin and imported_data[row][4].date() <= weekEnd:\n",
    "        uniqueTimeDay.append(imported_data[row][5])\n",
    "    if imported_data[row][4].date() not in uniqueTimeDate and imported_data[row][4].date() >= weekBegin and imported_data[row][4].date() <= weekEnd:\n",
    "        uniqueTimeDate.append(imported_data[row][4].date())\n",
    "\n",
    "# Change the format of the auctions to be one auction per row. Each item has its own list\n",
    "    \n",
    "for row in range(0, len(imported_data)):\n",
    "    iterations = imported_data[row][2]\n",
    "    if imported_data[row][4].date() >= weekBegin and imported_data[row][4].date() <= weekEnd:\n",
    "        for numbers in range(0, iterations):\n",
    "            if imported_data[row][1] == 'Feast of Gluttonous Hedonism':\n",
    "                feastCost[uniqueTimeDate.index(imported_data[row][4].date())].append(imported_data[row][3]/10000)\n",
    "#            if imported_data[row][1] == 'Tenebrous Ribs':\n",
    "#                ribsCost[uniqueTimeDate.index(imported_data[row][4].date())].append(imported_data[row][3])\n",
    "#            if imported_data[row][1] == 'Phantasmal Haunch':\n",
    "#                haunchCost[uniqueTimeDate.index(imported_data[row][4].date())].append(imported_data[row][3])\n",
    "#            if imported_data[row][1] == 'Silvergill Pike':\n",
    "#                pikeCost[uniqueTimeDate.index(imported_data[row][4].date())].append(imported_data[row][3])\n",
    "#            if imported_data[row][1] == 'Spinefin Piranha':\n",
    "#                piranhaCost[uniqueTimeDate.index(imported_data[row][4].date())].append(imported_data[row][3])\n",
    "#            if imported_data[row][1] == 'Elysian Thade':\n",
    "#                thadeCost[uniqueTimeDate.index(imported_data[row][4].date())].append(imported_data[row][3])\n",
    "                allFeasts.append(imported_data[row][3]/10000)\n",
    "for day in range(0, len(feastCost)):\n",
    "    statsDaily[day].append(np.percentile(feastCost[day],25))\n",
    "    statsDaily[day].append(np.percentile(feastCost[day],50))\n",
    "    statsDaily[day].append(np.percentile(feastCost[day],75))"
   ]
  },
  {
   "cell_type": "code",
   "execution_count": 13,
   "metadata": {
    "scrolled": true
   },
   "outputs": [
    {
     "data": {
      "text/plain": [
       "[datetime.date(2021, 3, 29),\n",
       " datetime.date(2021, 3, 30),\n",
       " datetime.date(2021, 3, 31),\n",
       " datetime.date(2021, 4, 1),\n",
       " datetime.date(2021, 4, 2),\n",
       " datetime.date(2021, 4, 3),\n",
       " datetime.date(2021, 4, 4)]"
      ]
     },
     "execution_count": 13,
     "metadata": {},
     "output_type": "execute_result"
    }
   ],
   "source": [
    "uniqueTimeDate"
   ]
  },
  {
   "cell_type": "code",
   "execution_count": 36,
   "metadata": {},
   "outputs": [
    {
     "data": {
      "text/plain": [
       "[datetime.datetime(2021, 3, 29, 20, 0, 4),\n",
       " datetime.datetime(2021, 3, 29, 21, 0, 5),\n",
       " datetime.datetime(2021, 3, 29, 22, 0, 5),\n",
       " datetime.datetime(2021, 3, 29, 23, 0, 5),\n",
       " datetime.datetime(2021, 3, 30, 0, 0, 6),\n",
       " datetime.datetime(2021, 3, 30, 1, 0, 5),\n",
       " datetime.datetime(2021, 3, 30, 2, 0, 6),\n",
       " datetime.datetime(2021, 3, 30, 3, 0, 5),\n",
       " datetime.datetime(2021, 3, 30, 4, 0, 5),\n",
       " datetime.datetime(2021, 3, 30, 5, 0, 6),\n",
       " datetime.datetime(2021, 3, 30, 6, 0, 4),\n",
       " datetime.datetime(2021, 3, 30, 7, 0, 6),\n",
       " datetime.datetime(2021, 3, 30, 8, 0, 6),\n",
       " datetime.datetime(2021, 3, 30, 9, 0, 6),\n",
       " datetime.datetime(2021, 3, 30, 10, 0, 6),\n",
       " datetime.datetime(2021, 3, 30, 11, 0, 5),\n",
       " datetime.datetime(2021, 3, 30, 12, 0, 6),\n",
       " datetime.datetime(2021, 3, 30, 13, 0, 5),\n",
       " datetime.datetime(2021, 3, 30, 14, 0, 4),\n",
       " datetime.datetime(2021, 3, 30, 15, 0, 6),\n",
       " datetime.datetime(2021, 3, 30, 16, 0, 6),\n",
       " datetime.datetime(2021, 3, 30, 17, 0, 4),\n",
       " datetime.datetime(2021, 3, 30, 18, 0, 6),\n",
       " datetime.datetime(2021, 3, 30, 19, 0, 6),\n",
       " datetime.datetime(2021, 3, 30, 20, 0, 6),\n",
       " datetime.datetime(2021, 3, 30, 21, 0, 6),\n",
       " datetime.datetime(2021, 3, 30, 22, 0, 7),\n",
       " datetime.datetime(2021, 3, 30, 23, 0, 5),\n",
       " datetime.datetime(2021, 3, 31, 0, 0, 7),\n",
       " datetime.datetime(2021, 3, 31, 1, 0, 5),\n",
       " datetime.datetime(2021, 3, 31, 2, 0, 6),\n",
       " datetime.datetime(2021, 3, 31, 3, 0, 7),\n",
       " datetime.datetime(2021, 3, 31, 4, 0, 6),\n",
       " datetime.datetime(2021, 3, 31, 5, 0, 5),\n",
       " datetime.datetime(2021, 3, 31, 6, 0, 5),\n",
       " datetime.datetime(2021, 3, 31, 7, 0, 5),\n",
       " datetime.datetime(2021, 3, 31, 8, 0, 4),\n",
       " datetime.datetime(2021, 3, 31, 9, 0, 7),\n",
       " datetime.datetime(2021, 3, 31, 10, 0, 7),\n",
       " datetime.datetime(2021, 3, 31, 11, 0, 5),\n",
       " datetime.datetime(2021, 3, 31, 12, 0, 6),\n",
       " datetime.datetime(2021, 3, 31, 13, 0, 6),\n",
       " datetime.datetime(2021, 3, 31, 14, 0, 5),\n",
       " datetime.datetime(2021, 3, 31, 15, 0, 5),\n",
       " datetime.datetime(2021, 3, 31, 16, 0, 5),\n",
       " datetime.datetime(2021, 3, 31, 17, 0, 5),\n",
       " datetime.datetime(2021, 3, 31, 18, 0, 5),\n",
       " datetime.datetime(2021, 3, 31, 19, 0, 7),\n",
       " datetime.datetime(2021, 3, 31, 20, 0, 5),\n",
       " datetime.datetime(2021, 3, 31, 21, 0, 6),\n",
       " datetime.datetime(2021, 3, 31, 22, 0, 4),\n",
       " datetime.datetime(2021, 3, 31, 23, 0, 8),\n",
       " datetime.datetime(2021, 4, 1, 0, 0, 5),\n",
       " datetime.datetime(2021, 4, 1, 1, 0, 4),\n",
       " datetime.datetime(2021, 4, 1, 2, 0, 6),\n",
       " datetime.datetime(2021, 4, 1, 3, 0, 5),\n",
       " datetime.datetime(2021, 4, 1, 4, 0, 6),\n",
       " datetime.datetime(2021, 4, 1, 5, 0, 5),\n",
       " datetime.datetime(2021, 4, 1, 6, 0, 4),\n",
       " datetime.datetime(2021, 4, 1, 7, 0, 5),\n",
       " datetime.datetime(2021, 4, 1, 8, 0, 4),\n",
       " datetime.datetime(2021, 4, 1, 9, 0, 5),\n",
       " datetime.datetime(2021, 4, 1, 10, 0, 6),\n",
       " datetime.datetime(2021, 4, 1, 11, 0, 5),\n",
       " datetime.datetime(2021, 4, 1, 12, 0, 4),\n",
       " datetime.datetime(2021, 4, 1, 13, 0, 6),\n",
       " datetime.datetime(2021, 4, 1, 14, 0, 5),\n",
       " datetime.datetime(2021, 4, 1, 15, 0, 6),\n",
       " datetime.datetime(2021, 4, 1, 16, 0, 7),\n",
       " datetime.datetime(2021, 4, 1, 17, 0, 5),\n",
       " datetime.datetime(2021, 4, 1, 18, 0, 6),\n",
       " datetime.datetime(2021, 4, 1, 19, 0, 5),\n",
       " datetime.datetime(2021, 4, 1, 20, 0, 5),\n",
       " datetime.datetime(2021, 4, 1, 21, 0, 6),\n",
       " datetime.datetime(2021, 4, 1, 22, 0, 5),\n",
       " datetime.datetime(2021, 4, 1, 23, 0, 6),\n",
       " datetime.datetime(2021, 4, 2, 0, 0, 6),\n",
       " datetime.datetime(2021, 4, 2, 1, 0, 6),\n",
       " datetime.datetime(2021, 4, 2, 2, 0, 5),\n",
       " datetime.datetime(2021, 4, 2, 3, 0, 7),\n",
       " datetime.datetime(2021, 4, 2, 4, 0, 5),\n",
       " datetime.datetime(2021, 4, 2, 5, 0, 8),\n",
       " datetime.datetime(2021, 4, 2, 6, 0, 5),\n",
       " datetime.datetime(2021, 4, 2, 7, 0, 5),\n",
       " datetime.datetime(2021, 4, 2, 8, 0, 5),\n",
       " datetime.datetime(2021, 4, 2, 9, 0, 6),\n",
       " datetime.datetime(2021, 4, 2, 10, 0, 5),\n",
       " datetime.datetime(2021, 4, 2, 11, 0, 5),\n",
       " datetime.datetime(2021, 4, 2, 12, 0, 6),\n",
       " datetime.datetime(2021, 4, 2, 13, 0, 7),\n",
       " datetime.datetime(2021, 4, 2, 14, 0, 6),\n",
       " datetime.datetime(2021, 4, 2, 15, 0, 6),\n",
       " datetime.datetime(2021, 4, 2, 16, 0, 6),\n",
       " datetime.datetime(2021, 4, 2, 17, 0, 6),\n",
       " datetime.datetime(2021, 4, 2, 18, 0, 5),\n",
       " datetime.datetime(2021, 4, 2, 19, 0, 6),\n",
       " datetime.datetime(2021, 4, 2, 20, 0, 8),\n",
       " datetime.datetime(2021, 4, 2, 21, 0, 8),\n",
       " datetime.datetime(2021, 4, 2, 22, 0, 5),\n",
       " datetime.datetime(2021, 4, 2, 23, 0, 6),\n",
       " datetime.datetime(2021, 4, 3, 0, 0, 5),\n",
       " datetime.datetime(2021, 4, 3, 1, 0, 8),\n",
       " datetime.datetime(2021, 4, 3, 2, 0, 5),\n",
       " datetime.datetime(2021, 4, 3, 3, 0, 8),\n",
       " datetime.datetime(2021, 4, 3, 4, 0, 4),\n",
       " datetime.datetime(2021, 4, 3, 5, 0, 6),\n",
       " datetime.datetime(2021, 4, 3, 6, 0, 5),\n",
       " datetime.datetime(2021, 4, 3, 7, 0, 5),\n",
       " datetime.datetime(2021, 4, 3, 8, 0, 5),\n",
       " datetime.datetime(2021, 4, 3, 9, 0, 6),\n",
       " datetime.datetime(2021, 4, 3, 10, 0, 6),\n",
       " datetime.datetime(2021, 4, 3, 11, 0, 6),\n",
       " datetime.datetime(2021, 4, 3, 12, 0, 5),\n",
       " datetime.datetime(2021, 4, 3, 13, 0, 6),\n",
       " datetime.datetime(2021, 4, 3, 14, 0, 5),\n",
       " datetime.datetime(2021, 4, 3, 15, 0, 7),\n",
       " datetime.datetime(2021, 4, 3, 16, 0, 6),\n",
       " datetime.datetime(2021, 4, 3, 17, 0, 6),\n",
       " datetime.datetime(2021, 4, 3, 18, 0, 5),\n",
       " datetime.datetime(2021, 4, 3, 19, 0, 6),\n",
       " datetime.datetime(2021, 4, 3, 20, 0, 7),\n",
       " datetime.datetime(2021, 4, 3, 21, 0, 6),\n",
       " datetime.datetime(2021, 4, 3, 22, 0, 5),\n",
       " datetime.datetime(2021, 4, 3, 23, 0, 5),\n",
       " datetime.datetime(2021, 4, 4, 0, 0, 5),\n",
       " datetime.datetime(2021, 4, 4, 1, 0, 6),\n",
       " datetime.datetime(2021, 4, 4, 2, 0, 6),\n",
       " datetime.datetime(2021, 4, 4, 3, 0, 4),\n",
       " datetime.datetime(2021, 4, 4, 4, 0, 6),\n",
       " datetime.datetime(2021, 4, 4, 5, 0, 5),\n",
       " datetime.datetime(2021, 4, 4, 6, 0, 5),\n",
       " datetime.datetime(2021, 4, 4, 7, 0, 5),\n",
       " datetime.datetime(2021, 4, 4, 8, 0, 6),\n",
       " datetime.datetime(2021, 4, 4, 9, 0, 5),\n",
       " datetime.datetime(2021, 4, 4, 10, 0, 6),\n",
       " datetime.datetime(2021, 4, 4, 11, 0, 7),\n",
       " datetime.datetime(2021, 4, 4, 12, 0, 6),\n",
       " datetime.datetime(2021, 4, 4, 13, 0, 7),\n",
       " datetime.datetime(2021, 4, 4, 14, 0, 5),\n",
       " datetime.datetime(2021, 4, 4, 15, 0, 5),\n",
       " datetime.datetime(2021, 4, 4, 16, 0, 5),\n",
       " datetime.datetime(2021, 4, 4, 17, 0, 5),\n",
       " datetime.datetime(2021, 4, 4, 18, 0, 5),\n",
       " datetime.datetime(2021, 4, 4, 19, 0, 5),\n",
       " datetime.datetime(2021, 4, 4, 20, 0, 6),\n",
       " datetime.datetime(2021, 4, 4, 21, 0, 6),\n",
       " datetime.datetime(2021, 4, 4, 22, 0, 7),\n",
       " datetime.datetime(2021, 4, 4, 23, 0, 5)]"
      ]
     },
     "execution_count": 36,
     "metadata": {},
     "output_type": "execute_result"
    }
   ],
   "source": [
    "uniqueTime"
   ]
  },
  {
   "cell_type": "code",
   "execution_count": 14,
   "metadata": {},
   "outputs": [
    {
     "data": {
      "text/plain": [
       "[[2244.9, 2244.9, 2245.0],\n",
       " [2244.9, 2244.9, 2500.69],\n",
       " [2899.73, 2899.74, 2899.77],\n",
       " [2899.5, 2899.7, 2899.71],\n",
       " [2700.39, 2750.49, 2750.49],\n",
       " [2399.97, 2399.99, 2400.28],\n",
       " [2350.69, 2395.87, 2395.88]]"
      ]
     },
     "execution_count": 14,
     "metadata": {},
     "output_type": "execute_result"
    }
   ],
   "source": [
    "statsDaily"
   ]
  },
  {
   "cell_type": "code",
   "execution_count": 15,
   "metadata": {},
   "outputs": [
    {
     "data": {
      "text/plain": [
       "2899.77"
      ]
     },
     "execution_count": 15,
     "metadata": {},
     "output_type": "execute_result"
    }
   ],
   "source": [
    "np.max(np.max(statsDaily))"
   ]
  },
  {
   "cell_type": "code",
   "execution_count": 16,
   "metadata": {},
   "outputs": [
    {
     "data": {
      "text/plain": [
       "2399.99"
      ]
     },
     "execution_count": 16,
     "metadata": {},
     "output_type": "execute_result"
    }
   ],
   "source": [
    "np.min(np.max(feastCost))"
   ]
  },
  {
   "cell_type": "code",
   "execution_count": 17,
   "metadata": {},
   "outputs": [],
   "source": [
    "df = pd.DataFrame(statsDaily)"
   ]
  },
  {
   "cell_type": "code",
   "execution_count": 18,
   "metadata": {},
   "outputs": [
    {
     "data": {
      "text/plain": [
       "2244.9"
      ]
     },
     "execution_count": 18,
     "metadata": {},
     "output_type": "execute_result"
    }
   ],
   "source": [
    "#Lowest median\n",
    "df[1].min()"
   ]
  },
  {
   "cell_type": "code",
   "execution_count": 19,
   "metadata": {},
   "outputs": [
    {
     "data": {
      "text/plain": [
       "2899.74"
      ]
     },
     "execution_count": 19,
     "metadata": {},
     "output_type": "execute_result"
    }
   ],
   "source": [
    "#Highest median\n",
    "df[1].max()"
   ]
  },
  {
   "cell_type": "code",
   "execution_count": 35,
   "metadata": {},
   "outputs": [
    {
     "data": {
      "image/png": "[encoded data removed]",
      "text/plain": [
       "<Figure size 720x576 with 1 Axes>"
      ]
     },
     "metadata": {},
     "output_type": "display_data"
    }
   ],
   "source": [
    "# https://matplotlib.org/3.1.1/api/_as_gen/matplotlib.pyplot.boxplot.html\n",
    "# https://matplotlib.org/3.1.1/gallery/pyplots/boxplot_demo_pyplot.html#sphx-glr-gallery-pyplots-boxplot-demo-pyplot-py\n",
    "# https://matplotlib.org/3.1.1/gallery/lines_bars_and_markers/bar_stacked.html#sphx-glr-gallery-lines-bars-and-markers-bar-stacked-py\n",
    "\n",
    "plt.boxplot(feastCost, labels = uniqueTimeDay)\n",
    "plt.ylim(np.min(np.max(feastCost)) - 300,np.max(np.max(statsDaily)) + 300)\n",
    "plt.rcParams[\"figure.figsize\"] = (10, 8)\n",
    "plt.title('Feast of Gluttonous Hedonism Cost (GP) from '+ str(weekBegin)[-5:-3] + '/' + str(weekBegin)[-2:]+ '/' + str(weekBegin)[-10:-6] + ' to ' + str(weekEnd)[-5:-3] + '/' + str(weekEnd)[-2:]+ '/' + str(weekEnd)[-10:-6])\n",
    "plt.show()"
   ]
  },
  {
   "cell_type": "code",
   "execution_count": null,
   "metadata": {},
   "outputs": [],
   "source": []
  }
 ],
 "metadata": {
  "kernelspec": {
   "display_name": "Python 3",
   "language": "python",
   "name": "python3"
  },
  "language_info": {
   "codemirror_mode": {
    "name": "ipython",
    "version": 3
   },
   "file_extension": ".py",
   "mimetype": "text/x-python",
   "name": "python",
   "nbconvert_exporter": "python",
   "pygments_lexer": "ipython3",
   "version": "3.8.3"
  }
 },
 "nbformat": 4,
 "nbformat_minor": 2
}
