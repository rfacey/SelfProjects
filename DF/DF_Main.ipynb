{
 "cells": [
  {
   "cell_type": "markdown",
   "id": "8974d915-3e87-4e89-adca-ec0a1a5bc597",
   "metadata": {},
   "source": [
    "Going to use Deepfacelab. I was able to find good examples of this program being used and the results looked more realistic than SimSwap or other Python-based programs. One example I was able to find with a full walkthrough of the process:\n",
    "\n",
    "https://www.youtube.com/watch?v=hP3njGbvvWc&ab_channel=Cinecom.net\n",
    "\n",
    "This video gives a more technical approach on tweaking the video:\n",
    "https://www.youtube.com/watch?v=rw5F5lSvBLE&ab_channel=DigitalDaz"
   ]
  },
  {
   "cell_type": "markdown",
   "id": "1841d038-488f-4dda-84a5-b134950df5dd",
   "metadata": {},
   "source": [
    "Deepfacelabs\n",
    "    - Main program\n",
    "Machine Video Editor\n",
    "    - Helps edit the input video data\n",
    "    \n"
   ]
  }
 ],
 "metadata": {
  "kernelspec": {
   "display_name": "Python 3 (ipykernel)",
   "language": "python",
   "name": "python3"
  },
  "language_info": {
   "codemirror_mode": {
    "name": "ipython",
    "version": 3
   },
   "file_extension": ".py",
   "mimetype": "text/x-python",
   "name": "python",
   "nbconvert_exporter": "python",
   "pygments_lexer": "ipython3",
   "version": "3.9.13"
  }
 },
 "nbformat": 4,
 "nbformat_minor": 5
}
