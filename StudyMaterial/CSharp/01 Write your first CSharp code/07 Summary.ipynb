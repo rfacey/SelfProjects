{
 "cells": [
  {
   "cell_type": "markdown",
   "id": "5d90312e",
   "metadata": {},
   "source": [
    "Source: https://learn.microsoft.com/en-us/training/modules/csharp-write-first/7-summary"
   ]
  },
  {
   "cell_type": "markdown",
   "id": "34397c4f",
   "metadata": {},
   "source": [
    "# Summary\n",
    "\n",
    "Your goal was to write code that displayed simple messages to an output console while familiarizing yourself with the syntax. You wrote your first lines of code using basic C# syntax. You learned two techniques for displaying literal-string data to the console. YOu also learned what to look for when you come across an error in your code. And lastly, you identified C# syntax elements like classes sna dmethods, and the puurpose of several special symbols that are known as operators. You've taken your first steps towards building more sophisticated applications."
   ]
  }
 ],
 "metadata": {
  "kernelspec": {
   "display_name": ".NET (C#)",
   "language": "C#",
   "name": ".net-csharp"
  },
  "language_info": {
   "file_extension": ".cs",
   "mimetype": "text/x-csharp",
   "name": "C#",
   "pygments_lexer": "csharp",
   "version": "8.0"
  }
 },
 "nbformat": 4,
 "nbformat_minor": 5
}
