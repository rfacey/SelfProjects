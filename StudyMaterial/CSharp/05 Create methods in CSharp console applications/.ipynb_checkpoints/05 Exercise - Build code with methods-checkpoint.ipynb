{
 "cells": [
  {
   "cell_type": "markdown",
   "id": "10f5da86",
   "metadata": {},
   "source": [
    "Source: https://learn.microsoft.com/en-us/training/modules/write-first-c-sharp-method/5-exercise-build-code-with-methods"
   ]
  },
  {
   "cell_type": "markdown",
   "id": "ea2b5c32",
   "metadata": {},
   "source": [
    "# Exercise - Build code with methods\n",
    "\n",
    "Methods are useful for organizing code, reusing code, and for tackling problems efficiently. You can think of a method like a black box that takes input, performs the named task, and returns output. With this assumption, you can quickly structure programs just by naming your tasks as methods, and then filling in the logic after you've identified all of the necessary tasks.\n",
    "\n",
    "When you use plain language to describe steps in code, without strictly adhering to syntax rules, you're using \"pseudo-code\". Combining methods and pseudo-code is a great way to quickly power through any challenging programming task.\n",
    "\n",
    "## Use methods to structure code\n",
    "\n",
    "Suppose you're a candidate in a coding interview. The interviewer wants you to write a program that checks whether an IPv4 address is valid or invalid. You're given the following rules:\n",
    "\n",
    "- A valid IPv4 address consists of four numbers separated by dots\n",
    "- Each number must not contain leading zeroes\n",
    "- Each number must range from 0 to 255\n",
    "\n",
    "1.1.1.1 and 255.255.255.255 are examples of valid IP addresses.\n",
    "\n",
    "The IPv4 address is provided as a string. You can assume that it only consists of digits and dots (there are no letters in the string provided).\n",
    "\n",
    "How would you approach this task?\n",
    "\n",
    "## Break down the problem\n",
    "\n",
    "In this task, you'll identify the steps needed to solve the problem. If you look closely at the rules, you might realize that it only tasks three steps to determine whether or not an IPv4 address is valid.\n",
    "\n",
    "1. In the Visual Studio Editor, delete any existing code from the previous exercises.\n",
    "2. Enter the following pseudo-code into the Editor:"
   ]
  },
  {
   "cell_type": "code",
   "execution_count": 1,
   "id": "888b9f45",
   "metadata": {},
   "outputs": [
    {
     "data": {
      "text/html": [
       "\r\n",
       "<div>\r\n",
       "    <div id='dotnet-interactive-this-cell-1428.Microsoft.DotNet.Interactive.Http.HttpPort' style='display: none'>\r\n",
       "        The below script needs to be able to find the current output cell; this is an easy method to get it.\r\n",
       "    </div>\r\n",
       "    <script type='text/javascript'>\r\n",
       "async function probeAddresses(probingAddresses) {\r\n",
       "    function timeout(ms, promise) {\r\n",
       "        return new Promise(function (resolve, reject) {\r\n",
       "            setTimeout(function () {\r\n",
       "                reject(new Error('timeout'))\r\n",
       "            }, ms)\r\n",
       "            promise.then(resolve, reject)\r\n",
       "        })\r\n",
       "    }\r\n",
       "\r\n",
       "    if (Array.isArray(probingAddresses)) {\r\n",
       "        for (let i = 0; i < probingAddresses.length; i++) {\r\n",
       "\r\n",
       "            let rootUrl = probingAddresses[i];\r\n",
       "\r\n",
       "            if (!rootUrl.endsWith('/')) {\r\n",
       "                rootUrl = `${rootUrl}/`;\r\n",
       "            }\r\n",
       "\r\n",
       "            try {\r\n",
       "                let response = await timeout(1000, fetch(`${rootUrl}discovery`, {\r\n",
       "                    method: 'POST',\r\n",
       "                    cache: 'no-cache',\r\n",
       "                    mode: 'cors',\r\n",
       "                    timeout: 1000,\r\n",
       "                    headers: {\r\n",
       "                        'Content-Type': 'text/plain'\r\n",
       "                    },\r\n",
       "                    body: probingAddresses[i]\r\n",
       "                }));\r\n",
       "\r\n",
       "                if (response.status == 200) {\r\n",
       "                    return rootUrl;\r\n",
       "                }\r\n",
       "            }\r\n",
       "            catch (e) { }\r\n",
       "        }\r\n",
       "    }\r\n",
       "}\r\n",
       "\r\n",
       "function loadDotnetInteractiveApi() {\r\n",
       "    probeAddresses([\"http://192.168.0.25:1001/\", \"http://127.0.0.1:1001/\"])\r\n",
       "        .then((root) => {\r\n",
       "        // use probing to find host url and api resources\r\n",
       "        // load interactive helpers and language services\r\n",
       "        let dotnetInteractiveRequire = require.config({\r\n",
       "        context: '1428.Microsoft.DotNet.Interactive.Http.HttpPort',\r\n",
       "                paths:\r\n",
       "            {\r\n",
       "                'dotnet-interactive': `${root}resources`\r\n",
       "                }\r\n",
       "        }) || require;\r\n",
       "\r\n",
       "            window.dotnetInteractiveRequire = dotnetInteractiveRequire;\r\n",
       "\r\n",
       "            window.configureRequireFromExtension = function(extensionName, extensionCacheBuster) {\r\n",
       "                let paths = {};\r\n",
       "                paths[extensionName] = `${root}extensions/${extensionName}/resources/`;\r\n",
       "                \r\n",
       "                let internalRequire = require.config({\r\n",
       "                    context: extensionCacheBuster,\r\n",
       "                    paths: paths,\r\n",
       "                    urlArgs: `cacheBuster=${extensionCacheBuster}`\r\n",
       "                    }) || require;\r\n",
       "\r\n",
       "                return internalRequire\r\n",
       "            };\r\n",
       "        \r\n",
       "            dotnetInteractiveRequire([\r\n",
       "                    'dotnet-interactive/dotnet-interactive'\r\n",
       "                ],\r\n",
       "                function (dotnet) {\r\n",
       "                    dotnet.init(window);\r\n",
       "                },\r\n",
       "                function (error) {\r\n",
       "                    console.log(error);\r\n",
       "                }\r\n",
       "            );\r\n",
       "        })\r\n",
       "        .catch(error => {console.log(error);});\r\n",
       "    }\r\n",
       "\r\n",
       "// ensure `require` is available globally\r\n",
       "if ((typeof(require) !==  typeof(Function)) || (typeof(require.config) !== typeof(Function))) {\r\n",
       "    let require_script = document.createElement('script');\r\n",
       "    require_script.setAttribute('src', 'https://cdnjs.cloudflare.com/ajax/libs/require.js/2.3.6/require.min.js');\r\n",
       "    require_script.setAttribute('type', 'text/javascript');\r\n",
       "    \r\n",
       "    \r\n",
       "    require_script.onload = function() {\r\n",
       "        loadDotnetInteractiveApi();\r\n",
       "    };\r\n",
       "\r\n",
       "    document.getElementsByTagName('head')[0].appendChild(require_script);\r\n",
       "}\r\n",
       "else {\r\n",
       "    loadDotnetInteractiveApi();\r\n",
       "}\r\n",
       "\r\n",
       "    </script>\r\n",
       "</div>"
      ]
     },
     "metadata": {},
     "output_type": "display_data"
    }
   ],
   "source": [
    "/*\n",
    "if ipAddress consists of 4 numbers\n",
    "and\n",
    "if each ipAddress number has no leading zeroes\n",
    "and\n",
    "if each ipAddress number is in range 0 - 255\n",
    "\n",
    "then ipAddress is valid\n",
    "\n",
    "else ipAddress is invalid\n",
    "*/"
   ]
  },
  {
   "cell_type": "markdown",
   "id": "807d1cfc",
   "metadata": {},
   "source": [
    "Pseudo-code is a great way to begin tackling any problem. Using this comment block, you bridge the gap between the prompt rules and the program code, clarifying the major tasks your code will perform. Pseudo-code doesn't need to be functional or adhere to syntax rules, however, it should be a clear explanation of what the code will do. Now let's turn this into real code!\n",
    "\n",
    "3. Enter a new blank code line, then type the following code in the Editor:"
   ]
  },
  {
   "cell_type": "raw",
   "id": "5214a256",
   "metadata": {},
   "source": [
    "if (ValidateLength () && ValidateZeroes() && ValidateRange())\n",
    "{\n",
    "    Console.WriteLine($\"ip is a valid IPv4 address\");\n",
    "}\n",
    "else\n",
    "{\n",
    "    Console.WriteLine($\"ip is an invalid IPv4 address\");\n",
    "}"
   ]
  },
  {
   "cell_type": "markdown",
   "id": "2d8a65ff",
   "metadata": {},
   "source": [
    "In this step, you transform the 'if' statements from your pseudo-code into methods and output the results. Don't worry about defining the methods yet; you can assume that each method performs the task its name describes. You'll fix the compilation errors and create the method logic soon, but focus on the big picture for now. When you begin working on a new program, focusing on the overall design helps you stay organized and develop your application faster.\n",
    "\n",
    "4. Enter a new blank code line below the existing code, then type the following code in the Editor:"
   ]
  },
  {
   "cell_type": "raw",
   "id": "253d58bd",
   "metadata": {},
   "source": [
    "void ValidateLength() {}\n",
    "void ValidateZeroes() {}\n",
    "void ValidateRange() {}"
   ]
  },
  {
   "cell_type": "markdown",
   "id": "70c58bf1",
   "metadata": {},
   "source": [
    "Notice how using placeholder methods allowed you to quickly approach the problem and structure your code to develop the solution. Now that you have a structured plan in place, you can continue to solve the problem by filling in the code piece by piece.\n",
    "\n",
    "## Develop your solution\n",
    "\n",
    "Now that you have all the placeholder methods needed to solve the problem, you can begin to focus on the details of your solution. Keep in mind that the input format of the IPv4 address will be a string consisting of digits separated by dots. Let's get started!\n",
    "\n",
    "1. At the beginning of your program, create variables to store the input and validation statuses:"
   ]
  },
  {
   "cell_type": "code",
   "execution_count": 1,
   "id": "374e98f1",
   "metadata": {},
   "outputs": [
    {
     "data": {
      "text/html": [
       "\r\n",
       "<div>\r\n",
       "    <div id='dotnet-interactive-this-cell-6800.Microsoft.DotNet.Interactive.Http.HttpPort' style='display: none'>\r\n",
       "        The below script needs to be able to find the current output cell; this is an easy method to get it.\r\n",
       "    </div>\r\n",
       "    <script type='text/javascript'>\r\n",
       "async function probeAddresses(probingAddresses) {\r\n",
       "    function timeout(ms, promise) {\r\n",
       "        return new Promise(function (resolve, reject) {\r\n",
       "            setTimeout(function () {\r\n",
       "                reject(new Error('timeout'))\r\n",
       "            }, ms)\r\n",
       "            promise.then(resolve, reject)\r\n",
       "        })\r\n",
       "    }\r\n",
       "\r\n",
       "    if (Array.isArray(probingAddresses)) {\r\n",
       "        for (let i = 0; i < probingAddresses.length; i++) {\r\n",
       "\r\n",
       "            let rootUrl = probingAddresses[i];\r\n",
       "\r\n",
       "            if (!rootUrl.endsWith('/')) {\r\n",
       "                rootUrl = `${rootUrl}/`;\r\n",
       "            }\r\n",
       "\r\n",
       "            try {\r\n",
       "                let response = await timeout(1000, fetch(`${rootUrl}discovery`, {\r\n",
       "                    method: 'POST',\r\n",
       "                    cache: 'no-cache',\r\n",
       "                    mode: 'cors',\r\n",
       "                    timeout: 1000,\r\n",
       "                    headers: {\r\n",
       "                        'Content-Type': 'text/plain'\r\n",
       "                    },\r\n",
       "                    body: probingAddresses[i]\r\n",
       "                }));\r\n",
       "\r\n",
       "                if (response.status == 200) {\r\n",
       "                    return rootUrl;\r\n",
       "                }\r\n",
       "            }\r\n",
       "            catch (e) { }\r\n",
       "        }\r\n",
       "    }\r\n",
       "}\r\n",
       "\r\n",
       "function loadDotnetInteractiveApi() {\r\n",
       "    probeAddresses([\"http://192.168.0.25:1000/\", \"http://127.0.0.1:1000/\"])\r\n",
       "        .then((root) => {\r\n",
       "        // use probing to find host url and api resources\r\n",
       "        // load interactive helpers and language services\r\n",
       "        let dotnetInteractiveRequire = require.config({\r\n",
       "        context: '6800.Microsoft.DotNet.Interactive.Http.HttpPort',\r\n",
       "                paths:\r\n",
       "            {\r\n",
       "                'dotnet-interactive': `${root}resources`\r\n",
       "                }\r\n",
       "        }) || require;\r\n",
       "\r\n",
       "            window.dotnetInteractiveRequire = dotnetInteractiveRequire;\r\n",
       "\r\n",
       "            window.configureRequireFromExtension = function(extensionName, extensionCacheBuster) {\r\n",
       "                let paths = {};\r\n",
       "                paths[extensionName] = `${root}extensions/${extensionName}/resources/`;\r\n",
       "                \r\n",
       "                let internalRequire = require.config({\r\n",
       "                    context: extensionCacheBuster,\r\n",
       "                    paths: paths,\r\n",
       "                    urlArgs: `cacheBuster=${extensionCacheBuster}`\r\n",
       "                    }) || require;\r\n",
       "\r\n",
       "                return internalRequire\r\n",
       "            };\r\n",
       "        \r\n",
       "            dotnetInteractiveRequire([\r\n",
       "                    'dotnet-interactive/dotnet-interactive'\r\n",
       "                ],\r\n",
       "                function (dotnet) {\r\n",
       "                    dotnet.init(window);\r\n",
       "                },\r\n",
       "                function (error) {\r\n",
       "                    console.log(error);\r\n",
       "                }\r\n",
       "            );\r\n",
       "        })\r\n",
       "        .catch(error => {console.log(error);});\r\n",
       "    }\r\n",
       "\r\n",
       "// ensure `require` is available globally\r\n",
       "if ((typeof(require) !==  typeof(Function)) || (typeof(require.config) !== typeof(Function))) {\r\n",
       "    let require_script = document.createElement('script');\r\n",
       "    require_script.setAttribute('src', 'https://cdnjs.cloudflare.com/ajax/libs/require.js/2.3.6/require.min.js');\r\n",
       "    require_script.setAttribute('type', 'text/javascript');\r\n",
       "    \r\n",
       "    \r\n",
       "    require_script.onload = function() {\r\n",
       "        loadDotnetInteractiveApi();\r\n",
       "    };\r\n",
       "\r\n",
       "    document.getElementsByTagName('head')[0].appendChild(require_script);\r\n",
       "}\r\n",
       "else {\r\n",
       "    loadDotnetInteractiveApi();\r\n",
       "}\r\n",
       "\r\n",
       "    </script>\r\n",
       "</div>"
      ]
     },
     "metadata": {},
     "output_type": "display_data"
    }
   ],
   "source": [
    "string ipv4Input = \"107.31.1.5\";\n",
    "bool validLength = false;\n",
    "bool validZeroes = false;\n",
    "bool validRange = false;"
   ]
  },
  {
   "cell_type": "markdown",
   "id": "86d855ae",
   "metadata": {},
   "source": [
    "2. Update your solution code to use the validation variables as follows:"
   ]
  },
  {
   "cell_type": "raw",
   "id": "2d9c39d3",
   "metadata": {},
   "source": [
    "ValidateLength();\n",
    "ValidateZeroes();\n",
    "ValidateRange();\n",
    "\n",
    "if (validLength && validZeroes && validRange)\n",
    "{\n",
    "    Console.WriteLine($\"ip is a valid IPv4 address\");\n",
    "}\n",
    "else\n",
    "{\n",
    "    Console.WriteLine($\"ip is an invalid IPv4 address\");\n",
    "}"
   ]
  },
  {
   "cell_type": "markdown",
   "id": "ee0d74e0",
   "metadata": {},
   "source": [
    "3. Update the ValidateLength method as follows:"
   ]
  },
  {
   "cell_type": "raw",
   "id": "fa70afb9",
   "metadata": {},
   "source": [
    "void ValidateLength()\n",
    "{\n",
    "    string[] address = ipv4Input.Split(\".\");\n",
    "    validLength = address.Length == 4;\n",
    "}"
   ]
  },
  {
   "cell_type": "markdown",
   "id": "2fe76477",
   "metadata": {},
   "source": [
    "The first rule states that the IPv4 address needs top have four numbers. So in this code, you use string.Split to separate the digits and check that there are four of them.\n",
    "\n",
    "4. Update the ValidateZeroes method as follows:"
   ]
  },
  {
   "cell_type": "raw",
   "id": "e80945c8",
   "metadata": {},
   "source": [
    "void ValidateZeroes() \n",
    "{\n",
    "    string[] address = ipv4Input.Split(\".\");\n",
    "\n",
    "    foreach (string number in address) \n",
    "    {\n",
    "        if (number.Length > 1 && number.StartsWith(\"0\")) \n",
    "        {\n",
    "            validZeroes = false;\n",
    "        }\n",
    "    }\n",
    "\n",
    "    validZeroes = true;\n",
    "}"
   ]
  },
  {
   "cell_type": "markdown",
   "id": "e3640394",
   "metadata": {},
   "source": [
    "Take a moment to consider how the rule translates to code.\n",
    "\n",
    "The second rule states that the numbers in the IPv4 address must not contain leading zeroes. So the method needs to check numbers for leading zeroes while accepting 0 as a valid number. If all the numbers have valid zeroes, validZeroes should be equal to true, and false otherwise. So in this code, you check that each number with more than one digit does not begin with a zero.\n",
    "\n",
    "If you look closely, you'll notice that validZeroes is set to true after the foreach loop completes. However, you only want to set validZeroes to true if no leading zeroes are found. You could correct this bug by seting validZeroes = true before the foreach loop runs. However, you can also correct this bug using a return statement.\n",
    "\n",
    "5. Update you code to the following:"
   ]
  },
  {
   "cell_type": "raw",
   "id": "411c59c1",
   "metadata": {},
   "source": [
    "foreach (string number in address) \n",
    "{\n",
    "    if (number.Length > 1 && number.StartsWith(\"0\")) \n",
    "    {\n",
    "        validZeroes = false;\n",
    "        return;\n",
    "    }\n",
    "}"
   ]
  },
  {
   "cell_type": "markdown",
   "id": "8412ae4a",
   "metadata": {},
   "source": [
    "The **return** statement terminates execution of the method and returns control to the method caller. Adding a return statement after validZeroes = false terminates the method after the first invalid zero is found. If no invalid zero is found, the method will terminate after setting validZeroes to true. Let's move on to the next method.\n",
    "\n",
    "6. Update the ValidateRange method as follows:"
   ]
  },
  {
   "cell_type": "raw",
   "id": "df6a24e9",
   "metadata": {},
   "source": [
    "void ValidateRange() \n",
    "{\n",
    "    string[] address = ipv4Input.Split(\".\");\n",
    "\n",
    "    foreach (string number in address) \n",
    "    {\n",
    "        if (int.Parse(number) > 255) \n",
    "        {\n",
    "            validRange = false;\n",
    "            return;\n",
    "        }\n",
    "    }\n",
    "    validRange = true;\n",
    "}"
   ]
  },
  {
   "cell_type": "markdown",
   "id": "ce071c52",
   "metadata": {},
   "source": [
    "The third rule states that each number in the IPv4 address must range from 0 to 255. So in this code, you check that each number is less than 255, and if not, terminate execution after setting validRange to false. Since the input string only contains digits and dots, you don't need to check for negative numbers.\n",
    "\n",
    "However, there might be a case where no digits are present between dots. For example, \"255...255\". In this case, string.Split(\".\") would return empty entries, causing int.Parse to fail. You can prevent this by specifying StringSplitOptions.\n",
    "\n",
    "7. Update your code as follows:"
   ]
  },
  {
   "cell_type": "raw",
   "id": "f340cd21",
   "metadata": {},
   "source": [
    "string[] address = ipv4Input.Split(\".\", StringSplitOptions.RemoveEmptyEntries);"
   ]
  },
  {
   "cell_type": "markdown",
   "id": "36e0ff92",
   "metadata": {},
   "source": [
    "Using StringSplitOptions.RemoveEmptyEntries omits entries from the address array and prevents attempts to parse empty strings.\n",
    "\n",
    "## Complete your solution\n",
    "\n",
    "Now that you have all the methods completed to validate an IP address, it's time to revisit your initial solution. In this task, you'll add more input values and prepare to test your code.\n",
    "\n",
    "1. Locate the following code you wrote earlier in the program:"
   ]
  },
  {
   "cell_type": "code",
   "execution_count": 2,
   "id": "af8780b1",
   "metadata": {},
   "outputs": [],
   "source": [
    "string ipv4Input = \"107.31.1.5\";"
   ]
  },
  {
   "cell_type": "markdown",
   "id": "2b8914ee",
   "metadata": {},
   "source": [
    "2. Update the code as follows:"
   ]
  },
  {
   "cell_type": "code",
   "execution_count": 3,
   "id": "da35f643",
   "metadata": {},
   "outputs": [],
   "source": [
    "string[] ipv4Input = {\"107.31.1.5\", \"255.0.0.255\", \"555..0.555\", \"255...255\"};"
   ]
  },
  {
   "cell_type": "markdown",
   "id": "26844770",
   "metadata": {},
   "source": [
    "When developing a solution, it is important to test your code with different input cases. In this code, you provide a decent range of test values. Now that you've updated your test input, you'll need to update your code to use the new values. Since the values are in an array, you'll need to update your code to test each one using a loop.\n",
    "\n",
    "3. Update your code as follows:"
   ]
  },
  {
   "cell_type": "raw",
   "id": "93d6a684",
   "metadata": {},
   "source": [
    "foreach (string ip in ipv4Input) \n",
    "{\n",
    "    ValidateLength(); \n",
    "    ValidateZeroes(); \n",
    "    ValidateRange();\n",
    "\n",
    "    if (validLength && validZeroes && validRange) \n",
    "    {\n",
    "        Console.WriteLine($\"{ip} is a valid IPv4 address\");\n",
    "    } \n",
    "    else \n",
    "    {\n",
    "        Console.WriteLine($\"{ip} is an invalid IPv4 address\");\n",
    "    }\n",
    "}"
   ]
  },
  {
   "cell_type": "markdown",
   "id": "2c1ebb98",
   "metadata": {},
   "source": [
    "Lastly, you need to fix the input data each method uses since you updated ipv4Input  from a string to an array. Since each method uses string.Split, you can declare a variable to store the result of string.Split and use it in each method instead.\n",
    "\n",
    "4. Add a variable to store the current IPv4 address that each method will reference:"
   ]
  },
  {
   "cell_type": "code",
   "execution_count": 4,
   "id": "15a0f23a",
   "metadata": {},
   "outputs": [],
   "source": [
    "string[] ipv4Input = {\"107.31.1.5\", \"255.0.0.255\", \"555..0.555\", \"255...255\"};\n",
    "string[] address;\n",
    "bool validLength = false;\n",
    "bool validZeroes = false;\n",
    "bool validRange = false;"
   ]
  },
  {
   "cell_type": "markdown",
   "id": "2c94a8ac",
   "metadata": {},
   "source": [
    "5. Initialize address using string.Split as follows:"
   ]
  },
  {
   "cell_type": "raw",
   "id": "f7478042",
   "metadata": {},
   "source": [
    "foreach (string ip in ipv4Input) \n",
    "{\n",
    "    address = ip.Split(\".\", StringSplitOptions.RemoveEmptyEntries);"
   ]
  },
  {
   "cell_type": "markdown",
   "id": "78963900",
   "metadata": {},
   "source": [
    "6. Remove references to string.Split from each of the validation methods so that they use the global address variable instead. For example:"
   ]
  },
  {
   "cell_type": "raw",
   "id": "d8174dcb",
   "metadata": {},
   "source": [
    "void ValidateLength() \n",
    "{\n",
    "    validLength = address.Length == 4;\n",
    "};"
   ]
  },
  {
   "cell_type": "markdown",
   "id": "476f402d",
   "metadata": {},
   "source": [
    "## Check Your Work\n",
    "\n",
    "In this task, you'll run your application from the Integrated Terminal and verify your code is working correctly. Let's get started.\n",
    "\n",
    "1. Compare your code with the following to ensure it is correct:"
   ]
  },
  {
   "cell_type": "code",
   "execution_count": 6,
   "id": "ce09a0f5",
   "metadata": {},
   "outputs": [
    {
     "name": "stdout",
     "output_type": "stream",
     "text": [
      "107.31.1.5 is a valid IPv4 address\n",
      "255.0.0.255 is a valid IPv4 address\n",
      "555..0.555 is an invalid IPv4 address\n",
      "255...255 is an invalid IPv4 address\n"
     ]
    }
   ],
   "source": [
    "string[] ipv4Input = {\"107.31.1.5\", \"255.0.0.255\", \"555..0.555\", \"255...255\"};\n",
    "string[] address;\n",
    "bool validLength = false;\n",
    "bool validZeroes = false;\n",
    "bool validRange = false;\n",
    "\n",
    "foreach (string ip in ipv4Input) \n",
    "{\n",
    "    address = ip.Split(\".\", StringSplitOptions.RemoveEmptyEntries);\n",
    "\n",
    "    ValidateLength(); \n",
    "    ValidateZeroes(); \n",
    "    ValidateRange();\n",
    "\n",
    "    if (validLength && validZeroes && validRange) \n",
    "    {\n",
    "        Console.WriteLine($\"{ip} is a valid IPv4 address\");\n",
    "    } \n",
    "    else \n",
    "    {\n",
    "        Console.WriteLine($\"{ip} is an invalid IPv4 address\");\n",
    "    }\n",
    "}\n",
    "\n",
    "void ValidateLength() \n",
    "{\n",
    "    validLength = address.Length == 4;\n",
    "}\n",
    "\n",
    "void ValidateZeroes() \n",
    "{\n",
    "    foreach (string number in address) \n",
    "    {\n",
    "        if (number.Length > 1 && number.StartsWith(\"0\")) \n",
    "        {\n",
    "            validZeroes = false;\n",
    "            return;\n",
    "        }\n",
    "    }\n",
    "\n",
    "    validZeroes = true;\n",
    "}\n",
    "\n",
    "void ValidateRange() \n",
    "{\n",
    "    foreach (string number in address) \n",
    "    {\n",
    "        if (int.Parse(number) > 255) \n",
    "        {\n",
    "            validRange = false;\n",
    "            return;\n",
    "        }\n",
    "    }\n",
    "    validRange = true;\n",
    "}"
   ]
  },
  {
   "cell_type": "code",
   "execution_count": null,
   "id": "c1c1143b",
   "metadata": {},
   "outputs": [],
   "source": []
  }
 ],
 "metadata": {
  "kernelspec": {
   "display_name": ".NET (C#)",
   "language": "C#",
   "name": ".net-csharp"
  },
  "language_info": {
   "file_extension": ".cs",
   "mimetype": "text/x-csharp",
   "name": "C#",
   "pygments_lexer": "csharp",
   "version": "8.0"
  }
 },
 "nbformat": 4,
 "nbformat_minor": 5
}
