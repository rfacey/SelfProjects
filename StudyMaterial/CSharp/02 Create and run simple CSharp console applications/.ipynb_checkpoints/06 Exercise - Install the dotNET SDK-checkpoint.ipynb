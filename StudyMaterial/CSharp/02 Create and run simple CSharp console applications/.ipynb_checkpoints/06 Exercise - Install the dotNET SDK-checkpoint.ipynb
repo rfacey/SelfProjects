{
 "cells": [
  {
   "cell_type": "markdown",
   "id": "32575ba4",
   "metadata": {},
   "source": [
    "Source: https://learn.microsoft.com/en-us/training/modules/install-configure-visual-studio-code/6-exercise-install-dotnet"
   ]
  },
  {
   "cell_type": "markdown",
   "id": "d578f8e6",
   "metadata": {},
   "source": [
    "# Exercise - Install the .NET SDK\n",
    "\n",
    ".NET is a cross-platform, open-source developer platform that can be used to develop different types of applications. It includes the software languages and code libraries used to develop .NET applications. You can write .NET applications in C#, F#, or Visual Basic.\n",
    "\n",
    "The .NET runtime is the code library that's required to run your C# applications. You may also see the .NET runtime referred to as the COmmon Language Runtime, or CLR. The .NET runtime isn't required to *write* your code, but it's required to actually *run* your applications.\n",
    "\n",
    "## Check to see if .NET is already installed\n",
    "\n",
    "1. Ensure that you have Visual Studio Code open. You can use the Windows Start menu to locate and open Visual Studio Code.\n",
    "2. On the Terminal menu, select New Terminal. You can use the Terminal panel to enter a .NET CLI command.\n",
    "3. At the Terminal command prompt, type:"
   ]
  },
  {
   "cell_type": "raw",
   "id": "3c63f17e",
   "metadata": {},
   "source": [
    "dotnet --version"
   ]
  },
  {
   "attachments": {
    "image.png": {
     "image/png": "[encoded data removed]"
    }
   },
   "cell_type": "markdown",
   "id": "c9ea7c2b",
   "metadata": {},
   "source": [
    "Then press the Enter key. This command displays the version number if .NET is installed on your PC.\n",
    "![image.png](attachment:image.png)"
   ]
  },
  {
   "cell_type": "markdown",
   "id": "1ad7ddd6",
   "metadata": {},
   "source": [
    "4. Take a moment to view the response to your command. If you receive an error message telling you that the term dotnet isn't recognized, then you don't have the .NET SDK installed.\n",
    "5. Close Visual Studio Code.\n",
    "\n",
    "Note: I will not be doing the rest of this exercise. I already have .NET installed. "
   ]
  }
 ],
 "metadata": {
  "kernelspec": {
   "display_name": ".NET (C#)",
   "language": "C#",
   "name": ".net-csharp"
  },
  "language_info": {
   "file_extension": ".cs",
   "mimetype": "text/x-csharp",
   "name": "C#",
   "pygments_lexer": "csharp",
   "version": "8.0"
  }
 },
 "nbformat": 4,
 "nbformat_minor": 5
}
