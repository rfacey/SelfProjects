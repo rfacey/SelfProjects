{
 "cells": [
  {
   "cell_type": "markdown",
   "id": "f95922cc-19e5-49b7-99b7-da7f3a2c6349",
   "metadata": {},
   "source": [
    "Source: https://huggingface.co/learn/nlp-course/chapter4/4?fw=pt"
   ]
  },
  {
   "cell_type": "markdown",
   "id": "ab535732-b41e-42cc-b7c1-80aac0746d0e",
   "metadata": {},
   "source": [
    "# Building a model card\n",
    "\n",
    "The model card is a file which is arguably as important as the model and tokenizer files in a model repository. It is the central definition of the model, ensuring reusability by fellow community memebers and reproducibility of results, and providing a platform on which other members may build their artifacts.\n",
    "\n",
    "Documenting the training and evaluation process helps others understand what"
   ]
  }
 ],
 "metadata": {
  "kernelspec": {
   "display_name": "Python 3 (ipykernel)",
   "language": "python",
   "name": "python3"
  },
  "language_info": {
   "codemirror_mode": {
    "name": "ipython",
    "version": 3
   },
   "file_extension": ".py",
   "mimetype": "text/x-python",
   "name": "python",
   "nbconvert_exporter": "python",
   "pygments_lexer": "ipython3",
   "version": "3.9.13"
  }
 },
 "nbformat": 4,
 "nbformat_minor": 5
}
