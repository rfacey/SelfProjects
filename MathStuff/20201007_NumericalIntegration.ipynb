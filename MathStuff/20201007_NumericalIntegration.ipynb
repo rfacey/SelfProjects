{
 "cells": [
  {
   "cell_type": "markdown",
   "metadata": {},
   "source": [
    "# Roberto Facey\n",
    "\n",
    "## Functions Start"
   ]
  },
  {
   "cell_type": "code",
   "execution_count": 1,
   "metadata": {},
   "outputs": [],
   "source": [
    "import numpy as np\n",
    "import matplotlib.pyplot as plt\n",
    "import math\n",
    "\n",
    "#Composite Simpson's Rule\n",
    "def simpson(f, a, b, n):                    #INPUT endpoints a, b; even positive integer n.\n",
    "                                            #OUTPUT approximation X I to I.\n",
    "    h = (float(b) - float(a)) / float(n)    #Step 1 Set h = (b - a)/n\n",
    "    XI0 = f(float(a)) + f(float(b))         #Step 2 Set XI0 = f(a) + f(b);\n",
    "    XI1 = float(0)                          #XI1 = 0; (Summation of (x_2i-1))\n",
    "    XI2 = float(0)                          #XI2 = 0  (Summation of (x_2i))\n",
    "    for i in range(1, n - 1):               #Step 3 For i = 1 ... n - 1 do steps 4 and 5\n",
    "        X = a + i*h                         #Step 4 Set X = a + ih\n",
    "        if i % 2 == 0:                      #Step 5 If i is even then set XI2 = XI2 + f(X)\n",
    "            XI2 = XI2 + f(X)\n",
    "        else:                               #Else set XI1 = XI1 + f(X)\n",
    "            XI1 = XI1 + f(X) \n",
    "    XI = h*(XI0 + 2 * XI2 + 4 * XI1)/3      #Step 6 Set XI = h(XI0 + 2 * XI2 + 4 * XI1)/3\n",
    "    return XI                               #Step 7 OUTPUT(XI);"
   ]
  },
  {
   "cell_type": "code",
   "execution_count": 2,
   "metadata": {},
   "outputs": [
    {
     "data": {
      "text/plain": [
       "0.9999979056048846"
      ]
     },
     "execution_count": 2,
     "metadata": {},
     "output_type": "execute_result"
    }
   ],
   "source": [
    "#Test to make sure function works correctly\n",
    "simpson(np.sin,0,np.pi/2,1000000)"
   ]
  },
  {
   "cell_type": "code",
   "execution_count": 3,
   "metadata": {},
   "outputs": [],
   "source": [
    "#Trapezoidal Rule\n",
    "def trap(f, a, b, n):                              #INPUT endpoints a, b; even positive integer n.\n",
    "    h = (float(b) - float(a)) / float(n)           #Set the distance of each increment\n",
    "    s = 0                                          #Add a variable for summation\n",
    "    for i in range(0, n-1):                        #For each increment in the range (n-1 adds to n)\n",
    "        s = s + (h/2)*(f(a+i*h) + f(a+(i+1)*h))    #Add the value for each increment\n",
    "    return s                                       #Return the summation"
   ]
  },
  {
   "cell_type": "code",
   "execution_count": 4,
   "metadata": {},
   "outputs": [
    {
     "data": {
      "text/plain": [
       "0.999998429203461"
      ]
     },
     "execution_count": 4,
     "metadata": {},
     "output_type": "execute_result"
    }
   ],
   "source": [
    "#Test to make sure function works correctly\n",
    "trap(np.sin,0,np.pi/2,1000000)"
   ]
  },
  {
   "cell_type": "markdown",
   "metadata": {},
   "source": [
    "## Questions Start"
   ]
  },
  {
   "cell_type": "markdown",
   "metadata": {},
   "source": [
    "### Question 01"
   ]
  },
  {
   "cell_type": "markdown",
   "metadata": {},
   "source": [
    "f(x) = e^(-x^2)\n",
    "\n",
    "f'(x) = -2x * e^(-x^2)\n",
    "\n",
    "f''(x) = (4x^(2) - 2) * e^(-x^2)\n",
    "\n",
    "f^(3)(x) = (-8x^(3) + 12x) * e^(-x^2)\n",
    "\n",
    "f^(4)(x) = (16x^(4) - 48x^(2) + 12) * e^(-x^2)\n",
    "\n",
    "Tried 0 <= x <= 1 because 1 is easy to work with\n",
    "\n",
    "f''(0) = (2/sqrt(pi))(4(0)^(2) - 2) * e^(-(0)^2) = -2.2567\n",
    "\n",
    "f''(2) = (2/sqrt(pi))(4(2)^(2) - 2) * e^(-(2)^2) = 0.2893"
   ]
  },
  {
   "cell_type": "code",
   "execution_count": 5,
   "metadata": {
    "scrolled": false
   },
   "outputs": [
    {
     "data": {
      "image/png": "[encoded data removed]",
      "text/plain": [
       "<matplotlib.figure.Figure at 0x1f793db8a58>"
      ]
     },
     "metadata": {},
     "output_type": "display_data"
    }
   ],
   "source": [
    "def prob1(x):\n",
    "    return (4*x**(2) - 2) * math.exp(-x**(2))\n",
    "\n",
    "prob1v = np.vectorize(prob1)\n",
    "\n",
    "x = np.arange(0, 2, 0.2) \n",
    "\n",
    "\n",
    "plt.plot(x, prob1v(x)) \n",
    "\n",
    "plt.show()"
   ]
  },
  {
   "cell_type": "markdown",
   "metadata": {},
   "source": [
    "|-2.2567| > |0.2893|\n",
    "\n",
    "m = 2.2567\n",
    "\n",
    "((2 - a)/12) <= h^2 * m\n",
    "\n",
    "((2 - 0)/12) h^2 * (2.2567) <= 10^(-6)\n",
    "\n",
    "(1/6) h^2 * (2.2567) <= 10^(-6)\n",
    "\n",
    "h^2 * (2.2567)<= (10^(-6) * 6)\n",
    "\n",
    "h^2 <= (10^(-6) * 6) / (2.2567)\n",
    "\n",
    "h^2 <= ((10^(-6) * 6) / (2.2567))^(1/2)\n",
    "\n",
    "h <= 0.001630\n",
    "\n",
    "n = pi/h\n",
    "\n",
    "n >= 1927.3574\n",
    "\n",
    "n >= 1928 (Next whole number)"
   ]
  },
  {
   "cell_type": "code",
   "execution_count": 6,
   "metadata": {},
   "outputs": [
    {
     "data": {
      "text/plain": [
       "0.9953222650189527"
      ]
     },
     "execution_count": 6,
     "metadata": {},
     "output_type": "execute_result"
    }
   ],
   "source": [
    "math.erf(2)"
   ]
  },
  {
   "cell_type": "code",
   "execution_count": 7,
   "metadata": {},
   "outputs": [],
   "source": [
    "def nerf(x):\n",
    "    return math.exp(-x**2)"
   ]
  },
  {
   "cell_type": "code",
   "execution_count": 8,
   "metadata": {},
   "outputs": [
    {
     "data": {
      "text/plain": [
       "0.9953007742647099"
      ]
     },
     "execution_count": 8,
     "metadata": {},
     "output_type": "execute_result"
    }
   ],
   "source": [
    "(2/math.sqrt(math.pi)) * (trap(nerf,0, 2, 1928))"
   ]
  },
  {
   "cell_type": "markdown",
   "metadata": {},
   "source": [
    "### Question 02"
   ]
  },
  {
   "cell_type": "markdown",
   "metadata": {},
   "source": [
    "f(x) = e^(-x^2)\n",
    "\n",
    "f'(x) = -2x * e^(-x^2)\n",
    "\n",
    "f''(x) = (4x^(2) - 2) * e^(-x^2)\n",
    "\n",
    "f^(3)(x) = (-8x^(3) + 12x) * e^(-x^2)\n",
    "\n",
    "f^(4)(x) = (16x^(4) - 48x^(2) + 12) * e^(-x^2)\n",
    "\n",
    "Tried 0 <= x <= 1 because 1 is easy to work with\n",
    "\n",
    "f^(4)(0) = (2/sqrt(pi))((16(0)^(4) - 48(0)^(2) + 12) * e^(-(0)^2)) = 13.5405\n",
    "\n",
    "f^(4)(1) = (2/sqrt(pi))((16(2)^(4) - 48(2)^(2) + 12) * e^(-(2)^2)) = 1.5706"
   ]
  },
  {
   "cell_type": "code",
   "execution_count": 9,
   "metadata": {
    "scrolled": true
   },
   "outputs": [
    {
     "data": {
      "image/png": "[encoded data removed]",
      "text/plain": [
       "<matplotlib.figure.Figure at 0x1f793de2e10>"
      ]
     },
     "metadata": {},
     "output_type": "display_data"
    }
   ],
   "source": [
    "def prob2(x):\n",
    "    return (16*x**(4) - 48*x**(2) + 12) * math.exp(-x**2)\n",
    "\n",
    "prob2v = np.vectorize(prob2)\n",
    "\n",
    "x = np.arange(0, 2, 0.2) \n",
    "\n",
    "\n",
    "plt.plot(x, prob2v(x)) \n",
    "\n",
    "plt.show()"
   ]
  },
  {
   "cell_type": "markdown",
   "metadata": {},
   "source": [
    "|13.5405| > |1.5706|\n",
    "\n",
    "m = 13.5405\n",
    "\n",
    "((b - a)/90) <= h^4 * m\n",
    "\n",
    "((2 - 0)/90) h^4 * (13.5405) <= 10^(-6)\n",
    "\n",
    "(2/90) h^4 <= 10^(-6) / (13.5405)\n",
    "\n",
    "(1/45) h^4 <= 10^(-6) / (13.5405)\n",
    "\n",
    "h^4 <= 10^(-6) (45) / (13.5405)\n",
    "\n",
    "h <= (10^(-6) (45) / (13.5405))^(1/4)\n",
    "\n",
    "h <= 0.04269\n",
    "\n",
    "n = pi/h\n",
    "\n",
    "n >= 73.5908\n",
    "\n",
    "n >= 74 (Next whole even number)"
   ]
  },
  {
   "cell_type": "code",
   "execution_count": 10,
   "metadata": {
    "scrolled": true
   },
   "outputs": [
    {
     "data": {
      "text/plain": [
       "0.9944930847717389"
      ]
     },
     "execution_count": 10,
     "metadata": {},
     "output_type": "execute_result"
    }
   ],
   "source": [
    "(2/math.sqrt(math.pi)) * (simpson(nerf,0, 2, 74))"
   ]
  },
  {
   "cell_type": "markdown",
   "metadata": {},
   "source": [
    "Simpson rule uses less iterations, but is not as accurate as the composite trapezoidal rule. The composite trapezoidal rule is more accurate, but goes through many more iterations (and thus uses more computer resources)."
   ]
  },
  {
   "cell_type": "markdown",
   "metadata": {},
   "source": [
    "### Question 03"
   ]
  },
  {
   "cell_type": "code",
   "execution_count": 11,
   "metadata": {
    "scrolled": true
   },
   "outputs": [
    {
     "data": {
      "image/png": "[encoded data removed]",
      "text/plain": [
       "<matplotlib.figure.Figure at 0x1f795ee06a0>"
      ]
     },
     "metadata": {},
     "output_type": "display_data"
    }
   ],
   "source": [
    "#Part 1\n",
    "def spec(wavelength):\n",
    "    return (8 * np.pi * (6.62607004 * 10**(-34) * (299792458))/(wavelength**(5) * (math.exp((2) / wavelength) - 1)))\n",
    "\n",
    "spec2 = np.vectorize(spec)\n",
    "\n",
    "x = np.arange(0.01, 4, 0.1) \n",
    "\n",
    "plt.plot(x, spec2(x)) \n",
    "\n",
    "plt.show()"
   ]
  },
  {
   "cell_type": "code",
   "execution_count": 12,
   "metadata": {},
   "outputs": [
    {
     "data": {
      "text/plain": [
       "4.973891292665168e-25"
      ]
     },
     "execution_count": 12,
     "metadata": {},
     "output_type": "execute_result"
    }
   ],
   "source": [
    "#Part 2\n",
    "simpson(spec,0.01,0.4,1000000)"
   ]
  },
  {
   "cell_type": "code",
   "execution_count": null,
   "metadata": {},
   "outputs": [],
   "source": []
  }
 ],
 "metadata": {
  "kernelspec": {
   "display_name": "Python 3",
   "language": "python",
   "name": "python3"
  },
  "language_info": {
   "codemirror_mode": {
    "name": "ipython",
    "version": 3
   },
   "file_extension": ".py",
   "mimetype": "text/x-python",
   "name": "python",
   "nbconvert_exporter": "python",
   "pygments_lexer": "ipython3",
   "version": "3.6.4"
  }
 },
 "nbformat": 4,
 "nbformat_minor": 2
}
