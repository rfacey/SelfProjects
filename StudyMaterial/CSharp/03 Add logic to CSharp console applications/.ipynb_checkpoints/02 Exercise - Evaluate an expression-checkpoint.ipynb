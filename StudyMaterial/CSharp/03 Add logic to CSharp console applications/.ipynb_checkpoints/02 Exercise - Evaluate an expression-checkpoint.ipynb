{
 "cells": [
  {
   "cell_type": "markdown",
   "id": "4a772ac2",
   "metadata": {},
   "source": [
    "Source: https://learn.microsoft.com/en-us/training/modules/csharp-evaluate-boolean-expressions/2-exercise-boolean-expressions"
   ]
  },
  {
   "cell_type": "markdown",
   "id": "e4112979",
   "metadata": {},
   "source": [
    "# Exercise - Evaluate an expression\n",
    "\n",
    "Decision logic is used to establish alternative pathways through your code, where the decision about which part to follow is based on the evaludation of an expression. For example, you may write some code that executes one of two paths based on a user's input. If the user enters the letter \"a\", your code will execute one code block. If they enter the letter \"b\", your code will execute a different code block. In this example, you're controlling the execution path based on the value assigned to a string. Your code selects an execution path based on an expression, how that expression is evaluated, and the underlying logic used to define the paths.\n",
    "\n",
    "Examining how to construct and evaluate an expression is a good place to start.\n",
    "\n",
    "## What is an expression?\n",
    "\n",
    "An expression is any combination of values (literal or variable), operators, and methods that return a single value. A statement is a complete instruction in C#, and statements are comprised of one or more expressions. For example, the following if statement contains a single expression that returns a single value:"
   ]
  },
  {
   "cell_type": "raw",
   "id": "4add02d7",
   "metadata": {},
   "source": [
    "if (myName == \"Luiz\")"
   ]
  },
  {
   "cell_type": "markdown",
   "id": "1668dcd3",
   "metadata": {},
   "source": [
    "You may have been thinking that the value returned by an expression would be a number of maybe a string. It's true that application developers use different types of expressions for different purposed. In this case, when you're developing an if selection statement, you'll be using an expression that returns either true or false. Developers refer to this type of expression as a Boolean expression. When your code includes a Boolean expression, return value is always a single true or false value.\n",
    "\n",
    "Boolean expressions are important because your code can use these expressions to decide which block of code to execute.\n",
    "\n",
    "There are many different types of operators that you can use within a Boolean expression. For example, the if statement above uses the equality operator == to check whether a single variable is assigned a particular value. The operator that you choose will depend on the available code paths, the conditions associated with the paths, and the underlying application logic.\n",
    "\n",
    "## Evaluating equality and inequality\n",
    "\n",
    "One of the most common code evaluations is a check to see whether two values are equal. When checking for equality, you'll locate the equality operator == between the two values being checked. If the values on either side of the equality operator are equivalent, then the expression will be return true. Otherwise, it will return false.\n",
    "\n",
    "Conversely, you may also need to check whether two values aren't equal. To check for inequality, you'll use the inequality ooperator != betwwen the two values.\n",
    "\n",
    "You may wonder why you need both equality and inequality operators. The reason will become clearer as you lean how to create branching statements and begin to write real world code. Two operators that perform opposite tasks allow you to be more expressive and compact.\n",
    "\n",
    "Now it's time to prepare your coding environment and begin writing code that evaluates Boolean expressions.\n",
    "\n",
    "## Prepare your coding environment\n",
    "\n",
    "This module includes hands-on activities that guide you through the process of building and running demonstration code. You are encouraged to complete theese activities using Visual Studio Code as your development environment. Using Visual Studio Code for these activities will help you become more comfortable writing and running code in a developer environment that's used by professionals worldwide.\n",
    "\n",
    "1. Open Visual Studio Code. You can use the Windows Start menu (or equivalent resource for another OS) to open Visual Studio Code.\n",
    "2. On the Visual Studio Code File menu, select Open Folder.\n",
    "3. In the Open Folder dialog, navigate to the Windows Desktop folder. If you have a different folder location where you keep code projects, you can use that folder location instead. For this training, the important thing is to have a location that's easy to locate and remember.\n",
    "4. In the Open Folder dialog, select Select Folder. If you see a security dialog asking if you trust the authors, select Yes.\n",
    "5. On this Visual Studio Code Terminal menu, select New Terminal. Notice that a command prompt in the Terminal panel displays the folder path for the current folder. For example:"
   ]
  },
  {
   "cell_type": "raw",
   "id": "ff707820",
   "metadata": {},
   "source": [
    "C:\\Users\\someuser\\Desktop>"
   ]
  },
  {
   "cell_type": "markdown",
   "id": "fb874324",
   "metadata": {},
   "source": [
    "6. At the Terminal command prompt, to create a new console application in a specified folder, type dotnet new console -o ./CsharpProjects/TestProjects and then press Enter. This .NET CLI command uses a .NET program template to create a new C# console application project in the specified folder location. The command creates the CsharpProjects and TestProject folder for you, and uses TestProject as the name of your .csproj file.\n",
    "7. In the EXPLORER panel, expand the CsharpProjects folder. You should see the TestProject folder and two files, a C# program file named Program.cs and a C# project file named TestProject.csproj.\n",
    "8. In the EXPLORER panel, to view your code file in the Editor panel, select Program.cs.\n",
    "9. Delete the existing code lines. You'll be using this C# console project to create, build, and run code samples during this module.\n",
    "10. Close the Terminal panel.\n",
    "\n",
    "## Use the equality operator\n",
    "\n",
    "1. Ensure that you ahve Visual Studio Code open and Program.cs displayed in the Editor panel\n",
    "2. Type the following code into the Visual Studio Code Editor."
   ]
  },
  {
   "cell_type": "code",
   "execution_count": 1,
   "id": "2d1252f0",
   "metadata": {},
   "outputs": [
    {
     "data": {
      "text/html": [
       "\r\n",
       "<div>\r\n",
       "    <div id='dotnet-interactive-this-cell-12676.Microsoft.DotNet.Interactive.Http.HttpPort' style='display: none'>\r\n",
       "        The below script needs to be able to find the current output cell; this is an easy method to get it.\r\n",
       "    </div>\r\n",
       "    <script type='text/javascript'>\r\n",
       "async function probeAddresses(probingAddresses) {\r\n",
       "    function timeout(ms, promise) {\r\n",
       "        return new Promise(function (resolve, reject) {\r\n",
       "            setTimeout(function () {\r\n",
       "                reject(new Error('timeout'))\r\n",
       "            }, ms)\r\n",
       "            promise.then(resolve, reject)\r\n",
       "        })\r\n",
       "    }\r\n",
       "\r\n",
       "    if (Array.isArray(probingAddresses)) {\r\n",
       "        for (let i = 0; i < probingAddresses.length; i++) {\r\n",
       "\r\n",
       "            let rootUrl = probingAddresses[i];\r\n",
       "\r\n",
       "            if (!rootUrl.endsWith('/')) {\r\n",
       "                rootUrl = `${rootUrl}/`;\r\n",
       "            }\r\n",
       "\r\n",
       "            try {\r\n",
       "                let response = await timeout(1000, fetch(`${rootUrl}discovery`, {\r\n",
       "                    method: 'POST',\r\n",
       "                    cache: 'no-cache',\r\n",
       "                    mode: 'cors',\r\n",
       "                    timeout: 1000,\r\n",
       "                    headers: {\r\n",
       "                        'Content-Type': 'text/plain'\r\n",
       "                    },\r\n",
       "                    body: probingAddresses[i]\r\n",
       "                }));\r\n",
       "\r\n",
       "                if (response.status == 200) {\r\n",
       "                    return rootUrl;\r\n",
       "                }\r\n",
       "            }\r\n",
       "            catch (e) { }\r\n",
       "        }\r\n",
       "    }\r\n",
       "}\r\n",
       "\r\n",
       "function loadDotnetInteractiveApi() {\r\n",
       "    probeAddresses([\"http://192.168.0.25:1000/\", \"http://127.0.0.1:1000/\"])\r\n",
       "        .then((root) => {\r\n",
       "        // use probing to find host url and api resources\r\n",
       "        // load interactive helpers and language services\r\n",
       "        let dotnetInteractiveRequire = require.config({\r\n",
       "        context: '12676.Microsoft.DotNet.Interactive.Http.HttpPort',\r\n",
       "                paths:\r\n",
       "            {\r\n",
       "                'dotnet-interactive': `${root}resources`\r\n",
       "                }\r\n",
       "        }) || require;\r\n",
       "\r\n",
       "            window.dotnetInteractiveRequire = dotnetInteractiveRequire;\r\n",
       "\r\n",
       "            window.configureRequireFromExtension = function(extensionName, extensionCacheBuster) {\r\n",
       "                let paths = {};\r\n",
       "                paths[extensionName] = `${root}extensions/${extensionName}/resources/`;\r\n",
       "                \r\n",
       "                let internalRequire = require.config({\r\n",
       "                    context: extensionCacheBuster,\r\n",
       "                    paths: paths,\r\n",
       "                    urlArgs: `cacheBuster=${extensionCacheBuster}`\r\n",
       "                    }) || require;\r\n",
       "\r\n",
       "                return internalRequire\r\n",
       "            };\r\n",
       "        \r\n",
       "            dotnetInteractiveRequire([\r\n",
       "                    'dotnet-interactive/dotnet-interactive'\r\n",
       "                ],\r\n",
       "                function (dotnet) {\r\n",
       "                    dotnet.init(window);\r\n",
       "                },\r\n",
       "                function (error) {\r\n",
       "                    console.log(error);\r\n",
       "                }\r\n",
       "            );\r\n",
       "        })\r\n",
       "        .catch(error => {console.log(error);});\r\n",
       "    }\r\n",
       "\r\n",
       "// ensure `require` is available globally\r\n",
       "if ((typeof(require) !==  typeof(Function)) || (typeof(require.config) !== typeof(Function))) {\r\n",
       "    let require_script = document.createElement('script');\r\n",
       "    require_script.setAttribute('src', 'https://cdnjs.cloudflare.com/ajax/libs/require.js/2.3.6/require.min.js');\r\n",
       "    require_script.setAttribute('type', 'text/javascript');\r\n",
       "    \r\n",
       "    \r\n",
       "    require_script.onload = function() {\r\n",
       "        loadDotnetInteractiveApi();\r\n",
       "    };\r\n",
       "\r\n",
       "    document.getElementsByTagName('head')[0].appendChild(require_script);\r\n",
       "}\r\n",
       "else {\r\n",
       "    loadDotnetInteractiveApi();\r\n",
       "}\r\n",
       "\r\n",
       "    </script>\r\n",
       "</div>"
      ]
     },
     "metadata": {},
     "output_type": "display_data"
    },
    {
     "name": "stdout",
     "output_type": "stream",
     "text": [
      "True\n",
      "False\n",
      "False\n",
      "True\n"
     ]
    }
   ],
   "source": [
    "Console.WriteLine(\"a\" == \"a\");\n",
    "Console.WriteLine(\"a\" == \"A\");\n",
    "Console.WriteLine(1 == 2);\n",
    "\n",
    "string myValue = \"a\";\n",
    "Console.WriteLine(myValue == \"a\");"
   ]
  },
  {
   "cell_type": "markdown",
   "id": "8ef6029b",
   "metadata": {},
   "source": [
    "You should see the output above.\n",
    "\n",
    "## Improve the check for string equality using the string's built-in helper methods\n",
    "\n",
    "You may be surprised that the line Console.WriteLine(\"a\" == \"A\"); outputs false. When comparing strings, case matters.\n",
    "\n",
    "Also, consider this line of code:"
   ]
  },
  {
   "cell_type": "code",
   "execution_count": 2,
   "id": "53ba847b",
   "metadata": {},
   "outputs": [
    {
     "name": "stdout",
     "output_type": "stream",
     "text": [
      "False\r\n"
     ]
    }
   ],
   "source": [
    "Console.WriteLine(\"a\" == \"a \");"
   ]
  },
  {
   "cell_type": "markdown",
   "id": "fe37d1ef",
   "metadata": {},
   "source": [
    "Here you've added a space character at the end of the string. This expression will also output false.\n",
    "\n",
    "In some cases, having a space character before or after the text might be perfectly acceptable. However, if you need to accept a match that isn't exact, you can \"massage\" the data first. \"Massaging\" the data means that you perform some cleanup before you perform a comparison for equality.\n",
    "\n",
    "For example, consider the case when you're collecting user input inside a loop. After each value is entered, you could provide the user with a prompt to determine if they want to continue, such as \"Do you want to continue (Y/N)?\". If the user wants to continue, they will probably enter either y or Y. You'll want your code to interpret both values equally, even though y isn't equivalent to Y.\n",
    "\n",
    "Before you check two string values for equality, especially when one or both values were entered by a user, you should:\n",
    "\n",
    "- Make sure both strings are all upper-case or all lower-case using the ToUpper() or ToLower() method on any string value.\n",
    "- Remove any leading or trailing blank spaces using the Trim() helper method on any string value.\n",
    "\n",
    "You can improve the previous equality check by chaining these two helper methods on beoth values, as shown in the following code listing:\n",
    "\n",
    "1. Replace the code in the Visual Studio Code Editor with the following code:"
   ]
  },
  {
   "cell_type": "code",
   "execution_count": 3,
   "id": "0cd05121",
   "metadata": {},
   "outputs": [
    {
     "name": "stdout",
     "output_type": "stream",
     "text": [
      "True\r\n"
     ]
    }
   ],
   "source": [
    "string value1 = \" a\";\n",
    "string value2 = \"A \";\n",
    "Console.WriteLine(value1.Trim().ToLower() == value2.Trim().ToLower());"
   ]
  },
  {
   "cell_type": "markdown",
   "id": "96ae583f",
   "metadata": {},
   "source": [
    "2. Save your code file, and then use Visual Studio Code to run your code.\n",
    "3. Notice that when you run the code this time, it outputs True.\n",
    "\n",
    "## Use the inequality operator\n",
    "\n",
    "1. Use the line comment operator // to comment out all the code from the previous step.\n",
    "2. Type the following code into the Visual Studio Code Editor."
   ]
  },
  {
   "cell_type": "code",
   "execution_count": 4,
   "id": "9f1240d2",
   "metadata": {},
   "outputs": [
    {
     "name": "stdout",
     "output_type": "stream",
     "text": [
      "False\n",
      "True\n",
      "True\n",
      "False\n"
     ]
    }
   ],
   "source": [
    "Console.WriteLine(\"a\" != \"a\");\n",
    "Console.WriteLine(\"a\" != \"A\");\n",
    "Console.WriteLine(1 != 2);\n",
    "\n",
    "string myValue = \"a\";\n",
    "Console.WriteLine(myValue != \"a\");"
   ]
  },
  {
   "cell_type": "markdown",
   "id": "8e7fceb6",
   "metadata": {},
   "source": [
    "3. Save your code file, and then use Visual Studio Code to run your code. You should see the output above.\n",
    "\n",
    "As you would expect, the result when using the inequality operator is the opposite of what you saw when using the equality operator. That means that your code will branch in the opposite manner as well, which can be exactly what you want.\n",
    "\n",
    "## Evaluating comparisons\n",
    "\n",
    "When working with numeric data types, you may want to determine if a value is larger or smaller than another value. Use the following operaotrs to perform these types of comparisons:\n",
    "\n",
    "- Greater than >\n",
    "- Less than <\n",
    "- Greater than or equal to >=\n",
    "- Less than or rqual to <=\n",
    "\n",
    "Naturally, the == and != operators that you used to compare string values above will also work when comparing numeric data types.\n",
    "\n",
    "## Use the Comparison operators\n",
    "\n",
    "1. Use the line comment operator // to comment out all of the code from the previous task.\n",
    "2. Type the following code into the Visual Studio Code Editor."
   ]
  },
  {
   "cell_type": "code",
   "execution_count": 5,
   "id": "873eb4f2",
   "metadata": {},
   "outputs": [
    {
     "name": "stdout",
     "output_type": "stream",
     "text": [
      "False\n",
      "True\n",
      "True\n",
      "True\n"
     ]
    }
   ],
   "source": [
    "Console.WriteLine(1 > 2);\n",
    "Console.WriteLine(1 < 2);\n",
    "Console.WriteLine(1 >= 1);\n",
    "Console.WriteLine(1 <= 1);"
   ]
  },
  {
   "cell_type": "markdown",
   "id": "cbca73d8",
   "metadata": {},
   "source": []
  }
 ],
 "metadata": {
  "kernelspec": {
   "display_name": ".NET (C#)",
   "language": "C#",
   "name": ".net-csharp"
  },
  "language_info": {
   "file_extension": ".cs",
   "mimetype": "text/x-csharp",
   "name": "C#",
   "pygments_lexer": "csharp",
   "version": "8.0"
  }
 },
 "nbformat": 4,
 "nbformat_minor": 5
}
