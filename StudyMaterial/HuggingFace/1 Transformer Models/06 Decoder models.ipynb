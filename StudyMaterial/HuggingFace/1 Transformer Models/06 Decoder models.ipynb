{
 "cells": [
  {
   "cell_type": "markdown",
   "id": "4e290b6f-d7a0-4ddf-93f5-6be500b088f6",
   "metadata": {},
   "source": [
    "source: https://huggingface.co/learn/nlp-course/chapter1/6?fw=pt"
   ]
  },
  {
   "cell_type": "markdown",
   "id": "89aeba10-b8b8-42a9-aecf-e9d78957f1b2",
   "metadata": {},
   "source": [
    "# Decoder models\n",
    "\n",
    "https://youtu.be/d_ixlCubqQw\n",
    "\n",
    "Decoder models use only the decoder of a Transformer model. At each stage, for a given word the attention layers can only access the words positioned before it in the sentence. These models are often called *auto-regressive models*.\n",
    "\n",
    "The pretraining of decoder models usually revolves around predicting the next word in the sentence.\n",
    "\n",
    "These models are best suited for tasks involving text generation.\n",
    "\n",
    "Representatives of this family of models include:\n",
    "\n",
    "- **CTRL** (https://huggingface.co/transformers/model_doc/ctrl.html)\n",
    "- **GPT** (https://huggingface.co/docs/transformers/model_doc/openai-gpt)\n",
    "- **GPT-2** (https://huggingface.co/transformers/model_doc/gpt2.html)\n",
    "- **Transformer XL** (https://huggingface.co/transformers/model_doc/transfo-xl.html)"
   ]
  }
 ],
 "metadata": {
  "kernelspec": {
   "display_name": "Python 3 (ipykernel)",
   "language": "python",
   "name": "python3"
  },
  "language_info": {
   "codemirror_mode": {
    "name": "ipython",
    "version": 3
   },
   "file_extension": ".py",
   "mimetype": "text/x-python",
   "name": "python",
   "nbconvert_exporter": "python",
   "pygments_lexer": "ipython3",
   "version": "3.9.13"
  }
 },
 "nbformat": 4,
 "nbformat_minor": 5
}
