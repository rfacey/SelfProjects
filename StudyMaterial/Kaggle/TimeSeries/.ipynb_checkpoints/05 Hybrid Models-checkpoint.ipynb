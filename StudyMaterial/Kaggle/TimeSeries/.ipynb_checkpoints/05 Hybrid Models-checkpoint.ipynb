{
 "cells": [
  {
   "cell_type": "code",
   "execution_count": 1,
   "id": "bdc9d037",
   "metadata": {},
   "outputs": [],
   "source": [
    "# https://www.kaggle.com/code/ryanholbrook/hybrid-models"
   ]
  },
  {
   "cell_type": "markdown",
   "id": "96a8ec04",
   "metadata": {},
   "source": [
    "## Introduction\n",
    "\n",
    "Linear regression excels at extrapolating trends, but can't learn interations. XGBoost excels at learning interactions, but can't extrapolate trends. In this lesson, we'll learn how to create \"hybrid\" forecasters that combine complementary learning algorithms and let the strengths of one make up for the weakness of the other.\n",
    "\n",
    "## Components and Residuals\n",
    "\n"
   ]
  }
 ],
 "metadata": {
  "kernelspec": {
   "display_name": "Python 3 (ipykernel)",
   "language": "python",
   "name": "python3"
  },
  "language_info": {
   "codemirror_mode": {
    "name": "ipython",
    "version": 3
   },
   "file_extension": ".py",
   "mimetype": "text/x-python",
   "name": "python",
   "nbconvert_exporter": "python",
   "pygments_lexer": "ipython3",
   "version": "3.9.13"
  }
 },
 "nbformat": 4,
 "nbformat_minor": 5
}
