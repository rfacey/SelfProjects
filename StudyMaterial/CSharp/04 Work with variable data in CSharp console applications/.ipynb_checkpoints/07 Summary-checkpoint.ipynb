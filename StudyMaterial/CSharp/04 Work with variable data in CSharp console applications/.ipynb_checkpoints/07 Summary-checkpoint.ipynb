{
 "cells": [
  {
   "cell_type": "markdown",
   "id": "1280b4dd",
   "metadata": {},
   "source": [
    "Source: https://learn.microsoft.com/en-us/training/modules/csharp-choose-data-type/8-summary"
   ]
  },
  {
   "cell_type": "markdown",
   "id": "befe4ad3",
   "metadata": {},
   "source": [
    "## Summary\n",
    "\n",
    "Choosing the right data type for your application is a vital programming skill. Your goal was to understand the differences between each data type and informed decision on the data types in your code.\n",
    "\n",
    "You've started building a mental model of how data is stored as your application executes. You  have experience working with new integral and floating point data types. You have criteria you can use when deciding which data types to employ in your code. Finally, you understand why you need to use the new keyword when creating instances of reference types."
   ]
  }
 ],
 "metadata": {
  "kernelspec": {
   "display_name": ".NET (C#)",
   "language": "C#",
   "name": ".net-csharp"
  },
  "language_info": {
   "file_extension": ".cs",
   "mimetype": "text/x-csharp",
   "name": "C#",
   "pygments_lexer": "csharp",
   "version": "8.0"
  }
 },
 "nbformat": 4,
 "nbformat_minor": 5
}
