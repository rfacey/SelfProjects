{
 "cells": [
  {
   "cell_type": "markdown",
   "metadata": {},
   "source": [
    "## The Setup"
   ]
  },
  {
   "cell_type": "code",
   "execution_count": 13,
   "metadata": {},
   "outputs": [],
   "source": [
    "%matplotlib inline\n",
    "\n",
    "import numpy as np\n",
    "import pandas as pd\n",
    "import matplotlib.pyplot as plt\n",
    "plt.style.use('fivethirtyeight')\n",
    "from sklearn.model_selection import train_test_split\n",
    "from sklearn.tree import DecisionTreeClassifier\n",
    "from sklearn.metrics import classification_report,confusion_matrix\n",
    "from pytrends.request import TrendReq\n",
    "import time\n",
    "import math\n",
    "pytrend = TrendReq(hl='en-US', tz=360)\n",
    "import statsmodels\n",
    "import statsmodels.api as sm\n",
    "import statsmodels.formula.api as smf"
   ]
  },
  {
   "cell_type": "code",
   "execution_count": 14,
   "metadata": {},
   "outputs": [],
   "source": [
    "#import PokemonData using pandas\n",
    "#including popularity of each pokemon found in a reddit thread\n",
    "pokemonData=pd.read_csv('SourceData/PokemonDataV2 - DistinctCheck.csv', header = 0)\n",
    "\n",
    "pokemonDataUnmodified = []\n",
    "\n",
    "with open(\"SourceData/PokemonDataV2 - DistinctCheck.csv\", \"r\") as data_file:\n",
    "    for row in data_file:\n",
    "        tempRow = row.strip()\n",
    "        tempRow = tempRow.split(\",\")\n",
    "        pokemonDataUnmodified.append(list(tempRow))"
   ]
  },
  {
   "cell_type": "code",
   "execution_count": 15,
   "metadata": {},
   "outputs": [
    {
     "data": {
      "text/plain": [
       "[['Ndex',\n",
       "  'PokÃ©mon',\n",
       "  'Variance',\n",
       "  'Generation',\n",
       "  'Evolution',\n",
       "  'Rarity',\n",
       "  'Popularity',\n",
       "  'NewSnap'],\n",
       " ['1', 'Bulbasaur', '', '1', '1', 'Starter', '710', '1'],\n",
       " ['2', 'Ivysaur', '', '1', '2', 'Starter', '83', '0'],\n",
       " ['3', 'Venusaur', '', '1', '3', 'Starter', '127', '1'],\n",
       " ['4', 'Charmander', '', '1', '1', 'Starter', '374', '1'],\n",
       " ['5', 'Charmeleon', '', '1', '2', 'Starter', '70', '0'],\n",
       " ['6', 'Charizard', '', '1', '3', 'Starter', '1107', '1'],\n",
       " ['7', 'Squirtle', '', '1', '1', 'Starter', '523', '1'],\n",
       " ['8', 'Wartortle', '', '1', '2', 'Starter', '133', '0']]"
      ]
     },
     "execution_count": 15,
     "metadata": {},
     "output_type": "execute_result"
    }
   ],
   "source": [
    "pokemonDataUnmodified[0:9]"
   ]
  },
  {
   "cell_type": "markdown",
   "metadata": {},
   "source": [
    "## Working the Data"
   ]
  },
  {
   "cell_type": "code",
   "execution_count": 16,
   "metadata": {},
   "outputs": [
    {
     "data": {
      "text/plain": [
       "[['1', 'Bulbasaur', '', '1', '1', 'Starter', '710', '1'],\n",
       " ['2', 'Ivysaur', '', '1', '2', 'Starter', '83', '0'],\n",
       " ['3', 'Venusaur', '', '1', '3', 'Starter', '127', '1'],\n",
       " ['4', 'Charmander', '', '1', '1', 'Starter', '374', '1'],\n",
       " ['5', 'Charmeleon', '', '1', '2', 'Starter', '70', '0'],\n",
       " ['6', 'Charizard', '', '1', '3', 'Starter', '1107', '1'],\n",
       " ['7', 'Squirtle', '', '1', '1', 'Starter', '523', '1'],\n",
       " ['8', 'Wartortle', '', '1', '2', 'Starter', '133', '0'],\n",
       " ['9', 'Blastoise', '', '1', '3', 'Starter', '410', '1']]"
      ]
     },
     "execution_count": 16,
     "metadata": {},
     "output_type": "execute_result"
    }
   ],
   "source": [
    "#delete row with headers\n",
    "\n",
    "del pokemonDataUnmodified[0]\n",
    "pokemonDataUnmodified[0:9]"
   ]
  },
  {
   "cell_type": "code",
   "execution_count": 17,
   "metadata": {},
   "outputs": [],
   "source": [
    "#remove columns that will not be used. name isn't needed and Ndex is a primary key (more or less)\n",
    "pokemonData = pokemonData.drop(['Pokémon'], axis=1) \n",
    "pokemonData = pokemonData.drop(['Ndex'], axis=1) \n",
    "\n",
    "#change data in each column to include what column they are in\n",
    "#this will be VERY useful later on\n",
    "pokemonData['Variance'] = 'Variance_' + pokemonData['Variance']\n",
    "pokemonData['Generation'] = 'Generation_' + pokemonData['Generation'].astype(str)\n",
    "pokemonData['Evolution'] = 'Evolution_' + pokemonData['Evolution'].astype(str)\n",
    "pokemonData['Rarity'] = 'Rarity_' + pokemonData['Rarity']\n",
    "\n",
    "#change the NewSnap column to 0/1, only include initially included in game (no DLC)\n",
    "def newSnapCheck(data):\n",
    "  if data['NewSnap'] == 1:\n",
    "    return 1\n",
    "  else:\n",
    "    return 0\n",
    "\n",
    "#fill in nan values in popularity because decision tree needs values on all spots. going with zero. \n",
    "def popularityCheck(data):\n",
    "  if math.isnan(data['Popularity']):\n",
    "    return 0\n",
    "  else:\n",
    "    return data['Popularity']\n",
    "\n",
    "pokemonData['NewSnap'] = pokemonData.apply(newSnapCheck, axis=1)\n",
    "pokemonData['Popularity'] = pokemonData.apply(popularityCheck, axis=1)"
   ]
  },
  {
   "cell_type": "code",
   "execution_count": 18,
   "metadata": {},
   "outputs": [],
   "source": [
    "#do one hot encoding (aka dummy variables in pandas) on categorical columns\n",
    "\n",
    "variance_occurance = pokemonData['Variance']\n",
    "variance_occurance = pd.Series(variance_occurance)\n",
    "variance_dummy = pd.get_dummies(variance_occurance)\n",
    "\n",
    "generation_occurance = pokemonData['Generation']\n",
    "generation_occurance = pd.Series(generation_occurance)\n",
    "generation_dummy = pd.get_dummies(generation_occurance)\n",
    "\n",
    "evolution_occurance = pokemonData['Evolution']\n",
    "evolution_occurance = pd.Series(evolution_occurance)\n",
    "evolution_dummy = pd.get_dummies(evolution_occurance)\n",
    "\n",
    "rarity_occurance = pokemonData['Rarity']\n",
    "rarity_occurance = pd.Series(rarity_occurance)\n",
    "rarity_dummy = pd.get_dummies(rarity_occurance)"
   ]
  },
  {
   "cell_type": "code",
   "execution_count": 19,
   "metadata": {},
   "outputs": [],
   "source": [
    "#attach the dummy variables\n",
    "pokemonData = pd.concat([pokemonData, variance_dummy], axis=1)\n",
    "pokemonData = pd.concat([pokemonData, generation_dummy], axis=1)\n",
    "pokemonData = pd.concat([pokemonData, evolution_dummy], axis=1)\n",
    "pokemonData = pd.concat([pokemonData, rarity_dummy], axis=1)\n",
    "\n",
    "#remove the categorical columns\n",
    "pokemonData = pokemonData.drop(['Variance'], axis=1) \n",
    "pokemonData = pokemonData.drop(['Generation'], axis=1) \n",
    "pokemonData = pokemonData.drop(['Evolution'], axis=1) \n",
    "pokemonData = pokemonData.drop(['Rarity'], axis=1) "
   ]
  },
  {
   "cell_type": "code",
   "execution_count": 20,
   "metadata": {},
   "outputs": [
    {
     "data": {
      "text/html": [
       "<div>\n",
       "<style scoped>\n",
       "    .dataframe tbody tr th:only-of-type {\n",
       "        vertical-align: middle;\n",
       "    }\n",
       "\n",
       "    .dataframe tbody tr th {\n",
       "        vertical-align: top;\n",
       "    }\n",
       "\n",
       "    .dataframe thead th {\n",
       "        text-align: right;\n",
       "    }\n",
       "</style>\n",
       "<table border=\"1\" class=\"dataframe\">\n",
       "  <thead>\n",
       "    <tr style=\"text-align: right;\">\n",
       "      <th></th>\n",
       "      <th>Popularity</th>\n",
       "      <th>NewSnap</th>\n",
       "      <th>Variance_Alohan</th>\n",
       "      <th>Variance_Galarian</th>\n",
       "      <th>Variance_Multiple</th>\n",
       "      <th>Generation_1</th>\n",
       "      <th>Generation_2</th>\n",
       "      <th>Generation_3</th>\n",
       "      <th>Generation_4</th>\n",
       "      <th>Generation_5</th>\n",
       "      <th>...</th>\n",
       "      <th>Evolution_0</th>\n",
       "      <th>Evolution_1</th>\n",
       "      <th>Evolution_2</th>\n",
       "      <th>Evolution_3</th>\n",
       "      <th>Rarity_Ancient</th>\n",
       "      <th>Rarity_Legendary</th>\n",
       "      <th>Rarity_Mythical</th>\n",
       "      <th>Rarity_Standard</th>\n",
       "      <th>Rarity_Starter</th>\n",
       "      <th>Rarity_Sub-Legendary</th>\n",
       "    </tr>\n",
       "  </thead>\n",
       "  <tbody>\n",
       "    <tr>\n",
       "      <th>0</th>\n",
       "      <td>710.0</td>\n",
       "      <td>1</td>\n",
       "      <td>0</td>\n",
       "      <td>0</td>\n",
       "      <td>0</td>\n",
       "      <td>1</td>\n",
       "      <td>0</td>\n",
       "      <td>0</td>\n",
       "      <td>0</td>\n",
       "      <td>0</td>\n",
       "      <td>...</td>\n",
       "      <td>0</td>\n",
       "      <td>1</td>\n",
       "      <td>0</td>\n",
       "      <td>0</td>\n",
       "      <td>0</td>\n",
       "      <td>0</td>\n",
       "      <td>0</td>\n",
       "      <td>0</td>\n",
       "      <td>1</td>\n",
       "      <td>0</td>\n",
       "    </tr>\n",
       "    <tr>\n",
       "      <th>1</th>\n",
       "      <td>83.0</td>\n",
       "      <td>0</td>\n",
       "      <td>0</td>\n",
       "      <td>0</td>\n",
       "      <td>0</td>\n",
       "      <td>1</td>\n",
       "      <td>0</td>\n",
       "      <td>0</td>\n",
       "      <td>0</td>\n",
       "      <td>0</td>\n",
       "      <td>...</td>\n",
       "      <td>0</td>\n",
       "      <td>0</td>\n",
       "      <td>1</td>\n",
       "      <td>0</td>\n",
       "      <td>0</td>\n",
       "      <td>0</td>\n",
       "      <td>0</td>\n",
       "      <td>0</td>\n",
       "      <td>1</td>\n",
       "      <td>0</td>\n",
       "    </tr>\n",
       "    <tr>\n",
       "      <th>2</th>\n",
       "      <td>127.0</td>\n",
       "      <td>1</td>\n",
       "      <td>0</td>\n",
       "      <td>0</td>\n",
       "      <td>0</td>\n",
       "      <td>1</td>\n",
       "      <td>0</td>\n",
       "      <td>0</td>\n",
       "      <td>0</td>\n",
       "      <td>0</td>\n",
       "      <td>...</td>\n",
       "      <td>0</td>\n",
       "      <td>0</td>\n",
       "      <td>0</td>\n",
       "      <td>1</td>\n",
       "      <td>0</td>\n",
       "      <td>0</td>\n",
       "      <td>0</td>\n",
       "      <td>0</td>\n",
       "      <td>1</td>\n",
       "      <td>0</td>\n",
       "    </tr>\n",
       "    <tr>\n",
       "      <th>3</th>\n",
       "      <td>374.0</td>\n",
       "      <td>1</td>\n",
       "      <td>0</td>\n",
       "      <td>0</td>\n",
       "      <td>0</td>\n",
       "      <td>1</td>\n",
       "      <td>0</td>\n",
       "      <td>0</td>\n",
       "      <td>0</td>\n",
       "      <td>0</td>\n",
       "      <td>...</td>\n",
       "      <td>0</td>\n",
       "      <td>1</td>\n",
       "      <td>0</td>\n",
       "      <td>0</td>\n",
       "      <td>0</td>\n",
       "      <td>0</td>\n",
       "      <td>0</td>\n",
       "      <td>0</td>\n",
       "      <td>1</td>\n",
       "      <td>0</td>\n",
       "    </tr>\n",
       "    <tr>\n",
       "      <th>4</th>\n",
       "      <td>70.0</td>\n",
       "      <td>0</td>\n",
       "      <td>0</td>\n",
       "      <td>0</td>\n",
       "      <td>0</td>\n",
       "      <td>1</td>\n",
       "      <td>0</td>\n",
       "      <td>0</td>\n",
       "      <td>0</td>\n",
       "      <td>0</td>\n",
       "      <td>...</td>\n",
       "      <td>0</td>\n",
       "      <td>0</td>\n",
       "      <td>1</td>\n",
       "      <td>0</td>\n",
       "      <td>0</td>\n",
       "      <td>0</td>\n",
       "      <td>0</td>\n",
       "      <td>0</td>\n",
       "      <td>1</td>\n",
       "      <td>0</td>\n",
       "    </tr>\n",
       "    <tr>\n",
       "      <th>5</th>\n",
       "      <td>1107.0</td>\n",
       "      <td>1</td>\n",
       "      <td>0</td>\n",
       "      <td>0</td>\n",
       "      <td>0</td>\n",
       "      <td>1</td>\n",
       "      <td>0</td>\n",
       "      <td>0</td>\n",
       "      <td>0</td>\n",
       "      <td>0</td>\n",
       "      <td>...</td>\n",
       "      <td>0</td>\n",
       "      <td>0</td>\n",
       "      <td>0</td>\n",
       "      <td>1</td>\n",
       "      <td>0</td>\n",
       "      <td>0</td>\n",
       "      <td>0</td>\n",
       "      <td>0</td>\n",
       "      <td>1</td>\n",
       "      <td>0</td>\n",
       "    </tr>\n",
       "    <tr>\n",
       "      <th>6</th>\n",
       "      <td>523.0</td>\n",
       "      <td>1</td>\n",
       "      <td>0</td>\n",
       "      <td>0</td>\n",
       "      <td>0</td>\n",
       "      <td>1</td>\n",
       "      <td>0</td>\n",
       "      <td>0</td>\n",
       "      <td>0</td>\n",
       "      <td>0</td>\n",
       "      <td>...</td>\n",
       "      <td>0</td>\n",
       "      <td>1</td>\n",
       "      <td>0</td>\n",
       "      <td>0</td>\n",
       "      <td>0</td>\n",
       "      <td>0</td>\n",
       "      <td>0</td>\n",
       "      <td>0</td>\n",
       "      <td>1</td>\n",
       "      <td>0</td>\n",
       "    </tr>\n",
       "    <tr>\n",
       "      <th>7</th>\n",
       "      <td>133.0</td>\n",
       "      <td>0</td>\n",
       "      <td>0</td>\n",
       "      <td>0</td>\n",
       "      <td>0</td>\n",
       "      <td>1</td>\n",
       "      <td>0</td>\n",
       "      <td>0</td>\n",
       "      <td>0</td>\n",
       "      <td>0</td>\n",
       "      <td>...</td>\n",
       "      <td>0</td>\n",
       "      <td>0</td>\n",
       "      <td>1</td>\n",
       "      <td>0</td>\n",
       "      <td>0</td>\n",
       "      <td>0</td>\n",
       "      <td>0</td>\n",
       "      <td>0</td>\n",
       "      <td>1</td>\n",
       "      <td>0</td>\n",
       "    </tr>\n",
       "    <tr>\n",
       "      <th>8</th>\n",
       "      <td>410.0</td>\n",
       "      <td>1</td>\n",
       "      <td>0</td>\n",
       "      <td>0</td>\n",
       "      <td>0</td>\n",
       "      <td>1</td>\n",
       "      <td>0</td>\n",
       "      <td>0</td>\n",
       "      <td>0</td>\n",
       "      <td>0</td>\n",
       "      <td>...</td>\n",
       "      <td>0</td>\n",
       "      <td>0</td>\n",
       "      <td>0</td>\n",
       "      <td>1</td>\n",
       "      <td>0</td>\n",
       "      <td>0</td>\n",
       "      <td>0</td>\n",
       "      <td>0</td>\n",
       "      <td>1</td>\n",
       "      <td>0</td>\n",
       "    </tr>\n",
       "  </tbody>\n",
       "</table>\n",
       "<p>9 rows × 23 columns</p>\n",
       "</div>"
      ],
      "text/plain": [
       "   Popularity  NewSnap  Variance_Alohan  Variance_Galarian  Variance_Multiple  \\\n",
       "0       710.0        1                0                  0                  0   \n",
       "1        83.0        0                0                  0                  0   \n",
       "2       127.0        1                0                  0                  0   \n",
       "3       374.0        1                0                  0                  0   \n",
       "4        70.0        0                0                  0                  0   \n",
       "5      1107.0        1                0                  0                  0   \n",
       "6       523.0        1                0                  0                  0   \n",
       "7       133.0        0                0                  0                  0   \n",
       "8       410.0        1                0                  0                  0   \n",
       "\n",
       "   Generation_1  Generation_2  Generation_3  Generation_4  Generation_5  ...  \\\n",
       "0             1             0             0             0             0  ...   \n",
       "1             1             0             0             0             0  ...   \n",
       "2             1             0             0             0             0  ...   \n",
       "3             1             0             0             0             0  ...   \n",
       "4             1             0             0             0             0  ...   \n",
       "5             1             0             0             0             0  ...   \n",
       "6             1             0             0             0             0  ...   \n",
       "7             1             0             0             0             0  ...   \n",
       "8             1             0             0             0             0  ...   \n",
       "\n",
       "   Evolution_0  Evolution_1  Evolution_2  Evolution_3  Rarity_Ancient  \\\n",
       "0            0            1            0            0               0   \n",
       "1            0            0            1            0               0   \n",
       "2            0            0            0            1               0   \n",
       "3            0            1            0            0               0   \n",
       "4            0            0            1            0               0   \n",
       "5            0            0            0            1               0   \n",
       "6            0            1            0            0               0   \n",
       "7            0            0            1            0               0   \n",
       "8            0            0            0            1               0   \n",
       "\n",
       "   Rarity_Legendary  Rarity_Mythical  Rarity_Standard  Rarity_Starter  \\\n",
       "0                 0                0                0               1   \n",
       "1                 0                0                0               1   \n",
       "2                 0                0                0               1   \n",
       "3                 0                0                0               1   \n",
       "4                 0                0                0               1   \n",
       "5                 0                0                0               1   \n",
       "6                 0                0                0               1   \n",
       "7                 0                0                0               1   \n",
       "8                 0                0                0               1   \n",
       "\n",
       "   Rarity_Sub-Legendary  \n",
       "0                     0  \n",
       "1                     0  \n",
       "2                     0  \n",
       "3                     0  \n",
       "4                     0  \n",
       "5                     0  \n",
       "6                     0  \n",
       "7                     0  \n",
       "8                     0  \n",
       "\n",
       "[9 rows x 23 columns]"
      ]
     },
     "execution_count": 20,
     "metadata": {},
     "output_type": "execute_result"
    }
   ],
   "source": [
    "pokemonData.head(9)"
   ]
  },
  {
   "cell_type": "markdown",
   "metadata": {},
   "source": [
    "## Backwards Elimination"
   ]
  },
  {
   "cell_type": "code",
   "execution_count": 21,
   "metadata": {},
   "outputs": [
    {
     "data": {
      "text/plain": [
       "Index(['Popularity', 'NewSnap', 'Variance_Alohan', 'Variance_Galarian',\n",
       "       'Variance_Multiple', 'Generation_1', 'Generation_2', 'Generation_3',\n",
       "       'Generation_4', 'Generation_5', 'Generation_6', 'Generation_7',\n",
       "       'Generation_8', 'Evolution_0', 'Evolution_1', 'Evolution_2',\n",
       "       'Evolution_3', 'Rarity_Ancient', 'Rarity_Legendary', 'Rarity_Mythical',\n",
       "       'Rarity_Standard', 'Rarity_Starter', 'Rarity_Sub-Legendary'],\n",
       "      dtype='object')"
      ]
     },
     "execution_count": 21,
     "metadata": {},
     "output_type": "execute_result"
    }
   ],
   "source": [
    "pokemonData.columns"
   ]
  },
  {
   "cell_type": "code",
   "execution_count": 25,
   "metadata": {},
   "outputs": [],
   "source": [
    "#ols had issues with the '-' in the column name. Changed column name to get it to work\n",
    "pokemonData.columns = pokemonData.columns.str.replace('Rarity_Sub-Legendary', 'Rarity_SubLegendary')"
   ]
  },
  {
   "cell_type": "code",
   "execution_count": 26,
   "metadata": {},
   "outputs": [
    {
     "data": {
      "text/html": [
       "<table class=\"simpletable\">\n",
       "<caption>OLS Regression Results</caption>\n",
       "<tr>\n",
       "  <th>Dep. Variable:</th>         <td>NewSnap</td>     <th>  R-squared:         </th> <td>   0.101</td>\n",
       "</tr>\n",
       "<tr>\n",
       "  <th>Model:</th>                   <td>OLS</td>       <th>  Adj. R-squared:    </th> <td>   0.082</td>\n",
       "</tr>\n",
       "<tr>\n",
       "  <th>Method:</th>             <td>Least Squares</td>  <th>  F-statistic:       </th> <td>   5.213</td>\n",
       "</tr>\n",
       "<tr>\n",
       "  <th>Date:</th>             <td>Fri, 03 Mar 2023</td> <th>  Prob (F-statistic):</th> <td>4.73e-12</td>\n",
       "</tr>\n",
       "<tr>\n",
       "  <th>Time:</th>                 <td>09:10:06</td>     <th>  Log-Likelihood:    </th> <td> -457.13</td>\n",
       "</tr>\n",
       "<tr>\n",
       "  <th>No. Observations:</th>      <td>   898</td>      <th>  AIC:               </th> <td>   954.3</td>\n",
       "</tr>\n",
       "<tr>\n",
       "  <th>Df Residuals:</th>          <td>   878</td>      <th>  BIC:               </th> <td>   1050.</td>\n",
       "</tr>\n",
       "<tr>\n",
       "  <th>Df Model:</th>              <td>    19</td>      <th>                     </th>     <td> </td>   \n",
       "</tr>\n",
       "<tr>\n",
       "  <th>Covariance Type:</th>      <td>nonrobust</td>    <th>                     </th>     <td> </td>   \n",
       "</tr>\n",
       "</table>\n",
       "<table class=\"simpletable\">\n",
       "<tr>\n",
       "           <td></td>              <th>coef</th>     <th>std err</th>      <th>t</th>      <th>P>|t|</th>  <th>[0.025</th>    <th>0.975]</th>  \n",
       "</tr>\n",
       "<tr>\n",
       "  <th>Intercept</th>           <td>    0.0866</td> <td>    0.021</td> <td>    4.196</td> <td> 0.000</td> <td>    0.046</td> <td>    0.127</td>\n",
       "</tr>\n",
       "<tr>\n",
       "  <th>Popularity</th>          <td>    0.0008</td> <td>    0.000</td> <td>    5.613</td> <td> 0.000</td> <td>    0.001</td> <td>    0.001</td>\n",
       "</tr>\n",
       "<tr>\n",
       "  <th>Variance_Alohan</th>     <td>    0.3107</td> <td>    0.105</td> <td>    2.951</td> <td> 0.003</td> <td>    0.104</td> <td>    0.517</td>\n",
       "</tr>\n",
       "<tr>\n",
       "  <th>Variance_Galarian</th>   <td>   -0.0727</td> <td>    0.099</td> <td>   -0.733</td> <td> 0.464</td> <td>   -0.267</td> <td>    0.122</td>\n",
       "</tr>\n",
       "<tr>\n",
       "  <th>Variance_Multiple</th>   <td>    0.8247</td> <td>    0.409</td> <td>    2.015</td> <td> 0.044</td> <td>    0.021</td> <td>    1.628</td>\n",
       "</tr>\n",
       "<tr>\n",
       "  <th>Generation_1</th>        <td>   -0.0480</td> <td>    0.036</td> <td>   -1.327</td> <td> 0.185</td> <td>   -0.119</td> <td>    0.023</td>\n",
       "</tr>\n",
       "<tr>\n",
       "  <th>Generation_2</th>        <td>    0.0821</td> <td>    0.039</td> <td>    2.114</td> <td> 0.035</td> <td>    0.006</td> <td>    0.158</td>\n",
       "</tr>\n",
       "<tr>\n",
       "  <th>Generation_3</th>        <td>    0.0098</td> <td>    0.034</td> <td>    0.289</td> <td> 0.772</td> <td>   -0.057</td> <td>    0.076</td>\n",
       "</tr>\n",
       "<tr>\n",
       "  <th>Generation_4</th>        <td>    0.0203</td> <td>    0.037</td> <td>    0.546</td> <td> 0.585</td> <td>   -0.053</td> <td>    0.093</td>\n",
       "</tr>\n",
       "<tr>\n",
       "  <th>Generation_5</th>        <td>   -0.0175</td> <td>    0.032</td> <td>   -0.549</td> <td> 0.583</td> <td>   -0.080</td> <td>    0.045</td>\n",
       "</tr>\n",
       "<tr>\n",
       "  <th>Generation_6</th>        <td>    0.0927</td> <td>    0.044</td> <td>    2.086</td> <td> 0.037</td> <td>    0.005</td> <td>    0.180</td>\n",
       "</tr>\n",
       "<tr>\n",
       "  <th>Generation_7</th>        <td>    0.0484</td> <td>    0.042</td> <td>    1.163</td> <td> 0.245</td> <td>   -0.033</td> <td>    0.130</td>\n",
       "</tr>\n",
       "<tr>\n",
       "  <th>Generation_8</th>        <td>   -0.1012</td> <td>    0.041</td> <td>   -2.479</td> <td> 0.013</td> <td>   -0.181</td> <td>   -0.021</td>\n",
       "</tr>\n",
       "<tr>\n",
       "  <th>Evolution_0</th>         <td>    0.1092</td> <td>    0.032</td> <td>    3.371</td> <td> 0.001</td> <td>    0.046</td> <td>    0.173</td>\n",
       "</tr>\n",
       "<tr>\n",
       "  <th>Evolution_1</th>         <td>    0.0010</td> <td>    0.024</td> <td>    0.042</td> <td> 0.966</td> <td>   -0.047</td> <td>    0.049</td>\n",
       "</tr>\n",
       "<tr>\n",
       "  <th>Evolution_2</th>         <td>   -0.0117</td> <td>    0.024</td> <td>   -0.488</td> <td> 0.625</td> <td>   -0.059</td> <td>    0.035</td>\n",
       "</tr>\n",
       "<tr>\n",
       "  <th>Evolution_3</th>         <td>   -0.0119</td> <td>    0.036</td> <td>   -0.334</td> <td> 0.739</td> <td>   -0.082</td> <td>    0.058</td>\n",
       "</tr>\n",
       "<tr>\n",
       "  <th>Rarity_Ancient</th>      <td>    0.1275</td> <td>    0.074</td> <td>    1.717</td> <td> 0.086</td> <td>   -0.018</td> <td>    0.273</td>\n",
       "</tr>\n",
       "<tr>\n",
       "  <th>Rarity_Legendary</th>    <td>   -0.1128</td> <td>    0.076</td> <td>   -1.490</td> <td> 0.136</td> <td>   -0.261</td> <td>    0.036</td>\n",
       "</tr>\n",
       "<tr>\n",
       "  <th>Rarity_Mythical</th>     <td>    0.0225</td> <td>    0.080</td> <td>    0.283</td> <td> 0.777</td> <td>   -0.134</td> <td>    0.179</td>\n",
       "</tr>\n",
       "<tr>\n",
       "  <th>Rarity_Standard</th>     <td>    0.0965</td> <td>    0.032</td> <td>    3.007</td> <td> 0.003</td> <td>    0.034</td> <td>    0.159</td>\n",
       "</tr>\n",
       "<tr>\n",
       "  <th>Rarity_Starter</th>      <td>    0.1325</td> <td>    0.051</td> <td>    2.581</td> <td> 0.010</td> <td>    0.032</td> <td>    0.233</td>\n",
       "</tr>\n",
       "<tr>\n",
       "  <th>Rarity_SubLegendary</th> <td>   -0.1796</td> <td>    0.060</td> <td>   -2.990</td> <td> 0.003</td> <td>   -0.298</td> <td>   -0.062</td>\n",
       "</tr>\n",
       "</table>\n",
       "<table class=\"simpletable\">\n",
       "<tr>\n",
       "  <th>Omnibus:</th>       <td>129.614</td> <th>  Durbin-Watson:     </th> <td>   1.914</td>\n",
       "</tr>\n",
       "<tr>\n",
       "  <th>Prob(Omnibus):</th> <td> 0.000</td>  <th>  Jarque-Bera (JB):  </th> <td> 186.138</td>\n",
       "</tr>\n",
       "<tr>\n",
       "  <th>Skew:</th>          <td> 1.107</td>  <th>  Prob(JB):          </th> <td>3.81e-41</td>\n",
       "</tr>\n",
       "<tr>\n",
       "  <th>Kurtosis:</th>      <td> 2.727</td>  <th>  Cond. No.          </th> <td>1.47e+18</td>\n",
       "</tr>\n",
       "</table><br/><br/>Notes:<br/>[1] Standard Errors assume that the covariance matrix of the errors is correctly specified.<br/>[2] The smallest eigenvalue is 6.85e-30. This might indicate that there are<br/>strong multicollinearity problems or that the design matrix is singular."
      ],
      "text/plain": [
       "<class 'statsmodels.iolib.summary.Summary'>\n",
       "\"\"\"\n",
       "                            OLS Regression Results                            \n",
       "==============================================================================\n",
       "Dep. Variable:                NewSnap   R-squared:                       0.101\n",
       "Model:                            OLS   Adj. R-squared:                  0.082\n",
       "Method:                 Least Squares   F-statistic:                     5.213\n",
       "Date:                Fri, 03 Mar 2023   Prob (F-statistic):           4.73e-12\n",
       "Time:                        09:10:06   Log-Likelihood:                -457.13\n",
       "No. Observations:                 898   AIC:                             954.3\n",
       "Df Residuals:                     878   BIC:                             1050.\n",
       "Df Model:                          19                                         \n",
       "Covariance Type:            nonrobust                                         \n",
       "=======================================================================================\n",
       "                          coef    std err          t      P>|t|      [0.025      0.975]\n",
       "---------------------------------------------------------------------------------------\n",
       "Intercept               0.0866      0.021      4.196      0.000       0.046       0.127\n",
       "Popularity              0.0008      0.000      5.613      0.000       0.001       0.001\n",
       "Variance_Alohan         0.3107      0.105      2.951      0.003       0.104       0.517\n",
       "Variance_Galarian      -0.0727      0.099     -0.733      0.464      -0.267       0.122\n",
       "Variance_Multiple       0.8247      0.409      2.015      0.044       0.021       1.628\n",
       "Generation_1           -0.0480      0.036     -1.327      0.185      -0.119       0.023\n",
       "Generation_2            0.0821      0.039      2.114      0.035       0.006       0.158\n",
       "Generation_3            0.0098      0.034      0.289      0.772      -0.057       0.076\n",
       "Generation_4            0.0203      0.037      0.546      0.585      -0.053       0.093\n",
       "Generation_5           -0.0175      0.032     -0.549      0.583      -0.080       0.045\n",
       "Generation_6            0.0927      0.044      2.086      0.037       0.005       0.180\n",
       "Generation_7            0.0484      0.042      1.163      0.245      -0.033       0.130\n",
       "Generation_8           -0.1012      0.041     -2.479      0.013      -0.181      -0.021\n",
       "Evolution_0             0.1092      0.032      3.371      0.001       0.046       0.173\n",
       "Evolution_1             0.0010      0.024      0.042      0.966      -0.047       0.049\n",
       "Evolution_2            -0.0117      0.024     -0.488      0.625      -0.059       0.035\n",
       "Evolution_3            -0.0119      0.036     -0.334      0.739      -0.082       0.058\n",
       "Rarity_Ancient          0.1275      0.074      1.717      0.086      -0.018       0.273\n",
       "Rarity_Legendary       -0.1128      0.076     -1.490      0.136      -0.261       0.036\n",
       "Rarity_Mythical         0.0225      0.080      0.283      0.777      -0.134       0.179\n",
       "Rarity_Standard         0.0965      0.032      3.007      0.003       0.034       0.159\n",
       "Rarity_Starter          0.1325      0.051      2.581      0.010       0.032       0.233\n",
       "Rarity_SubLegendary    -0.1796      0.060     -2.990      0.003      -0.298      -0.062\n",
       "==============================================================================\n",
       "Omnibus:                      129.614   Durbin-Watson:                   1.914\n",
       "Prob(Omnibus):                  0.000   Jarque-Bera (JB):              186.138\n",
       "Skew:                           1.107   Prob(JB):                     3.81e-41\n",
       "Kurtosis:                       2.727   Cond. No.                     1.47e+18\n",
       "==============================================================================\n",
       "\n",
       "Notes:\n",
       "[1] Standard Errors assume that the covariance matrix of the errors is correctly specified.\n",
       "[2] The smallest eigenvalue is 6.85e-30. This might indicate that there are\n",
       "strong multicollinearity problems or that the design matrix is singular.\n",
       "\"\"\""
      ]
     },
     "execution_count": 26,
     "metadata": {},
     "output_type": "execute_result"
    }
   ],
   "source": [
    "#For all sms models, use the dataframe loan_reg.\n",
    "#Using est = smf.ols(formula='y ~ X variables, data).fit() run a multiple regression.  Name it est.\n",
    "OLSCheck = smf.ols(formula='NewSnap ~ Popularity +\\\n",
    "Variance_Alohan + Variance_Galarian +\\\n",
    "Variance_Multiple + Generation_1 +\\\n",
    "Generation_2 + Generation_3 +\\\n",
    "Generation_4 + Generation_5 +\\\n",
    "Generation_6 + Generation_7 +\\\n",
    "Generation_8 + Evolution_0 +\\\n",
    "Evolution_1 + Evolution_2 +\\\n",
    "Evolution_3 + Rarity_Ancient +\\\n",
    "Rarity_Legendary + Rarity_Mythical +\\\n",
    "Rarity_Standard + Rarity_Starter +\\\n",
    "Rarity_SubLegendary', data= pokemonData).fit()\n",
    "OLSCheck.summary()"
   ]
  },
  {
   "cell_type": "markdown",
   "metadata": {},
   "source": [
    "- Analyze the summary statistics and conduct the steps to eliminate all non-significant models\n",
    "- After all of the variables with p-values above 0.05 are eliminated, \n",
    "- Analyze the final model and give some insight into the results"
   ]
  },
  {
   "cell_type": "code",
   "execution_count": 27,
   "metadata": {},
   "outputs": [
    {
     "data": {
      "text/html": [
       "<table class=\"simpletable\">\n",
       "<caption>OLS Regression Results</caption>\n",
       "<tr>\n",
       "  <th>Dep. Variable:</th>         <td>NewSnap</td>     <th>  R-squared:         </th> <td>   0.093</td>\n",
       "</tr>\n",
       "<tr>\n",
       "  <th>Model:</th>                   <td>OLS</td>       <th>  Adj. R-squared:    </th> <td>   0.083</td>\n",
       "</tr>\n",
       "<tr>\n",
       "  <th>Method:</th>             <td>Least Squares</td>  <th>  F-statistic:       </th> <td>   9.096</td>\n",
       "</tr>\n",
       "<tr>\n",
       "  <th>Date:</th>             <td>Fri, 03 Mar 2023</td> <th>  Prob (F-statistic):</th> <td>2.13e-14</td>\n",
       "</tr>\n",
       "<tr>\n",
       "  <th>Time:</th>                 <td>09:18:26</td>     <th>  Log-Likelihood:    </th> <td> -461.29</td>\n",
       "</tr>\n",
       "<tr>\n",
       "  <th>No. Observations:</th>      <td>   898</td>      <th>  AIC:               </th> <td>   944.6</td>\n",
       "</tr>\n",
       "<tr>\n",
       "  <th>Df Residuals:</th>          <td>   887</td>      <th>  BIC:               </th> <td>   997.4</td>\n",
       "</tr>\n",
       "<tr>\n",
       "  <th>Df Model:</th>              <td>    10</td>      <th>                     </th>     <td> </td>   \n",
       "</tr>\n",
       "<tr>\n",
       "  <th>Covariance Type:</th>      <td>nonrobust</td>    <th>                     </th>     <td> </td>   \n",
       "</tr>\n",
       "</table>\n",
       "<table class=\"simpletable\">\n",
       "<tr>\n",
       "           <td></td>              <th>coef</th>     <th>std err</th>      <th>t</th>      <th>P>|t|</th>  <th>[0.025</th>    <th>0.975]</th>  \n",
       "</tr>\n",
       "<tr>\n",
       "  <th>Intercept</th>           <td>    0.1083</td> <td>    0.057</td> <td>    1.915</td> <td> 0.056</td> <td>   -0.003</td> <td>    0.219</td>\n",
       "</tr>\n",
       "<tr>\n",
       "  <th>Popularity</th>          <td>    0.0007</td> <td>    0.000</td> <td>    5.625</td> <td> 0.000</td> <td>    0.000</td> <td>    0.001</td>\n",
       "</tr>\n",
       "<tr>\n",
       "  <th>Variance_Alohan</th>     <td>    0.2693</td> <td>    0.101</td> <td>    2.678</td> <td> 0.008</td> <td>    0.072</td> <td>    0.467</td>\n",
       "</tr>\n",
       "<tr>\n",
       "  <th>Variance_Multiple</th>   <td>    0.7882</td> <td>    0.407</td> <td>    1.935</td> <td> 0.053</td> <td>   -0.011</td> <td>    1.588</td>\n",
       "</tr>\n",
       "<tr>\n",
       "  <th>Generation_2</th>        <td>    0.0850</td> <td>    0.044</td> <td>    1.928</td> <td> 0.054</td> <td>   -0.002</td> <td>    0.172</td>\n",
       "</tr>\n",
       "<tr>\n",
       "  <th>Generation_6</th>        <td>    0.0957</td> <td>    0.051</td> <td>    1.867</td> <td> 0.062</td> <td>   -0.005</td> <td>    0.196</td>\n",
       "</tr>\n",
       "<tr>\n",
       "  <th>Generation_8</th>        <td>   -0.1021</td> <td>    0.047</td> <td>   -2.174</td> <td> 0.030</td> <td>   -0.194</td> <td>   -0.010</td>\n",
       "</tr>\n",
       "<tr>\n",
       "  <th>Evolution_0</th>         <td>    0.1035</td> <td>    0.042</td> <td>    2.440</td> <td> 0.015</td> <td>    0.020</td> <td>    0.187</td>\n",
       "</tr>\n",
       "<tr>\n",
       "  <th>Rarity_Standard</th>     <td>    0.0674</td> <td>    0.056</td> <td>    1.214</td> <td> 0.225</td> <td>   -0.042</td> <td>    0.176</td>\n",
       "</tr>\n",
       "<tr>\n",
       "  <th>Rarity_Starter</th>      <td>    0.1116</td> <td>    0.073</td> <td>    1.531</td> <td> 0.126</td> <td>   -0.031</td> <td>    0.255</td>\n",
       "</tr>\n",
       "<tr>\n",
       "  <th>Rarity_SubLegendary</th> <td>   -0.1844</td> <td>    0.078</td> <td>   -2.361</td> <td> 0.018</td> <td>   -0.338</td> <td>   -0.031</td>\n",
       "</tr>\n",
       "</table>\n",
       "<table class=\"simpletable\">\n",
       "<tr>\n",
       "  <th>Omnibus:</th>       <td>133.366</td> <th>  Durbin-Watson:     </th> <td>   1.903</td>\n",
       "</tr>\n",
       "<tr>\n",
       "  <th>Prob(Omnibus):</th> <td> 0.000</td>  <th>  Jarque-Bera (JB):  </th> <td> 194.019</td>\n",
       "</tr>\n",
       "<tr>\n",
       "  <th>Skew:</th>          <td> 1.131</td>  <th>  Prob(JB):          </th> <td>7.40e-43</td>\n",
       "</tr>\n",
       "<tr>\n",
       "  <th>Kurtosis:</th>      <td> 2.734</td>  <th>  Cond. No.          </th> <td>3.85e+03</td>\n",
       "</tr>\n",
       "</table><br/><br/>Notes:<br/>[1] Standard Errors assume that the covariance matrix of the errors is correctly specified.<br/>[2] The condition number is large, 3.85e+03. This might indicate that there are<br/>strong multicollinearity or other numerical problems."
      ],
      "text/plain": [
       "<class 'statsmodels.iolib.summary.Summary'>\n",
       "\"\"\"\n",
       "                            OLS Regression Results                            \n",
       "==============================================================================\n",
       "Dep. Variable:                NewSnap   R-squared:                       0.093\n",
       "Model:                            OLS   Adj. R-squared:                  0.083\n",
       "Method:                 Least Squares   F-statistic:                     9.096\n",
       "Date:                Fri, 03 Mar 2023   Prob (F-statistic):           2.13e-14\n",
       "Time:                        09:18:26   Log-Likelihood:                -461.29\n",
       "No. Observations:                 898   AIC:                             944.6\n",
       "Df Residuals:                     887   BIC:                             997.4\n",
       "Df Model:                          10                                         \n",
       "Covariance Type:            nonrobust                                         \n",
       "=======================================================================================\n",
       "                          coef    std err          t      P>|t|      [0.025      0.975]\n",
       "---------------------------------------------------------------------------------------\n",
       "Intercept               0.1083      0.057      1.915      0.056      -0.003       0.219\n",
       "Popularity              0.0007      0.000      5.625      0.000       0.000       0.001\n",
       "Variance_Alohan         0.2693      0.101      2.678      0.008       0.072       0.467\n",
       "Variance_Multiple       0.7882      0.407      1.935      0.053      -0.011       1.588\n",
       "Generation_2            0.0850      0.044      1.928      0.054      -0.002       0.172\n",
       "Generation_6            0.0957      0.051      1.867      0.062      -0.005       0.196\n",
       "Generation_8           -0.1021      0.047     -2.174      0.030      -0.194      -0.010\n",
       "Evolution_0             0.1035      0.042      2.440      0.015       0.020       0.187\n",
       "Rarity_Standard         0.0674      0.056      1.214      0.225      -0.042       0.176\n",
       "Rarity_Starter          0.1116      0.073      1.531      0.126      -0.031       0.255\n",
       "Rarity_SubLegendary    -0.1844      0.078     -2.361      0.018      -0.338      -0.031\n",
       "==============================================================================\n",
       "Omnibus:                      133.366   Durbin-Watson:                   1.903\n",
       "Prob(Omnibus):                  0.000   Jarque-Bera (JB):              194.019\n",
       "Skew:                           1.131   Prob(JB):                     7.40e-43\n",
       "Kurtosis:                       2.734   Cond. No.                     3.85e+03\n",
       "==============================================================================\n",
       "\n",
       "Notes:\n",
       "[1] Standard Errors assume that the covariance matrix of the errors is correctly specified.\n",
       "[2] The condition number is large, 3.85e+03. This might indicate that there are\n",
       "strong multicollinearity or other numerical problems.\n",
       "\"\"\""
      ]
     },
     "execution_count": 27,
     "metadata": {},
     "output_type": "execute_result"
    }
   ],
   "source": [
    "OLSCheck = smf.ols(formula='NewSnap ~ Popularity +\\\n",
    "Variance_Alohan +\\\n",
    "Variance_Multiple +\\\n",
    "Generation_2 +\\\n",
    "Generation_6 +\\\n",
    "Generation_8 + Evolution_0 +\\\n",
    "Rarity_Standard + Rarity_Starter +\\\n",
    "Rarity_SubLegendary', data= pokemonData).fit()\n",
    "OLSCheck.summary()"
   ]
  },
  {
   "cell_type": "code",
   "execution_count": 28,
   "metadata": {},
   "outputs": [
    {
     "data": {
      "text/html": [
       "<table class=\"simpletable\">\n",
       "<caption>OLS Regression Results</caption>\n",
       "<tr>\n",
       "  <th>Dep. Variable:</th>         <td>NewSnap</td>     <th>  R-squared:         </th> <td>   0.080</td>\n",
       "</tr>\n",
       "<tr>\n",
       "  <th>Model:</th>                   <td>OLS</td>       <th>  Adj. R-squared:    </th> <td>   0.075</td>\n",
       "</tr>\n",
       "<tr>\n",
       "  <th>Method:</th>             <td>Least Squares</td>  <th>  F-statistic:       </th> <td>   15.51</td>\n",
       "</tr>\n",
       "<tr>\n",
       "  <th>Date:</th>             <td>Fri, 03 Mar 2023</td> <th>  Prob (F-statistic):</th> <td>1.19e-14</td>\n",
       "</tr>\n",
       "<tr>\n",
       "  <th>Time:</th>                 <td>09:19:45</td>     <th>  Log-Likelihood:    </th> <td> -467.70</td>\n",
       "</tr>\n",
       "<tr>\n",
       "  <th>No. Observations:</th>      <td>   898</td>      <th>  AIC:               </th> <td>   947.4</td>\n",
       "</tr>\n",
       "<tr>\n",
       "  <th>Df Residuals:</th>          <td>   892</td>      <th>  BIC:               </th> <td>   976.2</td>\n",
       "</tr>\n",
       "<tr>\n",
       "  <th>Df Model:</th>              <td>     5</td>      <th>                     </th>     <td> </td>   \n",
       "</tr>\n",
       "<tr>\n",
       "  <th>Covariance Type:</th>      <td>nonrobust</td>    <th>                     </th>     <td> </td>   \n",
       "</tr>\n",
       "</table>\n",
       "<table class=\"simpletable\">\n",
       "<tr>\n",
       "           <td></td>              <th>coef</th>     <th>std err</th>      <th>t</th>      <th>P>|t|</th>  <th>[0.025</th>    <th>0.975]</th>  \n",
       "</tr>\n",
       "<tr>\n",
       "  <th>Intercept</th>           <td>    0.1969</td> <td>    0.018</td> <td>   11.046</td> <td> 0.000</td> <td>    0.162</td> <td>    0.232</td>\n",
       "</tr>\n",
       "<tr>\n",
       "  <th>Popularity</th>          <td>    0.0008</td> <td>    0.000</td> <td>    6.251</td> <td> 0.000</td> <td>    0.001</td> <td>    0.001</td>\n",
       "</tr>\n",
       "<tr>\n",
       "  <th>Variance_Alohan</th>     <td>    0.2465</td> <td>    0.101</td> <td>    2.451</td> <td> 0.014</td> <td>    0.049</td> <td>    0.444</td>\n",
       "</tr>\n",
       "<tr>\n",
       "  <th>Generation_8</th>        <td>   -0.1201</td> <td>    0.046</td> <td>   -2.590</td> <td> 0.010</td> <td>   -0.211</td> <td>   -0.029</td>\n",
       "</tr>\n",
       "<tr>\n",
       "  <th>Evolution_0</th>         <td>    0.0776</td> <td>    0.039</td> <td>    2.003</td> <td> 0.045</td> <td>    0.002</td> <td>    0.154</td>\n",
       "</tr>\n",
       "<tr>\n",
       "  <th>Rarity_SubLegendary</th> <td>   -0.2433</td> <td>    0.068</td> <td>   -3.577</td> <td> 0.000</td> <td>   -0.377</td> <td>   -0.110</td>\n",
       "</tr>\n",
       "</table>\n",
       "<table class=\"simpletable\">\n",
       "<tr>\n",
       "  <th>Omnibus:</th>       <td>136.078</td> <th>  Durbin-Watson:     </th> <td>   1.901</td>\n",
       "</tr>\n",
       "<tr>\n",
       "  <th>Prob(Omnibus):</th> <td> 0.000</td>  <th>  Jarque-Bera (JB):  </th> <td> 198.277</td>\n",
       "</tr>\n",
       "<tr>\n",
       "  <th>Skew:</th>          <td> 1.142</td>  <th>  Prob(JB):          </th> <td>8.80e-44</td>\n",
       "</tr>\n",
       "<tr>\n",
       "  <th>Kurtosis:</th>      <td> 2.705</td>  <th>  Cond. No.          </th> <td>    947.</td>\n",
       "</tr>\n",
       "</table><br/><br/>Notes:<br/>[1] Standard Errors assume that the covariance matrix of the errors is correctly specified."
      ],
      "text/plain": [
       "<class 'statsmodels.iolib.summary.Summary'>\n",
       "\"\"\"\n",
       "                            OLS Regression Results                            \n",
       "==============================================================================\n",
       "Dep. Variable:                NewSnap   R-squared:                       0.080\n",
       "Model:                            OLS   Adj. R-squared:                  0.075\n",
       "Method:                 Least Squares   F-statistic:                     15.51\n",
       "Date:                Fri, 03 Mar 2023   Prob (F-statistic):           1.19e-14\n",
       "Time:                        09:19:45   Log-Likelihood:                -467.70\n",
       "No. Observations:                 898   AIC:                             947.4\n",
       "Df Residuals:                     892   BIC:                             976.2\n",
       "Df Model:                           5                                         \n",
       "Covariance Type:            nonrobust                                         \n",
       "=======================================================================================\n",
       "                          coef    std err          t      P>|t|      [0.025      0.975]\n",
       "---------------------------------------------------------------------------------------\n",
       "Intercept               0.1969      0.018     11.046      0.000       0.162       0.232\n",
       "Popularity              0.0008      0.000      6.251      0.000       0.001       0.001\n",
       "Variance_Alohan         0.2465      0.101      2.451      0.014       0.049       0.444\n",
       "Generation_8           -0.1201      0.046     -2.590      0.010      -0.211      -0.029\n",
       "Evolution_0             0.0776      0.039      2.003      0.045       0.002       0.154\n",
       "Rarity_SubLegendary    -0.2433      0.068     -3.577      0.000      -0.377      -0.110\n",
       "==============================================================================\n",
       "Omnibus:                      136.078   Durbin-Watson:                   1.901\n",
       "Prob(Omnibus):                  0.000   Jarque-Bera (JB):              198.277\n",
       "Skew:                           1.142   Prob(JB):                     8.80e-44\n",
       "Kurtosis:                       2.705   Cond. No.                         947.\n",
       "==============================================================================\n",
       "\n",
       "Notes:\n",
       "[1] Standard Errors assume that the covariance matrix of the errors is correctly specified.\n",
       "\"\"\""
      ]
     },
     "execution_count": 28,
     "metadata": {},
     "output_type": "execute_result"
    }
   ],
   "source": [
    "OLSCheck = smf.ols(formula='NewSnap ~ Popularity +\\\n",
    "Variance_Alohan +\\\n",
    "Generation_8 + Evolution_0 +\\\n",
    "Rarity_SubLegendary', data= pokemonData).fit()\n",
    "OLSCheck.summary()"
   ]
  },
  {
   "cell_type": "markdown",
   "metadata": {},
   "source": [
    "## Remove Statistically Non-significant Variables"
   ]
  },
  {
   "cell_type": "code",
   "execution_count": 30,
   "metadata": {},
   "outputs": [
    {
     "data": {
      "text/plain": [
       "Index(['Popularity', 'NewSnap', 'Variance_Alohan', 'Variance_Galarian',\n",
       "       'Variance_Multiple', 'Generation_1', 'Generation_2', 'Generation_3',\n",
       "       'Generation_4', 'Generation_5', 'Generation_6', 'Generation_7',\n",
       "       'Generation_8', 'Evolution_0', 'Evolution_1', 'Evolution_2',\n",
       "       'Evolution_3', 'Rarity_Ancient', 'Rarity_Legendary', 'Rarity_Mythical',\n",
       "       'Rarity_Standard', 'Rarity_Starter', 'Rarity_SubLegendary'],\n",
       "      dtype='object')"
      ]
     },
     "execution_count": 30,
     "metadata": {},
     "output_type": "execute_result"
    }
   ],
   "source": [
    "#get the dataset to only include the columns that were statistically significant\n",
    "pokemonData.columns"
   ]
  },
  {
   "cell_type": "code",
   "execution_count": 31,
   "metadata": {},
   "outputs": [
    {
     "data": {
      "text/plain": [
       "Index(['Popularity', 'NewSnap', 'Variance_Alohan', 'Generation_8',\n",
       "       'Evolution_0', 'Rarity_SubLegendary'],\n",
       "      dtype='object')"
      ]
     },
     "execution_count": 31,
     "metadata": {},
     "output_type": "execute_result"
    }
   ],
   "source": [
    "pokemonData = pokemonData.drop(['Variance_Galarian'], axis=1) \n",
    "pokemonData = pokemonData.drop(['Variance_Multiple'], axis=1) \n",
    "pokemonData = pokemonData.drop(['Generation_1'], axis=1) \n",
    "pokemonData = pokemonData.drop(['Generation_2'], axis=1) \n",
    "pokemonData = pokemonData.drop(['Generation_3'], axis=1) \n",
    "pokemonData = pokemonData.drop(['Generation_4'], axis=1) \n",
    "pokemonData = pokemonData.drop(['Generation_5'], axis=1) \n",
    "pokemonData = pokemonData.drop(['Generation_6'], axis=1) \n",
    "pokemonData = pokemonData.drop(['Generation_7'], axis=1) \n",
    "pokemonData = pokemonData.drop(['Evolution_1'], axis=1) \n",
    "pokemonData = pokemonData.drop(['Evolution_2'], axis=1) \n",
    "pokemonData = pokemonData.drop(['Evolution_3'], axis=1)\n",
    "pokemonData = pokemonData.drop(['Rarity_Ancient'], axis=1)\n",
    "pokemonData = pokemonData.drop(['Rarity_Legendary'], axis=1)\n",
    "pokemonData = pokemonData.drop(['Rarity_Mythical'], axis=1)\n",
    "pokemonData = pokemonData.drop(['Rarity_Standard'], axis=1)\n",
    "pokemonData = pokemonData.drop(['Rarity_Starter'], axis=1)\n",
    "\n",
    "pokemonData.columns"
   ]
  },
  {
   "cell_type": "markdown",
   "metadata": {},
   "source": [
    "## Train the Model"
   ]
  },
  {
   "cell_type": "code",
   "execution_count": 32,
   "metadata": {},
   "outputs": [],
   "source": [
    "#separate the NewSnap column to test for it\n",
    "y = pokemonData['NewSnap']\n",
    "X = pokemonData.drop(['NewSnap'], axis=1)"
   ]
  },
  {
   "cell_type": "code",
   "execution_count": 33,
   "metadata": {},
   "outputs": [],
   "source": [
    "#split the data for training/testing\n",
    "X_train, X_test, y_train, y_test = train_test_split(X, y, test_size = 0.3, random_state = 25)"
   ]
  },
  {
   "cell_type": "code",
   "execution_count": 34,
   "metadata": {
    "scrolled": true
   },
   "outputs": [
    {
     "name": "stdout",
     "output_type": "stream",
     "text": [
      "<class 'pandas.core.frame.DataFrame'>\n",
      "Int64Index: 628 entries, 246 to 132\n",
      "Data columns (total 5 columns):\n",
      " #   Column               Non-Null Count  Dtype  \n",
      "---  ------               --------------  -----  \n",
      " 0   Popularity           628 non-null    float64\n",
      " 1   Variance_Alohan      628 non-null    uint8  \n",
      " 2   Generation_8         628 non-null    uint8  \n",
      " 3   Evolution_0          628 non-null    uint8  \n",
      " 4   Rarity_SubLegendary  628 non-null    uint8  \n",
      "dtypes: float64(1), uint8(4)\n",
      "memory usage: 12.3 KB\n"
     ]
    }
   ],
   "source": [
    "#check to make sure the columns look clean in training\n",
    "X_train.info()"
   ]
  },
  {
   "cell_type": "code",
   "execution_count": 35,
   "metadata": {
    "scrolled": true
   },
   "outputs": [
    {
     "name": "stdout",
     "output_type": "stream",
     "text": [
      "<class 'pandas.core.frame.DataFrame'>\n",
      "Int64Index: 270 entries, 186 to 311\n",
      "Data columns (total 5 columns):\n",
      " #   Column               Non-Null Count  Dtype  \n",
      "---  ------               --------------  -----  \n",
      " 0   Popularity           270 non-null    float64\n",
      " 1   Variance_Alohan      270 non-null    uint8  \n",
      " 2   Generation_8         270 non-null    uint8  \n",
      " 3   Evolution_0          270 non-null    uint8  \n",
      " 4   Rarity_SubLegendary  270 non-null    uint8  \n",
      "dtypes: float64(1), uint8(4)\n",
      "memory usage: 5.3 KB\n"
     ]
    }
   ],
   "source": [
    "#check to make sure the columns look clean in testing\n",
    "X_test.info()"
   ]
  },
  {
   "cell_type": "code",
   "execution_count": 36,
   "metadata": {},
   "outputs": [],
   "source": [
    "#do a decision tree classifier based on the training sets\n",
    "classifier=DecisionTreeClassifier()\n",
    "classifier=classifier.fit(X_train,y_train)"
   ]
  },
  {
   "cell_type": "code",
   "execution_count": 37,
   "metadata": {},
   "outputs": [],
   "source": [
    "#use the created prediction model on the testing set\n",
    "predictions = classifier.predict(X_test)"
   ]
  },
  {
   "cell_type": "markdown",
   "metadata": {},
   "source": [
    "## Results"
   ]
  },
  {
   "cell_type": "code",
   "execution_count": 38,
   "metadata": {},
   "outputs": [
    {
     "name": "stdout",
     "output_type": "stream",
     "text": [
      "              precision    recall  f1-score   support\n",
      "\n",
      "           0       0.77      0.91      0.83       201\n",
      "           1       0.44      0.22      0.29        69\n",
      "\n",
      "    accuracy                           0.73       270\n",
      "   macro avg       0.61      0.56      0.56       270\n",
      "weighted avg       0.69      0.73      0.69       270\n",
      "\n"
     ]
    }
   ],
   "source": [
    "#check results of the decision tree\n",
    "print(classification_report(y_test,predictions))"
   ]
  },
  {
   "cell_type": "code",
   "execution_count": 39,
   "metadata": {},
   "outputs": [
    {
     "name": "stdout",
     "output_type": "stream",
     "text": [
      "[[182  19]\n",
      " [ 54  15]]\n"
     ]
    }
   ],
   "source": [
    "#get confusion matrix for counts\n",
    "print(confusion_matrix(y_test,predictions))"
   ]
  },
  {
   "attachments": {
    "8b1d0031-7802-41c0-902c-c8d54b0d260b.png": {
     "image/png": "[encoded data removed]"
    }
   },
   "cell_type": "markdown",
   "metadata": {},
   "source": [
    "![image.png](attachment:8b1d0031-7802-41c0-902c-c8d54b0d260b.png)"
   ]
  },
  {
   "cell_type": "code",
   "execution_count": 40,
   "metadata": {
    "scrolled": true
   },
   "outputs": [
    {
     "data": {
      "text/html": [
       "<div>\n",
       "<style scoped>\n",
       "    .dataframe tbody tr th:only-of-type {\n",
       "        vertical-align: middle;\n",
       "    }\n",
       "\n",
       "    .dataframe tbody tr th {\n",
       "        vertical-align: top;\n",
       "    }\n",
       "\n",
       "    .dataframe thead th {\n",
       "        text-align: right;\n",
       "    }\n",
       "</style>\n",
       "<table border=\"1\" class=\"dataframe\">\n",
       "  <thead>\n",
       "    <tr style=\"text-align: right;\">\n",
       "      <th></th>\n",
       "      <th>Importance</th>\n",
       "      <th>Features</th>\n",
       "    </tr>\n",
       "  </thead>\n",
       "  <tbody>\n",
       "    <tr>\n",
       "      <th>0</th>\n",
       "      <td>0.843397</td>\n",
       "      <td>Popularity</td>\n",
       "    </tr>\n",
       "    <tr>\n",
       "      <th>3</th>\n",
       "      <td>0.104383</td>\n",
       "      <td>Evolution_0</td>\n",
       "    </tr>\n",
       "    <tr>\n",
       "      <th>1</th>\n",
       "      <td>0.028623</td>\n",
       "      <td>Variance_Alohan</td>\n",
       "    </tr>\n",
       "    <tr>\n",
       "      <th>4</th>\n",
       "      <td>0.022510</td>\n",
       "      <td>Rarity_SubLegendary</td>\n",
       "    </tr>\n",
       "    <tr>\n",
       "      <th>2</th>\n",
       "      <td>0.001086</td>\n",
       "      <td>Generation_8</td>\n",
       "    </tr>\n",
       "  </tbody>\n",
       "</table>\n",
       "</div>"
      ],
      "text/plain": [
       "   Importance             Features\n",
       "0    0.843397           Popularity\n",
       "3    0.104383          Evolution_0\n",
       "1    0.028623      Variance_Alohan\n",
       "4    0.022510  Rarity_SubLegendary\n",
       "2    0.001086         Generation_8"
      ]
     },
     "execution_count": 40,
     "metadata": {},
     "output_type": "execute_result"
    }
   ],
   "source": [
    "#find importance based off classifier\n",
    "dt_fi = pd.DataFrame(classifier.feature_importances_)\n",
    "names = pd.DataFrame(list(X.columns))\n",
    "df_feat_imp = pd.concat([dt_fi, names], axis = 1)\n",
    "\n",
    "df_feat_imp.columns = ['Importance', 'Features']\n",
    "df_feat_imp.sort_values('Importance', ascending = False)"
   ]
  },
  {
   "cell_type": "markdown",
   "metadata": {},
   "source": [
    "The original model had a 70% accuracy. Elimination caused a 3% increase in accuracy. It also uses a lot less memory when having to calculate the model since there are only 5 variables being used."
   ]
  },
  {
   "cell_type": "markdown",
   "metadata": {},
   "source": [
    "## Random Forest"
   ]
  },
  {
   "cell_type": "code",
   "execution_count": 41,
   "metadata": {},
   "outputs": [],
   "source": [
    "#Import\n",
    "from sklearn.ensemble import RandomForestClassifier"
   ]
  },
  {
   "cell_type": "code",
   "execution_count": 42,
   "metadata": {},
   "outputs": [],
   "source": [
    "#Run a random forst using the following code:\n",
    "rf = RandomForestClassifier(n_estimators = 90, max_depth = 10)\n",
    "rf = rf.fit(X_train, y_train)"
   ]
  },
  {
   "cell_type": "code",
   "execution_count": 43,
   "metadata": {},
   "outputs": [
    {
     "name": "stdout",
     "output_type": "stream",
     "text": [
      "0.7185185185185186\n",
      "              precision    recall  f1-score   support\n",
      "\n",
      "           0       0.76      0.92      0.83       201\n",
      "           1       0.37      0.14      0.21        69\n",
      "\n",
      "    accuracy                           0.72       270\n",
      "   macro avg       0.56      0.53      0.52       270\n",
      "weighted avg       0.66      0.72      0.67       270\n",
      "\n",
      "[[184  17]\n",
      " [ 59  10]]\n"
     ]
    }
   ],
   "source": [
    "#Print Scores\n",
    "score = rf.score(X_test, y_test)\n",
    "print(score)\n",
    "rf_pred = rf.predict(X_test)\n",
    "print(classification_report(y_test, rf_pred))\n",
    "print(confusion_matrix(y_test, rf_pred))"
   ]
  },
  {
   "cell_type": "markdown",
   "metadata": {},
   "source": [
    "Changing the model type to random forest didn't seem to do anything to improve the accuracy."
   ]
  },
  {
   "cell_type": "markdown",
   "metadata": {},
   "source": [
    "## Logistic Regression"
   ]
  },
  {
   "cell_type": "code",
   "execution_count": 44,
   "metadata": {},
   "outputs": [],
   "source": [
    "#Import\n",
    "from sklearn.linear_model import LogisticRegression\n",
    "from sklearn.metrics import confusion_matrix, classification_report"
   ]
  },
  {
   "cell_type": "code",
   "execution_count": 45,
   "metadata": {},
   "outputs": [
    {
     "name": "stdout",
     "output_type": "stream",
     "text": [
      "0.7481481481481481\n"
     ]
    }
   ],
   "source": [
    "#Create a Logistic Regression classifier using:\n",
    "logr = LogisticRegression()\n",
    "logr.fit(X_train, y_train)\n",
    "score = logr.score(X_test, y_test)\n",
    "print(score)"
   ]
  },
  {
   "cell_type": "code",
   "execution_count": 46,
   "metadata": {},
   "outputs": [],
   "source": [
    "#Create a predicted variable from X_test\n",
    "log_pred = logr.predict(X_test)"
   ]
  },
  {
   "cell_type": "code",
   "execution_count": 47,
   "metadata": {},
   "outputs": [
    {
     "name": "stdout",
     "output_type": "stream",
     "text": [
      "[[197   4]\n",
      " [ 64   5]]\n",
      "\n",
      "              precision    recall  f1-score   support\n",
      "\n",
      "           0       0.75      0.98      0.85       201\n",
      "           1       0.56      0.07      0.13        69\n",
      "\n",
      "    accuracy                           0.75       270\n",
      "   macro avg       0.66      0.53      0.49       270\n",
      "weighted avg       0.70      0.75      0.67       270\n",
      "\n"
     ]
    }
   ],
   "source": [
    "#Print confusion matrix and classification report\n",
    "print(confusion_matrix(y_test, log_pred))\n",
    "print(\"\")\n",
    "print(classification_report(y_test, log_pred))"
   ]
  },
  {
   "cell_type": "markdown",
   "metadata": {},
   "source": [
    "Logistic regression was better at predicting which Pokemon where going to be excluded from the game, but had a harder time predicting which would be included. 75% accuracy, but it seemed to favor categorizing Pokemon to not being included. Only 5 Pokemon where accurately predicted to be in the game."
   ]
  },
  {
   "cell_type": "markdown",
   "metadata": {},
   "source": [
    "## Logistic Regression with Standard Scalar"
   ]
  },
  {
   "cell_type": "code",
   "execution_count": 53,
   "metadata": {},
   "outputs": [],
   "source": [
    "from sklearn import preprocessing\n",
    "from sklearn.preprocessing import StandardScaler\n",
    "scaler = preprocessing.StandardScaler()"
   ]
  },
  {
   "cell_type": "code",
   "execution_count": 54,
   "metadata": {},
   "outputs": [],
   "source": [
    "#Create scaled sets of the X dataframe\n",
    "X_scaled = scaler.fit_transform(X)"
   ]
  },
  {
   "cell_type": "code",
   "execution_count": 55,
   "metadata": {},
   "outputs": [],
   "source": [
    "#Split the data for test/train for the scaled dataframe\n",
    "X_trainSC, X_testSC, y_trainSC, y_testSC = train_test_split(X_scaled, y, test_size = 0.3, random_state = 25)"
   ]
  },
  {
   "cell_type": "code",
   "execution_count": 56,
   "metadata": {},
   "outputs": [
    {
     "name": "stdout",
     "output_type": "stream",
     "text": [
      "0.7818471337579618\n"
     ]
    }
   ],
   "source": [
    "#Rerun a logistic regression using the standard scalar datasets.\n",
    "logr = LogisticRegression()\n",
    "logr.fit(X_trainSC, y_trainSC)\n",
    "score = logr.score(X_trainSC, y_trainSC)\n",
    "print(score)"
   ]
  },
  {
   "cell_type": "code",
   "execution_count": 59,
   "metadata": {},
   "outputs": [],
   "source": [
    "log_predSC = logr.predict(X_testSC)"
   ]
  },
  {
   "cell_type": "code",
   "execution_count": 64,
   "metadata": {},
   "outputs": [
    {
     "name": "stdout",
     "output_type": "stream",
     "text": [
      "[[197   4]\n",
      " [ 64   5]]\n",
      "\n",
      "              precision    recall  f1-score   support\n",
      "\n",
      "           0       0.75      0.98      0.85       201\n",
      "           1       0.56      0.07      0.13        69\n",
      "\n",
      "    accuracy                           0.75       270\n",
      "   macro avg       0.66      0.53      0.49       270\n",
      "weighted avg       0.70      0.75      0.67       270\n",
      "\n"
     ]
    }
   ],
   "source": [
    "#Print the score, confusion matrix, and classification report\n",
    "print(confusion_matrix(y_testSC, log_predSC))\n",
    "print(\"\")\n",
    "print(classification_report(y_testSC, log_predSC))"
   ]
  },
  {
   "cell_type": "markdown",
   "metadata": {},
   "source": [
    "Logistic Regression with Standard Scalar had the exact same results as regular Logistic Regression."
   ]
  },
  {
   "cell_type": "code",
   "execution_count": null,
   "metadata": {},
   "outputs": [],
   "source": []
  }
 ],
 "metadata": {
  "kernelspec": {
   "display_name": "Python 3 (ipykernel)",
   "language": "python",
   "name": "python3"
  },
  "language_info": {
   "codemirror_mode": {
    "name": "ipython",
    "version": 3
   },
   "file_extension": ".py",
   "mimetype": "text/x-python",
   "name": "python",
   "nbconvert_exporter": "python",
   "pygments_lexer": "ipython3",
   "version": "3.9.13"
  }
 },
 "nbformat": 4,
 "nbformat_minor": 4
}
