{
 "cells": [
  {
   "cell_type": "markdown",
   "id": "ec5af596",
   "metadata": {},
   "source": [
    "# Dictionaries, Oh Lovely Dictionaries\n",
    "\n",
    "You are now going to learn about the Dictionary data structure in Python. A Dictionary ( or \"dict\") is a way to store data just like a list, but instead of using only numbers to get the data, you can use almost anything. This lets you treat a dict like it's a database for string and organizing data.\n",
    "\n",
    "Let's compare what dicts can do to what lists can do. You see, a list lets you do this:"
   ]
  },
  {
   "cell_type": "code",
   "execution_count": 3,
   "id": "00418572",
   "metadata": {},
   "outputs": [],
   "source": [
    "things = ['a','b','c','d']"
   ]
  },
  {
   "cell_type": "code",
   "execution_count": 4,
   "id": "42e6d456",
   "metadata": {},
   "outputs": [
    {
     "name": "stdout",
     "output_type": "stream",
     "text": [
      "b\n"
     ]
    }
   ],
   "source": [
    "print(things[1])"
   ]
  },
  {
   "cell_type": "code",
   "execution_count": 5,
   "id": "22e7cd46",
   "metadata": {},
   "outputs": [],
   "source": [
    "things[1] = 'z'"
   ]
  },
  {
   "cell_type": "code",
   "execution_count": 6,
   "id": "c89c7df2",
   "metadata": {},
   "outputs": [
    {
     "data": {
      "text/plain": [
       "['a', 'z', 'c', 'd']"
      ]
     },
     "execution_count": 6,
     "metadata": {},
     "output_type": "execute_result"
    }
   ],
   "source": [
    "things"
   ]
  },
  {
   "cell_type": "markdown",
   "id": "49a4fc8f",
   "metadata": {},
   "source": [
    "You can use numbers to \"index\" into a list, meaning you can use numbers to find out what's in lists. You should know this about lists by now, but make sure you understand that you can *only* use numbers to get items out of a list.\n",
    "\n",
    "What a dict does is let you use *anything*, not just numbers. Yes, a dict associates one thing to another, no matter what it is. Take a look:"
   ]
  },
  {
   "cell_type": "code",
   "execution_count": 7,
   "id": "c32452d1",
   "metadata": {},
   "outputs": [],
   "source": [
    "stuff = {'name' : 'Zed', 'age' : 39, 'height' : 6 * 2 + 2}"
   ]
  },
  {
   "cell_type": "code",
   "execution_count": 8,
   "id": "374684c7",
   "metadata": {},
   "outputs": [
    {
     "name": "stdout",
     "output_type": "stream",
     "text": [
      "Zed\n"
     ]
    }
   ],
   "source": [
    "print(stuff['name'])"
   ]
  },
  {
   "cell_type": "code",
   "execution_count": 9,
   "id": "6f89a26b",
   "metadata": {},
   "outputs": [
    {
     "name": "stdout",
     "output_type": "stream",
     "text": [
      "14\n"
     ]
    }
   ],
   "source": [
    "print(stuff['height'])"
   ]
  },
  {
   "cell_type": "code",
   "execution_count": 12,
   "id": "c07b0ec2",
   "metadata": {},
   "outputs": [],
   "source": [
    "stuff['city'] = \"SF\""
   ]
  },
  {
   "cell_type": "code",
   "execution_count": 13,
   "id": "4812c96e",
   "metadata": {},
   "outputs": [
    {
     "name": "stdout",
     "output_type": "stream",
     "text": [
      "SF\n"
     ]
    }
   ],
   "source": [
    "print(stuff['city'])"
   ]
  },
  {
   "cell_type": "markdown",
   "id": "07504445",
   "metadata": {},
   "source": [
    "You will see that instead of just numbers we're using strings to say what we want from the stuff dictionary. We can also put new things into the dictionary with strings. It doesn't have to be strings though. We can also do this:"
   ]
  },
  {
   "cell_type": "code",
   "execution_count": 14,
   "id": "e49fd2a1",
   "metadata": {},
   "outputs": [],
   "source": [
    "stuff[1] = \"Wow\""
   ]
  },
  {
   "cell_type": "code",
   "execution_count": 15,
   "id": "35462893",
   "metadata": {},
   "outputs": [],
   "source": [
    "stuff[2] = \"Neato\""
   ]
  },
  {
   "cell_type": "code",
   "execution_count": 16,
   "id": "ef5a9969",
   "metadata": {},
   "outputs": [
    {
     "name": "stdout",
     "output_type": "stream",
     "text": [
      "Wow\n"
     ]
    }
   ],
   "source": [
    "print(stuff[1])"
   ]
  },
  {
   "cell_type": "code",
   "execution_count": 17,
   "id": "2dae3ea6",
   "metadata": {},
   "outputs": [
    {
     "name": "stdout",
     "output_type": "stream",
     "text": [
      "Neato\n"
     ]
    }
   ],
   "source": [
    "print(stuff[2])"
   ]
  },
  {
   "cell_type": "code",
   "execution_count": 18,
   "id": "78b20cdb",
   "metadata": {},
   "outputs": [
    {
     "data": {
      "text/plain": [
       "{'name': 'Zed', 'age': 39, 'height': 14, 'city': 'SF', 1: 'Wow', 2: 'Neato'}"
      ]
     },
     "execution_count": 18,
     "metadata": {},
     "output_type": "execute_result"
    }
   ],
   "source": [
    "stuff"
   ]
  },
  {
   "cell_type": "markdown",
   "id": "3ea7f4bc",
   "metadata": {},
   "source": [
    "In this code I used numbers, and then you can see there are numbers and strings as keys in the dict when I print it. I could use anything. Well almost, but just pretend you can use anything for now.\n",
    "\n",
    "Of course, a dictionary that you can only put things in is pretty stupid, so here's how you delete things, with the pop() function."
   ]
  },
  {
   "cell_type": "code",
   "execution_count": 19,
   "id": "6eaa0159",
   "metadata": {},
   "outputs": [
    {
     "data": {
      "text/plain": [
       "'SF'"
      ]
     },
     "execution_count": 19,
     "metadata": {},
     "output_type": "execute_result"
    }
   ],
   "source": [
    "stuff.pop('city')"
   ]
  },
  {
   "cell_type": "code",
   "execution_count": 20,
   "id": "0b9ce629",
   "metadata": {},
   "outputs": [
    {
     "data": {
      "text/plain": [
       "'Wow'"
      ]
     },
     "execution_count": 20,
     "metadata": {},
     "output_type": "execute_result"
    }
   ],
   "source": [
    "stuff.pop(1)"
   ]
  },
  {
   "cell_type": "code",
   "execution_count": 21,
   "id": "312a328e",
   "metadata": {},
   "outputs": [
    {
     "data": {
      "text/plain": [
       "'Neato'"
      ]
     },
     "execution_count": 21,
     "metadata": {},
     "output_type": "execute_result"
    }
   ],
   "source": [
    "stuff.pop(2)"
   ]
  },
  {
   "cell_type": "code",
   "execution_count": 22,
   "id": "8b5f3ed6",
   "metadata": {},
   "outputs": [
    {
     "data": {
      "text/plain": [
       "{'name': 'Zed', 'age': 39, 'height': 14}"
      ]
     },
     "execution_count": 22,
     "metadata": {},
     "output_type": "execute_result"
    }
   ],
   "source": [
    "stuff"
   ]
  },
  {
   "cell_type": "markdown",
   "id": "1f6db476",
   "metadata": {},
   "source": [
    "## A Dictionary Example\n",
    "\n",
    "We'll now do an exercise that you *must* study very carefully. I want you to type this code in and try to understand what's going on. Take note of when you put things in a dict, get them from a hash, and all the operations you use. Notice how this example is mapping states to their abbreviations and then the abbreviations to cities in the states. Remember, \"mapping\" or \"associating\" is the key concept in a dictionary."
   ]
  },
  {
   "cell_type": "code",
   "execution_count": 26,
   "id": "bba7a9ca",
   "metadata": {},
   "outputs": [
    {
     "name": "stdout",
     "output_type": "stream",
     "text": [
      "----------\n",
      "NY State has:  New York\n",
      "OR State has:  Portland\n",
      "----------\n",
      "Michigan's abbreviation is:  MI\n",
      "Florida's abbreviation is:  FL\n",
      "----------\n",
      "Michigan has:  Detroit\n",
      "Florida has:  Jacksonville\n",
      "----------\n",
      "Oregon is abbreviated OR\n",
      "Florida is abbreviated FL\n",
      "California is abbreviated CA\n",
      "New York is abbreviated NY\n",
      "Michigan is abbreviated MI\n",
      "----------\n",
      "CA has the city San Francisco\n",
      "MI has the city Detroit\n",
      "FL has the city Jacksonville\n",
      "NY has the city New York\n",
      "OR has the city Portland\n",
      "----------\n",
      "Oregon state is abbreviated OR\n",
      "and has city Portland\n",
      "Florida state is abbreviated FL\n",
      "and has city Jacksonville\n",
      "California state is abbreviated CA\n",
      "and has city San Francisco\n",
      "New York state is abbreviated NY\n",
      "and has city New York\n",
      "Michigan state is abbreviated MI\n",
      "and has city Detroit\n",
      "----------\n",
      "Sorry, no Texas.\n",
      "The city for the state 'TX' is: Does Not Exist\n"
     ]
    }
   ],
   "source": [
    "# create a mapping of state to abbreviations\n",
    "states = {\n",
    "    'Oregon':'OR',\n",
    "    'Florida':'FL',\n",
    "    'California':'CA',\n",
    "    'New York':'NY',\n",
    "    'Michigan':'MI'\n",
    "}\n",
    "\n",
    "# create a basic set of states and some cities in them\n",
    "cities = {\n",
    "    'CA':'San Francisco',\n",
    "    'MI':'Detroit',\n",
    "    'FL':'Jacksonville'\n",
    "}\n",
    "\n",
    "# add some more cities\n",
    "cities['NY'] = 'New York'\n",
    "cities['OR'] = 'Portland'\n",
    "\n",
    "# print out some cities\n",
    "print('-' * 10)\n",
    "print(\"NY State has: \", cities['NY'])\n",
    "print(\"OR State has: \", cities['OR'])\n",
    "\n",
    "# print some states\n",
    "print('-' * 10)\n",
    "print(\"Michigan's abbreviation is: \", states['Michigan'])\n",
    "print(\"Florida's abbreviation is: \", states['Florida'])\n",
    "\n",
    "# do it by using the state then cities dict\n",
    "print('-' * 10)\n",
    "print(\"Michigan has: \", cities[states['Michigan']])\n",
    "print(\"Florida has: \", cities[states['Florida']])\n",
    "\n",
    "# print every state abbreviation\n",
    "print('-' * 10)\n",
    "for state, abbrev in list(states.items()):\n",
    "    print(f\"{state} is abbreviated {abbrev}\")\n",
    "\n",
    "# print every city in state\n",
    "print('-' * 10)\n",
    "for abbrev, city in list(cities.items()):\n",
    "    print(f\"{abbrev} has the city {city}\")\n",
    "\n",
    "# now do both at the same time\n",
    "print('-' * 10)\n",
    "for state, abbrev in list(states.items()):\n",
    "    print(f\"{state} state is abbreviated {abbrev}\")\n",
    "    print(f\"and has city {cities[abbrev]}\")\n",
    "    \n",
    "print('-' * 10)\n",
    "# safely get an abbreviation by state that might not be there\n",
    "state = states.get('Texas')\n",
    "\n",
    "if not state:\n",
    "    print(\"Sorry, no Texas.\")\n",
    "    \n",
    "# get a city with a default value\n",
    "city = cities.get('TX', 'Does Not Exist')\n",
    "print(f\"The city for the state 'TX' is: {city}\")"
   ]
  },
  {
   "cell_type": "markdown",
   "id": "de51ded8",
   "metadata": {},
   "source": [
    "## What Dictionaries Can Do\n",
    "\n",
    "Dictionaries are another example of a data structure, and, like lists, they are one of the most commonly used data structures in programming. A dictionary is used to *map* or *associate* things you want to store to keys you need to get them. Again, programmers don't use a term like \"dictionary\" for something that doesn't work like an actual dictionary full of words, so let's use that as our real world example.\n",
    "\n",
    "1. Go to your library and get \"the dictionary\". Let's say it's the OED.\n",
    "2. You know ”honorificabilitudinitatibus” starts with the letter 'H' so you look on the side of the book for the little tab that has 'H' on it.\n",
    "3. Then you'd skim the pages until you are close to where \"hon\" started.\n",
    "4. Then you'd skim a few more pages until you found ”honorificabilitudinitatibus” or hit the beginning of the \"hp\" words and realize this word isn't in the OED.\n",
    "5. Once you found the entry, you'd read the definition to figure out what it means.\n",
    "\n",
    "This process is nearly exactly the way a dict words, and you are basically \"mapping\" the word ”honorificabilitudinitatibus” to its definition. A dict in Python is just like a dictionary in the real world such as the OED.\n",
    "\n",
    "## Study Drills\n",
    "\n",
    "1. Do this same kind of mapping with cities and states/regions in your country or some other country.\n",
    "2. Find the Python documentation and try to do even more things to them.\n",
    "3. Find out what you can't do with dictionaries. A big one is that they do not have order, so try playing with that.\n",
    "\n",
    "## Common Student Questions\n",
    "\n",
    "- What is the difference between a list and a dictionary?\n",
    "    - A list is for an order list of items. A dictionary (or dict) is for matching some items (called \"keys\") to other items (called \"values\").\n",
    "- What would I use a dictionary for?\n",
    "    - When you have to take one values and \"look up\" another value. In fact, you could call dictionaries \"look up tables\".\n",
    "- What would I use a list for?\n",
    "    - Use a list for any sequence of things that need to be in order, and you only need to look them up by a numeric index.\n",
    "- What if I need a dictionary, but I need it to be in order?\n",
    "    - Take a look at the [collections.OrderDict data] structure in Python. Search for it online to find the documentation."
   ]
  }
 ],
 "metadata": {
  "kernelspec": {
   "display_name": "Python 3 (ipykernel)",
   "language": "python",
   "name": "python3"
  },
  "language_info": {
   "codemirror_mode": {
    "name": "ipython",
    "version": 3
   },
   "file_extension": ".py",
   "mimetype": "text/x-python",
   "name": "python",
   "nbconvert_exporter": "python",
   "pygments_lexer": "ipython3",
   "version": "3.10.9"
  }
 },
 "nbformat": 4,
 "nbformat_minor": 5
}
