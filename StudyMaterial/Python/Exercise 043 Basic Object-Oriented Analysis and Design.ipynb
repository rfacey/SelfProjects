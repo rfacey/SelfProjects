{
 "cells": [
  {
   "cell_type": "markdown",
   "id": "f0fd42d4",
   "metadata": {},
   "source": [
    "# Basic Object-Oriented Analysis and Design\n",
    "\n",
    "I'm going to describe a process to use when you want to build something using Python, specifically with object-oriented programming (OOP), What I mean by a \"process\" is that I'll give you a set of steps that you do in order but that you aren't meant to be a slave to or that will totally always work for every problem. They are just a good starting point for many programming problems and shouldn't be considered the only way to solve these types of problems. This process is just one way to do it that you can follow.\n",
    "\n",
    "The process is as follows:\n",
    "\n",
    "1. Write or draw about the problem.\n",
    "2. Extract key concepts from 1 and research them.\n",
    "3. Create a class hierarchy and object map for the concepts.\n",
    "4. Code the classes and test to run them.\n",
    "5. Repeat and refine.\n",
    "\n",
    "The way to look atn this process is that it is \"top down,\" meaning it starts from the very abstract loose idea and then slowly refines it until the idea is solid and something you can code.\n",
    "\n",
    "I start by just writing about a problem and trying to think up anything I can about it. Maybe I'll even draw a diagram or two, maybe a map of some kind, or even write myself a series of emails describing the problem. This gives me a way to express the key concepts in the problem and also explore what I might already know about it.\n",
    "\n",
    "Then I go through these notes, drawing and descriptions, and I pull out the key concepts. There's a simple trick to doing this: Simply make a list of all the nouns and verbs in your writing and drawings, then write out how they're related. This gives me a good list of names for classes, objects, and functions in the next step. I take this list of concepts and then research any that I don't understsand so I can refine them further if needed.\n",
    "\n",
    "Once I have my list of concepts I create a simple outline/tree of the concepts and how they are related as classes. You can usually take your list of nouns and start asking \"Is this one like other concept nouns? That means they have a common parent class, so what is it called?\" Keep doing this until you have a class hierarchy that's just a simple tree list or a diagram. Then take the verbs you ahve and see if those are function names for each class and put them in your tree.\n",
    "\n",
    "With this class hierarchy figured out, I sit down and write some basic skeleton code that has just the classes, their functions, and nothing more. I then write a test that runs this code and makes sure the classes I've made make sense and work right. Sometimes I may write the test first though, and other times I might write a little test, a little code, a little test, etc. until I have the whole thing built.\n",
    "\n",
    "Finally, I keep cycling over this process repating it and refining it as I go and making it as clear as I can before doing more implementation. If I get stuck at any particular part because of a concept or problem I haven't anticipated, then I sit down and start the process over on just that part to figure it out more before continuing.\n",
    "I will no go through this process while coming up with a game engine and a game for this exercise.\n",
    "\n",
    "## The Analysis of a Simple Game Engine\n",
    "\n",
    "The game I want to make is called \"Gothons from Planet Parcal #25,\" and it will be a small space adventure game. With nothing more than that concept in my mind, I can explore the idea and figure out how to make the game come to life.\n",
    "\n",
    "### Write or Draw About the Problem\n",
    "\n",
    "I'm going to write a little paragraph for the game:\n",
    "\n",
    "\"Aliens have invaded a space ship and our hero has to go through a maze of rooms defeating them so he can excape into an escape pod to the planet below. The game will be more like a Zork or Adventure type game with text outputs and funny ways to die. The game will involve an engine that runs a map full of rooms or scenes. Each room will print its own description when the player enters it and then tell the engine what room to run next out of the map.\"\n",
    "\n",
    "At this point I have a good idea for the same and how it would run, so now I want to describe each scene:\n",
    "\n"
   ]
  }
 ],
 "metadata": {
  "kernelspec": {
   "display_name": "Python 3 (ipykernel)",
   "language": "python",
   "name": "python3"
  },
  "language_info": {
   "codemirror_mode": {
    "name": "ipython",
    "version": 3
   },
   "file_extension": ".py",
   "mimetype": "text/x-python",
   "name": "python",
   "nbconvert_exporter": "python",
   "pygments_lexer": "ipython3",
   "version": "3.9.13"
  }
 },
 "nbformat": 4,
 "nbformat_minor": 5
}
