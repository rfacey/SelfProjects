{
 "cells": [
  {
   "cell_type": "markdown",
   "id": "2b93c5f0",
   "metadata": {},
   "source": [
    "Source: https://learn.microsoft.com/en-us/training/modules/csharp-choose-data-type/6-choose-right-data-type"
   ]
  },
  {
   "cell_type": "markdown",
   "id": "bb0df89b",
   "metadata": {},
   "source": [
    "# Choose the right data type\n",
    "\n",
    "You've been introduced to the difference between value tpyes and"
   ]
  }
 ],
 "metadata": {
  "kernelspec": {
   "display_name": ".NET (C#)",
   "language": "C#",
   "name": ".net-csharp"
  },
  "language_info": {
   "file_extension": ".cs",
   "mimetype": "text/x-csharp",
   "name": "C#",
   "pygments_lexer": "csharp",
   "version": "8.0"
  }
 },
 "nbformat": 4,
 "nbformat_minor": 5
}
