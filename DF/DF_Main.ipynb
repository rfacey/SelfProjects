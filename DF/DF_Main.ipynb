{
 "cells": [
  {
   "cell_type": "markdown",
   "id": "8974d915-3e87-4e89-adca-ec0a1a5bc597",
   "metadata": {},
   "source": [
    "Going to use Deepfacelab. I was able to find good examples of this program being used and the results looked more realistic than SimSwap or other Python-based programs. One example I was able to find with a full walkthrough of the process:\n",
    "\n",
    "https://www.youtube.com/watch?v=hP3njGbvvWc&ab_channel=Cinecom.net\n",
    "\n",
    "This video gives a more technical approach on tweaking the video:\n",
    "https://www.youtube.com/watch?v=rw5F5lSvBLE&ab_channel=DigitalDaz"
   ]
  },
  {
   "cell_type": "markdown",
   "id": "1841d038-488f-4dda-84a5-b134950df5dd",
   "metadata": {},
   "source": [
    "Programs:\n",
    "- Deepfacelabs\n",
    "    - Main program\n",
    "    - https://github.com/iperov/DeepFaceLab\n",
    "- Machine Video Editor\n",
    "    - Helps edit the input video data\n",
    "    - https://github.com/MachineEditor/MachineVideoEditor"
   ]
  },
  {
   "cell_type": "markdown",
   "id": "9c5b8008-333d-4abe-82a4-27abaa0e6045",
   "metadata": {},
   "source": [
    "## Machine Video Editor\n",
    "\n",
    "Started with downloading this first. Went into the GitHub page, scrolled down to \"releases\", and chose the Windows (mega.nz) file. Chose to download the DeepFaceLab_NVIDIA_up_to_RTX2080Ti_build_11_20_2021.exe file."
   ]
  },
  {
   "cell_type": "code",
   "execution_count": null,
   "id": "fddddcd1-4c47-4b95-96ac-d9e28369c101",
   "metadata": {},
   "outputs": [],
   "source": []
  }
 ],
 "metadata": {
  "kernelspec": {
   "display_name": "Python 3 (ipykernel)",
   "language": "python",
   "name": "python3"
  },
  "language_info": {
   "codemirror_mode": {
    "name": "ipython",
    "version": 3
   },
   "file_extension": ".py",
   "mimetype": "text/x-python",
   "name": "python",
   "nbconvert_exporter": "python",
   "pygments_lexer": "ipython3",
   "version": "3.9.13"
  }
 },
 "nbformat": 4,
 "nbformat_minor": 5
}
