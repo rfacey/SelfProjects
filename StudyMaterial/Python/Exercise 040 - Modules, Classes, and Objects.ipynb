{
 "cells": [
  {
   "cell_type": "markdown",
   "id": "56b3fbd4",
   "metadata": {},
   "source": [
    "# Modules, Classes, and Objects\n",
    "\n",
    "Python is called an \"object-oriented programming language.\" This means there is a construct in Python called a class that lets you structure your software in a particular way. Using classes, you can add consistency to your programs so that they can be used in a cleaner way. At least that's the theory.\n",
    "\n",
    "I am now going to teach you the beginnings of object-oriented programming, classes, and objects using what you already know about dictionaries and modules. My problem is that object-oriented programming (OOP) is just plain weird. You have to struggle with this, try to understand what I say here, type in the code, and in the next exercise I'll hammer it in.\n",
    "\n",
    "Here we go.\n",
    "\n",
    "## Modules Are Like Dictionaries\n",
    "\n",
    "You know how a dictionary is created and used as a way to map one thing to another. That means if you have a dictionary with the key \"apple\" and you want to get it then you do this:"
   ]
  },
  {
   "cell_type": "code",
   "execution_count": 2,
   "id": "7cd3db00",
   "metadata": {},
   "outputs": [
    {
     "name": "stdout",
     "output_type": "stream",
     "text": [
      "I AM APPLES!\n"
     ]
    }
   ],
   "source": [
    "mystuff = {'apple' : \"I AM APPLES!\"}\n",
    "print(mystuff['apple'])"
   ]
  },
  {
   "cell_type": "markdown",
   "id": "d302cc24",
   "metadata": {},
   "source": [
    "Keep this idea of \"get X from Y\" in your head, and now think about modules. You've made a few so far, and you should know they are:\n",
    "\n",
    "1. A Python file with some functions or variables in it ..\n",
    "2. You import that file.\n",
    "3. And you can access the functions or variables in that module with the . (dot) operator.\n",
    "\n",
    "Imagine I have a module that I decide to name mystuff.py and I put a function in it called apple. Here's the module mystuff.py:"
   ]
  },
  {
   "cell_type": "code",
   "execution_count": 3,
   "id": "31f3c82b",
   "metadata": {},
   "outputs": [],
   "source": [
    "def apple():\n",
    "    print(\"I AM APPLES!\")"
   ]
  },
  {
   "cell_type": "markdown",
   "id": "0b592f44",
   "metadata": {},
   "source": [
    "Once I have this code, I can use the module MyStuff with import and then access the apple function:"
   ]
  },
  {
   "cell_type": "code",
   "execution_count": 4,
   "id": "47ccc7a1",
   "metadata": {},
   "outputs": [
    {
     "name": "stdout",
     "output_type": "stream",
     "text": [
      "I AM APPLES!\n"
     ]
    }
   ],
   "source": [
    "import mystuff\n",
    "mystuff.apple()"
   ]
  },
  {
   "cell_type": "markdown",
   "id": "44aff616",
   "metadata": {},
   "source": [
    "I could also put a variable in it named \"tangerine\":"
   ]
  },
  {
   "cell_type": "code",
   "execution_count": 5,
   "id": "12365b6e",
   "metadata": {},
   "outputs": [],
   "source": [
    "def apple():\n",
    "    print(\"I AM APPLES!\")\n",
    "    \n",
    "# this is just a variable\n",
    "tangerine = \"Living reflection of a dream\""
   ]
  },
  {
   "cell_type": "markdown",
   "id": "e2a3be9d",
   "metadata": {},
   "source": [
    "I can access that the same way:"
   ]
  },
  {
   "cell_type": "code",
   "execution_count": 6,
   "id": "7cca5324",
   "metadata": {},
   "outputs": [
    {
     "name": "stdout",
     "output_type": "stream",
     "text": [
      "I AM APPLES!\n",
      "Living reflection of a dream\n"
     ]
    }
   ],
   "source": [
    "import mystuff\n",
    "\n",
    "mystuff.apple()\n",
    "print(mystuff.tangerine)"
   ]
  },
  {
   "cell_type": "markdown",
   "id": "de5f07aa",
   "metadata": {},
   "source": [
    "Refer back to the dictionary, and youn should start to see how this is similar to using a dictionary, but the syntax is different. Let's compare:"
   ]
  },
  {
   "cell_type": "raw",
   "id": "c720d1a9",
   "metadata": {},
   "source": [
    "mystuff['apple'] # get apple from dict\n",
    "mystuff.apple() # get apple from the module\n",
    "mystuff.tangerine # same thing, it's just a variable"
   ]
  },
  {
   "cell_type": "markdown",
   "id": "aac35930",
   "metadata": {},
   "source": [
    "This means we have a *very* common pattern in Python:\n",
    "\n",
    "1. Take a key=value style container.\n",
    "2. Get something out of it by the key's name.\n",
    "\n",
    "In the case of the dictionary, the key is a string and the syntax is [key]. In thew case of the module, the key is an identifier, and the syntax is .key. Other than that they are nearly the same thing.\n",
    "\n",
    "## 40.1.1 Classes Are Like Modules\n",
    "\n",
    "You can think about a module as a specialized dictionary that can store Python code so you can access with the . operator. Python also has another construct that serves a similar purpose called a class. A class is a way to take a grouping of functions and data and pace them inside a container so you can access them with the . (dot) operator.\n",
    "\n",
    "If I were to create a class just like the mystuff module, I'd do something like this:"
   ]
  },
  {
   "cell_type": "code",
   "execution_count": 8,
   "id": "b818c57e",
   "metadata": {},
   "outputs": [],
   "source": [
    "class MyStuff(object):\n",
    "    \n",
    "    def __init__(self):\n",
    "        self.tangerine = \"And now a thousand years between\"\n",
    "        \n",
    "    def apple(self):\n",
    "        print(\"I AM CLASSY APPLES!\")"
   ]
  },
  {
   "cell_type": "markdown",
   "id": "b696d972",
   "metadata": {},
   "source": [
    "That looks complicated compared to modules, and there is definitely a lot going on by comparison, but you should be able to make out how this is like a \"mini-module\" with MyStff having an apple() function in it. What is probably confusing is the \\__init__() function and use of self.tangerine for setting the tangerine instance variable.\n",
    "\n",
    "Here's why classes are used instead of modulesL You can take this MyStuff class and use it to craft many of them, millions at a time if you want, and each one won't interfere with each other. When you import a module there is only one for the entire program unless you do some monster hacks.\n",
    "\n",
    "Before you can understand this though, you need to know what an \"object\" is and how to work with MyStuff just like you do with the mystuff.py module.\n",
    "\n",
    "##  40.1.2 Objects Are Like Import\n",
    "\n",
    "If a class is like a \"mini=module,\" then there has to be a concept simliar to import but for classes. That concept is called \"instantiate\", which is just a fancy, obnoxious, overly smart way to say \"create.\" When you instantiate a class what you get is called an object.\n",
    "\n",
    "You instantiate (create) a class by calling the class like it's a function, but like this:"
   ]
  },
  {
   "cell_type": "code",
   "execution_count": 9,
   "id": "2272016b",
   "metadata": {},
   "outputs": [
    {
     "name": "stdout",
     "output_type": "stream",
     "text": [
      "I AM CLASSY APPLES!\n",
      "And now a thousand years between\n"
     ]
    }
   ],
   "source": [
    "thing = MyStuff()\n",
    "thing.apple()\n",
    "print(thing.tangerine)"
   ]
  },
  {
   "cell_type": "markdown",
   "id": "f3ed0bec",
   "metadata": {},
   "source": [
    "The first line is the \"instantiate\" operation, and it's a lot like calling a function. However, Python coordinates a sequence of events for you behind the scenes. I'll go through these steps using the preceding code for MyStuff:\n",
    "\n",
    "1. Python looks for MyStuff() and sees that it is a class you've defined.\n",
    "2. Python crafts an empty object with all the functions you've specified in the class using def.\n",
    "3. Python then looks to see if you made a \"magic\" \\__init__ function, and if you have it calls that function to initialize your newly create empty object.\n",
    "4. In the MyStuff function \\__init__ I then get this extract variable \"self\", which is that empty object Python made for me, and I can set variables on it just like you would ith a module, dictionary, or other object.\n",
    "5. In this case, I set self.tangerine to a song lyric and then I've initialized this object.\n",
    "6. Now Python can take this newly minted object and assign it to the \"thing\" variable for me to work with.\n",
    "\n",
    "That's the basics of how Python does this \"mini-import\" when you call a class like a function. Remember that this is not giving you the class but instead is using the class as a blueprint for building a copy of that type of thing.\n",
    "\n",
    "Keep in mind that I'm giving you a slightly inaccurate idea of how these work so that you can start to build up an understanding of classes based on what you know about modules. Then truth is, classes and objects suddenly diverge from modules at this point. If I were being totally honest, I'd say something more like this:\n",
    "\n",
    "- Classes are like blueprints or definitions for creating new mini-modules.\n",
    "- Instantiation is how you make one of these mini-modules and import it at the same time. \"Instantiate\" just means to create an object from the class.\n",
    "- The resulting created mini-module is called an object, and you then assign it to a variable to work with it.\n",
    "\n",
    "At this point object behave differently from modules, and this should only serve as a way for you to bridge over to understand classes and objects.\n",
    "\n",
    "## 40.1.3 Getting Things from Things\n",
    "\n",
    "I now have three ways to get things from things:"
   ]
  },
  {
   "cell_type": "raw",
   "id": "1c053666",
   "metadata": {},
   "source": [
    "# dict stle\n",
    "mystuff['apples']\n",
    "\n",
    "# module style\n",
    "mystuff.apples()\n",
    "print(mystuff.tangerine)\n",
    "\n",
    "# class style\n",
    "thing = MyStuff()\n",
    "thing.apples()\n",
    "print(thing.tangerine)"
   ]
  },
  {
   "cell_type": "markdown",
   "id": "7b87e1bb",
   "metadata": {},
   "source": [
    "## 40.1.4 A First Class Example\n",
    "\n",
    "You should start seeing the similarities in these three key=value container types and probably have a bunch of questions. Hang on with the questions, as the next exercise will hammer home your \"object-oriented vocabulary.\" In this exercise, I just want you to type in this code and get it working so that you have some experience before moving on."
   ]
  },
  {
   "cell_type": "code",
   "execution_count": 1,
   "id": "ac436d9f",
   "metadata": {
    "scrolled": true
   },
   "outputs": [
    {
     "name": "stdout",
     "output_type": "stream",
     "text": [
      "Happy birthday to you\n",
      "I don't want to get sued\n",
      "So I'll stop right there\n",
      "They rally around tha family\n",
      "With pockets full of shells\n"
     ]
    }
   ],
   "source": [
    "class Song(object):\n",
    "\n",
    "    def __init__(self, lyrics):\n",
    "        self.lyrics = lyrics\n",
    "    \n",
    "    def sing_me_a_song(self):\n",
    "        for line in self.lyrics:\n",
    "            print(line)\n",
    "\n",
    "happy_bday = Song([\"Happy birthday to you\",\n",
    "                  \"I don't want to get sued\",\n",
    "                  \"So I'll stop right there\"])\n",
    "\n",
    "bulls_on_parade = Song([\"They rally around tha family\",\n",
    "                       \"With pockets full of shells\"])\n",
    "\n",
    "happy_bday.sing_me_a_song()\n",
    "\n",
    "bulls_on_parade.sing_me_a_song()"
   ]
  },
  {
   "cell_type": "markdown",
   "id": "4b0411e8",
   "metadata": {},
   "source": [
    "## Common Student Question\n",
    "\n",
    "Why do I need 'self' when I make \\__init__ or other classes?\n",
    "- If you don't have self, then code like [cheese = 'Frank'] is ambiguous. That code isn't clear about whether you mean the instance's cheese attribute or a local variable namec cheese. With [self.cheese = 'Frank'] it's very clear you mean the instance attribute self.cheese."
   ]
  }
 ],
 "metadata": {
  "kernelspec": {
   "display_name": "Python 3 (ipykernel)",
   "language": "python",
   "name": "python3"
  },
  "language_info": {
   "codemirror_mode": {
    "name": "ipython",
    "version": 3
   },
   "file_extension": ".py",
   "mimetype": "text/x-python",
   "name": "python",
   "nbconvert_exporter": "python",
   "pygments_lexer": "ipython3",
   "version": "3.10.9"
  }
 },
 "nbformat": 4,
 "nbformat_minor": 5
}
