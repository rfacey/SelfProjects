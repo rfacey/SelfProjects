{
 "cells": [
  {
   "cell_type": "markdown",
   "id": "c041e018",
   "metadata": {},
   "source": [
    "Source: https://learn.microsoft.com/en-us/training/modules/install-configure-visual-studio-code/8-knowledge-check"
   ]
  },
  {
   "cell_type": "markdown",
   "id": "0f385890",
   "metadata": {},
   "source": [
    "# Knowledge Check\n",
    "\n",
    "## Check your knowledge\n",
    "\n",
    "1. Which of the following choices provides the best description of an Integrated Development Environment (IDE)?\n",
    "    - An IDE is a suite of tools that supports the full software development lifecycle.\n",
    "2. Which area of the Visual Studio Code user interface is used to write code?\n",
    "    - Editor\n",
    "3. Which of the following tools is required to run command line interface commands such as dotnet run?\n",
    "    - The .NET SDK"
   ]
  }
 ],
 "metadata": {
  "kernelspec": {
   "display_name": ".NET (C#)",
   "language": "C#",
   "name": ".net-csharp"
  },
  "language_info": {
   "file_extension": ".cs",
   "mimetype": "text/x-csharp",
   "name": "C#",
   "pygments_lexer": "csharp",
   "version": "8.0"
  }
 },
 "nbformat": 4,
 "nbformat_minor": 5
}
