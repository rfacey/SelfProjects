{
 "cells": [
  {
   "cell_type": "code",
   "execution_count": 1,
   "id": "7f685d6b",
   "metadata": {},
   "outputs": [],
   "source": [
    "# https://www.kaggle.com/code/ryanholbrook/forecasting-with-machine-learning"
   ]
  },
  {
   "cell_type": "markdown",
   "id": "81995862",
   "metadata": {},
   "source": [
    "## Introduction\n",
    "\n",
    "In Lessons 2 and 3, we treated forecasting as a simple regression problem with all of our features derived from a single input, the time index. We could easily create forecasts for any time in the future by just generating our desired trend and seasonal features.\n",
    "\n"
   ]
  },
  {
   "cell_type": "code",
   "execution_count": null,
   "id": "2236dceb",
   "metadata": {},
   "outputs": [],
   "source": []
  }
 ],
 "metadata": {
  "kernelspec": {
   "display_name": "Python 3 (ipykernel)",
   "language": "python",
   "name": "python3"
  },
  "language_info": {
   "codemirror_mode": {
    "name": "ipython",
    "version": 3
   },
   "file_extension": ".py",
   "mimetype": "text/x-python",
   "name": "python",
   "nbconvert_exporter": "python",
   "pygments_lexer": "ipython3",
   "version": "3.9.13"
  }
 },
 "nbformat": 4,
 "nbformat_minor": 5
}
