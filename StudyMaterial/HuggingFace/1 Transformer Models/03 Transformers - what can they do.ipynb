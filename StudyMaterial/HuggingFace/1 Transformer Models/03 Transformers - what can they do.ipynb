{
 "cells": [
  {
   "cell_type": "markdown",
   "id": "78f9c25b-d2a3-433f-910f-e2f7a325702e",
   "metadata": {},
   "source": [
    "Source: https://huggingface.co/course/chapter1/3?fw=pt"
   ]
  },
  {
   "cell_type": "markdown",
   "id": "3d6e41a2-2169-41e1-85a1-124825724122",
   "metadata": {},
   "source": [
    "# Transformers, what can they do?\n",
    "\n",
    "In this section, we will look at what Transformer models can do and use our first tool from the 🤗 Transformers library: the [pipeline()] function."
   ]
  },
  {
   "cell_type": "code",
   "execution_count": null,
   "id": "89d726c1-c396-4586-954e-c1ed542c495a",
   "metadata": {},
   "outputs": [],
   "source": []
  }
 ],
 "metadata": {
  "kernelspec": {
   "display_name": "Python 3 (ipykernel)",
   "language": "python",
   "name": "python3"
  },
  "language_info": {
   "codemirror_mode": {
    "name": "ipython",
    "version": 3
   },
   "file_extension": ".py",
   "mimetype": "text/x-python",
   "name": "python",
   "nbconvert_exporter": "python",
   "pygments_lexer": "ipython3",
   "version": "3.9.13"
  }
 },
 "nbformat": 4,
 "nbformat_minor": 5
}
