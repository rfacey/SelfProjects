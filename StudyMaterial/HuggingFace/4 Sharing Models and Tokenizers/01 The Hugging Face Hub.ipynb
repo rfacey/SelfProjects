{
 "cells": [
  {
   "cell_type": "markdown",
   "id": "0a9c9aa0-5933-4f74-9d24-906c43757e81",
   "metadata": {},
   "source": [
    "Source: https://huggingface.co/learn/nlp-course/chapter4/1?fw=pt"
   ]
  },
  {
   "cell_type": "markdown",
   "id": "7491ceb9-ce96-411a-8825-92675d13f5e5",
   "metadata": {},
   "source": [
    "# The Hugging Face Hub\n",
    "\n",
    "The Hugging Face Hub (https://huggingface.co/) -- our main website -- is a central platform that enables anyone to discover, use, and contribute new state-of-the-art models and datasets. It hosts a wide variety of models, with more than 10,000 publicly available. We'll focus on the models in this chapter, and take a look at the datasets in Chapter 5.\n",
    "\n",
    "The models in the Hub are not limited to 🤗 Transformers or even NLP. There are models from Flair (https://github.com/flairNLP/flair) and AllenNLP (https://github.com/allenai/allennlp) for NLP, Asteroid (https://github.com/asteroid-team/asteroid) and pyannote (https://github.com/pyannote/pyannote-audio) for speech, and timm (https://github.com/rwightman/pytorch-image-models) for vision, just to name a few.\n",
    "\n",
    "Each of these models is hosted as a Git repository, which allows versioning and reproducibility. Sharing a model on the Hub means opening it up to the community and making it accessible to anyone looking to easily use it, in turn eliminating their need to train a model on their own and simplifying sharing and usage.\n",
    "\n",
    "Additionally, sharing a model on the Hub automatically deploys a hosted inference API for that model. Anyone in the community is free to test it out directly on the model's page, with custom inputs and appropriate widgets.\n",
    "\n",
    "The best part is that sharing and using any public model on the Hub is completely free! Paid plans (https://huggingface.co/pricing) also exist if you wish to share models privately.\n",
    "\n",
    "The video below shows how to navigate the Hub.\n",
    "\n",
    "https://youtu.be/XvSGPZFEjDY\n",
    "\n",
    "Having a huggingface.co account is required to follow along this part, as we'll be creating and managing repositories on the Hugging Face Hub. Create an account: https://huggingface.co/join"
   ]
  }
 ],
 "metadata": {
  "kernelspec": {
   "display_name": "Python 3 (ipykernel)",
   "language": "python",
   "name": "python3"
  },
  "language_info": {
   "codemirror_mode": {
    "name": "ipython",
    "version": 3
   },
   "file_extension": ".py",
   "mimetype": "text/x-python",
   "name": "python",
   "nbconvert_exporter": "python",
   "pygments_lexer": "ipython3",
   "version": "3.9.13"
  }
 },
 "nbformat": 4,
 "nbformat_minor": 5
}
