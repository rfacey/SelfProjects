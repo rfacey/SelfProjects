{
 "cells": [
  {
   "cell_type": "markdown",
   "id": "0ebb5453",
   "metadata": {},
   "source": [
    "Source: https://learn.microsoft.com/en-us/training/modules/csharp-choose-data-type/5-exercise-reference-types"
   ]
  },
  {
   "cell_type": "markdown",
   "id": "7d00eb0f",
   "metadata": {},
   "source": [
    "# Exercise - Discover reference types\n",
    "\n",
    "Reference types include arrays, classes, and strings. Reference types are treated differently from value types regarding the way valuesa re stored when the application is executing.\n",
    "\n",
    "In this exercise, you will learn how reference types are different from value types, and how to use the new operator to associate a variable with a value in the computer's memory.\n",
    "\n",
    "## How reference types are different from value types\n",
    "\n",
    "A value type variable stores its values directly in an area of storage called the *stack*. The stack is memory allocated to the code that is currently running on the CPU (also known as the stack frame, or activation frame). When the stack frame has finished executing, the values in the stack are removed.\n",
    "\n",
    "A reference type variable stores its values in a separate memory region called the *heap*. The heap is a memory area that is shared across many applications running on the operating system at the same time. The .NET Runtime communicates with the operating system to determine what memory addresses are available, and requests an address where it can store the value. The .NET Runtime stores the value, and then returns the memory address to the variable. When your code uses the variable, the .NET Runtime seamlessly looks up the address stored in the variable, and retrieves the value that's stored there.\n",
    "\n",
    "You'll next write some code that illustrates these ideas more clearly.\n",
    "\n",
    "## Define a reference type variable\n",
    "\n",
    "1. Delete or use the line comment operator // to comment out all of the code from the previous exercises.\n",
    "2. Update your code in the Visual Studio Code Editor as follows:"
   ]
  },
  {
   "cell_type": "code",
   "execution_count": 1,
   "id": "56490ead",
   "metadata": {},
   "outputs": [
    {
     "data": {
      "text/html": [
       "\r\n",
       "<div>\r\n",
       "    <div id='dotnet-interactive-this-cell-17916.Microsoft.DotNet.Interactive.Http.HttpPort' style='display: none'>\r\n",
       "        The below script needs to be able to find the current output cell; this is an easy method to get it.\r\n",
       "    </div>\r\n",
       "    <script type='text/javascript'>\r\n",
       "async function probeAddresses(probingAddresses) {\r\n",
       "    function timeout(ms, promise) {\r\n",
       "        return new Promise(function (resolve, reject) {\r\n",
       "            setTimeout(function () {\r\n",
       "                reject(new Error('timeout'))\r\n",
       "            }, ms)\r\n",
       "            promise.then(resolve, reject)\r\n",
       "        })\r\n",
       "    }\r\n",
       "\r\n",
       "    if (Array.isArray(probingAddresses)) {\r\n",
       "        for (let i = 0; i < probingAddresses.length; i++) {\r\n",
       "\r\n",
       "            let rootUrl = probingAddresses[i];\r\n",
       "\r\n",
       "            if (!rootUrl.endsWith('/')) {\r\n",
       "                rootUrl = `${rootUrl}/`;\r\n",
       "            }\r\n",
       "\r\n",
       "            try {\r\n",
       "                let response = await timeout(1000, fetch(`${rootUrl}discovery`, {\r\n",
       "                    method: 'POST',\r\n",
       "                    cache: 'no-cache',\r\n",
       "                    mode: 'cors',\r\n",
       "                    timeout: 1000,\r\n",
       "                    headers: {\r\n",
       "                        'Content-Type': 'text/plain'\r\n",
       "                    },\r\n",
       "                    body: probingAddresses[i]\r\n",
       "                }));\r\n",
       "\r\n",
       "                if (response.status == 200) {\r\n",
       "                    return rootUrl;\r\n",
       "                }\r\n",
       "            }\r\n",
       "            catch (e) { }\r\n",
       "        }\r\n",
       "    }\r\n",
       "}\r\n",
       "\r\n",
       "function loadDotnetInteractiveApi() {\r\n",
       "    probeAddresses([\"http://192.168.0.25:1001/\", \"http://127.0.0.1:1001/\"])\r\n",
       "        .then((root) => {\r\n",
       "        // use probing to find host url and api resources\r\n",
       "        // load interactive helpers and language services\r\n",
       "        let dotnetInteractiveRequire = require.config({\r\n",
       "        context: '17916.Microsoft.DotNet.Interactive.Http.HttpPort',\r\n",
       "                paths:\r\n",
       "            {\r\n",
       "                'dotnet-interactive': `${root}resources`\r\n",
       "                }\r\n",
       "        }) || require;\r\n",
       "\r\n",
       "            window.dotnetInteractiveRequire = dotnetInteractiveRequire;\r\n",
       "\r\n",
       "            window.configureRequireFromExtension = function(extensionName, extensionCacheBuster) {\r\n",
       "                let paths = {};\r\n",
       "                paths[extensionName] = `${root}extensions/${extensionName}/resources/`;\r\n",
       "                \r\n",
       "                let internalRequire = require.config({\r\n",
       "                    context: extensionCacheBuster,\r\n",
       "                    paths: paths,\r\n",
       "                    urlArgs: `cacheBuster=${extensionCacheBuster}`\r\n",
       "                    }) || require;\r\n",
       "\r\n",
       "                return internalRequire\r\n",
       "            };\r\n",
       "        \r\n",
       "            dotnetInteractiveRequire([\r\n",
       "                    'dotnet-interactive/dotnet-interactive'\r\n",
       "                ],\r\n",
       "                function (dotnet) {\r\n",
       "                    dotnet.init(window);\r\n",
       "                },\r\n",
       "                function (error) {\r\n",
       "                    console.log(error);\r\n",
       "                }\r\n",
       "            );\r\n",
       "        })\r\n",
       "        .catch(error => {console.log(error);});\r\n",
       "    }\r\n",
       "\r\n",
       "// ensure `require` is available globally\r\n",
       "if ((typeof(require) !==  typeof(Function)) || (typeof(require.config) !== typeof(Function))) {\r\n",
       "    let require_script = document.createElement('script');\r\n",
       "    require_script.setAttribute('src', 'https://cdnjs.cloudflare.com/ajax/libs/require.js/2.3.6/require.min.js');\r\n",
       "    require_script.setAttribute('type', 'text/javascript');\r\n",
       "    \r\n",
       "    \r\n",
       "    require_script.onload = function() {\r\n",
       "        loadDotnetInteractiveApi();\r\n",
       "    };\r\n",
       "\r\n",
       "    document.getElementsByTagName('head')[0].appendChild(require_script);\r\n",
       "}\r\n",
       "else {\r\n",
       "    loadDotnetInteractiveApi();\r\n",
       "}\r\n",
       "\r\n",
       "    </script>\r\n",
       "</div>"
      ]
     },
     "metadata": {},
     "output_type": "display_data"
    }
   ],
   "source": [
    "int[] data;"
   ]
  },
  {
   "cell_type": "markdown",
   "id": "2bb0ccfc",
   "metadata": {},
   "source": [
    "The previous code defines a variable that can hold a value of type int array.\n",
    "\n",
    "At this point, data is merely a variable that could hold a reference, or rather, a memory address of a value in the heap. Because it's not pointing to a memory address, it's called a *null reference*.\n",
    "\n",
    "3. Create an instance of int array using the new keyword.\n",
    "\n",
    "Update your code in the Visual Studio Code Editor to create and assign a new instance of int array, using the following code:"
   ]
  },
  {
   "cell_type": "code",
   "execution_count": 2,
   "id": "f1078a96",
   "metadata": {},
   "outputs": [],
   "source": [
    "int[] data;\n",
    "data = new int[3];"
   ]
  },
  {
   "cell_type": "markdown",
   "id": "12f099ce",
   "metadata": {},
   "source": [
    "The 'new' keyword informs .NET Runtime to create an instance of 'int' array, and then coordinate with the operating system to store the array sized for three int values in memory. The .NET Runtime compiles, and returns a memory address of the new 'int' array. Finally, the memory address is stored in the variable data. The 'int' array's elements defualt to the value '0', because that is the default value of an 'int'.\n",
    "\n",
    "4. Modify the code example to perform both operations in a single line of code.\n",
    "\n",
    "The two lines of code in the previous step are typically shortened to a single line of code to both decalure the variable, and create a new instance of the 'int' array. Modify the code from step 3 to the following."
   ]
  },
  {
   "cell_type": "code",
   "execution_count": 3,
   "id": "785df865",
   "metadata": {},
   "outputs": [],
   "source": [
    "int[] data = new int[3];"
   ]
  },
  {
   "cell_type": "markdown",
   "id": "0689b202",
   "metadata": {},
   "source": [
    "While there's no output to observce, hopefully this exercise added clarity to how the C# syntax relates to the steps of the process for working with reference types.\n",
    "\n",
    "## What's different about the C# string type?\n",
    "\n",
    "The 'string' data type is also a reference type. You might be wondering why a 'new' operator wasn't used when declaring a string. This is purely a convenience afforded by the designers of C#. Because the 'string' data type is used so frequently, you can use this format:"
   ]
  },
  {
   "cell_type": "code",
   "execution_count": 4,
   "id": "ed09965d",
   "metadata": {},
   "outputs": [
    {
     "name": "stdout",
     "output_type": "stream",
     "text": [
      "Hello World!\r\n"
     ]
    }
   ],
   "source": [
    "string shortenedString = \"Hello World!\";\n",
    "Console.WriteLine(shortenedString);"
   ]
  },
  {
   "cell_type": "markdown",
   "id": "1a775b45",
   "metadata": {},
   "source": [
    "Behind the scenes, however, a new sintance of System.String is created and initialized to \"Hello World!\".\n",
    "\n",
    "## Recap\n",
    "\n",
    "- Value types can hold smaller values and are stored in the stack. Reference types can hold large values, and a new instance of a reference type is created using the 'new' operator. Reference type variables hold a reference (the memory address) to the acutal value stored in the heap.\n",
    "- Reference types include arrays, strings, and classes."
   ]
  }
 ],
 "metadata": {
  "kernelspec": {
   "display_name": ".NET (C#)",
   "language": "C#",
   "name": ".net-csharp"
  },
  "language_info": {
   "file_extension": ".cs",
   "mimetype": "text/x-csharp",
   "name": "C#",
   "pygments_lexer": "csharp",
   "version": "8.0"
  }
 },
 "nbformat": 4,
 "nbformat_minor": 5
}
