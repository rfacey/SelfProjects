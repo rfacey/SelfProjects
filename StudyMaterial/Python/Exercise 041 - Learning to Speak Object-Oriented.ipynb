{
 "cells": [
  {
   "cell_type": "markdown",
   "id": "200b6a2f",
   "metadata": {},
   "source": [
    "# Learning to Speak Object-Oriented\n",
    "\n",
    "In this exercise I'mm going to teach you how to speak \"object oriented.\" What I'll do is give you a small set of words with definitions you need to know. Then I'll gie you a set of sentences with holes in them that you'll have to understand. Finally, I'm going to give you a large set of exercises that you have to complete to make these sentencecs solid in your vocabulary.\n",
    "\n",
    "## Word Drills\n",
    "\n",
    "- class\n",
    "    - Tell Python to make a new type of thing\n",
    "- object\n",
    "    - The most basic type of thing\n",
    "    - Any instance of some thing\n",
    "- instance\n",
    "    - What you get when you tell Python to create a class\n",
    "- def\n",
    "    - How you define a function inside a class\n",
    "- self\n",
    "    - Inside the functions in a lass,, self is a variable for the instance/object being accessed\n",
    "- inheritance\n",
    "    - The concept that one class can inherit traits from another class, much like you and your parents\n",
    "- composition\n",
    "    - The oncept that a class can be commposed of other classes as parts, much like how a car has wheels\n",
    "- attribute\n",
    "    - A property cclasses ahve that are from composition and are usually variables\n",
    "- is-a\n",
    "    - A phrase to say that something inherits from another, as in a \"salmon\" is-a \"fish\"\n",
    "- has-a\n",
    "    - A phrase to say that something is composed of other things or has a trait, as in \"a salmon has-a mouth\"\n",
    "\n",
    "Take some time to make flash cards for these terms and memorize them. As usual this won't make too much sense until after you are finished with this exercise, but you need to know the base words first.\n",
    "\n",
    "## Phrase Drills\n",
    "\n",
    "Next I have a list of Python ode snippets on the left and the English sentenes for them:\n",
    "\n",
    "- **class X(Y)** \"Make a class named  that is-a Y.\"\n",
    "- **class X(object): def \\__init___(self, J)** \"class X has-a init that takes self and J parameters.\"\n",
    "- **class X(object): def M(self, J)** \"class X has-a function named  that takes self and J parameters\"\n",
    "- **foo = X()** \"Set foo to an instance of class X.\"\n",
    "- **foo.M(J)** \"From foo, get the M function, and call it with parameters self, J.\"\n",
    "- **foo.K = Q** \"From foo, get the K attribute, and set it to Q.\"\n",
    "\n",
    "In each of these, where you see X, Y, M, J, K, and Q, and foo, you can treat those like blank spots.\n",
    "\n"
   ]
  },
  {
   "cell_type": "code",
   "execution_count": null,
   "id": "41550a4a",
   "metadata": {},
   "outputs": [],
   "source": []
  },
  {
   "cell_type": "code",
   "execution_count": null,
   "id": "2ac10ecd",
   "metadata": {},
   "outputs": [],
   "source": []
  }
 ],
 "metadata": {
  "kernelspec": {
   "display_name": "Python 3 (ipykernel)",
   "language": "python",
   "name": "python3"
  },
  "language_info": {
   "codemirror_mode": {
    "name": "ipython",
    "version": 3
   },
   "file_extension": ".py",
   "mimetype": "text/x-python",
   "name": "python",
   "nbconvert_exporter": "python",
   "pygments_lexer": "ipython3",
   "version": "3.10.9"
  }
 },
 "nbformat": 4,
 "nbformat_minor": 5
}
