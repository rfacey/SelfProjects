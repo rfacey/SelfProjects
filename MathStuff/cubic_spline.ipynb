{
 "cells": [
  {
   "cell_type": "code",
   "execution_count": 1,
   "metadata": {},
   "outputs": [],
   "source": [
    "import numpy as np\n",
    "from matplotlib import pyplot as plt\n",
    "import matplotlib\n",
    "from math import sqrt\n",
    "\n",
    "x = [0, 2, 4, 6, 8, 10, 12, 14, 16, 18, 20, 22, 24]\n",
    "\n",
    "y = [59, 56, 53, 54, 60, 67, 72, 74, 75, 74, 70, 65, 61]"
   ]
  },
  {
   "cell_type": "code",
   "execution_count": 2,
   "metadata": {},
   "outputs": [],
   "source": [
    "#Newton’s Divided difference, produces coefficients of interpolating polynomial\n",
    "def coef(x,y):\n",
    "    n = len(x)\n",
    "    a = np.zeros((n,n+1))\n",
    "    a[:,0]= x\n",
    "    a[:,1]= y\n",
    "#Find the divided differences\n",
    "    for j in range(2,n+1):\n",
    "        for i in range(j-1,n):\n",
    "            a[i,j] = (a[i,j-1]-a[i-1,j-1]) / (a[i,0]-a[i-j+1,0])\n",
    "#Copy diagonal elements into array for returning\n",
    "    p = np.zeros(n)\n",
    "    for k in range(0,n):\n",
    "        p[k] = a[k,k+1]\n",
    "    return p\n",
    "\n",
    "#Evaluate polynomial at a given point\n",
    "def newton_method(t,x,p):\n",
    "    n = len(x)\n",
    "    result = p[n-1]\n",
    "    for i in range(n-2,-1,-1):\n",
    "        result = result*(t-x[i]) + p[i]\n",
    "    return result"
   ]
  },
  {
   "cell_type": "code",
   "execution_count": 3,
   "metadata": {},
   "outputs": [],
   "source": [
    "#Note: S(x) = S_j(x) = a_j + b_j(x - x_j) + c_j(x - x_j)^2 + d_j(x - x_j)^3 for x_j <= x <= x_j+1\n",
    "#INPUT n; x_0, x_1, ..., x_n; a_0 = f(x_0), a_1 = f(x_n)\n",
    "def nat_cubic_spline(x, y):\n",
    "    \n",
    "    n= len(x)\n",
    "    h = []\n",
    "    alpha = []\n",
    "    l = []\n",
    "    u = []\n",
    "    z = []\n",
    "    \n",
    "    c = [0] * len(y)\n",
    "    b = [0] * len(y)\n",
    "    d = [0] * len(y)\n",
    "    \n",
    "#STEP1 For i = 0, 1, ..., n - 1 set h_i = x_i+1 - x_i\n",
    "    for i in range(0, n - 1):\n",
    "        h.append(x[i + 1] - x[i])\n",
    "#STEP2 For i = 1 2, ..., n - 1 set\n",
    "    #a_i = (3/h_i)(a_i+1 - a_i) - (3/h_i-1)(a_i - a_i-1)\n",
    "    for i in range (1, n - 1):\n",
    "        alpha.append((3/h[i]) * (y[i + 1] - y[i]) - (3/h[i-1]) * (y[i] - y[i-1]))\n",
    "#STEP3 Set l_0 = 1;\n",
    "    # u_0 = 0;\n",
    "    # z_0 = 0;\n",
    "    l.append(1)\n",
    "    u.append(0)\n",
    "    z.append(0)\n",
    "#STEP4 For i = 1, 2, ..., n - 1\n",
    "    #Set l_i = 2(x_i+1 - x_i-1) - h_i-1 * u_i-1\n",
    "    #u_i = h_i / l_i;\n",
    "    #z_i = (a_i - h_i-1 * z_i-1)/l_i\n",
    "    i = 1\n",
    "    for i in range(1,n - 1):\n",
    "        l.append((2 * (x[i+1] - x[i-1])) - h[i-1] * u[i-1])\n",
    "        u.append(h[i] / l[i])\n",
    "        z.append((alpha[i - 1] - (h[i-1] * z[i-1]))/l[i])\n",
    "#STEP5 Set l_n = 1;\n",
    "    #z_n = 0;\n",
    "    #c_n = 0\n",
    "    l.append(1)\n",
    "    z.append(0)\n",
    "    c[n-1] = 0\n",
    "#STEP6 For j = n-1, n-2, ..., 0\n",
    "    # set c_j = z_j - u_j * c_j+1;\n",
    "    # b_j = (a_j+1 - a_j)/h_j - h_j(c_j+1 + 2c_j)/3;\n",
    "    # d_j = (c_j+1 - c_j)/(3h_j).\n",
    "    j = n - 1\n",
    "    for j in range(n - 2, -1, -1):\n",
    "        c[j] = z[j] - u[j] * c[j+1]\n",
    "        b[j] = (y[j+1] - y[j])/(h[j]) - ((h[j])*(c[j+1] + 2*c[j])/3)\n",
    "        d[j] = (c[j+1] - c[j])/(3*h[j])\n",
    "#STEP7 OUTPUT (a_j, b_j, c_j, d_j for j = 0, 1, ..., n-1) STOP\n",
    "    return y, b, c, d\n",
    "\n",
    "def cubic(y,b,c,d,x,x0):\n",
    "    n = len(x)\n",
    "    for i in range(0, n):\n",
    "        if(x0 > x[n - 1]):\n",
    "            value = y[n - 1] + b[n-1]*(x0 - x[n-1]) + c[n - 1]*((x0 - x[n-1])**2) + d[n-1]*((x0 - x[n-1])**3)\n",
    "        elif((x0 > x[i] and x0 < x[i+1]) or (x0 == x[i])):\n",
    "            value  = y[i] + b[i]*(x0 - x[i]) + c[i]*((x0 - x[i])**2) + d[i]*((x0 - x[i])**3)\n",
    "    return value"
   ]
  },
  {
   "cell_type": "code",
   "execution_count": 4,
   "metadata": {},
   "outputs": [],
   "source": [
    "a,b,c,d = nat_cubic_spline(x, y)"
   ]
  },
  {
   "cell_type": "markdown",
   "metadata": {},
   "source": [
    "## Question 01"
   ]
  },
  {
   "cell_type": "code",
   "execution_count": 5,
   "metadata": {},
   "outputs": [
    {
     "data": {
      "image/png": "[encoded data removed]",
      "text/plain": [
       "<matplotlib.figure.Figure at 0x198ad5d1a90>"
      ]
     },
     "metadata": {},
     "output_type": "display_data"
    }
   ],
   "source": [
    "a = coef(x,y)\n",
    "graphRange = np.linspace(min(x),max(x),1000)\n",
    "yCubic = []\n",
    "for i in graphRange:\n",
    "    approx2 = (cubic(y,b,c,d,x,i))\n",
    "    yCubic.append(approx2)\n",
    "yval = newton_method(graphRange,x,a)\n",
    "plt.plot(graphRange,yval,color='b',linestyle='-',label='Newton Method')\n",
    "plt.plot(graphRange, yCubic,color='k',linestyle='-',label='Natural Cubic Spline Method')\n",
    "plt.plot(x, y,'o',label='Data Points')\n",
    "plt.title('Interpolation')\n",
    "plt.xlabel('Day')\n",
    "plt.ylabel('Temperature')\n",
    "plt.legend(loc='best')\n",
    "plt.show()"
   ]
  },
  {
   "cell_type": "markdown",
   "metadata": {},
   "source": [
    "## Question 02"
   ]
  },
  {
   "cell_type": "code",
   "execution_count": 15,
   "metadata": {},
   "outputs": [
    {
     "data": {
      "text/plain": [
       "69.91312909126282"
      ]
     },
     "execution_count": 15,
     "metadata": {},
     "output_type": "execute_result"
    }
   ],
   "source": [
    "newton_method(11,x,a)"
   ]
  },
  {
   "cell_type": "code",
   "execution_count": 16,
   "metadata": {},
   "outputs": [
    {
     "data": {
      "text/plain": [
       "69.881177404202"
      ]
     },
     "execution_count": 16,
     "metadata": {},
     "output_type": "execute_result"
    }
   ],
   "source": [
    "cubic(y,b,c,d,x,11)"
   ]
  },
  {
   "cell_type": "markdown",
   "metadata": {},
   "source": [
    "## Question 03"
   ]
  },
  {
   "cell_type": "code",
   "execution_count": 21,
   "metadata": {
    "scrolled": true
   },
   "outputs": [
    {
     "data": {
      "text/plain": [
       "152.04890751838786"
      ]
     },
     "execution_count": 21,
     "metadata": {},
     "output_type": "execute_result"
    }
   ],
   "source": [
    "newton_method(25,x,a)"
   ]
  },
  {
   "cell_type": "code",
   "execution_count": 22,
   "metadata": {},
   "outputs": [
    {
     "data": {
      "text/plain": [
       "61"
      ]
     },
     "execution_count": 22,
     "metadata": {},
     "output_type": "execute_result"
    }
   ],
   "source": [
    "cubic(y,b,c,d,x,25)"
   ]
  },
  {
   "cell_type": "markdown",
   "metadata": {},
   "source": [
    "## Question 04"
   ]
  },
  {
   "cell_type": "code",
   "execution_count": 23,
   "metadata": {
    "scrolled": true
   },
   "outputs": [
    {
     "data": {
      "text/plain": [
       "452262.28604435915"
      ]
     },
     "execution_count": 23,
     "metadata": {},
     "output_type": "execute_result"
    }
   ],
   "source": [
    "newton_method(33,x,a)"
   ]
  },
  {
   "cell_type": "code",
   "execution_count": 24,
   "metadata": {},
   "outputs": [
    {
     "data": {
      "text/plain": [
       "61"
      ]
     },
     "execution_count": 24,
     "metadata": {},
     "output_type": "execute_result"
    }
   ],
   "source": [
    "cubic(y,b,c,d,x,33)"
   ]
  },
  {
   "cell_type": "markdown",
   "metadata": {},
   "source": [
    "The cubic spline predicts the way it does because there is differentiability at the endpoints of the subintervals. This leads to a \"smoother\" interpolating function. It has no conditions imposed for the direction at its endpoints, so the curve takes the shape of a stright line after it passes through the the interpolation points nearest its endpoints."
   ]
  }
 ],
 "metadata": {
  "kernelspec": {
   "display_name": "Python 3",
   "language": "python",
   "name": "python3"
  },
  "language_info": {
   "codemirror_mode": {
    "name": "ipython",
    "version": 3
   },
   "file_extension": ".py",
   "mimetype": "text/x-python",
   "name": "python",
   "nbconvert_exporter": "python",
   "pygments_lexer": "ipython3",
   "version": "3.6.4"
  }
 },
 "nbformat": 4,
 "nbformat_minor": 2
}
