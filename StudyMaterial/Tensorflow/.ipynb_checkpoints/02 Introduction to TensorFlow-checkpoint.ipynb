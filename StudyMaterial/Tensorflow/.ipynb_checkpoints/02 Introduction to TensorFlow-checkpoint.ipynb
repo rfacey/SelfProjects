{
 "cells": [
  {
   "cell_type": "code",
   "execution_count": 1,
   "metadata": {},
   "outputs": [],
   "source": [
    "# https://www.freecodecamp.org/learn/machine-learning-with-python/tensorflow/introduction-to-tensorflow"
   ]
  },
  {
   "cell_type": "markdown",
   "metadata": {},
   "source": [
    "## Tensors\n",
    "\n",
    "\"A tensor is a generalization of vectors and matrices to potentially higher dimensions. Internally, TensorFlow represents tensors as n-dimensional array of base dataypes.\" (https://www.tensorflow.org/guide/tensor)\n",
    "\n",
    "It shouldn;t surprise you that tensors are a fundamental aspect of TensorFlow. They are the main objects that are passed around and manipulated throughout the program. Each tensor presents a partially defined computation that will eventually produce a value. TensorFlow programs work by building a graph of Tensor objects that details how tensors are related. Running different parts of the graph allow results to be generated.\n",
    "\n",
    "Each tensor has a data type and shape.\n",
    "\n",
    "**Data Tytpes Include**: float32, int32, string and others.\n",
    "\n",
    "**Shape**: Represents the dimension of data."
   ]
  },
  {
   "cell_type": "code",
   "execution_count": null,
   "metadata": {},
   "outputs": [],
   "source": []
  }
 ],
 "metadata": {
  "kernelspec": {
   "display_name": "Python 3 (ipykernel)",
   "language": "python",
   "name": "python3"
  },
  "language_info": {
   "codemirror_mode": {
    "name": "ipython",
    "version": 3
   },
   "file_extension": ".py",
   "mimetype": "text/x-python",
   "name": "python",
   "nbconvert_exporter": "python",
   "pygments_lexer": "ipython3",
   "version": "3.9.13"
  }
 },
 "nbformat": 4,
 "nbformat_minor": 4
}
