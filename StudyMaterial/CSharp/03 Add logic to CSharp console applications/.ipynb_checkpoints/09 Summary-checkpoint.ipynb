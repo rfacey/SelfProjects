{
 "cells": [
  {
   "cell_type": "markdown",
   "id": "06617779",
   "metadata": {},
   "source": [
    "Source: https://learn.microsoft.com/en-us/training/modules/csharp-evaluate-boolean-expressions/9-summary"
   ]
  },
  {
   "cell_type": "markdown",
   "id": "7bec951c",
   "metadata": {},
   "source": [
    "# Summary\n",
    "\n",
    "Your goal was to develop decison statements for various situations by using Boolean expressions and C# operators.\n",
    "\n",
    "Using varous operators and techniques, you wrote code that evaluated equality, compared values to see if one was greater or less than (or equal to) the other. You compared strings, massaging them to create a more accurate comparison that eliminated issues like casing and spaces that might interfere with the result you were hoping for. You learned how to use logical negation to flip a value for comparison, and used the result of methods in your Boolean expressions. Finally, you used the conditional operator to succinctly evaluate a condition and return a result.\n",
    "\n",
    "Without this full complement of operators and techniques, you would be limited in the kind of decision statements you could build. Since all business logic requires some Boolean expressions, you've added a valuable tool to your programming toolbox."
   ]
  }
 ],
 "metadata": {
  "kernelspec": {
   "display_name": ".NET (C#)",
   "language": "C#",
   "name": ".net-csharp"
  },
  "language_info": {
   "file_extension": ".cs",
   "mimetype": "text/x-csharp",
   "name": "C#",
   "pygments_lexer": "csharp",
   "version": "8.0"
  }
 },
 "nbformat": 4,
 "nbformat_minor": 5
}
