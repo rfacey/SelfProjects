{
 "cells": [
  {
   "cell_type": "markdown",
   "id": "db94645d",
   "metadata": {},
   "source": [
    "Source: https://learn.microsoft.com/en-us/training/modules/write-first-c-sharp-method/1-introduction?WT.mc_id=dotnet-35129-website&ns-enrollment-type=Collection&ns-enrollment-id=yz26f8y64n7k07"
   ]
  },
  {
   "cell_type": "markdown",
   "id": "d8d96005",
   "metadata": {},
   "source": [
    "## Introduction\n",
    "\n",
    "The C# programming language allows you to create all sorts of robust applications. Supposed you want to write code to perform operations on unpredictable user input. You may want to add logic to handle incorrect input, convert input into a workable format, and perform the correct operation. As your applications grow larger in size, keeping track of your code can quickly become a challenge.\n",
    "\n",
    "Methods, also called functions, are a key part of keeping code structured, efficient, and readable. A method is a modular unit of code, and a fundamental programming concept. A method is often designed to perform a specific task and contains code to execute that task. The name of a method should clearly reflect its task, which improves code readability. Learning how to use methods will help you build feature-rich applications more quickly.\n",
    "\n",
    "In this module, you'll learn to create your own methods to perform specific tasks. You'll learn how methods can simplify and shorten code, as well as keep things organized and easy to find.\n",
    "\n",
    "## Learning Objectives\n",
    "\n",
    "In this module, you will:\n",
    "\n",
    "- Create your first c sharp method\n",
    "- Identify parts of code that can be modularized\n",
    "- Use methods to organize code into specific tasks\n",
    "\n",
    "## Prerequisites\n",
    "\n",
    "- Experience with basic coding tasks such sa instantiating variables, using various data types, and sending output to a console window.\n",
    "- Experience using Visual Studio Code to create and run simple console applications.\n",
    "- Experience using C# data types including int, string, double, and arrays\n",
    "- Experience using switch statements, if-else statements, and for loops\n",
    "- Experience using string.Split"
   ]
  }
 ],
 "metadata": {
  "kernelspec": {
   "display_name": ".NET (C#)",
   "language": "C#",
   "name": ".net-csharp"
  },
  "language_info": {
   "file_extension": ".cs",
   "mimetype": "text/x-csharp",
   "name": "C#",
   "pygments_lexer": "csharp",
   "version": "8.0"
  }
 },
 "nbformat": 4,
 "nbformat_minor": 5
}
