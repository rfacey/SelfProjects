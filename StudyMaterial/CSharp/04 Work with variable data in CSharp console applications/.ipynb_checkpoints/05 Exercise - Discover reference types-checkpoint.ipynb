{
 "cells": [
  {
   "cell_type": "markdown",
   "id": "9723de39",
   "metadata": {},
   "source": [
    "Source: https://learn.microsoft.com/en-us/training/modules/csharp-choose-data-type/5-exercise-reference-types"
   ]
  },
  {
   "cell_type": "markdown",
   "id": "efce77af",
   "metadata": {},
   "source": [
    "# Exercise - Discover reference types\n",
    "\n",
    "Reference types include arrays, classes, and strings. Reference types are treated differently from value types regarding the way valuesa re stored when the application is executing.\n",
    "\n",
    "In this exercise, you will learn how reference types are different from value types, and how to use the new operator to associate a variable with a value in the computer's memory.\n",
    "\n",
    "## How reference types are different from value types\n",
    "\n",
    "A value type variable stores its values directly in an area of storage called the *stack*. The stack is memory allocated to the code that is currently running on the CPU (also known as the stack frame, or activation frame). When the stack frame has finished executing, the values in the stack are removed.\n",
    "\n",
    "A reference type variable stores its values in a separate memory region called the *heap*. The heap is a memory area that is shared across many applications running on the operating system at the same time. The .NET Runtime communicates with the operating system to determine what memory addresses are available, and requests an address where it can store the value. The .NET Runtime stores the value, and then returns the memory address to the variable. When your code uses the variable, the .NET Runtime seamlessly looks up the address stored in the variable, and retrieves the value that's stored there.\n",
    "\n",
    "You'll next write some code that illustrates these ideas more clearly.\n",
    "\n",
    "## Define a reference type variable\n",
    "\n"
   ]
  }
 ],
 "metadata": {
  "kernelspec": {
   "display_name": ".NET (C#)",
   "language": "C#",
   "name": ".net-csharp"
  },
  "language_info": {
   "file_extension": ".cs",
   "mimetype": "text/x-csharp",
   "name": "C#",
   "pygments_lexer": "csharp",
   "version": "8.0"
  }
 },
 "nbformat": 4,
 "nbformat_minor": 5
}
