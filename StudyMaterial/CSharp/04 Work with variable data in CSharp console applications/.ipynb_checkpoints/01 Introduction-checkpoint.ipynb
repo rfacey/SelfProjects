{
 "cells": [
  {
   "cell_type": "markdown",
   "id": "a950d219",
   "metadata": {},
   "source": [
    "Source: https://learn.microsoft.com/en-us/training/modules/csharp-choose-data-type/1-introduction?WT.mc_id=dotnet-35129-website&ns-enrollment-type=Collection&ns-enrollment-id=yz26f8y64n7k07"
   ]
  },
  {
   "cell_type": "markdown",
   "id": "e24c9b02",
   "metadata": {},
   "source": [
    "# Introduction\n",
    "\n",
    "The C# programming language relies on data types extensively. Data types restrict the kinds of values that can be stored in a given variable, which can be helpful when trying to create error freee code. As a developer, you confidently perform operations on your variables because you know in advance that it only stores valid values.\n",
    "\n",
    "Suppose your job is to build a new application that must retrieve, manipulate, and store many different kinds of data, including individual numeric values and sequences of numeric and text values. Choosing the right data types is critical to the success of your software development efforts. But what are your options, and what criteria should you use when faces with several data types that seem similar?\n",
    "\n",
    "In this module, you learn how your application stores and processed data. You learn that there are two kind of data types that correspond with the two ways that data is processed. You write code that identifies the maximum and minimum values that can be stored in a particular numeric data type. And, you learn the criteria to use when choosing between several numeric data types for your application.\n",
    "\n",
    "By the end of this module, you'll be confident when working with different data types in C# and able to choose right data type for your particular application.\n",
    "\n",
    "## Learning objectives\n",
    "\n",
    "In this module, you will:\n",
    "\n",
    "- Learn the fundamental differents betwwen value types and reference types.\n",
    "- Describe the properties of many new numeric data types, including new integral types and floating point types.\n",
    "- Write code that returns the maximum and minimum  values that numeric data types can store.\n",
    "- Use the \"new\" keyword to create new instances of a reference type.\n",
    "- Determine which data type you should chgoose for a given application.\n",
    "\n",
    "## Prerequisites\n",
    "\n",
    "- Experience using basic data types like string, char, bool, int, and decimal\n",
    "- Experience using string interpolation to combine variables in string templates\n",
    "- Experience using code comments to comment out unused code\n",
    "- Experience using Visual Studio Code to develop, build, and run C# code."
   ]
  }
 ],
 "metadata": {
  "kernelspec": {
   "display_name": ".NET (C#)",
   "language": "C#",
   "name": ".net-csharp"
  },
  "language_info": {
   "file_extension": ".cs",
   "mimetype": "text/x-csharp",
   "name": "C#",
   "pygments_lexer": "csharp",
   "version": "8.0"
  }
 },
 "nbformat": 4,
 "nbformat_minor": 5
}
