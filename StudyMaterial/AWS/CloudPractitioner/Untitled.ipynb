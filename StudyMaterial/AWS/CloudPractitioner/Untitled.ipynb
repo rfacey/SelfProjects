{
 "cells": [
  {
   "cell_type": "markdown",
   "id": "d856cafc-cb6e-40b8-98c1-c00c0dbdb0c9",
   "metadata": {},
   "source": [
    " https://www.youtube.com/watch?v=-FtcnssIpzQ&ab_channel=TechTalks\n",
    "\n",
    "AWS Certified Cloud Practitioner\n",
    "- An ideal first step in AWS certification\n",
    "- Demonstrates an overall understanding of the AWS cloud\n",
    "    - Key concepts in AWS global infrastructure\n",
    "    - Key services\n",
    "    - Architectual principles\n",
    "    - Security measures, and more\n",
    "- Designed to help you pass the AWS Certified Cloud Practitioner exam\n",
    "- We will cover all the key areas addressed in the exam\n",
    "\n"
   ]
  },
  {
   "cell_type": "code",
   "execution_count": null,
   "id": "d4a2b9f2-8ffb-4a4e-81b2-05009140f57d",
   "metadata": {},
   "outputs": [],
   "source": []
  }
 ],
 "metadata": {
  "kernelspec": {
   "display_name": "Python 3 (ipykernel)",
   "language": "python",
   "name": "python3"
  },
  "language_info": {
   "codemirror_mode": {
    "name": "ipython",
    "version": 3
   },
   "file_extension": ".py",
   "mimetype": "text/x-python",
   "name": "python",
   "nbconvert_exporter": "python",
   "pygments_lexer": "ipython3",
   "version": "3.9.13"
  }
 },
 "nbformat": 4,
 "nbformat_minor": 5
}
