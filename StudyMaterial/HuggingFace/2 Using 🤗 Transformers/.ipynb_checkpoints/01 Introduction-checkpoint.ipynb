{
 "cells": [
  {
   "cell_type": "markdown",
   "id": "8da44cd9-9dcf-4b22-8a33-98ddb42824df",
   "metadata": {},
   "source": [
    "Source: https://huggingface.co/learn/nlp-course/chapter2/1?fw=pt"
   ]
  },
  {
   "cell_type": "markdown",
   "id": "059cac54-0ed2-4c26-959b-07e58cc6d550",
   "metadata": {},
   "source": [
    "# Introduction\n",
    "\n",
    "As you saw in Chapter 1, Transfomer models are usually very large. With millions of ttens of *billions* of parameters, training and deploing these models is a complicated undertaking. Furthermore, with new models being released on a near-daily basis and each having its own implementation, trying them all out is no easy task.\n",
    "\n",
    "The 🤗 Transformers library was created to solve this problem. Its goal is to provide a single API through which any Transformer model can be loaded, trained, and saved. The library's main features are:\n",
    "\n",
    "- **Ease of use**: Downloading, loading, and using a state-of-the-art NLP model for inference can be done in jusdt two lines of code.\n",
    "- **Flexibility**: At their code, all models are simply PyTorch nn.Module or TensorFlow tf.keras.Model classes and can be handled like any other models in their respective machine learning (ML) frameworks.\n",
    "- **Simplicity**: Hardly any abstractions are made across the library. The \"All in one file\" is a core concept: a model's forward pass is entirely defined in a single file, so that the code itself is understandable and hackable.\n",
    "\n",
    "This last feature makes 🤗 Transformers quite different from other ML libraries. The models are not built on modules that are shared across files; instead, each model has its own layers. In addition to making the models more approachable and understandable, this allows you to easily experiment on one model without affecting others.\n",
    "\n",
    "This chapter will begin with an end-to-end example where we use a model and a tokenizer together to replicate the pipeline() function introduced in Chapter 1. Nxt, we'll discuss the model API: we'll dive into the model and configuration classes, and show you how to load a model and how it processes numerical inputs to output predictions.\n",
    "\n",
    "Then we'll look at the tokenizer API, which is the other main component of the pipeline() function. Tokenizers take care of the first and last processing steps, handling the conversion from text to numerical inputs for the neural network, and the conversion back to text when it is needed. Finally, we'll show you how to handle sending multiple sentences through a model in a prepared batch, then wrap it all up with a closer look at the high-level tokenizer() function."
   ]
  }
 ],
 "metadata": {
  "kernelspec": {
   "display_name": "Python 3 (ipykernel)",
   "language": "python",
   "name": "python3"
  },
  "language_info": {
   "codemirror_mode": {
    "name": "ipython",
    "version": 3
   },
   "file_extension": ".py",
   "mimetype": "text/x-python",
   "name": "python",
   "nbconvert_exporter": "python",
   "pygments_lexer": "ipython3",
   "version": "3.9.13"
  }
 },
 "nbformat": 4,
 "nbformat_minor": 5
}
