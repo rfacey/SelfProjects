{
 "cells": [
  {
   "cell_type": "markdown",
   "id": "70dc586c",
   "metadata": {},
   "source": [
    "Source: https://learn.microsoft.com/en-us/training/modules/create-c-sharp-methods-parameters/1-introduction"
   ]
  },
  {
   "cell_type": "markdown",
   "id": "407897f4",
   "metadata": {},
   "source": [
    "# Introduction\n",
    "\n",
    "Methods have the ability to perform operations on input. Passing parameters to your methods allows you to perform the method's task with different input values. Using method parameters lets you extend your code while keeping your program organized and readable. If you consider a method to be a black box that accepts input and performs a single task, you can quickly divide a large problem into workable pieces.\n",
    "\n",
    "Suppose you need to write code that performs the same operation on different sets of input. You might have three different arrays, and need to display the contents of each one. You can create a DisplayArray method that accepts a single array as input and displays the contents. Instead of writing code to display each individual array, you can call the same method and provide the different arrays as input.\n",
    "\n",
    "Parameters can make your methods more robust while still performing the same general task. In this module, you'll learn more about working with parameters and solidify your understanding of methods.\n",
    "\n",
    "## Learning Objectiv es\n",
    "\n",
    "In this module, you will:\n",
    "\n",
    "- Learn more about using parameters\n",
    "- Understand method scope\n",
    "- Understand pass-by-reference and pass-by-value types\n",
    "- Learn how to use optional and named arguments\n",
    "\n",
    "## Prerequisites\n",
    "\n",
    "- Experience using C# data types including int, string, array, and 2D arrays\n",
    "- Experience using switch statements, if-else statements, and for-loops\n",
    "- Experience using the Random class to generate a random number\n",
    "- Basic understanding of C# methods"
   ]
  }
 ],
 "metadata": {
  "kernelspec": {
   "display_name": ".NET (C#)",
   "language": "C#",
   "name": ".net-csharp"
  },
  "language_info": {
   "file_extension": ".cs",
   "mimetype": "text/x-csharp",
   "name": "C#",
   "pygments_lexer": "csharp",
   "version": "8.0"
  }
 },
 "nbformat": 4,
 "nbformat_minor": 5
}
