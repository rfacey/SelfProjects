{
 "cells": [
  {
   "cell_type": "markdown",
   "id": "15db825d-0396-4b5f-a9bd-6eaa06f9ebcd",
   "metadata": {},
   "source": [
    "# Chapter 1: Exploratory Data Analysis\n",
    "\n",
    "## Key Terms for Data Types\n",
    "\n",
    "- **Numeric**\n",
    "    - Data that are expressed on a numeric scale.\n",
    "    - **Continous**\n",
    "        - Data that can take on any value in an interval. (Synonyms: interval, float, numeric)\n",
    "    - **Discrete**\n",
    "        - Data that can take on only integer values, such as counts. (Synonyms: integer, count)\n",
    "- **Categorical**\n",
    "    - Data that can take on only a specific set of values representing a set of possible categories. (Synonyms: enums, enumerated, factors, nominal)\n",
    "    - **Binary**\n",
    "        - A special case of categorical data with just two categories of values, e.g., 0/1, true/false. (Synonyms: dichotomous, logical, indicator, boolean)\n",
    "    - **Ordinal**\n",
    "        - Categorical data that has an explicit ordering. (Synonym: ordered factor)\n",
    "        \n",
    "## Key Ideas\n",
    "- Data is typically classified in software by type.\n",
    "- Data types include numeric (continous, discrete) and categorical (binary, ordinal).\n",
    "- Data typing in software acts as an signal to the software on how to process the data.\n",
    "\n",
    "## Key Terms for Rectangular Data\n",
    "- **Data frame**\n",
    "    - Rectangular data (like a spreadsheet) is the basic data structure for statistical and machine learning models.\n",
    "- **Feature**\n",
    "    - A column within a table is commonly referred to as a *feature*.\n",
    "    - Synonyms\n",
    "        - Attribute, input, predictor, variable\n",
    "- **Outcome**\n",
    "    - Many data science projects involve predicting an *outcome* - often a yes/no outcome (in Table 1-1, it is \"auction was competitive or not\"). The *features* are sometimes used to predict the *outcome* in an experiment or a study.\n",
    "    - Synonyms\n",
    "        - Dependent variable, response, target, output"
   ]
  },
  {
   "cell_type": "code",
   "execution_count": null,
   "id": "cd518017-8829-4839-9630-1c33bd776df8",
   "metadata": {},
   "outputs": [],
   "source": []
  }
 ],
 "metadata": {
  "kernelspec": {
   "display_name": "Python 3 (ipykernel)",
   "language": "python",
   "name": "python3"
  },
  "language_info": {
   "codemirror_mode": {
    "name": "ipython",
    "version": 3
   },
   "file_extension": ".py",
   "mimetype": "text/x-python",
   "name": "python",
   "nbconvert_exporter": "python",
   "pygments_lexer": "ipython3",
   "version": "3.9.13"
  }
 },
 "nbformat": 4,
 "nbformat_minor": 5
}
