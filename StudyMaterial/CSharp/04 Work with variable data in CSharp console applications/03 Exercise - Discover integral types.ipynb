{
 "cells": [
  {
   "cell_type": "markdown",
   "id": "73d352e2",
   "metadata": {},
   "source": [
    "Source: https://learn.microsoft.com/en-us/training/modules/csharp-choose-data-type/3-exercise-integral-types"
   ]
  },
  {
   "cell_type": "markdown",
   "id": "5075f0f5",
   "metadata": {},
   "source": [
    "# Exercise - Discover integral types\n",
    "\n",
    "In this exercise, you'll work with integral types. An **integral type** is a value type that represents whole numbers with no fraction (such as -1, 0, 1, 2, 3). The most popular in this category is the \"int\" data type.\n",
    "\n",
    "There are two subcategories of integral types: signed and unsigned integral types.\n",
    "\n",
    "A signed type uses its bytes to represent an equal number of positive and negative numbers. The following exercise will give you exposure to the signed integral types in C#.\n",
    "\n",
    "## Prepare your coding environment\n",
    "\n",
    "This module includes hands-on activities that guide you through the process of building and running demonstration code. You are encouraged to complete these activities using Visual Studio Code as your development environment. Using Visual Studio Code for these activities will help you to become more comfortable writing and running code in a developer environment that's used by professionals worldwide.\n",
    "\n",
    "## Use the MinValue and MaxValue properties for each signed integral type\n",
    "\n",
    "1. Ensure that you have Visual Studio Code open and Program.cs displayed in the Editor panel. Progrtam.cs should be empty. If it isn't, select and delete all code lines.\n",
    "2. To see the value ranges for the varios data types, type the following code into the Visual Studio Code Editor."
   ]
  },
  {
   "cell_type": "code",
   "execution_count": 1,
   "id": "88b2d353",
   "metadata": {},
   "outputs": [
    {
     "data": {
      "text/html": [
       "\r\n",
       "<div>\r\n",
       "    <div id='dotnet-interactive-this-cell-6468.Microsoft.DotNet.Interactive.Http.HttpPort' style='display: none'>\r\n",
       "        The below script needs to be able to find the current output cell; this is an easy method to get it.\r\n",
       "    </div>\r\n",
       "    <script type='text/javascript'>\r\n",
       "async function probeAddresses(probingAddresses) {\r\n",
       "    function timeout(ms, promise) {\r\n",
       "        return new Promise(function (resolve, reject) {\r\n",
       "            setTimeout(function () {\r\n",
       "                reject(new Error('timeout'))\r\n",
       "            }, ms)\r\n",
       "            promise.then(resolve, reject)\r\n",
       "        })\r\n",
       "    }\r\n",
       "\r\n",
       "    if (Array.isArray(probingAddresses)) {\r\n",
       "        for (let i = 0; i < probingAddresses.length; i++) {\r\n",
       "\r\n",
       "            let rootUrl = probingAddresses[i];\r\n",
       "\r\n",
       "            if (!rootUrl.endsWith('/')) {\r\n",
       "                rootUrl = `${rootUrl}/`;\r\n",
       "            }\r\n",
       "\r\n",
       "            try {\r\n",
       "                let response = await timeout(1000, fetch(`${rootUrl}discovery`, {\r\n",
       "                    method: 'POST',\r\n",
       "                    cache: 'no-cache',\r\n",
       "                    mode: 'cors',\r\n",
       "                    timeout: 1000,\r\n",
       "                    headers: {\r\n",
       "                        'Content-Type': 'text/plain'\r\n",
       "                    },\r\n",
       "                    body: probingAddresses[i]\r\n",
       "                }));\r\n",
       "\r\n",
       "                if (response.status == 200) {\r\n",
       "                    return rootUrl;\r\n",
       "                }\r\n",
       "            }\r\n",
       "            catch (e) { }\r\n",
       "        }\r\n",
       "    }\r\n",
       "}\r\n",
       "\r\n",
       "function loadDotnetInteractiveApi() {\r\n",
       "    probeAddresses([\"http://192.168.0.25:1000/\", \"http://127.0.0.1:1000/\"])\r\n",
       "        .then((root) => {\r\n",
       "        // use probing to find host url and api resources\r\n",
       "        // load interactive helpers and language services\r\n",
       "        let dotnetInteractiveRequire = require.config({\r\n",
       "        context: '6468.Microsoft.DotNet.Interactive.Http.HttpPort',\r\n",
       "                paths:\r\n",
       "            {\r\n",
       "                'dotnet-interactive': `${root}resources`\r\n",
       "                }\r\n",
       "        }) || require;\r\n",
       "\r\n",
       "            window.dotnetInteractiveRequire = dotnetInteractiveRequire;\r\n",
       "\r\n",
       "            window.configureRequireFromExtension = function(extensionName, extensionCacheBuster) {\r\n",
       "                let paths = {};\r\n",
       "                paths[extensionName] = `${root}extensions/${extensionName}/resources/`;\r\n",
       "                \r\n",
       "                let internalRequire = require.config({\r\n",
       "                    context: extensionCacheBuster,\r\n",
       "                    paths: paths,\r\n",
       "                    urlArgs: `cacheBuster=${extensionCacheBuster}`\r\n",
       "                    }) || require;\r\n",
       "\r\n",
       "                return internalRequire\r\n",
       "            };\r\n",
       "        \r\n",
       "            dotnetInteractiveRequire([\r\n",
       "                    'dotnet-interactive/dotnet-interactive'\r\n",
       "                ],\r\n",
       "                function (dotnet) {\r\n",
       "                    dotnet.init(window);\r\n",
       "                },\r\n",
       "                function (error) {\r\n",
       "                    console.log(error);\r\n",
       "                }\r\n",
       "            );\r\n",
       "        })\r\n",
       "        .catch(error => {console.log(error);});\r\n",
       "    }\r\n",
       "\r\n",
       "// ensure `require` is available globally\r\n",
       "if ((typeof(require) !==  typeof(Function)) || (typeof(require.config) !== typeof(Function))) {\r\n",
       "    let require_script = document.createElement('script');\r\n",
       "    require_script.setAttribute('src', 'https://cdnjs.cloudflare.com/ajax/libs/require.js/2.3.6/require.min.js');\r\n",
       "    require_script.setAttribute('type', 'text/javascript');\r\n",
       "    \r\n",
       "    \r\n",
       "    require_script.onload = function() {\r\n",
       "        loadDotnetInteractiveApi();\r\n",
       "    };\r\n",
       "\r\n",
       "    document.getElementsByTagName('head')[0].appendChild(require_script);\r\n",
       "}\r\n",
       "else {\r\n",
       "    loadDotnetInteractiveApi();\r\n",
       "}\r\n",
       "\r\n",
       "    </script>\r\n",
       "</div>"
      ]
     },
     "metadata": {},
     "output_type": "display_data"
    },
    {
     "name": "stdout",
     "output_type": "stream",
     "text": [
      "Signed integral types:\n",
      "sbyte  : -128 to 127\n",
      "short  : -32768 to 32767\n",
      "int    : -2147483648 to 2147483647\n",
      "long   : -9223372036854775808 to 9223372036854775807\n"
     ]
    }
   ],
   "source": [
    "Console.WriteLine(\"Signed integral types:\");\n",
    "\n",
    "Console.WriteLine($\"sbyte  : {sbyte.MinValue} to {sbyte.MaxValue}\");\n",
    "Console.WriteLine($\"short  : {short.MinValue} to {short.MaxValue}\");\n",
    "Console.WriteLine($\"int    : {int.MinValue} to {int.MaxValue}\");\n",
    "Console.WriteLine($\"long   : {long.MinValue} to {long.MaxValue}\");"
   ]
  },
  {
   "cell_type": "markdown",
   "id": "77ecb93b",
   "metadata": {},
   "source": [
    "3. On the Visual Studio Code File menu, selec Save. The Program.cs file must be saved before building or running the code.\n",
    "4. In the EXPLORER panel, to open a Terminal at your TestProject folder location, right-click TestProject, and then select Open in Integrated Terminal. A Terminal panel should open, and should include a command prompt showing that the Terminal is open to your TestProject folder location.\n",
    "5. At the Terminal command prompt, to run your code, type \"dotnet run\" and then press Enter. If you see a message saying \"Couldn't find a project to run\", ensure that the Terminal command prompt displays the expected TestProject folder location. For example: C:\\Users\\someuser\\Desktop\\csharpprojects\\TestProject>\n",
    "\n",
    "You should see the output above.\n",
    "\n",
    "For most non-scientific applications, you'll likely only need to work with int. Most of the time, you won't need more than a positive to negative 2.14 billion whole numbers.\n",
    "\n",
    "## Unsigned integral types\n",
    "\n",
    "An *unsigned type* uses its bytes to represent only positive numbers. The remainder of the exercise introduces the unsigned integral types in C#.\n",
    "\n",
    "### Use the MinValue and MaxValue properties for each unsigned integral type\n",
    "\n",
    "1. Below the previous code passage, add the following code:"
   ]
  },
  {
   "cell_type": "code",
   "execution_count": 2,
   "id": "822ba22f",
   "metadata": {},
   "outputs": [
    {
     "name": "stdout",
     "output_type": "stream",
     "text": [
      "\n",
      "Unsigned integral types:\n",
      "byte   : 0 to 255\n",
      "ushort : 0 to 65535\n",
      "uint   : 0 to 4294967295\n",
      "ulong  : 0 to 18446744073709551615\n"
     ]
    }
   ],
   "source": [
    "Console.WriteLine(\"\");\n",
    "Console.WriteLine(\"Unsigned integral types:\");\n",
    "\n",
    "Console.WriteLine($\"byte   : {byte.MinValue} to {byte.MaxValue}\");\n",
    "Console.WriteLine($\"ushort : {ushort.MinValue} to {ushort.MaxValue}\");\n",
    "Console.WriteLine($\"uint   : {uint.MinValue} to {uint.MaxValue}\");\n",
    "Console.WriteLine($\"ulong  : {ulong.MinValue} to {ulong.MaxValue}\");"
   ]
  },
  {
   "cell_type": "markdown",
   "id": "2ecb364e",
   "metadata": {},
   "source": [
    "2. Save your code file, and then use Visual Studio Code to run your code. You should see the output above.\n",
    "\n",
    "When a given data type can be used for many cases, given the fact that the byte data type can represent a value from 0 to 255, it's obvious that this is intended to hold a value that represents a *byte* of data. Data stored in files or data transferred across the internet is often in a binary format. When working with data from these external sources, you'll need to receive data as an array of bytes, then convert them into strings. Many of the methods in the .NET Class Library that deal with encoding and decoding data will require you handle byte arrays.\n",
    "\n",
    "## Recap\n",
    "\n",
    "- An integral type is a simple value data type that can hold whole numbers.\n",
    "- There are signed and unsigned numeric data types. Signed integral types use 1 bit to store whether the value is positive or negative.\n",
    "- You can use the MaxValue and MinValue properties of numeric data types to evaluate whether a number can fit in a given data type."
   ]
  }
 ],
 "metadata": {
  "kernelspec": {
   "display_name": ".NET (C#)",
   "language": "C#",
   "name": ".net-csharp"
  },
  "language_info": {
   "file_extension": ".cs",
   "mimetype": "text/x-csharp",
   "name": "C#",
   "pygments_lexer": "csharp",
   "version": "8.0"
  }
 },
 "nbformat": 4,
 "nbformat_minor": 5
}
