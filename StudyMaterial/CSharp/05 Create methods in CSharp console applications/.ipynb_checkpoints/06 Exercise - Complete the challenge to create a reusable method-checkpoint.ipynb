{
 "cells": [
  {
   "cell_type": "markdown",
   "id": "7bf6a21c",
   "metadata": {},
   "source": [
    "Source: https://learn.microsoft.com/en-us/training/modules/write-first-c-sharp-method/6-exercise-challenge-restructure-code-to-use-methods"
   ]
  },
  {
   "cell_type": "markdown",
   "id": "372f0b64",
   "metadata": {},
   "source": [
    "# Exercise - Complete the challenge to create a reusable method\n",
    "\n",
    "Code challenges reinforce what you've learned, and help you gain some confidence before continuing on.\n",
    "\n",
    "The focus of this challenge is to modify code so that it is reusable and can be executed at any time.\n",
    "\n",
    "## Tell a fortune\n",
    "\n",
    "You're helping to develop a massive multiplayer role-playing game. Each player has a luck stat that can affect their odds of finding rare treasure. Each day, a player can speak to an in-game fortune teller that reveals whether their luck stat is high, low, or neutral.\n",
    "\n",
    "The game currently has code to generate a player's fortune, but it isn't reusable. Your task is to create a tellFortune method that can be called at any time, and replace the existing logic with a call to your method.\n",
    "\n",
    "In this challenge, you're given some starting code. You must decide how to create and call the tellFortune method.\n",
    "\n",
    "## Code challenge: create a reusable method\n",
    "\n",
    "In the code that you start with, there's a generic text array, followed by good, bad, and neutral text arrays. Depending on the value of luck, one of the arrays is selected and displayed alongside the the generic text.\n",
    "\n",
    "Your challenge is to create a reusable method that prints a player's fortune at any time. The method should contain the logic that is already present in the code provided.\n",
    "\n",
    "1. Ensure that you have an empty Program.cs file open in Visual Studio Code.\n",
    "2. Copy and paste the following code into the Editor:"
   ]
  },
  {
   "cell_type": "code",
   "execution_count": 1,
   "id": "f1293d4f",
   "metadata": {},
   "outputs": [
    {
     "data": {
      "text/html": [
       "\r\n",
       "<div>\r\n",
       "    <div id='dotnet-interactive-this-cell-10496.Microsoft.DotNet.Interactive.Http.HttpPort' style='display: none'>\r\n",
       "        The below script needs to be able to find the current output cell; this is an easy method to get it.\r\n",
       "    </div>\r\n",
       "    <script type='text/javascript'>\r\n",
       "async function probeAddresses(probingAddresses) {\r\n",
       "    function timeout(ms, promise) {\r\n",
       "        return new Promise(function (resolve, reject) {\r\n",
       "            setTimeout(function () {\r\n",
       "                reject(new Error('timeout'))\r\n",
       "            }, ms)\r\n",
       "            promise.then(resolve, reject)\r\n",
       "        })\r\n",
       "    }\r\n",
       "\r\n",
       "    if (Array.isArray(probingAddresses)) {\r\n",
       "        for (let i = 0; i < probingAddresses.length; i++) {\r\n",
       "\r\n",
       "            let rootUrl = probingAddresses[i];\r\n",
       "\r\n",
       "            if (!rootUrl.endsWith('/')) {\r\n",
       "                rootUrl = `${rootUrl}/`;\r\n",
       "            }\r\n",
       "\r\n",
       "            try {\r\n",
       "                let response = await timeout(1000, fetch(`${rootUrl}discovery`, {\r\n",
       "                    method: 'POST',\r\n",
       "                    cache: 'no-cache',\r\n",
       "                    mode: 'cors',\r\n",
       "                    timeout: 1000,\r\n",
       "                    headers: {\r\n",
       "                        'Content-Type': 'text/plain'\r\n",
       "                    },\r\n",
       "                    body: probingAddresses[i]\r\n",
       "                }));\r\n",
       "\r\n",
       "                if (response.status == 200) {\r\n",
       "                    return rootUrl;\r\n",
       "                }\r\n",
       "            }\r\n",
       "            catch (e) { }\r\n",
       "        }\r\n",
       "    }\r\n",
       "}\r\n",
       "\r\n",
       "function loadDotnetInteractiveApi() {\r\n",
       "    probeAddresses([\"http://192.168.0.25:1001/\", \"http://127.0.0.1:1001/\"])\r\n",
       "        .then((root) => {\r\n",
       "        // use probing to find host url and api resources\r\n",
       "        // load interactive helpers and language services\r\n",
       "        let dotnetInteractiveRequire = require.config({\r\n",
       "        context: '10496.Microsoft.DotNet.Interactive.Http.HttpPort',\r\n",
       "                paths:\r\n",
       "            {\r\n",
       "                'dotnet-interactive': `${root}resources`\r\n",
       "                }\r\n",
       "        }) || require;\r\n",
       "\r\n",
       "            window.dotnetInteractiveRequire = dotnetInteractiveRequire;\r\n",
       "\r\n",
       "            window.configureRequireFromExtension = function(extensionName, extensionCacheBuster) {\r\n",
       "                let paths = {};\r\n",
       "                paths[extensionName] = `${root}extensions/${extensionName}/resources/`;\r\n",
       "                \r\n",
       "                let internalRequire = require.config({\r\n",
       "                    context: extensionCacheBuster,\r\n",
       "                    paths: paths,\r\n",
       "                    urlArgs: `cacheBuster=${extensionCacheBuster}`\r\n",
       "                    }) || require;\r\n",
       "\r\n",
       "                return internalRequire\r\n",
       "            };\r\n",
       "        \r\n",
       "            dotnetInteractiveRequire([\r\n",
       "                    'dotnet-interactive/dotnet-interactive'\r\n",
       "                ],\r\n",
       "                function (dotnet) {\r\n",
       "                    dotnet.init(window);\r\n",
       "                },\r\n",
       "                function (error) {\r\n",
       "                    console.log(error);\r\n",
       "                }\r\n",
       "            );\r\n",
       "        })\r\n",
       "        .catch(error => {console.log(error);});\r\n",
       "    }\r\n",
       "\r\n",
       "// ensure `require` is available globally\r\n",
       "if ((typeof(require) !==  typeof(Function)) || (typeof(require.config) !== typeof(Function))) {\r\n",
       "    let require_script = document.createElement('script');\r\n",
       "    require_script.setAttribute('src', 'https://cdnjs.cloudflare.com/ajax/libs/require.js/2.3.6/require.min.js');\r\n",
       "    require_script.setAttribute('type', 'text/javascript');\r\n",
       "    \r\n",
       "    \r\n",
       "    require_script.onload = function() {\r\n",
       "        loadDotnetInteractiveApi();\r\n",
       "    };\r\n",
       "\r\n",
       "    document.getElementsByTagName('head')[0].appendChild(require_script);\r\n",
       "}\r\n",
       "else {\r\n",
       "    loadDotnetInteractiveApi();\r\n",
       "}\r\n",
       "\r\n",
       "    </script>\r\n",
       "</div>"
      ]
     },
     "metadata": {},
     "output_type": "display_data"
    },
    {
     "name": "stdout",
     "output_type": "stream",
     "text": [
      "A fortune teller whispers the following words:\n",
      "You have much to look forward to. Today is a day to try new things! Whatever work you do is likely to succeed. This is an ideal time to accomplish your dreams! "
     ]
    }
   ],
   "source": [
    "Random random = new Random();\n",
    "int luck = random.Next(100);\n",
    "\n",
    "string[] text = {\"You have much to\", \"Today is a day to\", \"Whatever work you do\", \"This is an ideal time to\"};\n",
    "string[] good = {\"look forward to.\", \"try new things!\", \"is likely to succeed.\", \"accomplish your dreams!\"};\n",
    "string[] bad = {\"fear.\", \"avoid major decisions.\", \"may have unexpected outcomes.\", \"re-evaluate your life.\"};\n",
    "string[] neutral = {\"appreciate.\", \"enjoy time with friends.\", \"should align with your values.\", \"get in tune with nature.\"};\n",
    "\n",
    "Console.WriteLine(\"A fortune teller whispers the following words:\");\n",
    "string[] fortune = (luck > 75 ? good : (luck < 25 ? bad : neutral));\n",
    "for (int i = 0; i < 4; i++) \n",
    "{\n",
    "    Console.Write($\"{text[i]} {fortune[i]} \");\n",
    "}"
   ]
  },
  {
   "cell_type": "markdown",
   "id": "b2ba51c2",
   "metadata": {},
   "source": [
    "3. Update the code to use a method to display the fortune. Use what you've learned about creating and calling methods to complete the update.\n",
    "4. Test your code by changing the value of luck and calling the method again.\n",
    "5. Verify that your code produces one of the following messages:"
   ]
  },
  {
   "cell_type": "raw",
   "id": "80b98ecf",
   "metadata": {},
   "source": [
    "A fortune teller whispers the following words:\n",
    "You have much to look forward to. Today is a day to try new things! Whatever work you do is likely to succeed. This is an ideal time to accomplish your dreams!"
   ]
  },
  {
   "cell_type": "raw",
   "id": "3e961c98",
   "metadata": {},
   "source": [
    "A fortune teller whispers the following words:\n",
    "You have much to appreciate. Today is a day to enjoy time with friends. Whatever work you do should align with your values. This is an ideal time to get in tune with nature."
   ]
  },
  {
   "cell_type": "raw",
   "id": "760ab662",
   "metadata": {},
   "source": [
    "A fortune teller whispers the following words:\n",
    "You have much to fear. Today is a day to avoid major decisions. Whatever work you do may have unexpected outcomes. This is an ideal time to re-evaluate your life."
   ]
  },
  {
   "cell_type": "markdown",
   "id": "10ae04a2",
   "metadata": {},
   "source": [
    "Whether you get stuck and need to peek at the solution or you finish successfully, continue on to view a solution to this challenge."
   ]
  }
 ],
 "metadata": {
  "kernelspec": {
   "display_name": ".NET (C#)",
   "language": "C#",
   "name": ".net-csharp"
  },
  "language_info": {
   "file_extension": ".cs",
   "mimetype": "text/x-csharp",
   "name": "C#",
   "pygments_lexer": "csharp",
   "version": "8.0"
  }
 },
 "nbformat": 4,
 "nbformat_minor": 5
}
