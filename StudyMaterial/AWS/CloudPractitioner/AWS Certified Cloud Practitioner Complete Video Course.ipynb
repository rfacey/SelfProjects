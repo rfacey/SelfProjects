{
 "cells": [
  {
   "cell_type": "markdown",
   "id": "d856cafc-cb6e-40b8-98c1-c00c0dbdb0c9",
   "metadata": {},
   "source": [
    " https://www.youtube.com/watch?v=-FtcnssIpzQ&ab_channel=TechTalks\n",
    "\n",
    "## AWS Certified Cloud Practitioner\n",
    "\n",
    "- An ideal first step in AWS certification\n",
    "- Demonstrates an overall understanding of the AWS cloud\n",
    "    - Key concepts in AWS global infrastructure\n",
    "    - Key services\n",
    "    - Architectual principles\n",
    "    - Security measures, and more\n",
    "- Designed to help you pass the AWS Certified Cloud Practitioner exam\n",
    "- We will cover all the key areas addressed in the exam\n",
    "- And review use cases and demos which will help you understand the context and reasons for a number of architectural decisions\n",
    "- This course will give you a deeper understanding of the AWS cloud and the cloud value proposition\n",
    "- You will finish with a better ability to engage in knowledgable discussions around AWS\n",
    "- You will also be well on your way to passing the exam"
   ]
  },
  {
   "cell_type": "markdown",
   "id": "73573c50-dd8c-4ceb-a7a8-e2ff04dccd65",
   "metadata": {},
   "source": [
    "## Lesson 1: Cloud Practitioner Certification\n",
    "### Learning objectives"
   ]
  },
  {
   "cell_type": "markdown",
   "id": "4d725afc-ca35-415d-ad55-eacb6e2fc934",
   "metadata": {},
   "source": [
    "#### 1.1 Overview\n",
    "#### Cloud Practitioner Overview\n",
    "\n",
    "- Demonstrates high-level understanding\n",
    "- Non-technical roles\n",
    "- AWS as a solution provider\n",
    "- Cloud value proposition\n",
    "- Global infrastructure\n",
    "- Architectural design principles\n",
    "- Key services\n",
    "    - What service to use\n",
    "    - Why to use it\n",
    "    - Use cases\n",
    "- Security of and in the cloud\n",
    "- Pricing, billing, and account management\n",
    "- Sources of documentation and support options"
   ]
  },
  {
   "cell_type": "markdown",
   "id": "bda8adc5-eefb-4fd0-867b-7ad67d637c10",
   "metadata": {},
   "source": [
    "#### 1.2 Exam Preparation Resources\n",
    "#### Exam Guide\n",
    "\n",
    "- Available online as PDF\n",
    "- Outlines topics to study\n",
    "- Defines domains of the exam\n",
    "    - Cloud concepts\n",
    "    - Security\n",
    "    - Technology\n",
    "    - Billing and pricing\n",
    "\n",
    "#### Sample questions\n",
    "- Available online as PDF\n",
    "- Offers approx. ten questions\n",
    "- Contains right answers\n",
    "\n",
    "#### AWS Blogs\n",
    "- Announce new services/features\n",
    "- Highlights case studies\n",
    "- How-tos\n",
    "- Security blog"
   ]
  },
  {
   "cell_type": "markdown",
   "id": "198d1e28-9259-4ec3-98ee-748174408acf",
   "metadata": {},
   "source": [
    "#### 1.3 Taking the Exam\n",
    "#### The exam\n",
    "\n",
    "- Domains\n",
    "    - Cloud concepts\n",
    "    - Security\n",
    "    - Technology\n",
    "    - Billing and pricing\n",
    "- Response Types\n",
    "    - Multiple-choice\n",
    "    - Multiple-response\n",
    "- Register\n",
    "    - https://www.aws.training/\n",
    "- Approx. 65 questions\n",
    "- 90 minutes to complete\n",
    "- Unanswered questions are incorrect\n",
    "- No penalty for incorrect answers\n",
    "- Review questions before submittal\n",
    "- Only need to pass overall\n",
    "\n",
    "#### Exam strategy\n",
    "- First pass: choose what you know\n",
    "- Second pass: process of elimination\n",
    "- Review before submitting\n",
    "- It's OK to guess\n",
    "\n",
    "#### Taking the exam\n",
    "- Take two forms of ID\n",
    "- Take proof of exam registration\n",
    "- Leave all belongings in locker\n",
    "- Can use scratch paper\n",
    "- No ability to research"
   ]
  },
  {
   "cell_type": "markdown",
   "id": "a2bc3727-cecd-4af1-8f06-143982ec8d28",
   "metadata": {},
   "source": [
    "#### 1.4 Documentation and Study Material\n",
    "#### Sources of Documentation\n",
    "- AWS Website\n",
    "    - Product details and FAQs\n",
    "- AWS Documentation\n",
    "    - Service specific references\n",
    "- Quora\n",
    "- StackOverflow\n",
    "    - Get help from the wider community\n",
    "\n",
    "#### Useful Whitepapers\n",
    "- Overview of Amazon Web Services\n",
    "- Architecting for the Cloud: AWS Best Practices\n",
    "- How AWS Pricing Works\n",
    "- The Total Cost of (Non) Ownership of Web Applications in the Cloud\n",
    "- Compare AWS Support Plans\n",
    "\n"
   ]
  }
 ],
 "metadata": {
  "kernelspec": {
   "display_name": "Python 3 (ipykernel)",
   "language": "python",
   "name": "python3"
  },
  "language_info": {
   "codemirror_mode": {
    "name": "ipython",
    "version": 3
   },
   "file_extension": ".py",
   "mimetype": "text/x-python",
   "name": "python",
   "nbconvert_exporter": "python",
   "pygments_lexer": "ipython3",
   "version": "3.9.13"
  }
 },
 "nbformat": 4,
 "nbformat_minor": 5
}
