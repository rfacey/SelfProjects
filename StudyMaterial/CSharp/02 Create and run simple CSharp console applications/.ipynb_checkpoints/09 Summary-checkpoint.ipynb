{
 "cells": [
  {
   "cell_type": "markdown",
   "id": "3266d7c1",
   "metadata": {},
   "source": [
    "Source: https://learn.microsoft.com/en-us/training/modules/install-configure-visual-studio-code/9-summary"
   ]
  },
  {
   "cell_type": "markdown",
   "id": "99a6c540",
   "metadata": {},
   "source": [
    "# Summary\n",
    "\n",
    "Your goal was to install and configure an integrated development environment that meets your coding requirements for C#.\n",
    "\n",
    "You've installed Visual Studio Code and a tour of the user interface demonstrated a logical layout that is consistent with industry standards. You were able to configure extensions that make Visual Studio Code an even more powerful tool for C# code development. You also installed the .NET SDK to provide .NET Class Library support and support for .NET command line interface commands.\n",
    "\n",
    "You're now fully prepared to create greate C# applications in a coding environment used by professional developers worldwide."
   ]
  }
 ],
 "metadata": {
  "kernelspec": {
   "display_name": ".NET (C#)",
   "language": "C#",
   "name": ".net-csharp"
  },
  "language_info": {
   "file_extension": ".cs",
   "mimetype": "text/x-csharp",
   "name": "C#",
   "pygments_lexer": "csharp",
   "version": "8.0"
  }
 },
 "nbformat": 4,
 "nbformat_minor": 5
}
