{
 "cells": [
  {
   "cell_type": "markdown",
   "id": "b1002b14",
   "metadata": {},
   "source": [
    "Source: https://learn.microsoft.com/en-us/training/modules/create-c-sharp-methods-parameters/3-exercise-understand-method-scope"
   ]
  },
  {
   "cell_type": "markdown",
   "id": "a4d8dd88",
   "metadata": {},
   "source": [
    "# Exercise - Understand method scope\n",
    "\n",
    "For-loops, if-else statements, and methods call represent different types of code blocks. Each code block has its own 'scope'. 'Scope' is the region of a program where certain data is accessible. Variables declared inside a method, or any code block, are only accessible within that region. As programs became more complicated, this pattern helps programmers consistently use clearly named variables and maintain easy to read code.\n",
    "\n",
    "In this exercise, you'll learn more about method scope by working with different types of methods and variables.\n",
    "\n",
    "## Test variable scope\n",
    "\n",
    "Statements declared outside of any code block are called top-level statements. Variables declared in top-level statements are called 'global variables'. Global variables aren't restricted to any scope, and can be used anywhere throughout the program. Global variables can be useful for different methods taht need to access the same data. However, it's important to pay attention to variables names in different scopes.\n",
    "\n",
    "1. In this Visual Studio Code Editor, delete any existing code from the previous exercises.\n",
    "2. Enter the following code into the Visual Studio Code Editor:"
   ]
  },
  {
   "cell_type": "code",
   "execution_count": null,
   "id": "feac9bf9",
   "metadata": {},
   "outputs": [],
   "source": []
  }
 ],
 "metadata": {
  "kernelspec": {
   "display_name": ".NET (C#)",
   "language": "C#",
   "name": ".net-csharp"
  },
  "language_info": {
   "file_extension": ".cs",
   "mimetype": "text/x-csharp",
   "name": "C#",
   "pygments_lexer": "csharp",
   "version": "8.0"
  }
 },
 "nbformat": 4,
 "nbformat_minor": 5
}
