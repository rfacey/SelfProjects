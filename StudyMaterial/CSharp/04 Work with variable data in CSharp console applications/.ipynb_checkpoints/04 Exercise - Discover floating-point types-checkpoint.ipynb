{
 "cells": [
  {
   "cell_type": "markdown",
   "id": "e04b5d6c",
   "metadata": {},
   "source": [
    "Source: https://learn.microsoft.com/en-us/training/modules/csharp-choose-data-type/4-exercise-floating-point-types"
   ]
  },
  {
   "cell_type": "markdown",
   "id": "ac63607a",
   "metadata": {},
   "source": [
    "# Exercise - Discover floating-point types\n",
    "\n",
    "In this exercise, you'll work with floating-point data types to learn about the nuanced differences between each data type.\n",
    "\n",
    "A floating point is a simple value type that represents numbers to the right of the decimal place. Unlike integral numbers, there are other considerations beyond the maximum and minimum values you can store in a given floating-point type.\n",
    "\n",
    "## Evaluate floating-types\n",
    "\n",
    "First, you must consider the"
   ]
  },
  {
   "cell_type": "code",
   "execution_count": null,
   "id": "0726e75a",
   "metadata": {},
   "outputs": [],
   "source": []
  }
 ],
 "metadata": {
  "kernelspec": {
   "display_name": ".NET (C#)",
   "language": "C#",
   "name": ".net-csharp"
  },
  "language_info": {
   "file_extension": ".cs",
   "mimetype": "text/x-csharp",
   "name": "C#",
   "pygments_lexer": "csharp",
   "version": "8.0"
  }
 },
 "nbformat": 4,
 "nbformat_minor": 5
}
