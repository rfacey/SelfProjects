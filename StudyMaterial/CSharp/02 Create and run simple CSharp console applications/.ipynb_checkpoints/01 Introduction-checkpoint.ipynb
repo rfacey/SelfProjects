{
 "cells": [
  {
   "cell_type": "markdown",
   "id": "fe1fb8e5",
   "metadata": {},
   "source": [
    "Source: https://learn.microsoft.com/en-us/training/modules/install-configure-visual-studio-code/1-introduction?WT.mc_id=dotnet-35129-website&ns-enrollment-type=Collection&ns-enrollment-id=yz26f8y64n7k07"
   ]
  },
  {
   "cell_type": "markdown",
   "id": "0cdfec6a",
   "metadata": {},
   "source": [
    "# Introduction\n",
    "\n",
    "Software development is more than just writing code, it's a process. Larger coding projects can take months or even years to complete and can be complex. The process of writing, debugging, testing, updating/versioning, and releasing code is a significant undertaking. To help with this process, developers use a specialized tool known as an *integrated development environment* (IDE).\n",
    "\n",
    "An IDE typically includes a suite of tools that support the software development process from beginning to end, a process known as the development lifecycle. The IDE tools enable the developer to work more eifficiently and can help the developer, or team of developers, to write, debug, test, publish, and version their code more easily. A good IDE is programmer's best friend.\n",
    "\n",
    "Suppose you're interested in getting started with C# application development. Your first step is to select a programming environment. After researching the available options online, you determine that Visual Studio Code is one of the most popular IDEs among C# developers. You're happy to see that Visual Studio Code is a full-featured IDE that's quick and easy to install, and that it supports even more features for professional developers. Both products include a free option. After consulting a developer friend, you decide that Visual Studio Code will provide all of the tools that you need to get started. You make plans to begin setting up your development environment with Visual Studio Code.\n",
    "\n",
    "In this module, you install Visual Studio Code and configure the IDE to meet your coding requirements. You'll learn about the various panels and menus that comprise the Visual Studio Code IDE, as well as how and when to use them. Most importantly, you'll learn how to configure Visual Studio Code for C# development and how to create, build, run, and update a C# console application in Visual Studio Code.\n",
    "\n",
    "By the end of this module, you'll be able to use Visual Studio Code to create and run your own C# console applications.\n",
    "\n",
    "## Learning objectives\n",
    "\n",
    "In this module, you will:\n",
    "- Download and install Visual Studio Code.\n",
    "- Examine the Visual Studio Code user interface.\n",
    "- Configure Visual Studio Code to use the C# extension. "
   ]
  }
 ],
 "metadata": {
  "kernelspec": {
   "display_name": ".NET (C#)",
   "language": "C#",
   "name": ".net-csharp"
  },
  "language_info": {
   "file_extension": ".cs",
   "mimetype": "text/x-csharp",
   "name": "C#",
   "pygments_lexer": "csharp",
   "version": "8.0"
  }
 },
 "nbformat": 4,
 "nbformat_minor": 5
}
