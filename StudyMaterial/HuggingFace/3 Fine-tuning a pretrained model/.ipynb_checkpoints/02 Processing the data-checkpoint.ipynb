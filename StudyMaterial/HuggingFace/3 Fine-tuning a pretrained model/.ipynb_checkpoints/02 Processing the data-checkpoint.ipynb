{
 "cells": [
  {
   "cell_type": "markdown",
   "id": "9a495474-4b63-484f-9fea-977365a88c71",
   "metadata": {},
   "source": [
    "Source: https://huggingface.co/learn/nlp-course/chapter3/2?fw=pt"
   ]
  },
  {
   "cell_type": "markdown",
   "id": "c6245afc-aa84-46f4-a292-8a7f76b970dc",
   "metadata": {},
   "source": [
    "# Processing the data\n",
    "\n",
    "Continuing with the example from the previous chapter, here is how we would train a sequence classifier on one batch in PyTorch:"
   ]
  },
  {
   "cell_type": "raw",
   "id": "a67f22c6-1b17-428c-80c4-9a86d0443873",
   "metadata": {},
   "source": [
    "import torch\n",
    "from transformers import AdamW, AutoTokenizer, AutoModelForSequenceClassification\n",
    "\n",
    "# Same as before\n",
    "checkpoint = \"bert-base-uncased\"\n",
    "tokenizer = AutoTokenizer.from_pretrained(checkpoint)\n",
    "model = AutoModelForSequenceClassification.from_pretrained(checkpoint)\n",
    "sequences = [\n",
    "    \"I've been waiting for a HuggingFace course my whole life.\",\n",
    "    \"This course is amazing!\",\n",
    "]\n",
    "batch = tokenizer(sequences, padding=True, truncation=True, return_tensors=\"pt\")\n",
    "\n",
    "# This is new\n",
    "batch[\"labels\"] = torch.tensor([1, 1])\n",
    "\n",
    "optimizer = AdamW(model.parameters())\n",
    "loss = model(**batch).loss\n",
    "loss.backward()\n",
    "optimizer.step()"
   ]
  },
  {
   "cell_type": "markdown",
   "id": "49c47ba7-f005-4abe-8020-4ea8a1078af0",
   "metadata": {},
   "source": [
    "*Note: A lot of these items will be done in the HuggingFace website and not ran in JupyterLabs.*\n",
    "\n",
    "Of course, just training the model on two sentences is not going to yield very good results. To get better results, you will need to prepare a bigger dataset.\n",
    "\n",
    "In this section we will use as an example the MRPC (Microsoft Research Paraphrase Corpus) dataset, introduced in a paper (https://www.aclweb.org/anthology/I05-5002.pdf) by William B. Dolan and Chris Brockett. The dataset consists of 5,801 pairs of sentences, with a label indicating if they are paraphrases or not (i.e., if both sentences mean the same thing). We've selected it for this chapter because it's a small dataset, so it's easy to experiment with training on it.\n",
    "\n",
    "## Loading a dataset from the Hub\n",
    "\n",
    "https://youtu.be/_BZearw7f0w\n",
    "\n",
    "The Hub doesn't just contain models; it also has multiple datasets in lots of different languages. You can browse the datasets here (https://huggingface.co/datasets), and we recommend you try to load and process a new dataset once you have gone through this section (see the general documention here: https://huggingface.co/docs/datasets/loading_datasets.html#from-the-huggingface-hub). But for now, let's focus on the MRPC dataset! This is one of the 10 datasets composing the GLUE benchmark (https://gluebenchmark.com/), which is an academic benchmark that is used ot measure the performance of ML models across 10 different text classification tasks.\n",
    "\n",
    "The 🤗 Datasets library provides a very simple command to download and cache a dataset on the Hub. We can download the MRPC dataset like this:"
   ]
  },
  {
   "cell_type": "raw",
   "id": "67f31960-69a6-46f6-992f-214bf29c4aa4",
   "metadata": {},
   "source": [
    "from datasets import load_dataset\n",
    "\n",
    "raw_datasets = load_dataset(\"glue\", \"mrpc\")\n",
    "raw_datasets"
   ]
  },
  {
   "cell_type": "raw",
   "id": "245ce2aa-c572-4bbb-b020-2abfc152c6f8",
   "metadata": {},
   "source": [
    "DatasetDict({\n",
    "    train: Dataset({\n",
    "        features: ['sentence1', 'sentence2', 'label', 'idx'],\n",
    "        num_rows: 3668\n",
    "    })\n",
    "    validation: Dataset({\n",
    "        features: ['sentence1', 'sentence2', 'label', 'idx'],\n",
    "        num_rows: 408\n",
    "    })\n",
    "    test: Dataset({\n",
    "        features: ['sentence1', 'sentence2', 'label', 'idx'],\n",
    "        num_rows: 1725\n",
    "    })\n",
    "})"
   ]
  },
  {
   "cell_type": "markdown",
   "id": "41cad017-53fe-415c-83cd-0e724f9668a4",
   "metadata": {},
   "source": [
    "As you can see, we get a DatasetDict object which contains the training set, the validation set, and the test set. Each of those contains several columns (sentence1, sentence2, label, and idx) and a variable number of rows, which are the number of elements in each set (so, there are 3,668 pairs of sentences in the training set, 408 in the validation set, and 1,725 in the text set).\n",
    "\n",
    "This command downloads and caches the dataset, by default in *~/.cache/huggingface/datasets*. Recall from Chapter 2 that you can customize your cache folder by setting the HF_HOME environment variable.\n",
    "\n",
    "We can access each pair of sentences in our raw_datasets object by indexing, like with a dictionary:"
   ]
  },
  {
   "cell_type": "raw",
   "id": "770e5b50-9c07-4357-b1de-a302af42e597",
   "metadata": {},
   "source": [
    "raw_train_dataset = raw_datasets[\"train\"]\n",
    "raw_train_dataset[0]"
   ]
  },
  {
   "cell_type": "raw",
   "id": "613d4f37-c5d4-4e07-a3ab-e1d545a2f4a2",
   "metadata": {},
   "source": [
    "{'idx': 0,\n",
    " 'label': 1,\n",
    " 'sentence1': 'Amrozi accused his brother , whom he called \" the witness \" , of deliberately distorting his evidence .',\n",
    " 'sentence2': 'Referring to him as only \" the witness \" , Amrozi accused his brother of deliberately distorting his evidence .'}"
   ]
  },
  {
   "cell_type": "markdown",
   "id": "08195608-ba04-4589-875e-34713322ee4b",
   "metadata": {},
   "source": [
    "We can see the labels are already integers, so we won't have to do any preprocessing there. To know which integer corresponds to which label, we can inspect the features of our raw_train_dataset. This will tell use the type of each column:"
   ]
  },
  {
   "cell_type": "raw",
   "id": "6e1e81fd-3382-4164-8504-65d2d19a84cd",
   "metadata": {},
   "source": [
    "raw_train_dataset.features"
   ]
  },
  {
   "cell_type": "raw",
   "id": "d0b0fda4-efc0-460d-89af-588aefb15761",
   "metadata": {},
   "source": [
    "{'sentence1': Value(dtype='string', id=None),\n",
    " 'sentence2': Value(dtype='string', id=None),\n",
    " 'label': ClassLabel(num_classes=2, names=['not_equivalent', 'equivalent'], names_file=None, id=None),\n",
    " 'idx': Value(dtype='int32', id=None)}"
   ]
  },
  {
   "cell_type": "markdown",
   "id": "1f9eb919-dc56-4bf3-a8e0-304ba41b6f8b",
   "metadata": {},
   "source": [
    "Behind the scenes, label is of the type ClassLabel, and the mapping of integers to label name is stored in the *names* folder. 0 corresponds to not_equivalent, and 1 corresponds to equivalent.\n",
    "\n",
    "## Preprocessing a dataset\n",
    "\n",
    "https://youtu.be/0u3ioSwev3s\n",
    "\n",
    "To preprocess the dataset, we need to convert the text to numbers the model can make sense of. As you saw in the previous chapter, this is done with a tokenizer. We can feed the tokenizer one sentence or a list of sentences, so we can directly tokenize all the first sentences and all the second sentences of each pair like this:"
   ]
  },
  {
   "cell_type": "raw",
   "id": "83adee54-df85-4dc7-bdb4-2c535e0af311",
   "metadata": {},
   "source": [
    "from transformers import AutoTokenizer\n",
    "\n",
    "checkpoint = \"bert-base-uncased\"\n",
    "tokenizer = AutoTokenizer.from_pretrained(checkpoint)\n",
    "tokenized_sentences_1 = tokenizer(raw_datasets[\"train\"][\"sentence1\"])\n",
    "tokenized_sentences_2 = tokenizer(raw_datasets[\"train\"][\"sentence2\"])"
   ]
  },
  {
   "cell_type": "markdown",
   "id": "da430b66-1931-4e4d-a47c-353275ba81d7",
   "metadata": {},
   "source": [
    "However, we can't just pass two sequences to the model and get a prediction of whether the two sentences are paraphrases or not. We need to handle the two sequences as a pair, and apply the appropriate preprocessing. Fortunately, the tokenizer can also take a pair of sequences and prepare it the way our BERT model expects:"
   ]
  },
  {
   "cell_type": "raw",
   "id": "a84f4abd-ecdc-4115-bbb7-45a1846af4c7",
   "metadata": {},
   "source": [
    "inputs = tokenizer(\"This is the first sentence.\", \"This is the second one.\")\n",
    "inputs"
   ]
  },
  {
   "cell_type": "raw",
   "id": "d621b75e-1784-4726-9178-1f1926d57d74",
   "metadata": {},
   "source": [
    "{ \n",
    "  'input_ids': [101, 2023, 2003, 1996, 2034, 6251, 1012, 102, 2023, 2003, 1996, 2117, 2028, 1012, 102],\n",
    "  'token_type_ids': [0, 0, 0, 0, 0, 0, 0, 0, 1, 1, 1, 1, 1, 1, 1],\n",
    "  'attention_mask': [1, 1, 1, 1, 1, 1, 1, 1, 1, 1, 1, 1, 1, 1, 1]\n",
    "}"
   ]
  },
  {
   "cell_type": "markdown",
   "id": "93dff068-fb28-4fb8-8ca4-72dc8f616a0e",
   "metadata": {},
   "source": [
    "We discussed the input_ids and attention_mask keys in Chapter 2, but we put off talking about token_type_ids. In this example, this is what tells the model which part of the input is the first sentence and which is the second sentence.\n",
    "\n",
    "If we decode the IDs inside input_ids back to words:"
   ]
  },
  {
   "cell_type": "raw",
   "id": "122c250e-fd1a-4ea1-9a82-8f990e4f2c14",
   "metadata": {},
   "source": [
    "tokenizer.convert_ids_to_tokens(inputs[\"input_ids\"])"
   ]
  },
  {
   "cell_type": "markdown",
   "id": "8662664e-c5d0-469a-adf3-8ecf8c1b953f",
   "metadata": {},
   "source": [
    "We will get:"
   ]
  },
  {
   "cell_type": "raw",
   "id": "56a4fa35-ae5f-47bb-8789-a4cade9bbd1b",
   "metadata": {},
   "source": [
    "['[CLS]', 'this', 'is', 'the', 'first', 'sentence', '.', '[SEP]', 'this', 'is', 'the', 'second', 'one', '.', '[SEP]']"
   ]
  },
  {
   "cell_type": "markdown",
   "id": "d1b4283b-8ebe-4c21-abb0-9e2b0b7c5372",
   "metadata": {},
   "source": [
    "So we see the model expects the inputs to be of the form [CLS] sentence1 [SEP] sentence2 [SEP] when there are two sentences. Aligning this with the token_type_ids gives us:"
   ]
  },
  {
   "cell_type": "raw",
   "id": "7ca1f721-401d-45be-95aa-b75a48cd5210",
   "metadata": {},
   "source": [
    "['[CLS]', 'this', 'is', 'the', 'first', 'sentence', '.', '[SEP]', 'this', 'is', 'the', 'second', 'one', '.', '[SEP]']\n",
    "[      0,      0,    0,     0,       0,          0,   0,       0,      1,    1,     1,        1,     1,   1,       1]"
   ]
  },
  {
   "cell_type": "markdown",
   "id": "bbb4fb79-569d-4f13-ace4-1676026baafd",
   "metadata": {},
   "source": [
    "As you can see, the parts of the input corresponding to [CLS] sentence1 [SEP] all have a token type ID of 0, while the other parts, corresponding to sentence2 [SEP], all have a token type ID of 1.\n",
    "\n",
    "Note that if you select a different checkpoint, you won't necessarily ahve the token_type_ids in your tokenized inputs (for instance, they're not returned if you use a DistilBERT model). They are only returned when the model will know what to do with them, becasue it has seen them during its pretraining.\n",
    "\n",
    "Here, BERT is pretrained with token type IDs, and on top of the masked language modeling objective we talked about in Chapter 1, it has an additional objective called *next sentence prediction*. The goal with this task is to model the relationship between pairs of sentences.\n",
    "\n",
    "With next sentence prediction, the model is provided pairs of sentences (with randomly masked tokens) and asked to predict whether the second sentence follows the first. To make the task non-trivial, half of the time the sentences follow each other in the original document they were extracted from, and the other half of the time the two sentences come from two different documents.\n",
    "\n",
    "In general, you don't need to worry about whether or not there are token_type_ids in your tokenized inputs: as long as you use the same checkpoint for the tokenizer and the model, everything will be fine as the tokenizer knows what to provide to its model.\n",
    "\n",
    "Now that we have seen how our tokenizer can deal with one pair of sentences, we can use it to tokenize our whole dataset: like in the previous chapter, we can feed the tokenizer a list of pairs of sentences by giving it the list of first sentences, then the list of second sentences. This is also compatible with the padding and truncation options we saw in Chapter 2. So, one way to preprocess the training dataset is:"
   ]
  },
  {
   "cell_type": "raw",
   "id": "52513465-b3b0-412f-b19e-1a4b2746f9fe",
   "metadata": {},
   "source": [
    "tokenized_dataset = tokenizer(\n",
    "    raw_datasets[\"train\"][\"sentence1\"],\n",
    "    raw_datasets[\"train\"][\"sentence2\"],\n",
    "    padding=True,\n",
    "    truncation=True,\n",
    ")"
   ]
  },
  {
   "cell_type": "markdown",
   "id": "a0fdb9c9-69ba-40b8-9658-a26330ad36fd",
   "metadata": {},
   "source": [
    "This works well, but it has the disadvantage of returning a dictionary (wiht out keys, input_ids, attention_amask, and token_type_ids, and the values that are lists of lists). It will also only work if you have enough RAM to store your whole dataset during the tokenization (whereas the datasets from the 🤗 Datasets library as Apache Arrow files stored on the disk, so you only keep the samples you ask for loaded in memory).\n",
    "\n",
    "To keep the data as a dataset, we will use the Dataset.map() method: https://huggingface.co/docs/datasets/package_reference/main_classes.html#datasets.Dataset.map. This also allows us some extra flexibility, if we need more preprocessing done than just tokenization. The map() method works by applying a function on each elemenet of the dataset, so let's define a function that tokenizes our inputs:"
   ]
  },
  {
   "cell_type": "raw",
   "id": "4a13f0b8-29cd-48a0-b7ef-c19bafd1ffe8",
   "metadata": {},
   "source": [
    "def tokenize_function(example):\n",
    "    return tokenizer(example[\"sentence1\"], example[\"sentence2\"], truncation=True)"
   ]
  },
  {
   "cell_type": "markdown",
   "id": "1ab4a988-1353-45b2-a3eb-26f048bbd55d",
   "metadata": {},
   "source": [
    "This function takes a dictionary (like the items of our dataset) and returns a new dictionary with the keys input_ids, attention_mask, and token_type_ids. Note that it also works if the exmaple dictionary contains several samples (each key as a list of sentences) since the tokenizer works on lists of pairs of sentences, as seen before. This will aloow us to use the option batched=True in our call to map(), which will greatly speed up the tokenizaiton. The tokenizer is backed by a tokenizer written in Rust from the 🤗 Tokenizers (https://github.com/huggingface/tokenizers) library. This tokenizer can be very fast, but only if we give it lots of inputs at once.\n",
    "\n",
    "Note that we've left the padding argument out in out tokenization function for now. This is because padding all the samples to the maximum length is not efficient: it's better to pad the samples when we're building a batch, as then we only need to pad to the maximum length in that batch, and not the maximum length in the entire dataset. This can save a lot of time and processing power when the inputs have very variable length!\n",
    "\n",
    "Here is how we apply the tokenization function on all our datasets at once. We're using batched=True in our call to map so the function is applied to multiple elements of our dataset at once, and not on each element separately. This alows for fasting preprocessing."
   ]
  },
  {
   "cell_type": "raw",
   "id": "39dc5747-68e7-40e1-bfe9-0e7438b2a6ac",
   "metadata": {},
   "source": [
    "tokenized_datasets = raw_datasets.map(tokenize_function, batched=True)\n",
    "tokenized_datasets"
   ]
  },
  {
   "cell_type": "markdown",
   "id": "8f32f78e-17ee-4ec8-b403-5e0b1295ff80",
   "metadata": {},
   "source": [
    "This way the 🤗 Datasets library applies this processing is by adding new fields to the datasets, one for each keyn in the dictionary returned by the preprocessing function:"
   ]
  },
  {
   "cell_type": "raw",
   "id": "a56887ad-8183-4449-92cf-2feeff608137",
   "metadata": {},
   "source": [
    "DatasetDict({\n",
    "    train: Dataset({\n",
    "        features: ['attention_mask', 'idx', 'input_ids', 'label', 'sentence1', 'sentence2', 'token_type_ids'],\n",
    "        num_rows: 3668\n",
    "    })\n",
    "    validation: Dataset({\n",
    "        features: ['attention_mask', 'idx', 'input_ids', 'label', 'sentence1', 'sentence2', 'token_type_ids'],\n",
    "        num_rows: 408\n",
    "    })\n",
    "    test: Dataset({\n",
    "        features: ['attention_mask', 'idx', 'input_ids', 'label', 'sentence1', 'sentence2', 'token_type_ids'],\n",
    "        num_rows: 1725\n",
    "    })\n",
    "})"
   ]
  },
  {
   "cell_type": "code",
   "execution_count": null,
   "id": "d94a0dca-8f00-438b-ba23-2fc2cff4cb99",
   "metadata": {},
   "outputs": [],
   "source": []
  }
 ],
 "metadata": {
  "kernelspec": {
   "display_name": "Python 3 (ipykernel)",
   "language": "python",
   "name": "python3"
  },
  "language_info": {
   "codemirror_mode": {
    "name": "ipython",
    "version": 3
   },
   "file_extension": ".py",
   "mimetype": "text/x-python",
   "name": "python",
   "nbconvert_exporter": "python",
   "pygments_lexer": "ipython3",
   "version": "3.9.13"
  }
 },
 "nbformat": 4,
 "nbformat_minor": 5
}
