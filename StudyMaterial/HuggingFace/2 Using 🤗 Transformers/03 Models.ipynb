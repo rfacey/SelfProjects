{
 "cells": [
  {
   "cell_type": "markdown",
   "id": "792b911f-a5e0-47b1-80e2-bd642e6aed1e",
   "metadata": {},
   "source": [
    "Source: https://huggingface.co/learn/nlp-course/chapter2/3?fw=pt"
   ]
  },
  {
   "cell_type": "markdown",
   "id": "9a6b2801-38b4-4e91-bf2f-d1a59d4b5f10",
   "metadata": {},
   "source": [
    "# Models\n",
    "\n",
    "https://youtu.be/AhChOFRegn4\n",
    "\n",
    "In this section we'll take a closer look at creating and using a model. We'll use the AutoModel class, which is handy when you want to instantiate any model from a checkpoint.\n",
    "\n",
    "The AutoModel class and all of its relatives are actually simple wrappers over the wide variety of models available in the library. It's a clever wrapper as it can automatically guess the appropriate model architecture for your checkpoint, and then instantiates a model with this architecture.\n",
    "\n",
    "However, if you know the type of model you want to use, you can use the class that defines its architecture directly. Let's take a look at how this works with a BERT model.\n",
    "\n",
    "## Creating a Transformer\n",
    "\n",
    "The first thing we'll need to do to initialize a BERT model is load a configuration object:"
   ]
  },
  {
   "cell_type": "code",
   "execution_count": 1,
   "id": "fb708b51-4561-4b33-912b-87d489d1cfd3",
   "metadata": {},
   "outputs": [],
   "source": [
    "from transformers import BertConfig, BertModel\n",
    "\n",
    "# Building the config\n",
    "config = BertConfig()\n",
    "\n",
    "# Building the model from the config\n",
    "model = BertModel(config)"
   ]
  },
  {
   "cell_type": "markdown",
   "id": "d4c688b8-8f31-4d84-9c53-aa76c9739df1",
   "metadata": {},
   "source": [
    "The configuration contains many attributes that are used to build the model:"
   ]
  },
  {
   "cell_type": "code",
   "execution_count": 2,
   "id": "a2c0ce5d-852e-426e-8c9e-b76cd17df58b",
   "metadata": {},
   "outputs": [
    {
     "name": "stdout",
     "output_type": "stream",
     "text": [
      "BertConfig {\n",
      "  \"attention_probs_dropout_prob\": 0.1,\n",
      "  \"classifier_dropout\": null,\n",
      "  \"hidden_act\": \"gelu\",\n",
      "  \"hidden_dropout_prob\": 0.1,\n",
      "  \"hidden_size\": 768,\n",
      "  \"initializer_range\": 0.02,\n",
      "  \"intermediate_size\": 3072,\n",
      "  \"layer_norm_eps\": 1e-12,\n",
      "  \"max_position_embeddings\": 512,\n",
      "  \"model_type\": \"bert\",\n",
      "  \"num_attention_heads\": 12,\n",
      "  \"num_hidden_layers\": 12,\n",
      "  \"pad_token_id\": 0,\n",
      "  \"position_embedding_type\": \"absolute\",\n",
      "  \"transformers_version\": \"4.28.0\",\n",
      "  \"type_vocab_size\": 2,\n",
      "  \"use_cache\": true,\n",
      "  \"vocab_size\": 30522\n",
      "}\n",
      "\n"
     ]
    }
   ],
   "source": [
    "print(config)"
   ]
  },
  {
   "cell_type": "markdown",
   "id": "7a87b1d2-cc60-42bb-8966-1c1292bddba4",
   "metadata": {},
   "source": [
    "While you haven't seen what all of these attributes do yet, you should recognize some of them: the hidden_size attribute defines the size of the hidden_states vector, and num_hidden_layers defines the number of layers the Transformer model has.\n",
    "\n",
    "## Different loading methods\n",
    "\n",
    "Creating a model from the default configuration initializes it with random values:"
   ]
  },
  {
   "cell_type": "code",
   "execution_count": 3,
   "id": "cc2964f8-e4da-41da-bdad-aead9160834e",
   "metadata": {},
   "outputs": [],
   "source": [
    "from transformers import BertConfig, BertModel\n",
    "\n",
    "config = BertConfig()\n",
    "model = BertModel(config)\n",
    "\n",
    "# Model is randomly initialized!"
   ]
  },
  {
   "cell_type": "markdown",
   "id": "694e2f96-1734-4c43-b863-17dc2259a9e2",
   "metadata": {},
   "source": [
    "The model can be used in this state, but it will output gibberish; it needs to be trained first. We could train the model from cratch on the task at hand, but as you saw in Chapter 1, this would require a long time and a lot of data, and it would have a non-negligible environmental impact. To avoid unnecessary and duplicated effort, it's imperative to be able to share and reuse models that have already been trained.\n",
    "\n",
    "Loading a Transformer model that is already trained is simple - we can do this using the from_pretrained() method:"
   ]
  },
  {
   "cell_type": "code",
   "execution_count": 4,
   "id": "69df24a0-1b75-4767-9c40-0ea5beb1829c",
   "metadata": {},
   "outputs": [
    {
     "name": "stderr",
     "output_type": "stream",
     "text": [
      "Some weights of the model checkpoint at bert-base-cased were not used when initializing BertModel: ['cls.seq_relationship.weight', 'cls.seq_relationship.bias', 'cls.predictions.transform.LayerNorm.bias', 'cls.predictions.transform.dense.weight', 'cls.predictions.bias', 'cls.predictions.transform.dense.bias', 'cls.predictions.decoder.weight', 'cls.predictions.transform.LayerNorm.weight']\n",
      "- This IS expected if you are initializing BertModel from the checkpoint of a model trained on another task or with another architecture (e.g. initializing a BertForSequenceClassification model from a BertForPreTraining model).\n",
      "- This IS NOT expected if you are initializing BertModel from the checkpoint of a model that you expect to be exactly identical (initializing a BertForSequenceClassification model from a BertForSequenceClassification model).\n"
     ]
    }
   ],
   "source": [
    "from transformers import BertModel\n",
    "\n",
    "model = BertModel.from_pretrained(\"bert-base-cased\")"
   ]
  },
  {
   "cell_type": "markdown",
   "id": "ac596048-6938-45bf-888a-9ee46a93b97e",
   "metadata": {},
   "source": [
    "As you saw earlier, we could replace BertModel with the equivalent AutoModel class. We'll do this from now on as this produces checkpoint-agnostic code; if your code works for one checkpoint, it should work seamlessly with another. This applies even if the architecture is different, as long as the checkpoint was trained for a similar task (for example, a sentiment analysis task).\n",
    "\n",
    "In the code sample above we didn't use BertConfig, and instead loaded a pretrained model via the bert-base-cased identifier. This is a model checkpoint that was trained by the authors of BERT themselves; you can find more details about it in this model card (https://huggingface.co/bert-base-cased).\n",
    "\n",
    "This model is now initialized with all the weights of the checkpoint. It can be used directly for inference on the tasks it was trained on, and it can also be fine-tuned on a new task. By training with pretrained weights rather than from scratch, we can quickly achieve good results.\n",
    "\n",
    "The weights have been downloaded and cached (so future calls to the from_pretrained() method won't re-download them) in the cache folder, which defaults to *~/.cache/huggingface/transformers*. You can customize your cache folder by setting the HF_HOME environment variable.\n",
    "\n",
    "The identifier used to load the model can be the identifier of any model on the Model Hub, as long as it is compatible with the BERT architecture. The entire list of available BERT checkpoints can be found here: https://huggingface.co/models?filter=bert\n",
    "\n",
    "## Saving methods\n",
    "\n",
    "Saving a model is as easy as loading one - we use the save_pretrained() method, which is analogous to the from_pretrained() method:"
   ]
  },
  {
   "cell_type": "code",
   "execution_count": 25,
   "id": "c86e6517-0377-481c-806f-0d3a211314fd",
   "metadata": {},
   "outputs": [],
   "source": [
    "model.save_pretrained(\"directory_on_my_computer\")"
   ]
  },
  {
   "cell_type": "markdown",
   "id": "e91186ad-29e3-487b-9962-d73e86a39eb8",
   "metadata": {},
   "source": [
    "This saves two files to your disk:"
   ]
  },
  {
   "cell_type": "code",
   "execution_count": 29,
   "id": "47b41084-e97b-4b96-b713-698ed08333d0",
   "metadata": {},
   "outputs": [
    {
     "name": "stdout",
     "output_type": "stream",
     "text": [
      " Volume in drive C is Windows\n",
      " Volume Serial Number is BABA-9F6B\n",
      "\n",
      " Directory of C:\\Users\\rober\\Desktop\\DataScience\\SelfProjects\\StudyMaterial\\HuggingFace\\2 Using ?? Transformers\n",
      "\n",
      "04/25/2023  04:39 PM    <DIR>          .\n",
      "04/25/2023  04:39 PM    <DIR>          ..\n",
      "04/25/2023  04:17 PM    <DIR>          .ipynb_checkpoints\n",
      "04/24/2023  11:48 AM             3,178 01 Introduction.ipynb\n",
      "04/25/2023  04:17 PM           127,075 02 Behind the pipeline.ipynb\n",
      "04/25/2023  04:39 PM            11,059 03 Models.ipynb\n",
      "04/25/2023  04:39 PM    <DIR>          directory_on_my_computer\n",
      "               3 File(s)        141,312 bytes\n",
      "               4 Dir(s)  420,380,246,016 bytes free\n"
     ]
    }
   ],
   "source": [
    "ls"
   ]
  },
  {
   "cell_type": "raw",
   "id": "de33c0ec-5179-4a96-a3af-413950dd5d00",
   "metadata": {},
   "source": [
    "directory_on_my_computer\n",
    "\n",
    "config.json pytorch_model.bin"
   ]
  },
  {
   "attachments": {
    "c7ebb28c-efc0-4993-a846-7aba886e8d12.png": {
     "image/png": "[encoded data removed]"
    }
   },
   "cell_type": "markdown",
   "id": "c1948b3a-efb0-4d83-a9d0-01ad7b896ed6",
   "metadata": {},
   "source": [
    "![image.png](attachment:c7ebb28c-efc0-4993-a846-7aba886e8d12.png)"
   ]
  },
  {
   "attachments": {
    "bd2d8781-d893-4c26-b7b9-9ce37db48a77.png": {
     "image/png": "[encoded data removed]"
    }
   },
   "cell_type": "markdown",
   "id": "ebaf57ed-f535-458b-86bd-f83047a25572",
   "metadata": {},
   "source": [
    "![image.png](attachment:bd2d8781-d893-4c26-b7b9-9ce37db48a77.png)"
   ]
  },
  {
   "cell_type": "markdown",
   "id": "343ee73d-485e-4624-8481-638c1fb1d329",
   "metadata": {},
   "source": [
    "If you take a look at the *config.json* file, you'll recognize the attributes necessary to build the model architecture. This file also contains some metadata, such as where the checkpoint orginated and what 🤗 Transformers version you were using when you last saved the checkpoint.\n",
    "\n",
    "The pytorch_model.bin file is known as the *state dictionary*; it contains all your model's weights. The two files go hand in hand; the configuration is necessary to know your model's architecture, while the model weights are your model's parameters.\n",
    "\n",
    "## Using a Transformer model for inference\n",
    "\n",
    "Now that you know how to load and save a model, let's try using it to make some predictions. Transformer models can only process numbers - numbers that the tokenizer generates. But before we discuss tokenizers, let's explore what inputs the model accepts.\n",
    "\n",
    "Tokenizers can take care of casting the inputs to the appropriate framework's tensors, but to help you understand what's going on, we'll take a quick look at what must be done before sending the inputs to the model.\n",
    "\n",
    "Let's say we have a couple of sequences:"
   ]
  },
  {
   "cell_type": "code",
   "execution_count": 5,
   "id": "41aa64f0-a428-45d1-8394-c2886ba9a4c4",
   "metadata": {},
   "outputs": [],
   "source": [
    "sequences = [\"Hello!\", \"Cool.\", \"Nice!\"]"
   ]
  },
  {
   "cell_type": "markdown",
   "id": "dafac87a-93d3-40c7-b51a-384e92812c32",
   "metadata": {},
   "source": [
    "The tokenizer converts these to vocabulary indices which are typically called *input IDs*. Each sequence is now a list of numbers! The resulting output is:"
   ]
  },
  {
   "cell_type": "code",
   "execution_count": 6,
   "id": "2e44cee5-ba76-4986-9cec-95960f6a3304",
   "metadata": {},
   "outputs": [
    {
     "name": "stdout",
     "output_type": "stream",
     "text": [
      " Volume in drive C is Windows\n",
      " Volume Serial Number is BABA-9F6B\n",
      "\n",
      " Directory of C:\\Users\\rober\\Desktop\\DataScience\\SelfProjects\\StudyMaterial\\HuggingFace\\2 Using ?? Transformers\\directory_on_my_computer\n",
      "\n",
      "04/25/2023  04:39 PM    <DIR>          .\n",
      "04/25/2023  04:39 PM    <DIR>          ..\n",
      "04/25/2023  04:39 PM               682 config.json\n",
      "04/25/2023  04:39 PM       433,309,485 pytorch_model.bin\n",
      "               2 File(s)    433,310,167 bytes\n",
      "               2 Dir(s)  419,527,311,360 bytes free\n"
     ]
    }
   ],
   "source": [
    "ls directory_on_my_computer"
   ]
  },
  {
   "cell_type": "code",
   "execution_count": 15,
   "id": "e08142b3-db2b-4de3-8bb5-14000ad90af6",
   "metadata": {},
   "outputs": [],
   "source": [
    "#Could not get the encoded sequences to work.\n",
    "#Added this to get a result but it did not match what was given\n",
    "\n",
    "from transformers import BertTokenizer\n",
    "tokenizer = BertTokenizer.from_pretrained(\"bert-base-cased\")\n",
    "\n",
    "encoded_sequences = tokenizer.encode(sequences)"
   ]
  },
  {
   "cell_type": "code",
   "execution_count": 16,
   "id": "001c7660-1dd6-4a30-bc2f-8d1664293878",
   "metadata": {},
   "outputs": [
    {
     "data": {
      "text/plain": [
       "[101, 100, 100, 100, 102]"
      ]
     },
     "execution_count": 16,
     "metadata": {},
     "output_type": "execute_result"
    }
   ],
   "source": [
    "encoded_sequences"
   ]
  },
  {
   "cell_type": "markdown",
   "id": "71f06d4e-8dae-4032-b130-d233a9281f09",
   "metadata": {},
   "source": [
    "This is a list of encoded sequences: a list of lists. Tensors only accept rectangular shapes (think matrices). This \"array\" is already of rectangular shape, so converting it to a tensor is easy:"
   ]
  },
  {
   "cell_type": "code",
   "execution_count": 17,
   "id": "0e58e677-a073-4075-8683-0c8b41c89c60",
   "metadata": {},
   "outputs": [],
   "source": [
    "import torch\n",
    "\n",
    "model_inputs = torch.tensor(encoded_sequences)"
   ]
  },
  {
   "cell_type": "markdown",
   "id": "5612a4f3-1ec2-4588-81a7-c7b99a9ba3b4",
   "metadata": {},
   "source": [
    "## Using the tensors as inputs to the model\n",
    "\n",
    "Making use of the tensors with the model is extremely simple - we just call the model with the inputs:"
   ]
  },
  {
   "cell_type": "raw",
   "id": "2deb7f5c-b5d0-43ee-a608-aca42a62be46",
   "metadata": {},
   "source": [
    "output = model(model_inputs)"
   ]
  },
  {
   "cell_type": "markdown",
   "id": "a463eecd-d5e7-44d4-979c-297985bc30c5",
   "metadata": {},
   "source": [
    "*Note: my encoded_sequences did not match what was given so the output failed.*\n",
    "\n",
    "While the model accepts a lot of different arguments, only the input IDs are necessary. We'll explain what the other arguments do and when they are required later, but first we need to take a closer look at the tokenizers that build the inputs that a Transformer model can understand."
   ]
  }
 ],
 "metadata": {
  "kernelspec": {
   "display_name": "Python 3 (ipykernel)",
   "language": "python",
   "name": "python3"
  },
  "language_info": {
   "codemirror_mode": {
    "name": "ipython",
    "version": 3
   },
   "file_extension": ".py",
   "mimetype": "text/x-python",
   "name": "python",
   "nbconvert_exporter": "python",
   "pygments_lexer": "ipython3",
   "version": "3.9.13"
  }
 },
 "nbformat": 4,
 "nbformat_minor": 5
}
