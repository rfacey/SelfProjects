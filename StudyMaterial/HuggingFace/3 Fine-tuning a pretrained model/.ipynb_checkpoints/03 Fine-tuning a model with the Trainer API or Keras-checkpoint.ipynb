{
 "cells": [
  {
   "cell_type": "markdown",
   "id": "fb39ade2-dd19-4472-9868-fa75624f4622",
   "metadata": {},
   "source": [
    "Source: https://huggingface.co/learn/nlp-course/chapter3/3?fw=pt"
   ]
  },
  {
   "cell_type": "markdown",
   "id": "eb2b7c0b-a27c-41e5-9281-7952af7dfdb2",
   "metadata": {},
   "source": [
    "# Fine-tuning a model with the Trainer API\n",
    "\n",
    "https://youtu.be/nvBXf7s7vTI\n",
    "\n",
    "🤗 Transformers provides a Trainer class to help you fine-tune any of the pretrained models it provides on your dataset. Once you've done all the data preprocessing work onin the last section, you have just a few steps left to define the Trainer. The hardest part is likely to be preparing the environment to run Trainer.train(), as it will run very slowly on a CPU. If you don't a GPU set up, you can get access to free GPUs or TPUs on Google Colab.\n",
    "\n",
    "The code exmaples below assume you have already executed the exmaples in the previous section. Here is a short summary recapping what you need:"
   ]
  },
  {
   "cell_type": "raw",
   "id": "7d98bd27-6fbc-459d-8291-5f65cde1cc3f",
   "metadata": {},
   "source": [
    "from datasets import load_dataset\n",
    "from transformers import AutoTokenizer, DataCollatorWithPadding\n",
    "\n",
    "raw_datasets = load_dataset(\"glue\", \"mrpc\")\n",
    "checkpoint = \"bert-base-uncased\"\n",
    "tokenizer = AutoTokenizer.from_pretrained(checkpoint)\n",
    "\n",
    "\n",
    "def tokenize_function(example):\n",
    "    return tokenizer(example[\"sentence1\"], example[\"sentence2\"], truncation=True)\n",
    "\n",
    "\n",
    "tokenized_datasets = raw_datasets.map(tokenize_function, batched=True)\n",
    "data_collator = DataCollatorWithPadding(tokenizer=tokenizer)"
   ]
  },
  {
   "cell_type": "markdown",
   "id": "244eeb57-77e8-4db3-8c6e-364dfe5ae5d3",
   "metadata": {},
   "source": [
    "## Training\n",
    "\n",
    "The first step before we can define our Trainer is to define a TrainingArgument class that will contain all the hyperparameters the Trainer will use for training and evaluation. The only argument you have to provide is a directtory where the trained model will be saved, as well as the checkpoints along the way. For all the rest, you can leave the defaults, which should work pretty well for a basic fine-tuning."
   ]
  },
  {
   "cell_type": "raw",
   "id": "505e68ec-a6bf-4570-ae4c-611fb152c69c",
   "metadata": {},
   "source": [
    "from transformers import TrainingArguments\n",
    "\n",
    "training_args = TrainingArguments(\"test-trainer\")"
   ]
  },
  {
   "cell_type": "markdown",
   "id": "bea5d345-799b-4f82-8c3f-497ae009c7cd",
   "metadata": {},
   "source": [
    "The second step is to define our model. As in the previous chapter, we will use the AutoModelForSequenceClassification class, with two labels:"
   ]
  },
  {
   "cell_type": "raw",
   "id": "a9a5e4c2-a3f7-4424-bba5-0382e379ef33",
   "metadata": {},
   "source": [
    "from transformers import AutoModelForSequenceClassification\n",
    "\n",
    "model = AutoModelForSequenceClassification.from_pretrained(checkpoint, num_labels=2)"
   ]
  },
  {
   "cell_type": "markdown",
   "id": "fbaad8d6-f918-45fc-a860-4858bf716fde",
   "metadata": {},
   "source": [
    "You will notice that unlike in Chapter 2, you get a warning after instantiating this pretrained model. This is because BERT has not been pretrained on classifying pairs of sentences, so the head of the pretrained model has been discarded and a new head suitable for sequence classification has been added instead. The warnings indicate that some weights were not used (the ones corresponding to the dropped pretraining head) and that some others were randomly initialized (the ones for the new head). It concludes by encouraging you to train the model, which is exactly what we are going to do now.\n",
    "\n",
    "Once we ahve our model, we can define a Treainer by passing it all the objects constructed up to now - the model the training_args, the training and validation datasets, our data_collector, and our tokenizer:"
   ]
  },
  {
   "cell_type": "raw",
   "id": "a36280ec-ae95-453f-adba-8485618e2054",
   "metadata": {},
   "source": [
    "from transformers import Trainer\n",
    "\n",
    "trainer = Trainer(\n",
    "    model,\n",
    "    training_args,\n",
    "    train_dataset=tokenized_datasets[\"train\"],\n",
    "    eval_dataset=tokenized_datasets[\"validation\"],\n",
    "    data_collator=data_collator,\n",
    "    tokenizer=tokenizer,\n",
    ")"
   ]
  },
  {
   "cell_type": "markdown",
   "id": "891a64af-5bbb-4260-8cfa-8937a2ce9dd3",
   "metadata": {},
   "source": [
    "Note that you pass the tokenizer as we did here, the default data_collator used by the Trainer will be a DataCollatorWithPadding as defined previously, so you can skip the line data_collator=data_collator in this call. It was still important to show you this part of the processing in section 2!\n",
    "\n",
    "To fine-tune the model on our dataset, we just have to call the train() method of our Trainer:"
   ]
  },
  {
   "cell_type": "raw",
   "id": "6ccf29c0-4577-404b-b1f4-4199519d83d3",
   "metadata": {},
   "source": [
    "trainer.train()"
   ]
  },
  {
   "cell_type": "markdown",
   "id": "d41de63d-dac8-4dd5-92ac-b85fafa16876",
   "metadata": {},
   "source": [
    "This will start the fine-tuning (which should take a couple of minutes on a GPU) and report the training loss every 500 steps. It won't, however, tell you how well (or badly) your model is performing. This is because:\n",
    "\n",
    "1. We didn't tell the Trainer to evaluate during training by setting evaluation_strategy to either \"steps\" (evaluate every eval_steps) or \"epoch\" (evaludate at the end of each epoch).\n",
    "2. We didn't provide the Trainer with a compute_metrics() function to calculate a metric during said evaluation (otherwise the evaluation would just have printed the loss, which is not a very intuitive number).\n",
    "\n",
    "## Evaluation\n",
    "\n",
    "Let's see how we can build a useful compute_metrics() function and use it the next time we train. The funciton must take an EvalPrediction object (which is a named tuple with a predictions field and a label_ids field) and will return a dictionary mapping strings to floats (the strings being the names of the metrics returned, and the floats their values). To get some predictions from our model, we can use the Trainer.predict() command:"
   ]
  },
  {
   "cell_type": "raw",
   "id": "a930ef68-979f-4e70-9d94-6ed91d5496b6",
   "metadata": {},
   "source": [
    "predictions = trainer.predict(tokenized_datasets[\"validation\"])\n",
    "print(predictions.predictions.shape, predictions.label_ids.shape)"
   ]
  },
  {
   "cell_type": "raw",
   "id": "a66b67b1-2102-4b9a-a09b-d21489f46401",
   "metadata": {},
   "source": [
    "(408, 2) (408,)"
   ]
  },
  {
   "cell_type": "markdown",
   "id": "7357be0b-ae78-421b-999e-64e71f10349d",
   "metadata": {},
   "source": [
    "The output of the predict() method is another named tuple with three fields: predictions, label_ids, and metrics. The metrics field will just contain the loss on the dataset passed, as well as some time metrics (how long it took to predict, in total on average). Once we complete our compute_metrics() function and pass it to the Trainer, that field will also contain the metrics returned by compute_metrics().\n",
    "\n",
    "As you can see, predictions is a two-dimensional array with shape 408 x 2 (408 being the number of elements in the dataset we used). Those are the logits for each element of the dataset we passed to predict() (as you saw in the previous chapter, all Transformer models return logits). To transform them into predictions that we can copmpare to our labels, we need to tka e the index with the maximum value on the second axis:"
   ]
  },
  {
   "cell_type": "raw",
   "id": "b0147386-05f4-4498-a946-8024e1993ef2",
   "metadata": {},
   "source": [
    "import numpy as np\n",
    "\n",
    "preds = np.argmax(predictions.predictions, axis=-1)"
   ]
  },
  {
   "cell_type": "markdown",
   "id": "59498fa9-c5e6-4414-a0d0-191e4a5e6aa8",
   "metadata": {},
   "source": [
    "We can now compare those preds to the labels. To build our compute_metric() function, we will rely on the metrics from the 🤗 Evaluate (https://github.com/huggingface/evaluate/) library. We can load the metrics associated with the MRPC dataset as easily as we loaded the dataset, this time with the evaluate.load() function. The object returned has a compute() method we can use to do the metric calculation:"
   ]
  },
  {
   "cell_type": "raw",
   "id": "774eb371-de4c-4aae-8954-39c2e81802ca",
   "metadata": {},
   "source": [
    "import evaluate\n",
    "\n",
    "metric = evaluate.load(\"glue\", \"mrpc\")\n",
    "metric.compute(predictions=preds, references=predictions.label_ids)"
   ]
  },
  {
   "cell_type": "raw",
   "id": "7404291a-1c97-4519-8d0c-d437551220de",
   "metadata": {},
   "source": [
    "{'accuracy': 0.8578431372549019, 'f1': 0.8996539792387542}"
   ]
  },
  {
   "cell_type": "markdown",
   "id": "eb239fc1-839d-4a19-9adf-d8a01134d626",
   "metadata": {},
   "source": [
    "The exact results you get may vary, as the random initialization of the model head might change the metrics it achieved. Here, we can see our model has an accuracy of 85.78% on the validation set and an F1 score of 89.97. Those are the two mettrics used to evaluate results on the MRPC dataset for the GLUE benchmark. The table in the BERT paper (https://arxiv.org/pdf/1810.04805.pdf) reported an F1 score of 88.9 for the base model. That was the uncased model while we are currently using the cased model, which explains the better result.\n",
    "\n",
    "Wrapping everything together, we get our compute_metrics() function:"
   ]
  },
  {
   "cell_type": "raw",
   "id": "5314edac-d183-413f-8b2d-4925be017c19",
   "metadata": {},
   "source": [
    "def compute_metrics(eval_preds):\n",
    "    metric = evaluate.load(\"glue\", \"mrpc\")\n",
    "    logits, labels = eval_preds\n",
    "    predictions = np.argmax(logits, axis=-1)\n",
    "    return metric.compute(predictions=predictions, references=labels)"
   ]
  },
  {
   "cell_type": "markdown",
   "id": "b3b61b6e-d579-4bf1-a753-cdfc94e1ef31",
   "metadata": {},
   "source": [
    "And to see it used in action to report metrics at the end of each epoch, here is how we define a new Trainer with this compute_metrics() function:"
   ]
  },
  {
   "cell_type": "raw",
   "id": "f7a76a66-aa0f-4037-842c-2ce581a70ca3",
   "metadata": {},
   "source": [
    "training_args = TrainingArguments(\"test-trainer\", evaluation_strategy=\"epoch\")\n",
    "model = AutoModelForSequenceClassification.from_pretrained(checkpoint, num_labels=2)\n",
    "\n",
    "trainer = Trainer(\n",
    "    model,\n",
    "    training_args,\n",
    "    train_dataset=tokenized_datasets[\"train\"],\n",
    "    eval_dataset=tokenized_datasets[\"validation\"],\n",
    "    data_collator=data_collator,\n",
    "    tokenizer=tokenizer,\n",
    "    compute_metrics=compute_metrics,\n",
    ")"
   ]
  },
  {
   "cell_type": "markdown",
   "id": "2afa01dc-99e5-4f1b-b4e0-fb07abdac51f",
   "metadata": {},
   "source": [
    "Note that we create a new TrainingArguments with its evaluation_strategy set to \"epoch\" and a new model - otherwise, we would just be continuing the training of the model we have already trained. To launch a new training run, we execute:"
   ]
  },
  {
   "cell_type": "raw",
   "id": "a344e4a1-6182-49bd-a654-02848f13b8f5",
   "metadata": {},
   "source": [
    "trainer.train()"
   ]
  },
  {
   "cell_type": "markdown",
   "id": "bcbec331-6514-44cc-ae9d-49edbb15e311",
   "metadata": {},
   "source": [
    "This time, it will report the validation loss and metrics at the end of each epoch on top of the training loss. Again, the exact accuracy/f1 score you reach might be a bit different from what we found, because of the random head initialization of the model, but it should be in the same ballpark.\n",
    "\n",
    "The Trainer will work out of the box on multiple GPUs or TPUs and provides lots of options, like mixed-precision training (use fp16 = True in your training arguments). We will go over everything it supports in Chapter 10.\n",
    "\n",
    "This concludes the introduction to fine-tuning using the TrainerAPI. An exmaple of doing this for most common NLP tasks will be given in Chapter 7, but for now let's look at how to do the same thing in pure PyTorch."
   ]
  }
 ],
 "metadata": {
  "kernelspec": {
   "display_name": "Python 3 (ipykernel)",
   "language": "python",
   "name": "python3"
  },
  "language_info": {
   "codemirror_mode": {
    "name": "ipython",
    "version": 3
   },
   "file_extension": ".py",
   "mimetype": "text/x-python",
   "name": "python",
   "nbconvert_exporter": "python",
   "pygments_lexer": "ipython3",
   "version": "3.9.13"
  }
 },
 "nbformat": 4,
 "nbformat_minor": 5
}
