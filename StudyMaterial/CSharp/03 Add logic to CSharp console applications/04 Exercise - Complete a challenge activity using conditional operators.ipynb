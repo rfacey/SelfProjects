{
 "cells": [
  {
   "cell_type": "markdown",
   "id": "9ee3274f",
   "metadata": {},
   "source": [
    "Source: https://learn.microsoft.com/en-us/training/modules/csharp-evaluate-boolean-expressions/4-challenge-1"
   ]
  },
  {
   "cell_type": "markdown",
   "id": "9bb57141",
   "metadata": {},
   "source": [
    "# Exercise - Complete a challenge activity using conditional operators\n",
    "\n",
    "Coding challanges will reinforce what you've learned and help you gain some confidence before continuing on.\n",
    "\n",
    "## Conditional operator challenge\n",
    "\n",
    "In this challenge, you'll implement a conditional operator to simulate a \"coin flip\". The resulting decision logic will display either heads or tails.\n",
    "\n",
    "## Code challenge: write code to display the result of a coin flip\n",
    "\n",
    "Here are you challenge requirements:\n",
    "\n",
    "1. Ensure that you have an empty Program.cs file open in Visual Studio Code. If necessary, open Visual Studio Code, and the complete the following steps to prepare a Program.cs file in the Editor:\n",
    "    - On the File menu, select Open Folder.\n",
    "    - Use the Open Folder dialog to navigate to, and then open, the CsharpProjects folder.\n",
    "    - In the Visual Studio Code EXPLORER panel, select Program.cs.\n",
    "    - On the Visual Studio Code Selection menu, select Select All, and then press the Delete key.\n",
    "2. Use the Random class to generate a value. Consider the range of numbers that is required.\n",
    "3. Based on the value generated, use the conditional operator to display either heads or tails. There should be a 50% chance that the result is either heads or tails.\n",
    "4. Your code should be easy to read, but with as few lines as possible. You should be able to accomplish the desired result in three lines of code.\n",
    "\n",
    "Whether you get stuck and need to peek at the solution or you finished successfully, continue on to view a solution to this challenge."
   ]
  },
  {
   "cell_type": "code",
   "execution_count": 5,
   "id": "007bc8a9",
   "metadata": {},
   "outputs": [
    {
     "name": "stdout",
     "output_type": "stream",
     "text": [
      "Result: Tails\r\n"
     ]
    }
   ],
   "source": [
    "Random rnd = new Random();\n",
    "int flip = rnd.Next(0,2);\n",
    "Console.WriteLine($\"Result: {(flip == 0 ? \"Tails\" : \"Heads\")}\");"
   ]
  }
 ],
 "metadata": {
  "kernelspec": {
   "display_name": ".NET (C#)",
   "language": "C#",
   "name": ".net-csharp"
  },
  "language_info": {
   "file_extension": ".cs",
   "mimetype": "text/x-csharp",
   "name": "C#",
   "pygments_lexer": "csharp",
   "version": "8.0"
  }
 },
 "nbformat": 4,
 "nbformat_minor": 5
}
