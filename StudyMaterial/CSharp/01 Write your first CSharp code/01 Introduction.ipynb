{
 "cells": [
  {
   "cell_type": "markdown",
   "id": "3197d0f4",
   "metadata": {},
   "source": [
    "Source: https://learn.microsoft.com/en-us/training/modules/csharp-write-first/1-introduction?WT.mc_id=dotnet-35129-website&ns-enrollment-type=Collection&ns-enrollment-id=yz26f8y64n7k07\n",
    "\n",
    "# Introduction\n",
    "\n",
    "The C# programming language allows you to build many types of applications, like:\n",
    "\n",
    "- Business applications to capture, analyze, and process data\n",
    "- Dynamic web applications that can be accessed from a web browser\n",
    "- Games, both 2D and 3D\n",
    "- Financial and scientific applications\n",
    "- Cloud-based applications\n",
    "- Mobile applications\n",
    "\n",
    "But how do you begin to write an application?\n",
    "\n",
    "Applications are all made up of many lines of code that work together to achieve a task. By far, the best way to learn how to code is to *write* code. It's encouraged that you write code along with the exercises in this modules and the others in this learning path. Writing code yourself in each exercise and solving small coding challenges will accelerate your learning.\n",
    "\n",
    "You'll also begin learning small foundational concepts and build on them with continual practice and exploration.\n",
    "\n",
    "In this module, you'll:\n",
    "\n",
    "- Write your first lines of C# code.\n",
    "- Use two different techniques top print a message as output.\n",
    "- Diagnose errors when code is incorrect.\n",
    "- Identify different C# syntax elements like operators, classes, and methods.\n",
    "\n",
    "By the end of this module, you'll be able to write C# code to print a message to the standard output of a console, like the Windows Terminal. These lines of code will give you your first look at the C# syntax, and immediately provide invaluable insights."
   ]
  }
 ],
 "metadata": {
  "kernelspec": {
   "display_name": ".NET (C#)",
   "language": "C#",
   "name": ".net-csharp"
  },
  "language_info": {
   "file_extension": ".cs",
   "mimetype": "text/x-csharp",
   "name": "C#",
   "pygments_lexer": "csharp",
   "version": "8.0"
  }
 },
 "nbformat": 4,
 "nbformat_minor": 5
}
