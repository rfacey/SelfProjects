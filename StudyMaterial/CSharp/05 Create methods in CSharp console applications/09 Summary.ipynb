{
 "cells": [
  {
   "cell_type": "markdown",
   "id": "5cdc2fa4",
   "metadata": {},
   "source": [
    "Your goal was to learn how to create your own methods to perform specific tasks. You learned to move reusable code into methods to minimize repeating code. You also learned to use pseudo-code and placeholder methods to tackle a complex problem. By creating small methods with specific responsibilites, you learned to quickly build solutions for problems using efficient, readable code."
   ]
  }
 ],
 "metadata": {
  "kernelspec": {
   "display_name": ".NET (C#)",
   "language": "C#",
   "name": ".net-csharp"
  },
  "language_info": {
   "file_extension": ".cs",
   "mimetype": "text/x-csharp",
   "name": "C#",
   "pygments_lexer": "csharp",
   "version": "8.0"
  }
 },
 "nbformat": 4,
 "nbformat_minor": 5
}
