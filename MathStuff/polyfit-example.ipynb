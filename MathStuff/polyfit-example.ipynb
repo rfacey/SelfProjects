{
 "cells": [
  {
   "cell_type": "code",
   "execution_count": 1,
   "metadata": {},
   "outputs": [],
   "source": [
    "import numpy as np\n",
    "import matplotlib.pyplot as plt"
   ]
  },
  {
   "cell_type": "code",
   "execution_count": 2,
   "metadata": {},
   "outputs": [],
   "source": [
    "n = 50\n",
    "rsize = 0.2\n",
    "x =np.sort(np.random.rand(n))*\n",
    "rnd = np.random.rand(n)* rsize "
   ]
  },
  {
   "cell_type": "code",
   "execution_count": 4,
   "metadata": {},
   "outputs": [
    {
     "data": {
      "text/plain": [
       "array([0.02778266, 0.12612797, 0.13313507, 0.25866194, 0.46987597,\n",
       "       0.73859124, 0.77041103, 0.897651  , 1.11442887, 1.32324148,\n",
       "       1.33703106, 1.50084418, 1.64956182, 1.67370477, 1.68195729,\n",
       "       1.73545872, 1.74493668, 1.90187845, 2.06795296, 2.09414769,\n",
       "       2.15068898, 2.1673572 , 2.22588378, 2.27034001, 2.28426316,\n",
       "       2.46684333, 2.69878766, 2.79979943, 2.94741413, 2.97285741,\n",
       "       3.01558645, 3.14466836, 3.15775281, 3.22335967, 3.25288212,\n",
       "       3.46479211, 3.50945496, 3.56822106, 3.82673953, 3.82985476,\n",
       "       4.05878308, 4.07215639, 4.19647525, 4.22376961, 4.39073624,\n",
       "       4.42406976, 4.5549069 , 4.70563234, 4.71420999, 4.99348167])"
      ]
     },
     "execution_count": 4,
     "metadata": {},
     "output_type": "execute_result"
    }
   ],
   "source": [
    "x"
   ]
  },
  {
   "cell_type": "code",
   "execution_count": 5,
   "metadata": {},
   "outputs": [
    {
     "data": {
      "text/plain": [
       "array([0.16707872, 0.09012355, 0.10492044, 0.0779935 , 0.02554173,\n",
       "       0.05480826, 0.06080258, 0.02822566, 0.15064618, 0.12185049,\n",
       "       0.12960149, 0.08776218, 0.03386333, 0.12030477, 0.06224872,\n",
       "       0.12588477, 0.09850899, 0.1945715 , 0.01559932, 0.06511606,\n",
       "       0.1423113 , 0.18355712, 0.13697488, 0.14607704, 0.09116593,\n",
       "       0.08308036, 0.10075504, 0.14954283, 0.02072107, 0.05854439,\n",
       "       0.11006444, 0.09435202, 0.18626839, 0.05041571, 0.01455948,\n",
       "       0.07148542, 0.09225727, 0.0588028 , 0.06485571, 0.17284039,\n",
       "       0.03420837, 0.17831341, 0.09335933, 0.19150074, 0.13978276,\n",
       "       0.04399082, 0.11911751, 0.13544879, 0.12284011, 0.1980675 ])"
      ]
     },
     "execution_count": 5,
     "metadata": {},
     "output_type": "execute_result"
    }
   ],
   "source": [
    "rnd"
   ]
  },
  {
   "cell_type": "code",
   "execution_count": 6,
   "metadata": {},
   "outputs": [],
   "source": [
    "coeff = np.random.rand(3)* [10,3,1]"
   ]
  },
  {
   "cell_type": "code",
   "execution_count": 7,
   "metadata": {},
   "outputs": [
    {
     "data": {
      "text/plain": [
       "array([3.40498634, 2.1782838 , 0.86143684])"
      ]
     },
     "execution_count": 7,
     "metadata": {},
     "output_type": "execute_result"
    }
   ],
   "source": [
    "coeff"
   ]
  },
  {
   "cell_type": "code",
   "execution_count": 4,
   "metadata": {},
   "outputs": [],
   "source": [
    "y = coeff[0] + coeff[1]*x + coeff[2]*x*x + rnd"
   ]
  },
  {
   "cell_type": "code",
   "execution_count": 5,
   "metadata": {},
   "outputs": [
    {
     "data": {
      "text/plain": [
       "[<matplotlib.lines.Line2D at 0x1452ec10240>]"
      ]
     },
     "execution_count": 5,
     "metadata": {},
     "output_type": "execute_result"
    },
    {
     "data": {
      "image/png": "[encoded data removed]",
      "text/plain": [
       "<matplotlib.figure.Figure at 0x1451db16fd0>"
      ]
     },
     "metadata": {},
     "output_type": "display_data"
    }
   ],
   "source": [
    "plt.plot(x,y)"
   ]
  },
  {
   "cell_type": "code",
   "execution_count": 6,
   "metadata": {},
   "outputs": [
    {
     "name": "stdout",
     "output_type": "stream",
     "text": [
      "0.056963570479572345 7.879483076267885\n",
      "0.28900265983213713 8.203932792637236\n",
      "0.34276716756627024 8.280284871664385\n",
      "0.35149260772978086 8.427668364922186\n",
      "0.45567631592584534 8.627806802965942\n",
      "0.4682349558608051 8.551242081240645\n",
      "0.7974897772101153 9.299751228633314\n",
      "0.9383468618260532 9.51432108762994\n",
      "1.0494249568918224 9.774505304733646\n",
      "1.1408137253754318 9.944200074606295\n",
      "1.2547938961001353 10.119460201343683\n",
      "1.2677014043948915 10.152754984501717\n",
      "1.3510856324292053 10.497905243604025\n",
      "1.4060974028157953 10.504676199099375\n",
      "1.451709591424628 10.577525045169201\n",
      "1.4987042915165494 10.63023018447773\n",
      "1.5085759578953972 10.730666493975743\n",
      "1.5880871679297286 10.986635221655483\n",
      "1.5924024701049477 10.899510979548294\n",
      "1.6603230937275653 11.141041276137294\n",
      "1.8868112697029775 11.638012073180837\n",
      "2.173731475074921 12.279667957391457\n",
      "2.2599158580736556 12.578004071834156\n",
      "2.2618270055911993 12.476700968183694\n",
      "2.4494825423794566 12.901962819485995\n",
      "2.759205451299884 13.663776376935935\n",
      "2.9396263177921327 14.161276061000235\n",
      "3.089692856221199 14.603171042460035\n",
      "3.1384966300217982 14.599908309685523\n",
      "3.23959915422374 14.967614211271021\n",
      "3.3243130224636137 15.223753782566284\n",
      "3.3472952310253117 15.152623575528297\n",
      "3.3687521416955524 15.327638062518258\n",
      "3.3709667632269555 15.399539329303703\n",
      "3.714915013316322 16.247906911007284\n",
      "3.9087803865046995 16.859862860329322\n",
      "3.9909222180231554 17.03947513577836\n",
      "4.061438646258002 17.281377675033102\n",
      "4.128219467788414 17.334210963154202\n",
      "4.2133641109742195 17.649329178082866\n",
      "4.294421760688271 17.885355940534602\n",
      "4.312820510073681 17.856404439446507\n",
      "4.331226525215483 17.970818751517072\n",
      "4.544646689713582 18.708906990757402\n",
      "4.582497022047776 18.76671627979093\n",
      "4.648287973281006 19.017840187723976\n",
      "4.794559650457209 19.425818555031412\n",
      "4.826813617192711 19.55471337868909\n",
      "4.870699100145068 19.535169737401482\n",
      "4.891529529974604 19.757633312883495\n"
     ]
    }
   ],
   "source": [
    "for i in range(n):\n",
    "    print(x[i], y[i])\n",
    "    "
   ]
  },
  {
   "cell_type": "code",
   "execution_count": 14,
   "metadata": {},
   "outputs": [
    {
     "data": {
      "text/plain": [
       "array([[1.00000000e+00, 5.69635704e-02, 3.24484846e-03],\n",
       "       [1.00000000e+00, 2.89002657e-01, 8.35225359e-02],\n",
       "       [1.00000000e+00, 3.42767179e-01, 1.17489330e-01],\n",
       "       [1.00000000e+00, 3.51492614e-01, 1.23547055e-01],\n",
       "       [1.00000000e+00, 4.55676317e-01, 2.07640901e-01],\n",
       "       [1.00000000e+00, 4.68234956e-01, 2.19243973e-01],\n",
       "       [1.00000000e+00, 7.97489762e-01, 6.35989964e-01],\n",
       "       [1.00000000e+00, 9.38346863e-01, 8.80494833e-01],\n",
       "       [1.00000000e+00, 1.04942501e+00, 1.10129273e+00],\n",
       "       [1.00000000e+00, 1.14081371e+00, 1.30145597e+00],\n",
       "       [1.00000000e+00, 1.25479388e+00, 1.57450771e+00],\n",
       "       [1.00000000e+00, 1.26770139e+00, 1.60706687e+00],\n",
       "       [1.00000000e+00, 1.35108566e+00, 1.82543242e+00],\n",
       "       [1.00000000e+00, 1.40609741e+00, 1.97710991e+00],\n",
       "       [1.00000000e+00, 1.45170963e+00, 2.10746074e+00],\n",
       "       [1.00000000e+00, 1.49870431e+00, 2.24611449e+00],\n",
       "       [1.00000000e+00, 1.50857592e+00, 2.27580142e+00],\n",
       "       [1.00000000e+00, 1.58808720e+00, 2.52202082e+00],\n",
       "       [1.00000000e+00, 1.59240246e+00, 2.53574562e+00],\n",
       "       [1.00000000e+00, 1.66032314e+00, 2.75667286e+00],\n",
       "       [1.00000000e+00, 1.88681126e+00, 3.56005669e+00],\n",
       "       [1.00000000e+00, 2.17373157e+00, 4.72510862e+00],\n",
       "       [1.00000000e+00, 2.25991583e+00, 5.10721970e+00],\n",
       "       [1.00000000e+00, 2.26182699e+00, 5.11586142e+00],\n",
       "       [1.00000000e+00, 2.44948244e+00, 5.99996471e+00],\n",
       "       [1.00000000e+00, 2.75920534e+00, 7.61321449e+00],\n",
       "       [1.00000000e+00, 2.93962622e+00, 8.64140320e+00],\n",
       "       [1.00000000e+00, 3.08969283e+00, 9.54620171e+00],\n",
       "       [1.00000000e+00, 3.13849664e+00, 9.85016155e+00],\n",
       "       [1.00000000e+00, 3.23959923e+00, 1.04950027e+01],\n",
       "       [1.00000000e+00, 3.32431293e+00, 1.10510569e+01],\n",
       "       [1.00000000e+00, 3.34729528e+00, 1.12043858e+01],\n",
       "       [1.00000000e+00, 3.36875224e+00, 1.13484907e+01],\n",
       "       [1.00000000e+00, 3.37096667e+00, 1.13634167e+01],\n",
       "       [1.00000000e+00, 3.71491504e+00, 1.38005934e+01],\n",
       "       [1.00000000e+00, 3.90878034e+00, 1.52785645e+01],\n",
       "       [1.00000000e+00, 3.99092221e+00, 1.59274597e+01],\n",
       "       [1.00000000e+00, 4.06143856e+00, 1.64952831e+01],\n",
       "       [1.00000000e+00, 4.12821960e+00, 1.70421963e+01],\n",
       "       [1.00000000e+00, 4.21336412e+00, 1.77524376e+01],\n",
       "       [1.00000000e+00, 4.29442167e+00, 1.84420586e+01],\n",
       "       [1.00000000e+00, 4.31282043e+00, 1.86004200e+01],\n",
       "       [1.00000000e+00, 4.33122635e+00, 1.87595234e+01],\n",
       "       [1.00000000e+00, 4.54464674e+00, 2.06538143e+01],\n",
       "       [1.00000000e+00, 4.58249712e+00, 2.09992790e+01],\n",
       "       [1.00000000e+00, 4.64828777e+00, 2.16065807e+01],\n",
       "       [1.00000000e+00, 4.79455948e+00, 2.29878025e+01],\n",
       "       [1.00000000e+00, 4.82681370e+00, 2.32981300e+01],\n",
       "       [1.00000000e+00, 4.87069893e+00, 2.37237091e+01],\n",
       "       [1.00000000e+00, 4.89152956e+00, 2.39270611e+01]], dtype=float32)"
      ]
     },
     "execution_count": 14,
     "metadata": {},
     "output_type": "execute_result"
    }
   ],
   "source": [
    "A = np.zeros((n,3),dtype=np.float32)  #3 makes it a quadradic fit\n",
    "            \n",
    "for i in range(n):    \n",
    "    A[i,0] = 1\n",
    "    A[i,1]= x[i]\n",
    "    A[i,2] = x[i] * x[i]\n",
    "    \n",
    "A\n",
    "#np.linalg.matmul(np.matrix.transpose(A),A)    #Dont do think"
   ]
  },
  {
   "cell_type": "code",
   "execution_count": 28,
   "metadata": {},
   "outputs": [],
   "source": [
    "coeff_square = np.linalg.solve(np.matmul(np.matrix.transpose(A),A), np.matmul(np.matrix.transpose(A), y))"
   ]
  },
  {
   "cell_type": "code",
   "execution_count": 9,
   "metadata": {
    "scrolled": true
   },
   "outputs": [
    {
     "ename": "NameError",
     "evalue": "name 'A' is not defined",
     "output_type": "error",
     "traceback": [
      "\u001b[1;31m---------------------------------------------------------------------------\u001b[0m",
      "\u001b[1;31mNameError\u001b[0m                                 Traceback (most recent call last)",
      "\u001b[1;32m<ipython-input-9-a19af21b9cd5>\u001b[0m in \u001b[0;36m<module>\u001b[1;34m()\u001b[0m\n\u001b[1;32m----> 1\u001b[1;33m \u001b[0mnp\u001b[0m\u001b[1;33m.\u001b[0m\u001b[0mlinalg\u001b[0m\u001b[1;33m.\u001b[0m\u001b[0msolve\u001b[0m\u001b[1;33m(\u001b[0m\u001b[0mA\u001b[0m\u001b[1;33m,\u001b[0m\u001b[0my\u001b[0m\u001b[1;33m)\u001b[0m     \u001b[1;31m#This current does not work because A is not a square matrix\u001b[0m\u001b[1;33m\u001b[0m\u001b[0m\n\u001b[0m",
      "\u001b[1;31mNameError\u001b[0m: name 'A' is not defined"
     ]
    }
   ],
   "source": [
    "np.linalg.solve(A,y)     #This current does not work because A is not a square matrix"
   ]
  },
  {
   "cell_type": "code",
   "execution_count": 16,
   "metadata": {},
   "outputs": [],
   "source": [
    "q,r =np.linalg.qr(A)"
   ]
  },
  {
   "cell_type": "markdown",
   "metadata": {},
   "source": [
    "A c = y\n",
    "(qr) c = y\n",
    "q^T (qr)c = q^T y\n",
    "rc = q^T y"
   ]
  },
  {
   "cell_type": "code",
   "execution_count": 17,
   "metadata": {},
   "outputs": [
    {
     "data": {
      "text/plain": [
       "array([[-0.14142136, -0.2406557 , -0.33016908],\n",
       "       [-0.14142136, -0.21873064, -0.24179445],\n",
       "       [-0.14142136, -0.21365051, -0.22252612],\n",
       "       [-0.14142136, -0.21282606, -0.21944194],\n",
       "       [-0.14142136, -0.20298187, -0.18354133],\n",
       "       [-0.14142136, -0.20179522, -0.17932905],\n",
       "       [-0.14142136, -0.17068438, -0.07774532],\n",
       "       [-0.14142136, -0.157375  , -0.03949499],\n",
       "       [-0.14142136, -0.14687937, -0.0115321 ],\n",
       "       [-0.14142136, -0.13824418,  0.01001894],\n",
       "       [-0.14142136, -0.12747435,  0.03505654],\n",
       "       [-0.14142136, -0.12625474,  0.03776307],\n",
       "       [-0.14142136, -0.11837587,  0.05461622],\n",
       "       [-0.14142136, -0.11317788,  0.06513612],\n",
       "       [-0.14142136, -0.10886805,  0.07349759],\n",
       "       [-0.14142136, -0.10442758,  0.08177023],\n",
       "       [-0.14142136, -0.10349483,  0.08346379],\n",
       "       [-0.14142136, -0.09598192,  0.09654591],\n",
       "       [-0.14142136, -0.09557417,  0.09722745],\n",
       "       [-0.14142136, -0.08915644,  0.10756892],\n",
       "       [-0.14142136, -0.06775589,  0.13680944],\n",
       "       [-0.14142136, -0.04064518,  0.16226698],\n",
       "       [-0.14142136, -0.03250175,  0.16738491],\n",
       "       [-0.14142136, -0.03232116,  0.16748516],\n",
       "       [-0.14142136, -0.01458986,  0.17453104],\n",
       "       [-0.14142136,  0.01467544,  0.17404497],\n",
       "       [-0.14142136,  0.03172316,  0.166807  ],\n",
       "       [-0.14142136,  0.04590275,  0.15688643],\n",
       "       [-0.14142136,  0.05051415,  0.15289676],\n",
       "       [-0.14142136,  0.0600672 ,  0.1434399 ],\n",
       "       [-0.14142136,  0.06807169,  0.13427792],\n",
       "       [-0.14142136,  0.07024325,  0.13159773],\n",
       "       [-0.14142136,  0.07227069,  0.12902047],\n",
       "       [-0.14142136,  0.07247993,  0.12875025],\n",
       "       [-0.14142136,  0.10497914,  0.07743254],\n",
       "       [-0.14142136,  0.12329721,  0.04030754],\n",
       "       [-0.14142136,  0.13105868,  0.02279456],\n",
       "       [-0.14142136,  0.13772167,  0.00691348],\n",
       "       [-0.14142136,  0.14403173, -0.00884738],\n",
       "       [-0.14142136,  0.15207691, -0.02995966],\n",
       "       [-0.14142136,  0.15973593, -0.05111801],\n",
       "       [-0.14142136,  0.1614744 , -0.05606442],\n",
       "       [-0.14142136,  0.16321357, -0.06106627],\n",
       "       [-0.14142136,  0.18337937, -0.12295304],\n",
       "       [-0.14142136,  0.1869558 , -0.13467664],\n",
       "       [-0.14142136,  0.19317226, -0.15559092],\n",
       "       [-0.14142136,  0.20699327, -0.20452853],\n",
       "       [-0.14142136,  0.21004093, -0.21577238],\n",
       "       [-0.14142136,  0.21418759, -0.23133396],\n",
       "       [-0.14142136,  0.21615584, -0.23882629]], dtype=float32)"
      ]
     },
     "execution_count": 17,
     "metadata": {},
     "output_type": "execute_result"
    }
   ],
   "source": [
    "q"
   ]
  },
  {
   "cell_type": "code",
   "execution_count": 20,
   "metadata": {},
   "outputs": [
    {
     "data": {
      "text/plain": [
       "array([[ -7.071068, -18.41229 , -63.783623],\n",
       "       [  0.      ,  10.583283,  54.913822],\n",
       "       [  0.      ,   0.      , -12.715313]], dtype=float32)"
      ]
     },
     "execution_count": 20,
     "metadata": {},
     "output_type": "execute_result"
    }
   ],
   "source": [
    "r"
   ]
  },
  {
   "cell_type": "code",
   "execution_count": 18,
   "metadata": {},
   "outputs": [],
   "source": [
    "qy = np.matmul(np.matrix.transpose(q) ,y)"
   ]
  },
  {
   "cell_type": "code",
   "execution_count": 19,
   "metadata": {},
   "outputs": [
    {
     "data": {
      "text/plain": [
       "array([-96.25262265,  26.35086342,  -1.67487324])"
      ]
     },
     "execution_count": 19,
     "metadata": {},
     "output_type": "execute_result"
    }
   ],
   "source": [
    "qy"
   ]
  },
  {
   "cell_type": "code",
   "execution_count": 21,
   "metadata": {},
   "outputs": [
    {
     "data": {
      "text/plain": [
       "array([7.59528181, 1.8357883 , 0.12505749])"
      ]
     },
     "execution_count": 21,
     "metadata": {},
     "output_type": "execute_result"
    }
   ],
   "source": [
    "coeff"
   ]
  },
  {
   "cell_type": "markdown",
   "metadata": {},
   "source": [
    "For the homework, write the backsolve routine..."
   ]
  },
  {
   "cell_type": "code",
   "execution_count": 22,
   "metadata": {},
   "outputs": [],
   "source": [
    "coeff1 = np.linalg.solve(r,qy)"
   ]
  },
  {
   "cell_type": "code",
   "execution_count": 23,
   "metadata": {},
   "outputs": [
    {
     "data": {
      "text/plain": [
       "array([7.72035618, 1.80639233, 0.13172096])"
      ]
     },
     "execution_count": 23,
     "metadata": {},
     "output_type": "execute_result"
    }
   ],
   "source": [
    "coeff1"
   ]
  },
  {
   "cell_type": "code",
   "execution_count": 24,
   "metadata": {},
   "outputs": [
    {
     "data": {
      "text/plain": [
       "array([7.72035581, 1.80639221, 0.13172098])"
      ]
     },
     "execution_count": 24,
     "metadata": {},
     "output_type": "execute_result"
    }
   ],
   "source": [
    "c2 = np.polyfit(x,y,2)\n",
    "# reverse the order for consistency\n",
    "coeff2 = []\n",
    "for i in range(len(c2)):\n",
    "    coeff2.append(c2[len(c2)-i-1])\n",
    "    \n",
    "coeff2 = np.array(coeff2)\n",
    "coeff2"
   ]
  },
  {
   "cell_type": "code",
   "execution_count": 25,
   "metadata": {},
   "outputs": [
    {
     "data": {
      "text/plain": [
       "array([0.13172098, 1.80639221, 7.72035581])"
      ]
     },
     "execution_count": 25,
     "metadata": {},
     "output_type": "execute_result"
    }
   ],
   "source": [
    "c2"
   ]
  },
  {
   "cell_type": "code",
   "execution_count": 30,
   "metadata": {},
   "outputs": [
    {
     "data": {
      "text/plain": [
       "[<matplotlib.lines.Line2D at 0x1452ee5a278>]"
      ]
     },
     "execution_count": 30,
     "metadata": {},
     "output_type": "execute_result"
    },
    {
     "data": {
      "image/png": "[encoded data removed]",
      "text/plain": [
       "<matplotlib.figure.Figure at 0x1452ee5a438>"
      ]
     },
     "metadata": {},
     "output_type": "display_data"
    }
   ],
   "source": [
    "y1 = coeff1[0] + coeff1[1]*x + coeff1[2]*x*x\n",
    "y3 = coeff2[0] + coeff2[1]*x + coeff2[2]*x*x\n",
    "plt.plot(x,y,'*')\n",
    "plt.plot(x,y1)"
   ]
  },
  {
   "cell_type": "code",
   "execution_count": 31,
   "metadata": {},
   "outputs": [
    {
     "data": {
      "text/plain": [
       "[<matplotlib.lines.Line2D at 0x1452ee6d4e0>]"
      ]
     },
     "execution_count": 31,
     "metadata": {},
     "output_type": "execute_result"
    },
    {
     "data": {
      "image/png": "[encoded data removed]",
      "text/plain": [
       "<matplotlib.figure.Figure at 0x1452ee6d4a8>"
      ]
     },
     "metadata": {},
     "output_type": "display_data"
    }
   ],
   "source": [
    "y1 = coeff1[0] + coeff1[1]*x + coeff1[2]*x*x\n",
    "y3 = coeff_square[0] + coeff_square[1]*x + coeff_square[2]*x*x\n",
    "plt.plot(x,y,'*')\n",
    "plt.plot(x,y1)"
   ]
  },
  {
   "cell_type": "markdown",
   "metadata": {},
   "source": [
    "## Quadratic"
   ]
  },
  {
   "cell_type": "code",
   "execution_count": null,
   "metadata": {},
   "outputs": [],
   "source": [
    "A = np.zeros((n,3),dtype=np.float32)  #3 makes it a quadradic fit\n",
    "            \n",
    "for i in range(n):    \n",
    "    A[i,0] = 1\n",
    "    A[i,1]= x[i]\n",
    "    A[i,2] = x[i] * x[i]\n",
    "    \n",
    "A\n",
    "#np.linalg.matmul(np.matrix.transpose(A),A)    #Dont do think"
   ]
  }
 ],
 "metadata": {
  "kernelspec": {
   "display_name": "Python 3",
   "language": "python",
   "name": "python3"
  },
  "language_info": {
   "codemirror_mode": {
    "name": "ipython",
    "version": 3
   },
   "file_extension": ".py",
   "mimetype": "text/x-python",
   "name": "python",
   "nbconvert_exporter": "python",
   "pygments_lexer": "ipython3",
   "version": "3.6.4"
  }
 },
 "nbformat": 4,
 "nbformat_minor": 4
}
