{
 "cells": [
  {
   "cell_type": "code",
   "execution_count": 1,
   "metadata": {},
   "outputs": [],
   "source": [
    "\"\"\"Kepler’s equation - In celestial mechanics, Kepler’s equation is important. \n",
    "It reads x = y-∊siny, in which x is a planet’s mean anomaly, y is eccentric anomaly, \n",
    "and is the eccentricity of its orbit. \n",
    "Taking ∊ = 0.9, construct a table of y for 30 equally spaced values of x in the \n",
    "interval 0 ≤ x ≤𝝅. Use Newton’s method to obtain each value of y. \n",
    "The y corresponding to an x can be used as the starting point for the iteration \n",
    "when x is changed slightly. \"\"\"\n",
    "\n",
    "import numpy as np\n",
    "from scipy.misc import derivative"
   ]
  },
  {
   "cell_type": "code",
   "execution_count": 84,
   "metadata": {},
   "outputs": [
    {
     "data": {
      "text/plain": [
       "array([0.        , 0.10833078, 0.21666156, 0.32499234, 0.43332312,\n",
       "       0.54165391, 0.64998469, 0.75831547, 0.86664625, 0.97497703,\n",
       "       1.08330781, 1.19163859, 1.29996937, 1.40830016, 1.51663094,\n",
       "       1.62496172, 1.7332925 , 1.84162328, 1.94995406, 2.05828484,\n",
       "       2.16661562, 2.2749464 , 2.38327719, 2.49160797, 2.59993875,\n",
       "       2.70826953, 2.81660031, 2.92493109, 3.03326187, 3.14159265])"
      ]
     },
     "execution_count": 84,
     "metadata": {},
     "output_type": "execute_result"
    }
   ],
   "source": [
    "## \n",
    "## line below from notes example\n",
    "\n",
    "np.linspace(0, np.pi, num = 30)"
   ]
  },
  {
   "cell_type": "code",
   "execution_count": 85,
   "metadata": {},
   "outputs": [
    {
     "data": {
      "image/png": "[encoded data removed]",
      "text/plain": [
       "<matplotlib.figure.Figure at 0x23089643da0>"
      ]
     },
     "metadata": {},
     "output_type": "display_data"
    }
   ],
   "source": [
    "import matplotlib.pyplot as plt\n",
    "N = 30\n",
    "y = np.zeros(N)\n",
    "x = np.linspace(0, np.pi, num = 30)\n",
    "plt.plot(x, y, 'o')\n",
    "plt.ylim([-0.25, .25])\n",
    "plt.show()"
   ]
  },
  {
   "cell_type": "markdown",
   "metadata": {},
   "source": [
    "## Newton's Method"
   ]
  },
  {
   "cell_type": "code",
   "execution_count": 122,
   "metadata": {},
   "outputs": [
    {
     "name": "stdout",
     "output_type": "stream",
     "text": [
      "The procedure was successful. p_0: 0.7390851781060102 n: 3\n"
     ]
    }
   ],
   "source": [
    "## Newton's method\n",
    "## Testing for pg.68 \n",
    "## Chapter 2.3 Example 1\n",
    "\n",
    "## Define the function\n",
    "## Maybe find an easy way to find the derivative?\n",
    "def f(x):\n",
    "    return np.cos(x) - x\n",
    "\n",
    "def fp(x):\n",
    "    return -np.sin(x) - 1\n",
    "\n",
    "## Define bounderies\n",
    "## !! NOT SURE WHERE THESES ARE USED\n",
    "\n",
    "minimum = 0\n",
    "maximum = (np.pi / 2)\n",
    "\n",
    "## INPUT initial approximation p_0; tolerance TOL; maximum number of iterations N_0.\n",
    "\n",
    "p_0 = np.pi / 4\n",
    "TOL = 1 * 10**-6\n",
    "Iterations = 10\n",
    "\n",
    "results = []   ## Need to save the results to something\n",
    "results.append(p_0)\n",
    "## Step 1 - Set i = 1\n",
    "\n",
    "i = 1\n",
    "\n",
    "## Step 2 - While (i <= N_0) do steps 3-6\n",
    "\n",
    "while i <= Iterations:\n",
    "\n",
    "## Step 3 Set p = p_0 - f(p_0)/f'(p_0) (Compute p_i)\n",
    "\n",
    "    p = p_0 - (f(p_0)/fp(p_0))\n",
    "\n",
    "## Step 4 if |p - p_0| < TOL then OUTPUT(p); (The procedure was successful.) STOP\n",
    "\n",
    "    if np.absolute(p - p_0) < TOL:\n",
    "        print(f'The procedure was successful. p_0: {p_0} n: {i}')\n",
    "        break\n",
    "## Step 5 Set i= i + 1.\n",
    "    i = i + 1\n",
    "\n",
    "## Step 6 Set p_0 = p. (Update p_0)\n",
    "    p_0 = p\n",
    "    results.append(p)\n",
    "\n",
    "## Step 7 OUTPUT ('The method failed after N-0 iterations, N-0 =', N_0) \n",
    "## (The procedure was unsuccessful. STOP)\n",
    "if i > Iterations:\n",
    "    print(f'The method failed after N_0 iterations, N_0 = {Iterations}')\n",
    "\n",
    "    \n",
    "## These two lines are for testing\n",
    "##for item in results:\n",
    "##    print(item)"
   ]
  },
  {
   "cell_type": "markdown",
   "metadata": {},
   "source": [
    "The answer above was correct. TOL given in class changed it to one less iteration than the book."
   ]
  },
  {
   "cell_type": "markdown",
   "metadata": {},
   "source": [
    "## Compare Bisection Method Results To Newton's Method"
   ]
  },
  {
   "cell_type": "code",
   "execution_count": 118,
   "metadata": {},
   "outputs": [
    {
     "name": "stdout",
     "output_type": "stream",
     "text": [
      "The procedure was successful. p: 0.7390858752647542 n: 21\n"
     ]
    }
   ],
   "source": [
    "## Bisection method (pg. 49)\n",
    "## Testing for pg.50\n",
    "## Chapter 2.1 Example 1\n",
    "\n",
    "## INPUT endpoints a,b; tolerance TOL; maximum number of iterations N_0\n",
    "\n",
    "## Define the function\n",
    "## Maybe find an easy way to find the derivative?\n",
    "def f(x):\n",
    "    return np.cos(x) - x\n",
    "\n",
    "## INPUT endpoints a,b; tolerance TOL; maximum number of iterations N_0\n",
    "\n",
    "a = 0\n",
    "b = (np.pi / 2)\n",
    "\n",
    "TOL = 1 * 10**-6\n",
    "Iterations = 40\n",
    "\n",
    "results = []   ## Need to save the results to something\n",
    "\n",
    "## OUTPUT approximate solution p or message of failure\n",
    "## Step 1 Set i - 1; FA = f(a)\n",
    "\n",
    "i = 1\n",
    "FA = f(a)\n",
    "\n",
    "## Step 2 While i <= N_0 do steps 3-6\n",
    "\n",
    "while i <= Iterations:\n",
    "\n",
    "## Step 3 Set p = 1 + (b - a)/2; (Compute P-i)\n",
    "\n",
    "    p = a + (b - a)/2\n",
    "    FP = f(p)\n",
    "\n",
    "## Step 4 If FP = 0 or (b - a)/2 < TOL then OUTPUT(p); (Procedure completed successfully) STOP\n",
    "    if FP == 0 or (b - a)/2 < TOL:\n",
    "        print(f'The procedure was successful. p: {p} n: {i}')\n",
    "        break\n",
    "## Step 5 Set i = i + 1\n",
    "    i = i + 1\n",
    "## Step 6 If FA * FP > 0 then set a = p; (Compute a_i, b_i) FA = FP; else set b = p. (FA is unchanged)\n",
    "    if FA * FP > 0:\n",
    "        a = p\n",
    "        FA = FP\n",
    "    else:\n",
    "        b = p\n",
    "        \n",
    "    results.append(p)\n",
    "## Step 7 OUTPUT ('Method failed after N_0 iterations, N_0 =', N_0); STOP\n",
    "if i > Iterations:\n",
    "    print(f'The method failed after N_0 iterations, N_0 = {Iterations}')"
   ]
  },
  {
   "cell_type": "markdown",
   "metadata": {},
   "source": [
    "The answer above was correct."
   ]
  },
  {
   "cell_type": "markdown",
   "metadata": {},
   "source": [
    "## Compare Secant Method Results To Newton's Method"
   ]
  },
  {
   "cell_type": "code",
   "execution_count": 133,
   "metadata": {
    "scrolled": false
   },
   "outputs": [
    {
     "name": "stdout",
     "output_type": "stream",
     "text": [
      "The procedure was successful. p: 0.7390851332150645 n: 5\n"
     ]
    }
   ],
   "source": [
    "## Secant method\n",
    "## Testing for pg.71\n",
    "## Chapter 2.3 Example 2\n",
    "\n",
    "# Define the function\n",
    "\n",
    "def f(x):\n",
    "    return np.cos(x) - x\n",
    "\n",
    "## Define bounderies\n",
    "\n",
    "a = 0\n",
    "b = (np.pi / 2)\n",
    "\n",
    "## INPUT initial approximations p_0, p; tolerance TOL; maximum number of iterations N_0.\n",
    "\n",
    "p_0 = 0.5\n",
    "p_1 = np.pi/4\n",
    "TOL = 1 * 10**-6\n",
    "Iterations = 20\n",
    "\n",
    "results = []   ## Need to save the results to something\n",
    "\n",
    "## Step 1 set i = 2; q_0 = f(p_0); q_1 = f(p_1)\n",
    "\n",
    "i = 2\n",
    "q_0 = f(p_0)\n",
    "q_1 = f(p_1)\n",
    "\n",
    "## Step 2 While i <= N_0 do Steps 3-6\n",
    "\n",
    "while i <= Iterations:\n",
    "    \n",
    "## Step 3 Set p = p_1 - q_1(p_1 - p_0)/(q_1 - q_0)    (Compute p_i)\n",
    "    p = p_1 - (q_1 * (p_1 - p_0)/(q_1 - q_0))\n",
    "## Step 4 If |p - p_1| < TOL then OUTPUT(p); (The procedure was successful.) STOP\n",
    "    if np.absolute(p - p_1) < TOL:\n",
    "        print(f'The procedure was successful. p: {p} n: {i - 2}')\n",
    "        break\n",
    "## Step 5 Set i = i + 1\n",
    "    i = i + 1\n",
    "## Step 6 Set p_0 = p_1; q_0 = q_1; p_1 = p; q_1 = f(p) (Update P_0, q_0, p_1, q_1)\n",
    "    p_0 = p_1\n",
    "    q_0 = q_1\n",
    "    p_1 = p\n",
    "    q_1 = f(p)\n",
    "    \n",
    "    results.append(p)\n",
    "## Step 7 OUTPUT ('The method failed after N_0 iterations, N_0 =', N_0);\n",
    "    ## (The procedure was unsuccessful.) STOP\n",
    "if i > Iterations:\n",
    "    print(f'The method failed after N_0 iterations, N_0 = {Iterations}')"
   ]
  },
  {
   "cell_type": "code",
   "execution_count": 134,
   "metadata": {},
   "outputs": [
    {
     "data": {
      "text/plain": [
       "[0.7363841388365822, 0.7390581392138897, 0.7390851493372764]"
      ]
     },
     "execution_count": 134,
     "metadata": {},
     "output_type": "execute_result"
    }
   ],
   "source": [
    "results   ## Ask if 'i' would count as the iterations or if it would be i-2!!"
   ]
  },
  {
   "cell_type": "markdown",
   "metadata": {},
   "source": [
    "The answer above was correct."
   ]
  },
  {
   "cell_type": "markdown",
   "metadata": {},
   "source": [
    "## Bisection Method"
   ]
  },
  {
   "cell_type": "code",
   "execution_count": 131,
   "metadata": {},
   "outputs": [
    {
     "name": "stdout",
     "output_type": "stream",
     "text": [
      "The procedure was successful. p: 1.365229606628418 n: 20\n"
     ]
    }
   ],
   "source": [
    "## Bisection method (pg. 49)\n",
    "## Testing for pg.50\n",
    "## Chapter 2.1 Example 1\n",
    "\n",
    "## Define the function\n",
    "## Maybe find an easy way to find the derivative?\n",
    "def f(x):\n",
    "    return x**3 + 4*x**2 - 10\n",
    "\n",
    "## INPUT endpoints a,b; tolerance TOL; maximum number of iterations N_0\n",
    "\n",
    "a = 1\n",
    "b = 2\n",
    "TOL = 1 * 10**-6\n",
    "Iterations = 40\n",
    "\n",
    "results = []   ## Need to save the results to something\n",
    "\n",
    "## OUTPUT approximate solution p or message of failure\n",
    "\n",
    "## Step 1 Set i - 1; FA = f(a)\n",
    "\n",
    "i = 1\n",
    "FA = f(a)\n",
    "\n",
    "## Step 2 While i <= N_0 do steps 3-6\n",
    "\n",
    "while i <= Iterations:\n",
    "\n",
    "## Step 3 Set p = 1 + (b - a)/2; (Compute P-i)\n",
    "\n",
    "    p = a + (b - a)/2\n",
    "    FP = f(p)\n",
    "\n",
    "## Step 4 If FP = 0 or (b - a)/2 < TOL then OUTPUT(p); (Procedure completed successfully) STOP\n",
    "    if FP == 0 or (b - a)/2 < TOL:\n",
    "        print(f'The procedure was successful. p: {p} n: {i}')\n",
    "        break\n",
    "## Step 5 Set i = i + 1\n",
    "    i = i + 1\n",
    "## Step 6 If FA * FP > 0 then set a = p; (Compute a_i, b_i) FA = FP; else set b = p. (FA is unchanged)\n",
    "    if FA * FP > 0:\n",
    "        a = p\n",
    "        FA = FP\n",
    "    else:\n",
    "        b = p\n",
    "        \n",
    "    results.append(p)\n",
    "## Step 7 OUTPUT ('Method failed after N_0 iterations, N_0 =', N_0); STOP\n",
    "if i > Iterations:\n",
    "    print(f'The method failed after N_0 iterations, N_0 = {Iterations}')"
   ]
  },
  {
   "cell_type": "markdown",
   "metadata": {},
   "source": [
    "The book example stopped at p = 1.3651123046875, i = 13"
   ]
  },
  {
   "cell_type": "code",
   "execution_count": null,
   "metadata": {},
   "outputs": [],
   "source": []
  }
 ],
 "metadata": {
  "kernelspec": {
   "display_name": "Python 3",
   "language": "python",
   "name": "python3"
  },
  "language_info": {
   "codemirror_mode": {
    "name": "ipython",
    "version": 3
   },
   "file_extension": ".py",
   "mimetype": "text/x-python",
   "name": "python",
   "nbconvert_exporter": "python",
   "pygments_lexer": "ipython3",
   "version": "3.6.4"
  }
 },
 "nbformat": 4,
 "nbformat_minor": 2
}
