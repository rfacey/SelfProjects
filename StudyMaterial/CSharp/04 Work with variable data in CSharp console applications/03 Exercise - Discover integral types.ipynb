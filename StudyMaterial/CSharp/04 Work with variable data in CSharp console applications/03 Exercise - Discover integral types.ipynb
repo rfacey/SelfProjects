{
 "cells": [
  {
   "cell_type": "markdown",
   "id": "73d352e2",
   "metadata": {},
   "source": [
    "Source: https://learn.microsoft.com/en-us/training/modules/csharp-choose-data-type/2-value-reference-types"
   ]
  },
  {
   "cell_type": "markdown",
   "id": "5075f0f5",
   "metadata": {},
   "source": [
    "# Exercise - Discover integral types\n",
    "\n",
    "In this exercise, you'll work with integral types. An **integral type** is a value type that represents whole numbers with no fraction (such as -1, 0, 1, 2, 3). The most popular in this category is the \"int\" data type.\n",
    "\n",
    "There are two subcategories of integral types: signed and unsigned integral types.\n",
    "\n",
    "A signed type uses its bytes to represent an equal number of positive and negative numbers. The following exercise will give you exposure to the signed integral types in C#.\n",
    "\n",
    "## Prepare your coding environment\n",
    "\n",
    "This module includes hands-on activities that guide you through the process of building and running demonstration code. You are encouraged to complete these activities using Visual Studio Code as your development environment. Using Visual Studio Code for these activities will help you to become more comfortable writing and running code in a developer environment that's used by professionals worldwide.\n",
    "\n",
    "## Use the MinValue and MaxValue properties for each signed integral type\n",
    "\n",
    "1. Ensure that you have Visual Studio Code open and Program.cs displayed in the Editor panel. Progrtam.cs should be empty. If it isn't, select and delete all code lines.\n",
    "2. To see the value ranges for the varios data types, type the following code into the Visual Studio Code Editor."
   ]
  },
  {
   "cell_type": "code",
   "execution_count": null,
   "id": "88b2d353",
   "metadata": {},
   "outputs": [],
   "source": []
  }
 ],
 "metadata": {
  "kernelspec": {
   "display_name": ".NET (C#)",
   "language": "C#",
   "name": ".net-csharp"
  },
  "language_info": {
   "file_extension": ".cs",
   "mimetype": "text/x-csharp",
   "name": "C#",
   "pygments_lexer": "csharp",
   "version": "8.0"
  }
 },
 "nbformat": 4,
 "nbformat_minor": 5
}
