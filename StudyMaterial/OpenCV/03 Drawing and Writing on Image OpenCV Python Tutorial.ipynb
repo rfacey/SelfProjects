{
 "cells": [
  {
   "cell_type": "markdown",
   "id": "b1230885-31dc-4d9e-b505-550a09a6cb67",
   "metadata": {},
   "source": [
    "Source: https://pythonprogramming.net/drawing-writing-python-opencv-tutorial/?completed=/loading-video-python-opencv-tutorial/"
   ]
  },
  {
   "cell_type": "code",
   "execution_count": null,
   "id": "59eb3025-a7f3-44db-b876-0cb7357d20d3",
   "metadata": {},
   "outputs": [],
   "source": []
  }
 ],
 "metadata": {
  "kernelspec": {
   "display_name": "Python 3 (ipykernel)",
   "language": "python",
   "name": "python3"
  },
  "language_info": {
   "codemirror_mode": {
    "name": "ipython",
    "version": 3
   },
   "file_extension": ".py",
   "mimetype": "text/x-python",
   "name": "python",
   "nbconvert_exporter": "python",
   "pygments_lexer": "ipython3",
   "version": "3.9.13"
  }
 },
 "nbformat": 4,
 "nbformat_minor": 5
}
