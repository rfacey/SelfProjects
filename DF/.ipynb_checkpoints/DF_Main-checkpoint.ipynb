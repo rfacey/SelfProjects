{
 "cells": [
  {
   "cell_type": "code",
   "execution_count": 1,
   "id": "11892dc4-7e1e-4256-b8f1-1304e06cb6f8",
   "metadata": {},
   "outputs": [],
   "source": [
    "## https://www.youtube.com/watch?v=IHLwjiBmf-g&ab_channel=NicholasRenotte"
   ]
  },
  {
   "cell_type": "markdown",
   "id": "8974d915-3e87-4e89-adca-ec0a1a5bc597",
   "metadata": {},
   "source": [
    "https://www.youtube.com/watch?v=IHLwjiBmf-g&ab_channel=NicholasRenotte\n",
    "\n",
    "https://github.com/nicknochnack/SimSwap\n",
    "\n",
    "https://www.kaggle.com/code/gpreda/deepfake-starter-kit\n",
    "\n",
    "https://pytorch.org/tutorials/beginner/dcgan_faces_tutorial.html\n",
    "\n",
    "https://github.com/nashory/gans-awesome-applications"
   ]
  },
  {
   "cell_type": "code",
   "execution_count": null,
   "id": "7383561c-a25c-43c1-8130-68ea3a3f217c",
   "metadata": {},
   "outputs": [],
   "source": []
  }
 ],
 "metadata": {
  "kernelspec": {
   "display_name": "Python 3 (ipykernel)",
   "language": "python",
   "name": "python3"
  },
  "language_info": {
   "codemirror_mode": {
    "name": "ipython",
    "version": 3
   },
   "file_extension": ".py",
   "mimetype": "text/x-python",
   "name": "python",
   "nbconvert_exporter": "python",
   "pygments_lexer": "ipython3",
   "version": "3.9.13"
  }
 },
 "nbformat": 4,
 "nbformat_minor": 5
}
