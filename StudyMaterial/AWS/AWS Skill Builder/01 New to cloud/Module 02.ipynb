{
 "cells": [
  {
   "cell_type": "markdown",
   "id": "532e3337",
   "metadata": {},
   "source": [
    "Source: https://explore.skillbuilder.aws/learn/course/134/play/62437/aws-cloud-practitioner-essentials"
   ]
  },
  {
   "cell_type": "markdown",
   "id": "4f20647f",
   "metadata": {},
   "source": [
    "# Module 2 introduction\n",
    "\n",
    "## Learning objectives\n",
    "\n",
    "In this module, you will learn how to:\n",
    "\n",
    "- Describe the benefits of Amazon EC2 at a basic level\n",
    "- Identify the different Amazon EC2 instance types\n",
    "- Differentiate between the various billing options for Amazon EC2\n",
    "- Summarize the benefits of Amazon EC2 Auto Scaling\n",
    "- Summarize the benefits of Elastic Load Balancing\n",
    "- Give an example of the uses for Elastic Load Balancing\n",
    "- Summarize the differences between Amazon Simple Notification Service (Amazon SNS) and Amazon Simple Queue Service (Amazon SQS)\n",
    "- Summarize additional AWS compute options\n",
    "\n",
    "## Amazon Elastic Compute Cloud (Amazon EC2)\n",
    "\n",
    "Amazon Elastic Compute Cloud (Amazon EC2) provides secure, resizable compute capacity in the cloud as Amazon EC2 instances.\n",
    "\n",
    "Imagine you are responsible for the architecture of your company's resources and need to suport new websites. With traditional on-premise resources, you have to do the following:\n",
    "\n",
    "- Spend money upfront to purchase hardware.\n",
    "- Wait for the servers to be delivered to you.\n",
    "- Install the servers in your physical data center.\n",
    "- Make all the necessary configurations.\n",
    "\n",
    "By comparison, with an Amazon EC2 instance you can use a virtual server to run applications in the AWS Cloud.\n",
    "\n",
    "- You can provision and launch an Amazon EC2 instance within minutes.\n",
    "- You can stop using it when you have finished running a workload.\n",
    "- You pay only for the compute time you use when an instance is running, not when it is stopped or terminated.\n",
    "- You can save costs by paying only for server capacity that you need or want.\n",
    "\n",
    "## How Amazon EC2 works\n",
    "\n",
    "### Launch\n",
    "\n",
    "\n",
    "\n"
   ]
  }
 ],
 "metadata": {
  "kernelspec": {
   "display_name": "Python 3 (ipykernel)",
   "language": "python",
   "name": "python3"
  },
  "language_info": {
   "codemirror_mode": {
    "name": "ipython",
    "version": 3
   },
   "file_extension": ".py",
   "mimetype": "text/x-python",
   "name": "python",
   "nbconvert_exporter": "python",
   "pygments_lexer": "ipython3",
   "version": "3.9.13"
  }
 },
 "nbformat": 4,
 "nbformat_minor": 5
}
