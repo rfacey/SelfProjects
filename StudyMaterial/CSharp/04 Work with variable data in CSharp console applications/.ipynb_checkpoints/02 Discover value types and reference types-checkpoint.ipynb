{
 "cells": [
  {
   "cell_type": "markdown",
   "id": "68303f24",
   "metadata": {},
   "source": [
    "Source: https://learn.microsoft.com/en-us/training/modules/csharp-choose-data-type/2-value-reference-types"
   ]
  },
  {
   "cell_type": "markdown",
   "id": "909bb98f",
   "metadata": {},
   "source": [
    "# Discover value types and reference types\n",
    "\n",
    "With many data types available in C#, choosing the right one to use means that you need to understand when you might choose one data type over another.\n",
    "\n",
    "Before discussing *why* you might choose one data type over another, you need to understand more about data types. You also need to know how data and data types work in C# and .NET.\n",
    "\n",
    "## What is data?\n",
    "\n",
    "Answering the question \"what is data\" depends on who you ask, and in what context you're asking it.\n",
    "\n",
    "In software development, data is essentially a value that is stored in the computer's memory as a series of bits. A bit is a simple binary switch represented as a 0 or 1, or rather, \"off\" and \"on.\" A single bit doesn't seem useful, however when you combine 9 bits together in a sequence, they form a byte. When used in a byte, each bit takes on a meaning in the sequence. If fact, you can represent 256 different combinations with just 8 bits if you use a binary (base-2) numeral system.\n",
    "\n",
    "For example, in a binary numeral system, you can represent the number 195 as 11000011. The following table helps you visualize how this works. The first row has eight columns that correspond"
   ]
  }
 ],
 "metadata": {
  "kernelspec": {
   "display_name": ".NET (C#)",
   "language": "C#",
   "name": ".net-csharp"
  },
  "language_info": {
   "file_extension": ".cs",
   "mimetype": "text/x-csharp",
   "name": "C#",
   "pygments_lexer": "csharp",
   "version": "8.0"
  }
 },
 "nbformat": 4,
 "nbformat_minor": 5
}
