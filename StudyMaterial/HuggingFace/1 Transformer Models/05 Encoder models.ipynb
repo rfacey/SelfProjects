{
 "cells": [
  {
   "cell_type": "markdown",
   "id": "11361cb3-4e0a-4c96-8904-a63c6ae35662",
   "metadata": {},
   "source": [
    "Source: https://huggingface.co/learn/nlp-course/chapter1/5?fw=pt"
   ]
  },
  {
   "cell_type": "markdown",
   "id": "10c4b739-2073-47b4-b5e8-d331bdc9d117",
   "metadata": {},
   "source": [
    "# Encoder models\n",
    "\n",
    "https://youtu.be/MUqNwgPjJvQ\n",
    "\n",
    "Encoder models use only the encoder of a Transformer model. At each stage, the attention layers can access all the words in the initial sentence. These models are often characterized as having \"bi-directional\" attention, and are often called *auto-encoding models*.\n",
    "\n",
    "The pretraining of these models usually revolves around somehow corrupting a given sentence (for instance, by masking random words in it) and tasking the model with finding or reconstructing the initial sentence.\n",
    "\n",
    "Encoder models are best suited for tasks requiring an understanding of the full sentence, such as sentence classification, named entity recognition (and more generally word classification), and extractive question answering.\n",
    "\n",
    "Representatives of this family of models include:\n",
    "\n",
    "- **ALBERT** (https://huggingface.co/transformers/model_doc/albert.html)\n",
    "- **BERT** (https://huggingface.co/transformers/model_doc/bert.html)\n",
    "- **DistilBERT** (https://huggingface.co/transformers/model_doc/distilbert.html)\n",
    "- **ELECTRA** (https://huggingface.co/transformers/model_doc/electra.html)\n",
    "- **RoBERTa** (https://huggingface.co/transformers/model_doc/roberta.html)"
   ]
  }
 ],
 "metadata": {
  "kernelspec": {
   "display_name": "Python 3 (ipykernel)",
   "language": "python",
   "name": "python3"
  },
  "language_info": {
   "codemirror_mode": {
    "name": "ipython",
    "version": 3
   },
   "file_extension": ".py",
   "mimetype": "text/x-python",
   "name": "python",
   "nbconvert_exporter": "python",
   "pygments_lexer": "ipython3",
   "version": "3.9.13"
  }
 },
 "nbformat": 4,
 "nbformat_minor": 5
}
