{
 "cells": [
  {
   "cell_type": "markdown",
   "id": "fd26b062",
   "metadata": {},
   "source": [
    "These are the most recent set releases:\n",
    "\n",
    "Crown Zenith,CRZ,1/20/2023\n",
    "Silver Tempest,SIT,11/11/2022\n",
    "Lost Origin,LOR,9/9/2022\n",
    "\n",
    "Choosing the top ten cards from each set with the highest market value. This will also include the trainer gallery cards. I will also choose to view the data for each up to three months after the set release date. The following were chose on 2/7/2023 for their market value at that time:\n",
    "\n",
    "### Crown Zenith\n",
    "1. Giratina VSTAR (Secret) - Crown Zenith: Galarian Gallery (CRZ:GG)\n",
    "    - ID 478100\n",
    "2. Arceus VSTAR (Secret) - Crown Zenith: Galarian Gallery (CRZ:GG)\n",
    "    - ID 478101\n",
    "3. Mewtwo VSTAR - Crown Zenith: Galarian Gallery (CRZ:GG)\n",
    "    - ID 477057\n",
    "4. Origin Forme Dialga VSTAR (Secret) - Crown Zenith: Galarian Gallery (CRZ:GG)\n",
    "    - ID 478099\n",
    "5. Origin Forme Palkia VSTAR (Secret) - Crown Zenith: Galarian Gallery (CRZ:GG)\n",
    "    - ID 478097\n",
    "6. Leafeon VSTAR - Crown Zenith: Galarian Gallery (CRZ:GG)\n",
    "    - ID 477060\n",
    "7. Glaceon VSTAR - Crown Zenith: Galarian Gallery (CRZ:GG)\n",
    "    - ID 477061\n",
    "8. Suicune V - Crown Zenith: Galarian Gallery (CRZ:GG)\n",
    "    - ID 478067\n",
    "9. Elesa's Sparkle (Full Art) - Crown Zenith (CRZ)\n",
    "    - ID 477241\n",
    "10. Pikachu (Secret) - Crown Zenith (CRZ)\n",
    "    - ID 478103\n",
    "\n",
    "### Silver Tempest\n",
    "1. Lugia V (Alternate Full Art) - SWSH12: Silver Tempest (SWSH12)\n",
    "    - ID 451834\n",
    "2. Rayquaza VMAX - SWSH12: Silver Tempest Trainer Gallery (SWSH12: TG)\n",
    "    - ID 452034\n",
    "3. Unown V (Alternate Full Art) - SWSH12: Silver Tempest (SWSH12)\n",
    "    - ID 451825\n",
    "4. Serena (Full Art) - SWSH12: Silver Tempest (SWSH12)\n",
    "    - ID 451841\n",
    "5. Lugia VSTAR (Secret) (202) - SWSH12: Silver Tempest (SWSH12)\n",
    "    - ID 451995\n",
    "6. Regidrago V (Alternate Full Art) - SWSH12: Silver Tempest (SWSH12)\n",
    "    - ID 451832\n",
    "7. Lugia VSTAR (Secret) (211) - SWSH12: Silver Tempest (SWSH12)\n",
    "    - ID 452009\n",
    "8. Alolan Vulpix VSTAR (Secret) - SWSH12: Silver Tempest (SWSH12)\n",
    "    - ID 451987\n",
    "9. Skuntank V (Alternate Full Art) - SWSH12: Silver Tempest (SWSH12)\n",
    "    - ID 451829\n",
    "10. Friends in Galar - SWSH12: Silver Tempest Trainer Gallery (SWSH12: TG)\n",
    "    - ID 452039\n",
    "\n",
    "### Lost Origin\n",
    "1. Giratina V (Alternate Full Art) - SWSH11: Lost Origin (SWSH11)\n",
    "    - ID 284137\n",
    "2. Aerodactyl V (Alternate Full Art) - SWSH11: Lost Origin (SWSH11)\n",
    "    - ID 284122\n",
    "3. Pikachu VMAX - SWSH11: Lost Origin Trainer Gallery (SWSH11: TG)\n",
    "    - ID 284283\n",
    "4. Rotom V (Alternate Full Art) - SWSH11: Lost Origin (SWSH11)\n",
    "    - ID 284119\n",
    "5. Galarian Perrserker V (Alternate Full Art) - SWSH11: Lost Origin (SWSH11)\n",
    "    - ID 284135\n",
    "6. Pikachu V - SWSH11: Lost Origin Trainer Gallery (SWSH11: TG)\n",
    "    - ID 284278\n",
    "7. Giratina VSTAR (201) (Secret) - SWSH11: Lost Origin (SWSH11)\n",
    "    - ID 284156\n",
    "8. Giratina VSTAR (212) (Secret) - SWSH11: Lost Origin (SWSH11)\n",
    "    - ID 284167\n",
    "9. Eternatus VMAX - SWSH11: Lost Origin Trainer Gallery (SWSH11: TG)\n",
    "    - ID 284295\n",
    "10. Aerodactyl VSTAR (Secret) - SWSH11: Lost Origin (SWSH11)\n",
    "    - ID 284154"
   ]
  },
  {
   "cell_type": "code",
   "execution_count": 45,
   "id": "ea483b44",
   "metadata": {},
   "outputs": [],
   "source": [
    "# Get a list of all the card information. I chose card name, card ID, and the set:\n",
    "CardList = [['Giratina VSTAR (Secret) - Crown Zenith: Galarian Gallery (CRZ:GG)',478100,'Crown Zenith'],\n",
    "            ['Arceus VSTAR (Secret) - Crown Zenith: Galarian Gallery (CRZ:GG)',478101,'Crown Zenith'],\n",
    "            ['Mewtwo VSTAR - Crown Zenith: Galarian Gallery (CRZ:GG)',477057,'Crown Zenith'],\n",
    "            ['Origin Forme Dialga VSTAR (Secret) - Crown Zenith: Galarian Gallery (CRZ:GG)',478099,'Crown Zenith'],\n",
    "            ['Origin Forme Palkia VSTAR (Secret) - Crown Zenith: Galarian Gallery (CRZ:GG)',478097,'Crown Zenith'],\n",
    "            ['Leafeon VSTAR - Crown Zenith: Galarian Gallery (CRZ:GG)',477060,'Crown Zenith'],\n",
    "            ['Glaceon VSTAR - Crown Zenith: Galarian Gallery (CRZ:GG)',477061,'Crown Zenith'],\n",
    "            ['Suicune V - Crown Zenith: Galarian Gallery (CRZ:GG)',478067,'Crown Zenith'],\n",
    "            ['Elesas Sparkle (Full Art) - Crown Zenith (CRZ)',477241,'Crown Zenith'],\n",
    "            ['Pikachu (Secret) - Crown Zenith (CRZ)',478103,'Crown Zenith'],\n",
    "            ['Lugia V (Alternate Full Art) - SWSH12: Silver Tempest (SWSH12)',451834,'Silver Tempest'],\n",
    "            ['Rayquaza VMAX - SWSH12: Silver Tempest Trainer Gallery (SWSH12: TG)',452034,'Silver Tempest'],\n",
    "            ['Unown V (Alternate Full Art) - SWSH12: Silver Tempest (SWSH12)',451825,'Silver Tempest'],\n",
    "            ['Serena (Full Art) - SWSH12: Silver Tempest (SWSH12)',451841,'Silver Tempest'],\n",
    "            ['Lugia VSTAR (Secret) (202) - SWSH12: Silver Tempest (SWSH12)',451995,'Silver Tempest'],\n",
    "            ['Regidrago V (Alternate Full Art) - SWSH12: Silver Tempest (SWSH12)',451832,'Silver Tempest'],\n",
    "            ['Lugia VSTAR (Secret) (211) - SWSH12: Silver Tempest (SWSH12)',452009,'Silver Tempest'],\n",
    "            ['Alolan Vulpix VSTAR (Secret) - SWSH12: Silver Tempest (SWSH12)',451987,'Silver Tempest'],\n",
    "            ['Skuntank V (Alternate Full Art) - SWSH12: Silver Tempest (SWSH12)',451829,'Silver Tempest'],\n",
    "            ['Friends in Galar - SWSH12: Silver Tempest Trainer Gallery (SWSH12: TG)',452039,'Silver Tempest'],\n",
    "            ['iratina V (Alternate Full Art) - SWSH11: Lost Origin (SWSH11)',284137,'Lost Origin'],\n",
    "            ['Aerodactyl V (Alternate Full Art) - SWSH11: Lost Origin (SWSH11)',284122,'Lost Origin'],\n",
    "            ['Pikachu VMAX - SWSH11: Lost Origin Trainer Gallery (SWSH11: TG)',284283,'Lost Origin'],\n",
    "            ['Rotom V (Alternate Full Art) - SWSH11: Lost Origin (SWSH11)',284119,'Lost Origin'],\n",
    "            ['Galarian Perrserker V (Alternate Full Art) - SWSH11: Lost Origin (SWSH11)',284135,'Lost Origin'],\n",
    "            ['Pikachu V - SWSH11: Lost Origin Trainer Gallery (SWSH11: TG)',284278,'Lost Origin'],\n",
    "            ['Giratina VSTAR (201) (Secret) - SWSH11: Lost Origin (SWSH11)',284156,'Lost Origin'],\n",
    "            ['Giratina VSTAR (212) (Secret) - SWSH11: Lost Origin (SWSH11)',284167,'Lost Origin'],\n",
    "            ['Eternatus VMAX - SWSH11: Lost Origin Trainer Gallery (SWSH11: TG)',284295,'Lost Origin'],\n",
    "            ['Aerodactyl VSTAR (Secret) - SWSH11: Lost Origin (SWSH11)',284154,'Lost Origin']]"
   ]
  },
  {
   "cell_type": "code",
   "execution_count": 46,
   "id": "662cbf9f",
   "metadata": {},
   "outputs": [
    {
     "name": "stdout",
     "output_type": "stream",
     "text": [
      "Example to view the set: Crown Zenith\n"
     ]
    }
   ],
   "source": [
    "print('Example to view the set: ' + CardList[0][2])"
   ]
  },
  {
   "cell_type": "code",
   "execution_count": 47,
   "id": "c18de73d",
   "metadata": {},
   "outputs": [
    {
     "name": "stdout",
     "output_type": "stream",
     "text": [
      "Example to view the card ID: 478100\n"
     ]
    }
   ],
   "source": [
    "print('Example to view the card ID: ' + str(CardList[0][1]))"
   ]
  },
  {
   "cell_type": "code",
   "execution_count": 53,
   "id": "997f2309",
   "metadata": {},
   "outputs": [],
   "source": [
    "import requests as r\n",
    "import json\n",
    "import time\n",
    "import datetime\n",
    "from pandas.io.json import json_normalize\n",
    "\n",
    "#url to post\n",
    "action_postURL = 'https://infinite-api.tcgplayer.com/price/history/271837?range=annual'\n",
    "\n",
    "#get data from that URL\n",
    "res = r.get(action_postURL)\n",
    "\n",
    "#put the data coming in from res into values as json\n",
    "values = res.json()"
   ]
  },
  {
   "cell_type": "code",
   "execution_count": 54,
   "id": "4fd5ef5b-267a-4438-8158-dfcc6547803d",
   "metadata": {},
   "outputs": [],
   "source": [
    "#clean out any days that have no cards on the market\n",
    "NumberOfDays= values['count']\n",
    "results = []\n",
    "i = 0\n",
    "while i < NumberOfDays:\n",
    "    if int(values['result'][i]['variants'][0]['quantity']) > 0:\n",
    "        results.append([datetime.datetime.strptime(values['result'][i]['date'], '%Y-%m-%d'),\n",
    "                        float(values['result'][i]['variants'][0]['marketPrice']),\n",
    "                        int(values['result'][i]['variants'][0]['quantity'])])\n",
    "    i = i + 1"
   ]
  },
  {
   "cell_type": "code",
   "execution_count": 59,
   "id": "0ace4955-bd3d-4fb9-8860-868873ece182",
   "metadata": {},
   "outputs": [],
   "source": [
    "#uncomment this and run to manually double check data\n",
    "#but dont. it works.\n",
    "\n",
    "#results"
   ]
  },
  {
   "cell_type": "code",
   "execution_count": 60,
   "id": "12a1059b-3a0e-4ba0-b2bf-a3d00abba79c",
   "metadata": {},
   "outputs": [
    {
     "data": {
      "text/plain": [
       "[datetime.datetime(2023, 2, 9, 0, 0), 6.51, 14]"
      ]
     },
     "execution_count": 60,
     "metadata": {},
     "output_type": "execute_result"
    }
   ],
   "source": [
    "#final results, most recent date:\n",
    "results[0]"
   ]
  },
  {
   "cell_type": "code",
   "execution_count": null,
   "id": "6c38b105-9bca-4091-8508-e05acc720cba",
   "metadata": {},
   "outputs": [],
   "source": []
  }
 ],
 "metadata": {
  "kernelspec": {
   "display_name": "Python 3 (ipykernel)",
   "language": "python",
   "name": "python3"
  },
  "language_info": {
   "codemirror_mode": {
    "name": "ipython",
    "version": 3
   },
   "file_extension": ".py",
   "mimetype": "text/x-python",
   "name": "python",
   "nbconvert_exporter": "python",
   "pygments_lexer": "ipython3",
   "version": "3.9.13"
  }
 },
 "nbformat": 4,
 "nbformat_minor": 5
}
