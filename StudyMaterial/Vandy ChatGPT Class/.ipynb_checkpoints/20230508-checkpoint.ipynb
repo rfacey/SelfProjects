{
 "cells": [
  {
   "cell_type": "markdown",
   "id": "95fa28e9-99aa-4127-8b7e-5fe6dd916cd7",
   "metadata": {},
   "source": [
    "https://github.com/vanderbilt-data-science/ai_summer\n",
    "\n",
    "Breakout room 19\n",
    "\n",
    "## Participants\n",
    "\n",
    "Roberto Facey\n",
    "- Parallon HCA\n",
    "- Database engineer\n",
    "\n",
    "Ryan Tanner\n",
    "- Undergrad at Vandy, research through data science this semester, maybe Peabody next semester\n",
    "- Want to understand gen AI to educate people\n",
    "\n",
    "Rose Freeman\n",
    "- Financial analyst at Lead Public Schools\n",
    "- Soft software dev history\n",
    "- Wants to get better information from current input\n",
    "- Vandy alum\n",
    "- Husband currently works at Vandy\n",
    "\n",
    "Richard David (B&D)\n",
    "- Environmental lawyer\n",
    "- Climate\n",
    "- Wants some source of resource to aggregate environmental data\n",
    "\n",
    "Roza Bayrak\n",
    "- PhD candidate\n",
    "- Computer scientist\n",
    "- Created AI models\n",
    "\n",
    "Raymond Yates\n",
    "- Holistic approach\n",
    "- GPT and CLIP\n",
    "\n",
    "Rio Jia\n",
    "- MS data science student at Vanderbilt\n",
    "- Hoping to learn about large scale data analytics and AI\n",
    "\n",
    "Russ Truell\n",
    "- Vandy alum from 70's\n",
    "- Wants to learn about AI so he can talk more to his grandchildren\n",
    "- Has a history in fortran\n",
    "\n",
    "Before meeting on Wednesday, there are readings.\n",
    "\n",
    "https://arxiv.org/abs/2302.11382"
   ]
  },
  {
   "cell_type": "code",
   "execution_count": null,
   "id": "bd090800-33cd-46a9-8364-033f8f7df099",
   "metadata": {},
   "outputs": [],
   "source": []
  }
 ],
 "metadata": {
  "kernelspec": {
   "display_name": "Python 3 (ipykernel)",
   "language": "python",
   "name": "python3"
  },
  "language_info": {
   "codemirror_mode": {
    "name": "ipython",
    "version": 3
   },
   "file_extension": ".py",
   "mimetype": "text/x-python",
   "name": "python",
   "nbconvert_exporter": "python",
   "pygments_lexer": "ipython3",
   "version": "3.9.13"
  }
 },
 "nbformat": 4,
 "nbformat_minor": 5
}
