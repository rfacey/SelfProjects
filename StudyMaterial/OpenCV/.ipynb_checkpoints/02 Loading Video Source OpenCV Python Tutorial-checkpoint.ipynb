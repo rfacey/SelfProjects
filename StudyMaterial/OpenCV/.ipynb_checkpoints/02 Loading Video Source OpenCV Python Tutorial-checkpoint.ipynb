{
 "cells": [
  {
   "cell_type": "markdown",
   "id": "f14aaef2-8f5a-4c56-aa63-deda91bef6de",
   "metadata": {},
   "source": [
    "Source tutorial: https://pythonprogramming.net/loading-video-python-opencv-tutorial/?completed=/loading-images-python-opencv-tutorial/"
   ]
  },
  {
   "cell_type": "markdown",
   "id": "58b33c95-6aeb-49f8-af78-8e7f2a430997",
   "metadata": {},
   "source": [
    "https://youtu.be/Jvf5y21ZqtQ?list=PLQVvvaa0QuDdttJXlLtAJxJetJcqmqlQq\n",
    "\n",
    "In this OpenCV with Python tutorial, we're going to cover some basic operations with video and webcams. Aside from the beginning lines, handling frames from a video is identical to handling for images. Let's show some examples:"
   ]
  },
  {
   "cell_type": "raw",
   "id": "0dfdfdb0-7180-4044-8b6c-502d43646d87",
   "metadata": {},
   "source": [
    "import numpy as np\n",
    "import cv2\n",
    "\n",
    "cap = cv2.VideoCapture(0)\n",
    " \n",
    "while(True):\n",
    "    ret, frame = cap.read('')\n",
    "    gray = cv2.cvtColor(frame, cv2.COLOR_BGR2GRAY)\n",
    " \n",
    "    cv2.imshow('frame',gray)\n",
    "    if cv2.waitKey(1) & 0xFF == ord('q'):\n",
    "        break\n",
    "\n",
    "cap.release()\n",
    "cv2.destroyAllWindows()"
   ]
  },
  {
   "cell_type": "markdown",
   "id": "40141268-e284-4869-bb39-7be6a78bc1cd",
   "metadata": {},
   "source": [
    "-----------------"
   ]
  },
  {
   "cell_type": "raw",
   "id": "a95fb1db-fd92-4b8d-a3fa-5b67476536f3",
   "metadata": {},
   "source": [
    "import numpy as np\n",
    "import cv2"
   ]
  },
  {
   "cell_type": "markdown",
   "id": "08234888-586f-4905-aec0-18f526cc856c",
   "metadata": {},
   "source": [
    "First, we import numpy and cv2, nothing fancy there."
   ]
  },
  {
   "cell_type": "raw",
   "id": "6497a4dc-b30d-4d98-a404-854f2700035f",
   "metadata": {},
   "source": [
    "cap = cv2.VideoCapture(0)"
   ]
  },
  {
   "cell_type": "markdown",
   "id": "02f0254e-934c-483b-8a5b-bcda8215ea6e",
   "metadata": {},
   "source": [
    "Next, we add this command. It will return video from the first webcam on your computer. If you are watching tutorial videos, you will see I am using 1, since my first webcam is recording me, and the second webcam is used for the actual tutorial feed."
   ]
  },
  {
   "cell_type": "raw",
   "id": "507d01ce-f088-4871-9bbb-9fd7db4501ee",
   "metadata": {},
   "source": [
    "while(True):\n",
    "    ret, frame = cap.read()"
   ]
  },
  {
   "cell_type": "markdown",
   "id": "ea50434f-3f77-4049-b9b4-d7cf08af2b21",
   "metadata": {},
   "source": [
    "This code initiates an infinite loop (to be broken later by a break statement), where we have ret and frame being defined as the cap.read(). Basically, ret is a boolean regarding whether or not there was a return at all, and the frame is each frame that is returned. If there is no frame, you won't get an error, you will get None."
   ]
  },
  {
   "cell_type": "raw",
   "id": "ade4fe8c-eac1-48cf-9b33-7483d4842171",
   "metadata": {},
   "source": [
    "    gray = cv2.cvtColor(frame, cv2.COLOR_BGR2GRAY)"
   ]
  },
  {
   "cell_type": "markdown",
   "id": "33ccddb1-217c-479a-adf5-1768ca1afabb",
   "metadata": {},
   "source": [
    "Here, we define a new variable, gray, as the frame, converted to gray. Notice this says BGR2GRAY. It is important to note that OpenCV reads colors as BGR (Blue Green Red), where most computer applications read as RGB (Red Blue Green). Remember this."
   ]
  },
  {
   "cell_type": "raw",
   "id": "b9de0c0c-3f58-4106-81e9-64cc21f122fd",
   "metadata": {},
   "source": [
    "    cv2.imshow('frame',gray)"
   ]
  },
  {
   "cell_type": "markdown",
   "id": "0432620b-93b1-4976-b37b-eeed117b0fdd",
   "metadata": {},
   "source": [
    "Notice that, despite being a video stream, we will still use imshow. Here, we're showing the converted-to-gray feed. If you wish to show both at the same time, you can do imshow for the original frame, and imshow for the gray and two windows will appear."
   ]
  },
  {
   "cell_type": "raw",
   "id": "ce3ce160-2b94-4227-9d81-c239b51296d5",
   "metadata": {},
   "source": [
    "    if cv2.waitKey(1) & 0xFF == ord('q'):\n",
    "        break"
   ]
  },
  {
   "cell_type": "markdown",
   "id": "1d75b0c1-22bd-42c6-9042-4ce24cb2e6cd",
   "metadata": {},
   "source": [
    "This statement just runs once per frame. Basically, if we get a key, and that key is a q, we will exit the while loop with a break, which then runs:"
   ]
  },
  {
   "cell_type": "raw",
   "id": "85d765fa-46e4-4ecb-b621-a628f5631ee8",
   "metadata": {},
   "source": [
    "cap.release()\n",
    "cv2.destroyAllWindows()"
   ]
  },
  {
   "cell_type": "markdown",
   "id": "ab8bd277-494a-4f0a-b43f-b42e9fcd94d3",
   "metadata": {},
   "source": [
    "This releases the webcam, then closes all of the imshow windows.\n",
    "\n",
    "In some cases, you may actually want to record and save the recording to a new file. Here's an example of doing this on Windows:"
   ]
  },
  {
   "cell_type": "raw",
   "id": "501b9015-252a-4bbd-afa0-d7a9e14db65a",
   "metadata": {},
   "source": [
    "Windows:\n",
    "\n",
    "import numpy as np\n",
    "import cv2\n",
    "\n",
    "cap = cv2.VideoCapture(1)\n",
    "fourcc = cv2.VideoWriter_fourcc(*'XVID')\n",
    "out = cv2.VideoWriter('output.avi',fourcc, 20.0, (640,480))\n",
    "\n",
    "while(True):\n",
    "    ret, frame = cap.read()\n",
    "    gray = cv2.cvtColor(frame, cv2.COLOR_BGR2GRAY)\n",
    "    out.write(frame)\n",
    "    cv2.imshow('frame',gray)\n",
    "    if cv2.waitKey(1) & 0xFF == ord('q'):\n",
    "        break\n",
    "\n",
    "cap.release()\n",
    "out.release()\n",
    "cv2.destroyAllWindows()"
   ]
  },
  {
   "cell_type": "markdown",
   "id": "7ca0b6ca-09bb-4ebf-bbbf-210a7fdd5712",
   "metadata": {},
   "source": [
    "Mainly to note here is the codec being used, and the output information defined before the while loop. Then, within the while loop, we use out.write() to output the frame. Finally, outside the while loop, after we release our webcam, we also release the out.\n",
    "\n",
    "Great, so now we know how to operate with both images and video. If you do not have a webcam, you can follow along the rest of the tutorial with either an image, or even a video. If you wish to use a video, rather than a webcam, within the feed, you specify a file path for a video instead of a camera number.\n",
    "\n",
    "Now that we can work with sources, let's show how we can go about drawing things. Earlier, you were shown that you could use Matplotlib to graph on top of your images, but Matplotlib isn't really meant for this purpose, especially not with video feeds. Luckily, OpenCV comes with some great tools to help us draw and mark up our feeds in real time, which is what we'll be discussing in the next tutorial."
   ]
  }
 ],
 "metadata": {
  "kernelspec": {
   "display_name": "Python 3 (ipykernel)",
   "language": "python",
   "name": "python3"
  },
  "language_info": {
   "codemirror_mode": {
    "name": "ipython",
    "version": 3
   },
   "file_extension": ".py",
   "mimetype": "text/x-python",
   "name": "python",
   "nbconvert_exporter": "python",
   "pygments_lexer": "ipython3",
   "version": "3.9.13"
  }
 },
 "nbformat": 4,
 "nbformat_minor": 5
}
